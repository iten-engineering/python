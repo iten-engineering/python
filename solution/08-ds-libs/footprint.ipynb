{
 "cells": [
  {
   "cell_type": "markdown",
   "metadata": {},
   "source": [
    "# Global Footprint\n",
    "\n",
    "## Initialize"
   ]
  },
  {
   "cell_type": "code",
   "execution_count": 1,
   "metadata": {},
   "outputs": [],
   "source": [
    "%matplotlib inline\n",
    "\n",
    "import pandas as pd\n",
    "import numpy as np\n",
    "import matplotlib.pyplot as plt"
   ]
  },
  {
   "cell_type": "markdown",
   "metadata": {},
   "source": [
    "## Import CSV"
   ]
  },
  {
   "cell_type": "code",
   "execution_count": 3,
   "metadata": {},
   "outputs": [
    {
     "name": "stdout",
     "output_type": "stream",
     "text": [
      "               Country      1961      1962      1963      1964      1965  \\\n",
      "0          Afghanistan  0.391414  0.380273  0.397965  0.412565  0.432671   \n",
      "1              Albania  0.613892  0.582744  0.561330  0.589303  0.603006   \n",
      "2              Algeria  0.235301  0.266320  0.243327  0.197049  0.214247   \n",
      "3               Angola  0.262301  0.283289  0.292217  0.329528  0.317662   \n",
      "4  Antigua and Barbuda       NaN       NaN       NaN       NaN       NaN   \n",
      "\n",
      "       1966      1967      1968      1969  ...      2007      2008      2009  \\\n",
      "0  0.411886  0.431161  0.434181  0.439681  ...  0.387349  0.375804  0.447980   \n",
      "1  0.619737  0.608684  0.665995  0.722587  ...  1.240377  1.228072  1.275704   \n",
      "2  0.182636  0.225264  0.247321  0.229215  ...  1.087865  1.140777  1.280560   \n",
      "3  0.364794  0.347914  0.348944  0.386690  ...  0.446917  0.549546  0.665732   \n",
      "4       NaN       NaN       NaN       NaN  ...  2.780307  2.658741  2.578972   \n",
      "\n",
      "       2010      2011      2012      2013      2014      2015      2016  \n",
      "0  0.463076  0.453720  0.467565  0.452789  0.453771  0.438842  0.445928  \n",
      "1  1.242300  1.383024  1.320816  1.282428  1.223504  1.264884  1.231971  \n",
      "2  1.245269  1.355178  1.433022  1.463711  1.492944  1.565077  1.477107  \n",
      "3  0.549480  0.592127  0.633154  0.810212  1.071131  0.705151  0.622516  \n",
      "4  2.937069  2.455889  2.581045  2.351881  2.426256  2.667824  2.657499  \n",
      "\n",
      "[5 rows x 57 columns]\n"
     ]
    }
   ],
   "source": [
    "file = \"number-of-earth-all.csv\"\n",
    "df = pd.read_csv(file)\n",
    "\n",
    "print(df.head(5))"
   ]
  },
  {
   "cell_type": "markdown",
   "metadata": {},
   "source": [
    "## Filter data for switzerland"
   ]
  },
  {
   "cell_type": "code",
   "execution_count": 11,
   "metadata": {},
   "outputs": [
    {
     "name": "stdout",
     "output_type": "stream",
     "text": [
      "         Country      1961      1962      1963     1964      1965      1966  \\\n",
      "163  Switzerland  1.393355  1.509475  1.513693  1.56988  1.579109  1.568804   \n",
      "\n",
      "         1967      1968      1969  ...      2007      2008      2009  \\\n",
      "163  1.666972  1.702267  1.946353  ...  3.380249  3.345295  3.180803   \n",
      "\n",
      "         2010      2011      2012     2013      2014      2015      2016  \n",
      "163  3.224521  3.200238  3.072641  3.08098  2.923518  2.885091  2.845224  \n",
      "\n",
      "[1 rows x 57 columns]\n"
     ]
    }
   ],
   "source": [
    "df_ch = df.loc[df['Country'] == 'Switzerland']\n",
    "print(df_ch.head(5))"
   ]
  },
  {
   "cell_type": "code",
   "execution_count": 12,
   "metadata": {},
   "outputs": [
    {
     "name": "stdout",
     "output_type": "stream",
     "text": [
      "x: ['1961', '1962', '1963', '1964', '1965', '1966', '1967', '1968', '1969', '1970', '1971', '1972', '1973', '1974', '1975', '1976', '1977', '1978', '1979', '1980', '1981', '1982', '1983', '1984', '1985', '1986', '1987', '1988', '1989', '1990', '1991', '1992', '1993', '1994', '1995', '1996', '1997', '1998', '1999', '2000', '2001', '2002', '2003', '2004', '2005', '2006', '2007', '2008', '2009', '2010', '2011', '2012', '2013', '2014', '2015', '2016']\n",
      "y: [1.3933552914350302, 1.5094751791586487, 1.5136927991042743, 1.5698795283631533, 1.57910860828275, 1.5688041818535947, 1.6669718902394526, 1.7022666140224816, 1.9463534234249436, 2.1581508160670877, 2.256430901243097, 2.377153607845889, 2.498584618637974, 2.3428297852277447, 2.0612102443948377, 2.184735931087366, 2.259296416621454, 2.438938740702014, 2.47538325004856, 2.5919052050787066, 2.4949098399762417, 2.3455270952785674, 2.5167955674422435, 2.6290243858021496, 2.675624276191712, 2.7936080685370754, 2.776100313177753, 2.914430647234429, 3.0550923970169244, 3.1298460249179225, 3.07033552546358, 2.94565252341051, 2.836980181059761, 2.888829925108944, 2.9750167007226223, 2.896571054775669, 2.9525434944578164, 3.007591172063091, 2.921396671143532, 3.008629618796011, 2.908433917750564, 2.973340726513338, 2.9978959909538814, 2.982985007650534, 3.194218021168697, 3.226055374846489, 3.3802494594788546, 3.34529532674777, 3.180803184511736, 3.224520554172087, 3.200237990347349, 3.072641354132077, 3.08098010437524, 2.9235184194185737, 2.885091487696447, 2.845224285167009]\n"
     ]
    }
   ],
   "source": [
    " x = df_ch.columns.values.tolist()[1:]\n",
    " print(\"x:\", x)\n",
    "\n",
    " y = df_ch.values.tolist()[0][1:]\n",
    "print(\"y:\", y)"
   ]
  },
  {
   "cell_type": "markdown",
   "metadata": {},
   "source": [
    "## Create line plot"
   ]
  },
  {
   "cell_type": "code",
   "execution_count": 13,
   "metadata": {},
   "outputs": [
    {
     "data": {
      "image/png": "[encoded data removed]",
      "text/plain": [
       "<Figure size 432x288 with 1 Axes>"
      ]
     },
     "metadata": {
      "needs_background": "light"
     },
     "output_type": "display_data"
    }
   ],
   "source": [
    "plt.figure()\n",
    "plt.plot(x,y)\n",
    "plt.xticks(np.arange(0, len(x), 5))\n",
    "plt.show()"
   ]
  }
 ],
 "metadata": {
  "kernelspec": {
   "display_name": "Python 3.9.5 ('base')",
   "language": "python",
   "name": "python3"
  },
  "language_info": {
   "codemirror_mode": {
    "name": "ipython",
    "version": 3
   },
   "file_extension": ".py",
   "mimetype": "text/x-python",
   "name": "python",
   "nbconvert_exporter": "python",
   "pygments_lexer": "ipython3",
   "version": "3.9.5"
  },
  "orig_nbformat": 4,
  "vscode": {
   "interpreter": {
    "hash": "2e27eab561546a84cd429f5381f528a41cf29132cc0c7d11c77bf0ff2e2df2df"
   }
  }
 },
 "nbformat": 4,
 "nbformat_minor": 2
}
