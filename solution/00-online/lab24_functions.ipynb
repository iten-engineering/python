{
  "metadata": {
    "kernelspec": {
      "name": "xpython",
      "display_name": "Python 3.13 (XPython)",
      "language": "python"
    },
    "language_info": {
      "file_extension": ".py",
      "mimetype": "text/x-python",
      "name": "python",
      "version": "3.13.1"
    }
  },
  "nbformat_minor": 5,
  "nbformat": 4,
  "cells": [
    {
      "id": "0967819a-8da0-4cd6-beef-113a455e79dd",
      "cell_type": "markdown",
      "source": "# 2. Grundlagen",
      "metadata": {}
    },
    {
      "id": "476ddf04-56f0-41ab-9276-84e92b9bfb94",
      "cell_type": "markdown",
      "source": "## 2.4 Funktionen & Lambda Expression",
      "metadata": {}
    },
    {
      "id": "41660ebd-f49d-49b0-8fda-e0196c3dd828",
      "cell_type": "markdown",
      "source": "### Maximum\n\n- Erstellen Sie eine Funktion für die Berechnung des Maximum.\n- Der Funktion können 3 Zahlen übergeben werden. Als Resultat wird die grösste Zahl zurückgegeben.\n- Es soll auch ein Aufruf der Funktion mit nur 2 Zahlen möglich sein. Dazu können sie dem dritten\n  Parameter den Defaultwert `None` zuweisen und diesen in der Methode entsprechend abfragen. \n- Beispiel Ausgabe:\n  ```\n  max(1,2) = 2\n  max(2,1) = 2\n  max(9,-15,-12) = 9\n  max(9, 15,-12) = 15\n  max(9,-15, 12) = 12\n  ```",
      "metadata": {}
    },
    {
      "id": "92c778d3-690d-4154-a537-3a62936ea5f7",
      "cell_type": "code",
      "source": "def max(x, y, z=None):\n    if z is None:\n        return x if x > y else y\n    if x > y and x > z:\n        return x\n    elif y > z:\n        return y\n    return z\n\n\nprint(\"max(1,2) =\", max(1,2))\nprint(\"max(2,1) =\", max(2,1))\nprint(\"max(9,-15,-12) =\", max(9,-15,-12))\nprint(\"max(9, 15,-12) =\", max(9, 15,-12))\nprint(\"max(9,-15, 12) =\", max(9,-15, 12))\n",
      "metadata": {
        "trusted": true
      },
      "outputs": [
        {
          "name": "stdout",
          "output_type": "stream",
          "text": "max(1,2) = 2\nmax(2,1) = 2\nmax(9,-15,-12) = 9\nmax(9, 15,-12) = 15\nmax(9,-15, 12) = 12\n"
        }
      ],
      "execution_count": 1
    },
    {
      "id": "503f0823-8153-4b3b-80f7-74e49ef3edc8",
      "cell_type": "markdown",
      "source": "### Square\n\n- Erstellen Sie einen Lambda Ausdruck, der als Parameter eine Zahl erhält und die \n  Quadratzahl zurückgibt. \n- Testen Sie den Lambda Ausdruck mit einigen Zahlen.\n",
      "metadata": {}
    },
    {
      "id": "fe7d041a-21e4-4bf7-b42b-d9ca9b59c7e8",
      "cell_type": "code",
      "source": "square = lambda x: x * x\n\nprint(square(2))\nprint(square(5))\nprint(square(7))",
      "metadata": {
        "trusted": true
      },
      "outputs": [
        {
          "name": "stdout",
          "output_type": "stream",
          "text": "4\n25\n49\n"
        }
      ],
      "execution_count": 2
    },
    {
      "id": "5c4867f7-0225-4579-ab13-4c26922aadab",
      "cell_type": "markdown",
      "source": "### Linear\n\n- Implementieren Sie die Formel für die Berechnung von y in Abhängigkeit von x als Lambda Ausdruck gemäss der folgenden Grafik: [Linear](lab24_functions_linear.png)\n- Prüfen Sie die Formel und berechen Sie die Werte von y für die x Werte -2, -1, 0, 1, 2 und 3.\n- Beispiel Ausgabe:\n  ```\n  y für x -2 = 0.0\n  y für x -1 = 0.5\n  y für x 0 = 1.0\n  y für x 1 = 1.5\n  y für x 2 = 2.0\n  y für x 3 = 2.5\n  ```\n",
      "metadata": {}
    },
    {
      "id": "1fbfcf82-7c59-46dd-8ff3-f48a4060f54c",
      "cell_type": "code",
      "source": "",
      "metadata": {
        "trusted": true
      },
      "outputs": [],
      "execution_count": null
    },
    {
      "id": "9b9c4698-191c-49c7-a28e-2f237bf2d96d",
      "cell_type": "code",
      "source": "f = lambda x: 1 + 0.5 * x\n\nfor x in range(-3,4):\n    print(\"y für x\", x, \"=\", f(x))\n",
      "metadata": {
        "trusted": true,
        "scrolled": true
      },
      "outputs": [
        {
          "name": "stdout",
          "output_type": "stream",
          "text": "y für x -3 = -0.5\ny für x -2 = 0.0\ny für x -1 = 0.5\ny für x 0 = 1.0\ny für x 1 = 1.5\ny für x 2 = 2.0\ny für x 3 = 2.5\n"
        }
      ],
      "execution_count": 8
    }
  ]
}