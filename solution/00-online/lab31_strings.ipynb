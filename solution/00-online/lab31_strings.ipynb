{
  "metadata": {
    "kernelspec": {
      "name": "xpython",
      "display_name": "Python 3.13 (XPython)",
      "language": "python"
    },
    "language_info": {
      "file_extension": ".py",
      "mimetype": "text/x-python",
      "name": "python",
      "version": "3.13.1"
    }
  },
  "nbformat_minor": 5,
  "nbformat": 4,
  "cells": [
    {
      "id": "257f4b47-5e8d-4ce2-b87e-42d9be60bc59",
      "cell_type": "markdown",
      "source": "# 3. Datenstrukturen",
      "metadata": {}
    },
    {
      "id": "ebf68970-41ae-4e80-b817-f14f18f9b633",
      "cell_type": "markdown",
      "source": "## 3.1 Strings",
      "metadata": {}
    },
    {
      "id": "9e5b1f54-504b-4ff6-a9e5-1d2bdacd0cdd",
      "cell_type": "markdown",
      "source": "### Compare\n\n- Erstellen Sie das Script `compare.py` das zwei Namen einliest.\n- Geben Sie die Namen alphabetisch sortiert auf der Konsole aus.\n- Beispiel Ausgabe:\n  ```\n  Please enter:\n  Name 1 = Zoé\n  Name 2 = Andrea\n\n  Sorted names:\n  Andrea\n  Zoé\n  ```\n\n**Hinweis**:\n- Zum einlesen einer Eingabe können Sie (analog dem folgenden Beispiel) die Methode input() verwenden:\n  ```\n  eingabe = input(\"Geben Sie bitte einen Text ein:\")\n  ```",
      "metadata": {}
    },
    {
      "id": "f66bcf23-2f3a-42e0-ac6f-6c21e01ed7f4",
      "cell_type": "code",
      "source": "print(\"Please enter:\")\nname1 = input(\"Name 1 = \")\nname2 = input(\"Name 2 = \")\n\nprint(\"\\nSorted names:\")\nif (name1 <= name2):\n    print(name1)\n    print(name2)\nelse:\n    print(name2)\n    print(name1)\n",
      "metadata": {
        "trusted": true
      },
      "outputs": [
        {
          "name": "stdout",
          "output_type": "stream",
          "text": "Please enter:\n"
        },
        {
          "output_type": "stream",
          "name": "stdin",
          "text": "Name 1 =  Mike\nName 2 =  Anna\n"
        },
        {
          "name": "stdout",
          "output_type": "stream",
          "text": "\nSorted names:\nAnna\nMike\n"
        }
      ],
      "execution_count": 4
    },
    {
      "id": "585735ed-f065-413c-9cdb-23d2b5be842f",
      "cell_type": "markdown",
      "source": "### SplitDate\n- Definieren Sie einen String der ein Datum mit Tagen, Monat und Jahr beinhaltet wie zum Beispiel \"17.04.1966\" oder \"1.3.07\".\n- Zerlegen Sie nun die Eingabe in drei einzelne Strings für die Tage, den Monat und das Jahr. \n- Geben Sie die einzelnen Strings auf der Konsole aus.\n- Beispiel Ausgabe:\n  ```\n  Date: 17.04.1966\n    day   = 17\n    month = 04\n    year  = 1966\n  Date: 1.3.07\n    day   = 1\n    month = 3\n    year  = 07\n  ```\n\n**Hinweis**:\n- Versuchen Sie einen zweiten Lösungsansatz zu finden. \n- Eine Möglichkeit ist mit Hilfe der split() Methode, eine andere Möglichkeit bietet die index()\n  Methode zusammen mit Slicing.\n",
      "metadata": {}
    },
    {
      "id": "e03bc170-8dc9-4a39-b7c9-bc6d57834aac",
      "cell_type": "code",
      "source": "def show(date, day, month, year):\n    print(\"Date:\", date)\n    print(\"  day   =\", day)\n    print(\"  month =\", month)\n    print(\"  year  =\", year)\n\ndates = [\"17.04.1966\", \"1.3.07\", \"15.8.2021\"]\n\nprint(\"--- Solution with split ---\")\nfor date in dates:\n    tokens = date.split(sep=\".\")\n    day   = tokens[0]\n    month = tokens[1]\n    year  = tokens[2]\n    show(date, day, month, year)\n\nprint(\"--- Solution with index und slicing ---\")\nfor date in dates:\n    idx1 = date.index(\".\")\n    idx2 = date.index(\".\", idx1+1)\n    day   = date[0:idx1]\n    month = date[idx1+1:idx2]\n    year  = date[idx2+1:]\n    show(date, day, month, year)\n\n",
      "metadata": {
        "trusted": true
      },
      "outputs": [
        {
          "name": "stdout",
          "output_type": "stream",
          "text": "--- Solution with split ---\nDate: 17.04.1966\n  day   = 17\n  month = 04\n  year  = 1966\nDate: 1.3.07\n  day   = 1\n  month = 3\n  year  = 07\nDate: 15.8.2021\n  day   = 15\n  month = 8\n  year  = 2021\n--- Solution with index und slicing ---\nDate: 17.04.1966\n  day   = 17\n  month = 04\n  year  = 1966\nDate: 1.3.07\n  day   = 1\n  month = 3\n  year  = 07\nDate: 15.8.2021\n  day   = 15\n  month = 8\n  year  = 2021\n"
        }
      ],
      "execution_count": 3
    }
  ]
}