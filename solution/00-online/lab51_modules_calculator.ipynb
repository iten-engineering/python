{
  "metadata": {
    "kernelspec": {
      "name": "xpython",
      "display_name": "Python 3.13 (XPython)",
      "language": "python"
    },
    "language_info": {
      "file_extension": ".py",
      "mimetype": "text/x-python",
      "name": "python",
      "version": "3.13.1"
    }
  },
  "nbformat_minor": 5,
  "nbformat": 4,
  "cells": [
    {
      "id": "305d9e5b-960c-4d33-a7a5-1a5fc379368d",
      "cell_type": "markdown",
      "source": "# 5. Modules & Packages",
      "metadata": {}
    },
    {
      "id": "18d16af4-d34e-4ee5-980b-0e28994efc47",
      "cell_type": "markdown",
      "source": "## 5.1 Calculator\n\n- Erstellen Sie das Modul `lab51_modules_calculator.py` mit folgenden Methoden:\n  - add(x, y) für die Addition x + y\n  - sub(x, y) für die Subtraktion x - y\n  - mul(x, y) für die Mulitiplikation x * y\n  - div(x, y) für die Division x / y\n\n- Lesen sie eine Calculation ein und führen sie diese aus. Dazu werden die Operationen aus dem calculator Modul importiert.  \n\n- Als Eingabe wird ein String eingelesen mit der Operation und den Operanden, \n  wie zum Beispiel `5 + 2` oder `7 / 3`.\n\n- Fangen Sie folgende Fehler ab und geben Sie eine entsprechende Meldung aus: \n  - Ungültier Operator\n  - Divison durch 0\n\n- Beispiele:\n  ```\n  Calculate: 7 * 3\n  21.0\n  \n  Calculate: 5 = 6\n  Unknown operator\n  \n  Calculate: 13 / 0\n  Division by zero    \n  ```",
      "metadata": {}
    },
    {
      "id": "0b88f699-301c-4651-a093-1a0f540ebb5e",
      "cell_type": "code",
      "source": "from lab51_modules_calculator import add, sub, mul, div\n\ndata = input(\"Calculate: \")\ntokens = data.split()\n\nx, op, y  = tokens\n\nmap = {\"+\" : add, \"-\" : sub, \"*\" : mul, \"/\" : div}\nf = map.get(op)\n\nif f is None:\n    print(\"Unknown operator\")\nelif (f == div and y == \"0\"):\n    print(\"Division by zero\")\nelse:\n    print( f(float(x),float(y)) )",
      "metadata": {
        "trusted": true
      },
      "outputs": [
        {
          "output_type": "stream",
          "name": "stdin",
          "text": "Calculate:  5 / 3\n"
        },
        {
          "name": "stdout",
          "output_type": "stream",
          "text": "1.6666666666666667\n"
        }
      ],
      "execution_count": 1
    }
  ]
}