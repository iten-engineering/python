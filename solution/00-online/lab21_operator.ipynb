{
  "metadata": {
    "kernelspec": {
      "name": "xpython",
      "display_name": "Python 3.13 (XPython)",
      "language": "python"
    },
    "language_info": {
      "file_extension": ".py",
      "mimetype": "text/x-python",
      "name": "python",
      "version": "3.13.1"
    }
  },
  "nbformat_minor": 5,
  "nbformat": 4,
  "cells": [
    {
      "id": "20471b23-4652-4118-8e57-2dd350c641e9",
      "cell_type": "markdown",
      "source": "# 2. Grundlagen",
      "metadata": {}
    },
    {
      "id": "b507cce4-10f3-4b56-9fec-30d307a265d6",
      "cell_type": "markdown",
      "source": "## 2.1 Operatoren & Variablen",
      "metadata": {}
    },
    {
      "id": "b8308c5a-adc3-4ebf-8d28-8a183a06db6f",
      "cell_type": "markdown",
      "source": "### Rechteck\n- Definieren Sie 2 Variablen für die Länge und Breite.\n- Initialisieren Sie die Länge mit dem  Defaultwert 10 und die Breite mit dem Defaultwert 5.\n- Berechnen Sie den Umfang und die Fläche der Rechtecks und geben Sie die Resultate auf der Konsole aus.\n- Beispiel Ausgabe:\n  ```\n  Rechteck mit Länge 10 und Breite 5\n  - Umfang = 30\n  - Fläche = 50\n  ```",
      "metadata": {}
    },
    {
      "id": "55ead216-e3bd-4079-ad10-8525bfed318d",
      "cell_type": "code",
      "source": "l = 10\nb = 5\n\numfang = 2 * (l+b)\nflaeche = l * b\n\nprint(f\"Rechteck mit Länge {l} und Breite {b}\")\nprint(\"- Umfang =\", umfang)\nprint(\"- Fläche =\", flaeche)",
      "metadata": {
        "trusted": true
      },
      "outputs": [
        {
          "name": "stdout",
          "output_type": "stream",
          "text": "Rechteck mit Länge 10 und Breite 5\n- Umfang = 30\n- Fläche = 50\n"
        }
      ],
      "execution_count": 12
    },
    {
      "id": "a0879853-d351-459d-b017-6a18b48ac391",
      "cell_type": "markdown",
      "source": "### Fahrenheit\n\n- Lesen Sie von der Konsole die Temperatur in Fahrenheit ein.\n- Die eingelesene Zahl ist vom Typ String (str). Konvertieren Sie diese in eine Gleitkommazahl (float).\n- Berechnen Sie die Temperatur in Grad Celisus nach der Formel:\n  **celsius = 5 * (fahrenheit-32) / 9**\n- Geben Sie das Resultat auf der Konsole aus.\n- Beispiel Ausgabe:\n  ```\n  Temperatur in Fahrenheit = 75.2\n  Fahrenheit   = 75.2\n  Grad Celsius = 24.0\n  ```",
      "metadata": {}
    },
    {
      "id": "a8e02c84-9cf7-42ef-921e-42aa70d9bf44",
      "cell_type": "code",
      "source": "value = input(\"Temperatur in  Fahrenheit = \")",
      "metadata": {
        "trusted": true
      },
      "outputs": [
        {
          "output_type": "stream",
          "name": "stdin",
          "text": "Temperatur in  Fahrenheit =  75.2\n"
        }
      ],
      "execution_count": 17
    },
    {
      "id": "8ed03023-f1b8-4590-94fa-d76e0df9134a",
      "cell_type": "code",
      "source": "fahrenheit = float(value)\ncelcius = 5 * (fahrenheit-32) / 9\n\nprint(\"Fahrenheit   =\", fahrenheit)\nprint(\"Grad Celcius =\", celcius)",
      "metadata": {
        "trusted": true
      },
      "outputs": [
        {
          "name": "stdout",
          "output_type": "stream",
          "text": "Fahrenheit   = 75.2\nGrad Celcius = 24.0\n"
        }
      ],
      "execution_count": 18
    }
  ]
}