{
  "metadata": {
    "kernelspec": {
      "name": "xpython",
      "display_name": "Python 3.13 (XPython)",
      "language": "python"
    },
    "language_info": {
      "file_extension": ".py",
      "mimetype": "text/x-python",
      "name": "python",
      "version": "3.13.1"
    }
  },
  "nbformat_minor": 5,
  "nbformat": 4,
  "cells": [
    {
      "id": "0967819a-8da0-4cd6-beef-113a455e79dd",
      "cell_type": "markdown",
      "source": "# 2. Grundlagen",
      "metadata": {}
    },
    {
      "id": "476ddf04-56f0-41ab-9276-84e92b9bfb94",
      "cell_type": "markdown",
      "source": "## 2.3 Exception",
      "metadata": {}
    },
    {
      "id": "41660ebd-f49d-49b0-8fda-e0196c3dd828",
      "cell_type": "markdown",
      "source": "### Validation\n\n- Erstellen Sie ein Script das beliebige Ganzzahlen einliest.\n- Das Einlesen der Werte erfolgt mit der input() Methode. Diese liefert einen String.\n- Der String soll nun in einen Integer konvertiert und in eine Liste abgelegt werden.\n- Falls anstelle einer Ganzahl ein String oder eine Gleitkommazahl eingegeben wird, \n  soll der Fehler bei der Konvertierung abgefangen und eine entsprechende Fehlermeldung ausgegeben werden.  \n- Sobald ein 'x' eingelesen wird, wird die Eingabe beendet werden und die eingegebenen Werte werden auf \n  der Konsole ausgegeben.\n- Beispiel Ausgabe: \n  ```\n  Geben Sie bitte einen Integer ein oder 'x' um die Eingabe zu beenden:\n  value = 1\n  value = 7\n  value = 9.5\n  Ungültiger Wert: 9.5 Geben Sie bitte einen Integer Wert ein!\n  value = 9\n  value = x\n  \n  Eingegebene Werte:\n  [1, 7, 9]\n  ```",
      "metadata": {}
    },
    {
      "id": "92c778d3-690d-4154-a537-3a62936ea5f7",
      "cell_type": "code",
      "source": "print(\"Geben Sie bitte einen Integer ein oder 'x' um die Eingabe zu beenden:\")\n\nnumbers = []\nwhile (True):\n    try:\n        value = input(\"value = \")\n        if (value == \"x\"):\n            break;\n        number = int(value)\n        numbers.append(number)\n    except:\n        print(\"Ungültiger Wert:\", value, \"Geben Sie bitte einen Integer Wert ein!\")\n\nprint(\"\\nEingegebene Werte:\")\nprint(numbers)",
      "metadata": {
        "trusted": true
      },
      "outputs": [
        {
          "name": "stdout",
          "output_type": "stream",
          "text": "Geben Sie bitte einen Integer ein oder 'x' um die Eingabe zu beenden:\n"
        },
        {
          "output_type": "stream",
          "name": "stdin",
          "text": "value =  12\nvalue =  12x\n"
        },
        {
          "name": "stdout",
          "output_type": "stream",
          "text": "Ungültiger Wert: 12x Geben Sie bitte einen Integer Wert ein!\n"
        },
        {
          "output_type": "stream",
          "name": "stdin",
          "text": "value =  15\nvalue =  x\n"
        },
        {
          "name": "stdout",
          "output_type": "stream",
          "text": "\nEingegebene Werte:\n[12, 15]\n"
        }
      ],
      "execution_count": 4
    }
  ]
}