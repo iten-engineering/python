{
  "metadata": {
    "kernelspec": {
      "name": "python",
      "display_name": "Python (Pyodide)",
      "language": "python"
    },
    "language_info": {
      "codemirror_mode": {
        "name": "python",
        "version": 3
      },
      "file_extension": ".py",
      "mimetype": "text/x-python",
      "name": "python",
      "nbconvert_exporter": "python",
      "pygments_lexer": "ipython3",
      "version": "3.8"
    }
  },
  "nbformat_minor": 5,
  "nbformat": 4,
  "cells": [
    {
      "id": "dbb87e7f-c004-4e82-bbc4-e98b8545845f",
      "cell_type": "markdown",
      "source": "# 4. File Input/Output",
      "metadata": {}
    },
    {
      "id": "756e43cf-7899-4659-8c9f-f481956cc492",
      "cell_type": "markdown",
      "source": "## 4.1 Names\n\n1. Lesen Sie die Textdatei `lab41_files_names.txt` ein.\n   Diese enthält Vornamen in der folgenden Form:\n   ```\n   Elias\n   Theo\n   ...\n   Ida\n   Anna\n   ```\n\n2. Sortieren Sie die Vornamen alphabetisch.\n\n3. Speichern Sie die sortierten Namen in der Datei `lab41-files-names-sorted.txt` ab.\n   ```\n   Anna\n   Anton\n   ...\n   Sarah\n   Theo\n   ```",
      "metadata": {}
    },
    {
      "id": "e25a13fc-4cbf-4cc3-be49-d14612cd0e6c",
      "cell_type": "code",
      "source": "NEW_LINE = \"\\n\"\n\nin_file  = \"lab41_files_names.txt\"\nout_file = \"lab41_files_names_sorted.txt\"\n\nwith open(in_file, \"r\") as f:\n    names = f.read().splitlines()\n\nprint(names)",
      "metadata": {
        "trusted": true
      },
      "outputs": [
        {
          "name": "stdout",
          "output_type": "stream",
          "text": "['Elias', 'Theo', 'Jonas', 'Emil', 'Felix', 'Paul', 'Anton', 'Linus', 'Emilia', 'Laura', 'Julia', 'Sarah', 'Lena', 'Line', 'Ida', 'Anna']\n"
        }
      ],
      "execution_count": 1
    },
    {
      "id": "59569442-01aa-45d9-bc5d-45367162222e",
      "cell_type": "code",
      "source": "names.sort()\nprint(names)",
      "metadata": {
        "trusted": true
      },
      "outputs": [
        {
          "name": "stdout",
          "output_type": "stream",
          "text": "['Anna', 'Anton', 'Elias', 'Emil', 'Emilia', 'Felix', 'Ida', 'Jonas', 'Julia', 'Laura', 'Lena', 'Line', 'Linus', 'Paul', 'Sarah', 'Theo']\n"
        }
      ],
      "execution_count": 2
    },
    {
      "id": "7ea46899-772c-4043-a58b-ed9c8d603ced",
      "cell_type": "code",
      "source": "with open(out_file, \"w\") as f:\n    for name in names:\n        f.write(name)\n        f.write(NEW_LINE)",
      "metadata": {
        "trusted": true
      },
      "outputs": [],
      "execution_count": 3
    }
  ]
}