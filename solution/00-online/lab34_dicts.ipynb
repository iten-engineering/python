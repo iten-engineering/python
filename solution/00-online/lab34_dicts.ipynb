{
  "metadata": {
    "kernelspec": {
      "name": "xpython",
      "display_name": "Python 3.13 (XPython)",
      "language": "python"
    },
    "language_info": {
      "file_extension": ".py",
      "mimetype": "text/x-python",
      "name": "python",
      "version": "3.13.1"
    }
  },
  "nbformat_minor": 5,
  "nbformat": 4,
  "cells": [
    {
      "id": "1e8ff1e3-7f07-4a05-a774-1a7e28c010fa",
      "cell_type": "markdown",
      "source": "# 3. Datenstrukturen",
      "metadata": {}
    },
    {
      "id": "35609889-4b52-4e87-a2ba-750b07b2884f",
      "cell_type": "markdown",
      "source": "## 3.4 Dictionaries",
      "metadata": {}
    },
    {
      "id": "48d24cf3-4c73-4262-a29b-4f21f9c1752d",
      "cell_type": "markdown",
      "source": "### I18N\n\n- Verwalten Sie die Greetings aus der Tabelle in einem Dictionary mit dem\n  Key als Schlüssel.\n\n  | Key  | Greeting     | \n  | --- | ------------- | \n  | de  | Guten morgen  |\n  | fr  | Bon jour      |\n  | it  | Buongiorno    |\n  | en  | Good morning  |\n\n- Lesen Sie eine Namen und den Sprachschlüssel von der Konsole ein und Grüssen Sie die Person in Ihrer Sprache.\n- Falls ein ungültiger Schrachschlüssel eingegeben wird, verwenden Sie als Default den Key für Englisch. \n- Beispiel Ausgabe:\n  ```\n  Geben Sie bitte Ihren Namen ein: Anna\n  Wählen Sie die Sprache [de, fr, it, en]: fr\n  Bon jour\n  Anna\n  ```\n",
      "metadata": {}
    },
    {
      "id": "142a6150-5e66-4324-96da-e6419ca0b141",
      "cell_type": "code",
      "source": "i18n = {\n    \"de\" : \"Guten morgen\",\n    \"fr\" : \"Bon jour\",\n    \"it\" : \"Buongiorno\",\n    \"en\" : \"Good morning\"\n}\n\nname = input(\"Geben Sie bitte Ihren Namen ein: \")\nkey = input(\"Wählen Sie die Sprache [de, fr, it, en]: \")\n\n# check if key is available\nkey = key if key in i18n.keys() else \"en\"\n\n# greeting\ngreeting = i18n[key]\nprint(greeting)\nprint(name)\n",
      "metadata": {
        "trusted": true
      },
      "outputs": [
        {
          "output_type": "stream",
          "name": "stdin",
          "text": "Geben Sie bitte Ihren Namen ein:  Anna\nWählen Sie die Sprache [de, fr, it, en]:  en\n"
        },
        {
          "name": "stdout",
          "output_type": "stream",
          "text": "Good morning\nAnna\n"
        }
      ],
      "execution_count": 2
    },
    {
      "id": "8dacd80c-0705-4a97-be42-8a1d7810b3d7",
      "cell_type": "markdown",
      "source": "### Artikel\n\n- Verwalten Sie die Artikel aus der Tabelle in einem Dictionary:\n  - Als Schlüssel können Sie die Artikel Nummer verwenden. \n  - Damit kann auf eine weiteren Dictionary Eintrag zugegriffen werden, welcher die Artikeldaten beinhaltet.\n\n  | Nr  | Name                      | Price  |\n  | --- | ------------------------- | ------ |\n  | 11  | Bildschirm Belinea X3     | 499.50 |\n  | 12  | PC Tastatur Swiss German  |  35.00 |\n  | 13  | Logitec Maus              |  17.25 |\n  | 14  | USB Hub                   |  25.70 |\n  | 15  | Lautsprecher X66-12       |  87.90 |\n\n- Geben Sie nun alle Artikel auf der Konsole aus.  \n- Suchen Sie den Artikel mit dem tiefsten Preis und geben Sie diesen auf der Konsole aus.\n- Aktualisieren Sie alle Artikel Preise und geben Sie einen Disount von 20%. \n  Geben Sie die Artikel auf der Konsole aus.\n- Beispiel Ausgabe:\n  ```\n  List all articles:\n  {'name': 'Bildschirm Belinea X3', 'price': 499.5}\n  {'name': 'PC Tastatur Swiss German', 'price': 35.0}\n  {'name': 'Logitec Maus', 'price': 17.25}\n  {'name': 'USB Hub', 'price': 25.7}\n  {'name': 'Lautsprecher X66-12', 'price': 87.9}\n\n  Show article with lowest price:\n  {'name': 'Logitec Maus', 'price': 17.25}\n\n  Give a 20% discount of all prices and list articles:\n  {'name': 'Bildschirm Belinea X3', 'price': 399.6}\n  {'name': 'PC Tastatur Swiss German', 'price': 28.0}\n  {'name': 'Logitec Maus', 'price': 13.8}\n  {'name': 'USB Hub', 'price': 20.560000000000002}\n  {'name': 'Lautsprecher X66-12', 'price': 70.32000000000001}\n  ```\n",
      "metadata": {}
    },
    {
      "id": "29bf9aee-c902-409c-939e-07e29256cf68",
      "cell_type": "code",
      "source": "articles = {\n    11: {\n        \"name\"  : \"Bildschirm Belinea X3\",\n        \"price\" : 499.50\n    },\n    12: {\n        \"name\"  : \"PC Tastatur Swiss German\",\n        \"price\" : 35.00\n    },\n    13: {\n        \"name\"  : \"Logitec Maus\",\n        \"price\" : 17.25\n    },\n    14: {\n        \"name\"  : \"USB Hub\",\n        \"price\" : 25.70\n    },\n    15: {\n        \"name\"  : \"Lautsprecher X66-12\",\n        \"price\" : 87.90\n    }\n}",
      "metadata": {
        "trusted": true
      },
      "outputs": [],
      "execution_count": 4
    },
    {
      "id": "2479e81a-041b-42fb-98e8-37e3d904611f",
      "cell_type": "code",
      "source": "print(\"List all articles:\")\nfor nr in articles:\n    print(articles[nr])",
      "metadata": {
        "trusted": true
      },
      "outputs": [
        {
          "name": "stdout",
          "output_type": "stream",
          "text": "List all articles:\n{'name': 'Bildschirm Belinea X3', 'price': 319.68000000000006}\n{'name': 'PC Tastatur Swiss German', 'price': 22.400000000000002}\n{'name': 'Logitec Maus', 'price': 11.040000000000001}\n{'name': 'USB Hub', 'price': 16.448000000000004}\n{'name': 'Lautsprecher X66-12', 'price': 56.25600000000001}\n"
        }
      ],
      "execution_count": 10
    },
    {
      "id": "df64136c-f247-4942-8cd8-1255a9282d07",
      "cell_type": "code",
      "source": "print(\"Show article with lowest price:\")\n\narticle = None\nfor nr in articles:\n    if article is None:\n        article = articles[nr]\n        continue\n    if articles[nr][\"price\"] < article[\"price\"]:\n        article = articles[nr]\n\nprint(article)",
      "metadata": {
        "trusted": true
      },
      "outputs": [
        {
          "name": "stdout",
          "output_type": "stream",
          "text": "Show article with lowest price:\n{'name': 'Logitec Maus', 'price': 11.040000000000001}\n"
        }
      ],
      "execution_count": 9
    },
    {
      "id": "5fc4ce2b-6407-44d8-997c-71a956011999",
      "cell_type": "code",
      "source": "print(\"Give a 20% discount of all prices and list articles:\")\n\nfor nr in articles:\n    articles[nr][\"price\"] = articles[nr][\"price\"] * 0.8\n    print(articles[nr])",
      "metadata": {
        "trusted": true
      },
      "outputs": [
        {
          "name": "stdout",
          "output_type": "stream",
          "text": "Give a 20% discount of all prices and list articles:\n{'name': 'Bildschirm Belinea X3', 'price': 319.68000000000006}\n{'name': 'PC Tastatur Swiss German', 'price': 22.400000000000002}\n{'name': 'Logitec Maus', 'price': 11.040000000000001}\n{'name': 'USB Hub', 'price': 16.448000000000004}\n{'name': 'Lautsprecher X66-12', 'price': 56.25600000000001}\n"
        }
      ],
      "execution_count": 8
    }
  ]
}