{
  "metadata": {
    "kernelspec": {
      "name": "python",
      "display_name": "Python (Pyodide)",
      "language": "python"
    },
    "language_info": {
      "codemirror_mode": {
        "name": "python",
        "version": 3
      },
      "file_extension": ".py",
      "mimetype": "text/x-python",
      "name": "python",
      "nbconvert_exporter": "python",
      "pygments_lexer": "ipython3",
      "version": "3.8"
    }
  },
  "nbformat_minor": 5,
  "nbformat": 4,
  "cells": [
    {
      "id": "dbb87e7f-c004-4e82-bbc4-e98b8545845f",
      "cell_type": "markdown",
      "source": "# 4. File Input/Output",
      "metadata": {}
    },
    {
      "id": "b3a11970-2f4e-45ee-9bf7-5fd2ec647dc7",
      "cell_type": "markdown",
      "source": "## 4.3 Books\n\n- Lesen Sie die Textdatei `lab43_files_books.txt` ein.\n- Diese enthält Bücherdaten in der fogenden Form:\n  ```\n  ISBN\n  Title\n  Author\n  Publisher\n\n  978-0-316-45742-2\n  The Coast-To-Coast Murders\n  James Patterson\n  Little Brown USA\n\n  978-0-525-95498-9\n  ...\n  ```\n- Erstellen Sie nun eine Liste von Einträgen. Jeder Eintrag beinhaltet die Daten eines \"Blocks\" und ist\n  selber auch wieder eine Liste, wie nachfolgend dargestellt. \n  ```\n  ['ISBN', 'Title', 'Author', 'Publisher']\n  ['978-0-316-45742-2', 'The Coast-To-Coast Murders', 'James Patterson', 'Little Brown USA']\n  u.s.w.  \n  ```\n- Speichern sie die aufbereiteten Daten im CSV Format ab.\n- Beispiel `books.csv`:\n  ```\n  ISBN,Title,Author,Publisher\n  978-0-316-45742-2,The Coast-To-Coast Murders,James Patterson,Little Brown USA\n  978-0-525-95498-9,The Evening and the Morning,Ken Follett,Penguin LCC US\n  978-1-250-14523-9,All the Devils Are Here,Louise Penny,Macmillan USA\n  ```\n",
      "metadata": {}
    },
    {
      "id": "e25a13fc-4cbf-4cc3-be49-d14612cd0e6c",
      "cell_type": "code",
      "source": "import csv\n\n# Read file content and save line to a list of lines:\nin_file = \"lab43_files_books.txt\"\nwith open(in_file, \"r\") as f:\n    lines = f.read().splitlines()       # get rid of '\\n´\n\n\n# Create list of book entries:\n# - Each book entry is a list of: ISBN, Title, Author and Publisher\n# - The first entry is the header line: ['ISBN', 'Title', 'Author', 'Publisher']\n# - The other entries are the books   : ['978-0-316-45742-2', 'The Coast-To-Coast Murders', 'James Patterson', 'Little Brown USA']\nbooks = []\nbook  = []\nfor line in lines:\n    if line.strip() == \"\":\n        books.append(book)\n        book = []\n    else:\n        book.append(line.strip())\n\nbooks.append(book)\n\n\n# Create CSV file with titles and data rows:\ntitles = books[0]\nrows = books[1:]\n\nout_file = \"lab43_files_books.csv\"\nprint(\"Write data to:\", out_file)\nprint(\"Titles:\", titles)\nprint(\"Rows  :\", rows)\n\nwith open(out_file, \"w\") as f:\n    writer = csv.writer(f)\n    writer.writerow(titles)\n    writer.writerows(rows)\n",
      "metadata": {
        "trusted": true
      },
      "outputs": [
        {
          "name": "stdout",
          "output_type": "stream",
          "text": "Write data to: lab43_files_books.csv\nTitles: ['ISBN', 'Title', 'Author', 'Publisher']\nRows  : [['978-0-316-45742-2', 'The Coast-To-Coast Murders', 'James Patterson', 'Little Brown USA'], ['978-0-525-95498-9', 'The Evening and the Morning', 'Ken Follett', 'Penguin LCC US'], ['978-1-250-14523-9', 'All the Devils Are Here', 'Louise Penny', 'Macmillan USA']]\n"
        }
      ],
      "execution_count": 2
    }
  ]
}