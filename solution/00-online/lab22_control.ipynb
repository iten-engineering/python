{
  "metadata": {
    "kernelspec": {
      "name": "xpython",
      "display_name": "Python 3.13 (XPython)",
      "language": "python"
    },
    "language_info": {
      "file_extension": ".py",
      "mimetype": "text/x-python",
      "name": "python",
      "version": "3.13.1"
    }
  },
  "nbformat_minor": 5,
  "nbformat": 4,
  "cells": [
    {
      "id": "20471b23-4652-4118-8e57-2dd350c641e9",
      "cell_type": "markdown",
      "source": "# 2. Grundlagen",
      "metadata": {}
    },
    {
      "id": "5b469e82-7800-4328-ad3d-e9d67c35cb8b",
      "cell_type": "markdown",
      "source": "## 2.2 Kontrollstrukturen",
      "metadata": {}
    },
    {
      "id": "3d1e512f-22de-4c0c-a7a4-6bcd29a96775",
      "cell_type": "markdown",
      "source": "### Note\n- Erstellen Sie das Script, das eine Note im Bereich 1-6 als Ganzahl einliest.\n  Dazu müssen sie die Eingabe mit einem Cast auf einen Int konvertieren.\n- Prüfen Sie die eingelesene Note und falls diese grösser oder gleich 4 ist, geben Sie\n  folgenden Text aus: „Der Test ist bestanden“\n- Falls die Note kleiner 4 ist geben Sie den Text „Der Test ist nicht bestanden“ aus.\n- Starten Sie das Script mit verschiedenen Werten und prüfen Sie die Ausgabe.\n- Ergänzen Sie die bisherige Ausgabe nun noch mit einer detaillierten Angabe der Bewertung:\n  - Note 6: sehr gut\n  - Note 5: gut\n  - Note 4: genügend\n  - allen anderen Fälle: ungenügend\n\n**Hinweis:**\n- Zum einlesen einer Eingabe können Sie (analog dem folgenden Beispiel) die Methode input() verwenden:\n  ```\n  eingabe = input(\"Geben Sie bitte einen Text ein:\")\n  ```\n\n**Zusatz:** \n- Damit Ihr Programm auch bei falschen Eingaben nicht abstürzt, soll am Anfang geprüft werden, \n  ob ein Parameter eingegeben wurde und ob dieser einen korrekten Wertebereich aufweist.\n- Falls keine Zahl übergeben wurde machen Sie folgende Ausgabe und beenden Sie\n  das Programm mit exit: \"Falscher Aufruf: Bitte übergeben Sie eine Zahl!\"\n- Falls der eingegebene Werte nicht zwischen 1..6 liegt, machen Sie folgende Ausgabe und\n  beenden Sie das Programm: \"Falscher Wert: Die Note muss einen Wert zwischen 1..6 haben!\"\n",
      "metadata": {}
    },
    {
      "id": "478be34d-9a1d-4685-9adf-a9033e1984b5",
      "cell_type": "code",
      "source": "# Eingabe\ninput = input(\"Note = \")",
      "metadata": {
        "trusted": true
      },
      "outputs": [
        {
          "output_type": "stream",
          "name": "stdin",
          "text": "Note =  6\n"
        }
      ],
      "execution_count": 1
    },
    {
      "id": "0805b741-ad7e-4f70-94f4-62920e676cec",
      "cell_type": "code",
      "source": "# Validierung ungültige Eingabe\nnote = None\ntry:\n    note = int(input)\nexcept:\n    print(\"Falscher Aufruf: Bitte übergeben Sie eine Zahl!\")\n    exit(-1)\n\n# Validierung Zahlenbereich 1..6\nif note < 1 or note > 6:\n    print(\"Falscher Wert: Die Note muss einen Wert zwischen 1..6 haben!\")\n    exit(-2)",
      "metadata": {
        "trusted": true
      },
      "outputs": [],
      "execution_count": 2
    },
    {
      "id": "dcf3bf81-1bdc-4355-84b8-c4f5f5bfaa84",
      "cell_type": "code",
      "source": "# Bestanden / nicht bestanden\nif note >= 4:\n    print(\"Der Test ist bestanden\")\nelse:\n    print(\"Der Test ist nicht bestanden\")\n\n# Detail Note\nif note == 6:\n    print(\"Note 6: sehr gut\")\nelif note == 5:\n    print(\"Note 5: gut\")\nelif note == 4:\n    print(\"Note 4: genügend\")\nelse:\n    print(\"Note ungenügend\")\n",
      "metadata": {
        "trusted": true
      },
      "outputs": [
        {
          "name": "stdout",
          "output_type": "stream",
          "text": "Der Test ist bestanden\nNote 6: sehr gut\n"
        }
      ],
      "execution_count": 3
    },
    {
      "id": "34db0046-0487-4320-bd04-25def1eaf6ed",
      "cell_type": "markdown",
      "source": "## Modulo\n- Erstellen sie ein Script dass nacheinander alle ungeraden Zahlen zwischen 1 und 30.\n- Verwenden sie dazu ein while und den Modulo Operator `%`.",
      "metadata": {}
    },
    {
      "id": "0e37f2be-34e4-4e38-9fce-9fe41c2b3d68",
      "cell_type": "code",
      "source": "n = 1\nwhile n <= 30:\n    if n % 2 == 1:\n        print(n)\n    n = n + 1",
      "metadata": {
        "trusted": true
      },
      "outputs": [
        {
          "name": "stdout",
          "output_type": "stream",
          "text": "1\n3\n5\n7\n9\n11\n13\n15\n17\n19\n21\n23\n25\n27\n29\n"
        }
      ],
      "execution_count": 4
    },
    {
      "id": "f70e959a-84f9-4d3a-807e-8fafb8a8ade2",
      "cell_type": "markdown",
      "source": "### Quadrat\n- Erstellen Sie ein Script, dass das in einer Schleife alle Quadratzahlen ausgibt.\n- Die Schleife soll solange durchlaufen werden, wie die berechnete Quadratzahl kleiner oder gleich 15 ist.\n- Beispiel Ausgabe: \n  ```\n  1 x 1 = 1\n  2 x 2 = 4\n  usw.\n  ```\n",
      "metadata": {}
    },
    {
      "id": "d46253a8-bad9-4957-a3a9-f8329bc899ed",
      "cell_type": "code",
      "source": "num = 1\nsquare = num * num\n\nwhile square <= 15:\n    print(f\"{num} * {num} = {square}\")\n    num = num + 1\n    square = num * num",
      "metadata": {
        "trusted": true
      },
      "outputs": [
        {
          "name": "stdout",
          "output_type": "stream",
          "text": "1 * 1 = 1\n2 * 2 = 4\n3 * 3 = 9\n"
        }
      ],
      "execution_count": 5
    },
    {
      "id": "59fb18b3-e8d2-4dbf-b489-10b9f960c1da",
      "cell_type": "markdown",
      "source": "### Group\n\n- Erstellen Sie ein Script mit der folgenden gemischten Liste: [7.5, 'Hello', 42, None, 'World', 1.25, 69, 12]  \n- Gruppieren Sie die Listeneinträge in drei verschiedene Listen für Ganzzahlen, Gleitkomma und String Typen.\n- Geben Sie das Resultat auf der Konsole aus.\n- Beispiel Ausgabe: \n  ```\n  values  = [7.5, 'Hello', 42, None, 'World', 1.25, 69, 12]\n  - int   = [42, 69, 12]\n  - float = [7.5, 1.25]\n  - str   = ['Hello', 'World']\n  ```",
      "metadata": {}
    },
    {
      "id": "4edcd841-91a3-4967-94c0-1292a5ab6b63",
      "cell_type": "code",
      "source": "values = [7.5, \"Hello\", 42, None, \"World\", 1.25, 69, 12]\n\nint_values = []\nfloat_values = []\nstr_values = []\n\nfor value in values:\n    if type(value) == int:\n        int_values.append(value)\n    elif type(value) == float:\n        float_values.append(value)\n    elif type(value)==str:\n        str_values.append(value)\n\nprint(\"values  =\", values)\nprint(\"- int   =\", int_values)\nprint(\"- float =\", float_values)\nprint(\"- str   =\", str_values)",
      "metadata": {
        "trusted": true
      },
      "outputs": [
        {
          "name": "stdout",
          "output_type": "stream",
          "text": "values  = [7.5, 'Hello', 42, None, 'World', 1.25, 69, 12]\n- int   = [42, 69, 12]\n- float = [7.5, 1.25]\n- str   = ['Hello', 'World']\n"
        }
      ],
      "execution_count": 6
    }
  ]
}