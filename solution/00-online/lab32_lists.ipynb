{
  "metadata": {
    "kernelspec": {
      "name": "xpython",
      "display_name": "Python 3.13 (XPython)",
      "language": "python"
    },
    "language_info": {
      "file_extension": ".py",
      "mimetype": "text/x-python",
      "name": "python",
      "version": "3.13.1"
    }
  },
  "nbformat_minor": 5,
  "nbformat": 4,
  "cells": [
    {
      "id": "97a14ebf-42bd-4b38-9a9e-e13c6e5c80ce",
      "cell_type": "markdown",
      "source": "# 3. Datenstrukturen",
      "metadata": {}
    },
    {
      "id": "5acdcef5-e273-4fdf-bdc0-f5cc4497427b",
      "cell_type": "markdown",
      "source": "## 3.2 List & Tuples",
      "metadata": {}
    },
    {
      "id": "b56aa176-c0c5-418e-9438-9efa6f860274",
      "cell_type": "markdown",
      "source": "### Numbers\n- Erstellen Sie ein Tuple `numbers` mit den folgenden Nummern: (7, 9, 16, 23, 4, 12, 99, 5)\n- Selektieren Sie folgende Elemente und geben Sie diese auf der Konsole aus:\n  - Erstes und letztes Element\n  - Die ersten zwei Elemente, die letzten zwei Elemente\n  - Anzahl Elemente (Länge), Minimum und Maximum\n- Beispiel Ausgabe:\n  ```\n  (7, 9, 16, 23, 4, 12, 99, 5)\n  7\n  5\n  (7, 9)\n  (99, 5)\n  8\n  4\n  99\n  ```",
      "metadata": {}
    },
    {
      "id": "23316597-f2d7-4e07-a17c-eac8ed6561c2",
      "cell_type": "code",
      "source": "numbers = (7,9,16,23,4,12,99,5)\n\nprint(numbers)\n\nprint(numbers[0])       # first\nprint(numbers[-1])      # last\n\nprint(numbers[:2])      # first two elements\nprint( numbers[-2:] )   # last two elements\n\nprint(len(numbers))     # length\nprint(min(numbers))     # minimum\nprint(max(numbers))     # maximum",
      "metadata": {
        "trusted": true
      },
      "outputs": [
        {
          "name": "stdout",
          "output_type": "stream",
          "text": "(7, 9, 16, 23, 4, 12, 99, 5)\n7\n5\n(7, 9)\n(99, 5)\n8\n4\n99\n"
        }
      ],
      "execution_count": 6
    },
    {
      "id": "f3d17ab9-e8c6-4680-9e44-8b9f3e569a66",
      "cell_type": "markdown",
      "source": "### Filter\n\n- Erstellen Sie eine Liste `numbers` mit den Zahlen 1..20 und geben Sie diese auf der Konsole aus.\n- Selektieren Sie aus der Liste alle geraden Zahlen und speichern Sie diese der Liste `even_numbers`. \n  Verwenden Sie dazu eine Schleife. Geben Sie das Resultat auf der Konsole aus.\n- Selektieren Sie aus der Liste alle ungeraden Zahlen und speichern Sie diese der Liste `odd_numbers`. \n  Verwenden Sie dazu die filter() Funktion. Geben Sie das Resultat auf der Konsole aus.\n- Beispiel Ausgabe:\n  ```\n  [1, 2, 3, 4, 5, 6, 7, 8, 9, 10, 11, 12, 13, 14, 15, 16, 17, 18, 19, 20]\n  [2, 4, 6, 8, 10, 12, 14, 16, 18, 20]\n  [1, 3, 5, 7, 9, 11, 13, 15, 17, 19]\n  ```",
      "metadata": {}
    },
    {
      "id": "3a5962ea-9239-4a02-86c7-ba05c9ac533c",
      "cell_type": "code",
      "source": "# create numbers\nnumbers = list(range(1,21))\nprint(numbers)",
      "metadata": {
        "trusted": true
      },
      "outputs": [
        {
          "name": "stdout",
          "output_type": "stream",
          "text": "[1, 2, 3, 4, 5, 6, 7, 8, 9, 10, 11, 12, 13, 14, 15, 16, 17, 18, 19, 20]\n"
        }
      ],
      "execution_count": 2
    },
    {
      "id": "e3908625-9cfe-4766-a8f0-e53637f2fcf7",
      "cell_type": "code",
      "source": "# filter even numbers with loop\neven_numbers = []\n\ndef even(number):\n    return (number % 2) == 0\n\nfor number in numbers:\n    if (even(number)):\n        even_numbers.append(number)\n\nprint(even_numbers)",
      "metadata": {
        "trusted": true
      },
      "outputs": [
        {
          "name": "stdout",
          "output_type": "stream",
          "text": "[2, 4, 6, 8, 10, 12, 14, 16, 18, 20]\n"
        }
      ],
      "execution_count": 3
    },
    {
      "id": "7a78e6e3-dd1c-436b-a870-4aab4785475c",
      "cell_type": "code",
      "source": "\n# filter odd numbers with filter\nodd_numbers = list(filter(lambda number: (number % 2) == 1, numbers))\n\nprint(odd_numbers)",
      "metadata": {
        "trusted": true
      },
      "outputs": [
        {
          "name": "stdout",
          "output_type": "stream",
          "text": "[1, 3, 5, 7, 9, 11, 13, 15, 17, 19]\n"
        }
      ],
      "execution_count": 5
    }
  ]
}