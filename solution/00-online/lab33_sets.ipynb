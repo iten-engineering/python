{
  "metadata": {
    "kernelspec": {
      "name": "xpython",
      "display_name": "Python 3.13 (XPython)",
      "language": "python"
    },
    "language_info": {
      "file_extension": ".py",
      "mimetype": "text/x-python",
      "name": "python",
      "version": "3.13.1"
    }
  },
  "nbformat_minor": 5,
  "nbformat": 4,
  "cells": [
    {
      "id": "1d85288e-5f9f-48bf-9c79-8a4a25932e09",
      "cell_type": "markdown",
      "source": "# 3. Datenstrukturen",
      "metadata": {}
    },
    {
      "id": "2a823261-dff2-498a-9c09-82d377c2f84f",
      "cell_type": "markdown",
      "source": "## 3.3 Sets",
      "metadata": {}
    },
    {
      "id": "fd0750d7-7516-4ff9-a2a9-cf6b1590c9d3",
      "cell_type": "markdown",
      "source": "### Mengen\n\n- Definieren Sie die beiden Set blue und green wie abgebildet: [Mengen](lab33_sets_mengen.png)\n- Führen Sie die Mengen Operationen Union, Intersection und Difference durch und geben Sie die Resultate\n  auf der Konsole aus. \n- Beispiel Ausgabe:\n  ```\n  Union        blue+green =  {'A', 'B', 'D', 'C', 'E'}\n  Intersection blue/green =  {'C'}\n  Difference   blue-green =  {'A', 'B'}\n  Difference   green-blue =  {'D', 'E'}\n  ```\n",
      "metadata": {}
    },
    {
      "id": "6344f9d7-1383-46d1-b826-0420094ec9c4",
      "cell_type": "code",
      "source": "blue  = set([\"A\", \"B\", \"C\"])\ngreen = set([\"C\", \"D\", \"E\"])\n\nprint(\"Union        blue+green = \", blue.union(green))\nprint(\"Intersection blue/green = \", blue.intersection(green))\nprint(\"Difference   blue-green = \", blue.difference(green))\nprint(\"Difference   green-blue = \", green.difference(blue))\n",
      "metadata": {
        "trusted": true
      },
      "outputs": [
        {
          "name": "stdout",
          "output_type": "stream",
          "text": "Union        blue+green =  {'E', 'D', 'C', 'B', 'A'}\nIntersection blue/green =  {'C'}\nDifference   blue-green =  {'B', 'A'}\nDifference   green-blue =  {'E', 'D'}\n"
        }
      ],
      "execution_count": 1
    }
  ]
}