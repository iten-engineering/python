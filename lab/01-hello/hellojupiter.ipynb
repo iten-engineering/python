{
 "cells": [
  {
   "cell_type": "markdown",
   "metadata": {},
   "source": [
    "# Jupiter Notebook\n",
    "- Ist eine Mischung aus Text (Markdown) und ausführbarem Code\n",
    "- Die Code Zellen können einzeln oder auch alle zusammen ausgeführt werden.\n",
    "- Die Resultate werden dann unterhalb der jeweiligen Code Zelle eingeblendet.\n",
    "\n",
    "> Jupiter Notebook sind ideal für interaktive Arbeiten die gleichzeitig dokumentiert \n",
    "  werden sollen oder Grafiken darstellen."
   ]
  },
  {
   "cell_type": "markdown",
   "source": [
    "## Hello Jupiter\n",
    "- Führen Sie den folgenden Code Block aus. \n",
    "- Dazu können Sie den Run Butten betätigen oder die Zelle anwählen und [CTRL][ENTER] drücken. "
   ],
   "metadata": {
    "collapsed": false
   }
  },
  {
   "cell_type": "code",
   "execution_count": 1,
   "metadata": {
    "pycharm": {
     "is_executing": false
    }
   },
   "outputs": [
    {
     "name": "stdout",
     "text": [
      "Hello Jupiter 1\n"
     ],
     "output_type": "stream"
    }
   ],
   "source": [
    "print(\"Hello Jupiter\")"
   ]
  },
  {
   "cell_type": "markdown",
   "source": [
    "## Berechnungen\n",
    "Führen Sie die folgenden Berechnungen aus.\n",
    "- 3 x 3\n",
    "- 5 hoch 2 (hoch wird mit ** angegeben)\n",
    "- 5 x 3 + 2 x 3"
   ],
   "metadata": {
    "collapsed": false
   }
  },
  {
   "cell_type": "code",
   "execution_count": 5,
   "outputs": [
    {
     "name": "stdout",
     "text": [
      "9\n",
      "125\n",
      "21\n"
     ],
     "output_type": "stream"
    }
   ],
   "source": [],
   "metadata": {
    "collapsed": false,
    "pycharm": {
     "name": "#%%\n",
     "is_executing": false
    }
   }
  },
  {
   "cell_type": "markdown",
   "source": [
    "## Berechnung mit Variablen\n",
    "- Definieren Sie eine Variable x mit den Wert 5.5 und eine Variable y mit dem Wert 7.\n",
    "- Berenchen Sie die Summe und speichern Sie das Resultat in die Variable total.\n",
    "- Geben Sie das Resultat aus.\n"
   ],
   "metadata": {
    "collapsed": false
   }
  },
  {
   "cell_type": "code",
   "execution_count": 6,
   "metadata": {
    "pycharm": {
     "is_executing": false
    }
   },
   "outputs": [
    {
     "name": "stdout",
     "text": [
      "12.5\n"
     ],
     "output_type": "stream"
    }
   ],
   "source": []
  },
  {
   "cell_type": "markdown",
   "metadata": {},
   "source": [
    "## Weitere Berechnung mit Variablen aus der obigen Zelle\n",
    "- Die Variablen aus der obigen Zelle (sofern diese ausgeführt wurde) können weiter verwendet werden.\n",
    "- Multiplizieren Sie die Werte von x und y und geben Sie das Resultat aus."
   ]
  },
  {
   "cell_type": "code",
   "execution_count": 8,
   "metadata": {
    "pycharm": {
     "is_executing": false
    }
   },
   "outputs": [
    {
     "data": {
      "text/plain": "38.5"
     },
     "metadata": {},
     "output_type": "execute_result",
     "execution_count": 8
    }
   ],
   "source": []
  },
  {
   "cell_type": "markdown",
   "source": [
    "## Hilfe\n",
    "- Verwenden Sie die Methode help() um herauszufinden, was die Funktion abs macht.\n",
    "- Typen Sie dazu help(abs) in der Konsole ein. \n",
    "- Mit der Methode dir(abs) werden zudem alle Attribute und Methoden der Klasse abs angzeigt.\n",
    "  Estellen Sie eine weitere Zelle und führen Sie den Befehl aus."
   ],
   "metadata": {
    "collapsed": false
   }
  },
  {
   "cell_type": "code",
   "execution_count": null,
   "outputs": [],
   "source": [],
   "metadata": {
    "collapsed": false,
    "pycharm": {
     "name": "#%%\n"
    }
   }
  },
  {
   "cell_type": "code",
   "execution_count": null,
   "outputs": [],
   "source": [],
   "metadata": {
    "collapsed": false,
    "pycharm": {
     "name": "#%%\n"
    }
   }
  },
  {
   "cell_type": "markdown",
   "metadata": {},
   "source": [
    "## Typen\n",
    "- Definieren Sie die folgenden Variablen und geben Sie jeweis den Typ aus.\n",
    "  - i = 1\n",
    "  - f = 1.5\n",
    "  - b = True\n",
    "  - s = \"Heute\"\n",
    "- Für die Ausgabe des Typ verwenden Sie die Mehtode type(x)"
   ]
  },
  {
   "cell_type": "code",
   "execution_count": 9,
   "outputs": [
    {
     "name": "stdout",
     "text": [
      "<class 'int'>\n",
      "<class 'float'>\n",
      "<class 'bool'>\n",
      "<class 'str'>\n"
     ],
     "output_type": "stream"
    }
   ],
   "source": [],
   "metadata": {
    "collapsed": false,
    "pycharm": {
     "name": "#%%\n",
     "is_executing": false
    }
   }
  },
  {
   "cell_type": "markdown",
   "metadata": {},
   "source": [
    "## Explizite Typen\n",
    "- Mann kann einer Variablen auch explizit einen Typen zuweisen. \n",
    "- Erstellen Sie zwei Variablen wie folgt und geben Sie anschliessend die jeweiligen Typen aus:\n",
    "  - i = 5\n",
    "  - f = float(5)"
   ]
  },
  {
   "cell_type": "code",
   "metadata": {
    "pycharm": {
     "name": "#%%\n",
     "is_executing": false
    }
   },
   "source": [],
   "execution_count": 15,
   "outputs": [
    {
     "name": "stdout",
     "text": [
      "<class 'int'>\n",
      "<class 'float'>\n"
     ],
     "output_type": "stream"
    }
   ]
  },
  {
   "cell_type": "markdown",
   "metadata": {},
   "source": [
    "## Casting\n",
    "- Beim Casting werden Typen umgewandelt. \n",
    "- Probieren Sie folgenden Cast aus und geben Sie jeweils das Resultat auf der Console aus.\n",
    "- Cast to float\n",
    "  - x = 5\n",
    "  - y = float(x)\n",
    "- Cast to int\n",
    "  - x = 5.5\n",
    "  - y = int(x)\n",
    "- Was passiert bei Cast von float nach int?  "
   ]
  },
  {
   "cell_type": "code",
   "execution_count": 22,
   "metadata": {
    "pycharm": {
     "is_executing": false,
     "name": "#%%\n"
    }
   },
   "outputs": [
    {
     "name": "stdout",
     "text": [
      "5 : 5.0\n",
      "5.5 : 5\n"
     ],
     "output_type": "stream"
    }
   ],
   "source": []
  },
  {
   "cell_type": "markdown",
   "source": [
    "_The end._\n",
    "\n",
    "\n"
   ],
   "metadata": {
    "collapsed": false,
    "pycharm": {
     "name": "#%% md\n"
    }
   }
  }
 ],
 "metadata": {
  "kernelspec": {
   "display_name": "Python 3",
   "language": "python",
   "name": "python3"
  },
  "language_info": {
   "codemirror_mode": {
    "name": "ipython",
    "version": 3
   },
   "file_extension": ".py",
   "mimetype": "text/x-python",
   "name": "python",
   "nbconvert_exporter": "python",
   "pygments_lexer": "ipython3",
   "version": "3.7.2"
  },
  "pycharm": {
   "stem_cell": {
    "cell_type": "raw",
    "source": [],
    "metadata": {
     "collapsed": false
    }
   }
  }
 },
 "nbformat": 4,
 "nbformat_minor": 2
}