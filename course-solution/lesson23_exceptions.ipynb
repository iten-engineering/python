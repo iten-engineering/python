{
 "cells": [
  {
   "metadata": {},
   "cell_type": "markdown",
   "source": [
    "# Exception Handling\n",
    "\n",
    "In diesem Kapitel lernst du, wie man Fehler (Exceptions) in Python behandelt.\n",
    "\n",
    "Exceptions treten auf, wenn während der Programmausführung ein Fehler auftritt.\n",
    "In einem solchen Fall\n",
    "- stopt Python die Programmausführung normalerweise\n",
    "- und gibt eine Fehlermeldung aus\n",
    "\n",
    "Anstatt dass das Programm sofort beendet wird, kann mit einem `try-except-finally` Block der Fehler im Code behandelt werden.\n",
    "\n",
    "- try: Ab diesem Zeitpunkt werden auftretende Fehler überwacht. Sobald ein Fehler auftritt, wird der Programmfluss zum except Block weitergeleit\n",
    "- except: \"Fangen\" des Fehlers und Ausführung der Fehlerbehandlung\n",
    "- finally: Optionaler Block, der immer ausgeführt wird, egal ob ein Fehler aufgetreten ist oder nicht."
   ],
   "id": "782ee589ce74d218"
  },
  {
   "cell_type": "markdown",
   "id": "4a9943cc",
   "metadata": {},
   "source": [
    "## try-except\n",
    "\n",
    "Mit `try-except` fangen wir Fehler ab.\n",
    "\n",
    "**Alle Fehler Abfangen**\n",
    "In der einfachsten Variante sieht das so aus:"
   ]
  },
  {
   "cell_type": "code",
   "execution_count": 3,
   "id": "bb69b73a",
   "metadata": {},
   "outputs": [
    {
     "name": "stdout",
     "output_type": "stream",
     "text": [
      "Invalid input:  12x\n"
     ]
    }
   ],
   "source": [
    "try:\n",
    "    value = \"12x\"\n",
    "    nr = int(value)         # Der cast auf int löst einen Fehler aus\n",
    "except:\n",
    "    print(\"Invalid input: \", value)"
   ]
  },
  {
   "cell_type": "markdown",
   "source": [
    "**Zugriff auf Exception**\n",
    "Möchte man die Details über den Fehler erfahren, kann man im Except Block eine Variable definieren, mit der man auf die Exception mit der Fehlermeldung zugreifen kann."
   ],
   "metadata": {
    "collapsed": false
   },
   "id": "9eeabaaad4659c5f"
  },
  {
   "cell_type": "code",
   "execution_count": 4,
   "outputs": [
    {
     "name": "stdout",
     "output_type": "stream",
     "text": [
      "Invalid input:  invalid literal for int() with base 10: '12x'\n"
     ]
    }
   ],
   "source": [
    "try:\n",
    "    value = \"12x\"\n",
    "    nr = int(value)\n",
    "except Exception as e:\n",
    "    print(\"Invalid input: \", str(e) )"
   ],
   "metadata": {
    "collapsed": false
   },
   "id": "aace8b0859852145"
  },
  {
   "cell_type": "markdown",
   "id": "932ab649",
   "metadata": {},
   "source": [
    "**Mehrere Except Blöcke**\n",
    "Wir können auch unterschiedliche Fehlerarten mit mehreren Except Blöcken gezielt behandeln."
   ]
  },
  {
   "cell_type": "code",
   "execution_count": 5,
   "id": "8bbdc0a5",
   "metadata": {},
   "outputs": [
    {
     "name": "stdout",
     "output_type": "stream",
     "text": [
      "OS error: [Errno 2] No such file or directory: 'myfile.txt'\n"
     ]
    }
   ],
   "source": [
    "import sys\n",
    "\n",
    "try:\n",
    "    f = open('myfile.txt')\n",
    "    s = f.readline()\n",
    "    i = int(s.strip())\n",
    "except OSError as err:\n",
    "    print(\"OS error: {0}\".format(err))\n",
    "except ValueError:\n",
    "    print(\"Could not convert data to an integer.\")\n",
    "except (RuntimeError, TypeError, NameError):        # Mehrere Exception behandeln\n",
    "    print(\"Catch all other expected errors.\")\n",
    "except:\n",
    "    print(\"Unexpected error:\", sys.exc_info()[0])   # Zugriff auf Fehlerdetails\n",
    "    raise                                           # Fehler erneut auslösen\n"
   ]
  },
  {
   "cell_type": "markdown",
   "id": "699bc664",
   "metadata": {},
   "source": [
    "## try-except-finally\n",
    "Der `finally`-Block wird **immer** ausgeführt, egal ob ein Fehler auftritt oder nicht."
   ]
  },
  {
   "cell_type": "code",
   "execution_count": 6,
   "id": "b41bb0b2",
   "metadata": {},
   "outputs": [
    {
     "name": "stdout",
     "output_type": "stream",
     "text": [
      "Fehler: Datei nicht gefunden\n",
      "Dieser Block wird immer ausgeführt\n"
     ]
    }
   ],
   "source": [
    "try:\n",
    "    file = open('data.txt', 'r')\n",
    "except FileNotFoundError:\n",
    "    print('Fehler: Datei nicht gefunden')\n",
    "finally:\n",
    "    print('Dieser Block wird immer ausgeführt')"
   ]
  },
  {
   "cell_type": "markdown",
   "id": "7ef65baf",
   "metadata": {},
   "source": [
    "## try-except-else-finally\n",
    "\n",
    "Eine spezielle Variante ist die Kombination von `try-except-else-finally`. Diese gibt es in anderen Programmiersprachen wie Java oder C# nicht.\n",
    "- `else` wird nur ausgeführt, wenn **kein Fehler** auftritt.\n",
    "- `finally` läuft immer."
   ]
  },
  {
   "cell_type": "code",
   "execution_count": 7,
   "id": "02f5ad1a",
   "metadata": {},
   "outputs": [
    {
     "name": "stdout",
     "output_type": "stream",
     "text": [
      "Kein Fehler, Zahl ist: 42\n",
      "Programm beendet\n"
     ]
    }
   ],
   "source": [
    "try:\n",
    "    num = int('42')\n",
    "except ValueError:\n",
    "    print('Fehler bei Umwandlung')\n",
    "else:\n",
    "    print('Kein Fehler, Zahl ist:', num)\n",
    "finally:\n",
    "    print('Programm beendet')"
   ]
  },
  {
   "cell_type": "markdown",
   "id": "8a887d9e",
   "metadata": {},
   "source": [
    "## raise Exceptions\n",
    "Mit `raise` können wir gezielt Fehler auslösen. Damit können wir auch im eigenen Code von Exceptions Gebrauch machen."
   ]
  },
  {
   "cell_type": "code",
   "execution_count": 8,
   "id": "784e607d",
   "metadata": {},
   "outputs": [
    {
     "name": "stdout",
     "output_type": "stream",
     "text": [
      "Fehler: b darf nicht 0 sein\n"
     ]
    }
   ],
   "source": [
    "def divide(a, b):\n",
    "    if b == 0:\n",
    "        raise ValueError('b darf nicht 0 sein')\n",
    "    return a / b\n",
    "\n",
    "try:\n",
    "    result = divide(10, 0)\n",
    "except ValueError as e:\n",
    "    print('Fehler:', e)"
   ]
  },
  {
   "cell_type": "markdown",
   "source": [
    "## built-in Exceptions\n",
    "\n",
    "Python hat viele [built-in Exceptions](https://docs.python.org/3/library/exceptions.html#exception-hierarchy) (eingebaute Exception-Klassen), die verschiedene Fehlerarten repräsentieren.\n"
   ],
   "metadata": {
    "collapsed": false
   },
   "id": "7109127045350c77"
  },
  {
   "cell_type": "markdown",
   "source": [
    "## user-defined Exceptions\n",
    "\n",
    "Es können auch **eigene Exception-Klassen** definiert werden, die von der Basisklasse `Exception` erben. Diese fügen sich nahtlos in das Exception-Handling von Python ein.\n",
    "\n",
    "Details dazu findest du in der [offiziellen Dokumentation](https://docs.python.org/3/tutorial/errors.html#user-defined-exceptions)."
   ],
   "metadata": {
    "collapsed": false
   },
   "id": "3d2f68b73abd247d"
  },
  {
   "metadata": {},
   "cell_type": "markdown",
   "source": [
    "# Aufgaben"
   ],
   "id": "7278f721c752a758"
  },
  {
   "metadata": {},
   "cell_type": "markdown",
   "source": [
    "### Validation\n",
    "\n",
    "- Erstellen Sie ein Script das beliebige Ganzzahlen einliest.\n",
    "- Das Einlesen der Werte erfolgt mit der input() Methode. Diese liefert einen String.\n",
    "- Der String soll nun in einen Integer konvertiert und in eine Liste abgelegt werden.\n",
    "- Falls anstelle einer Ganzahl ein String oder eine Gleitkommazahl eingegeben wird, \n",
    "  soll der Fehler bei der Konvertierung abgefangen und eine entsprechende Fehlermeldung ausgegeben werden.  \n",
    "- Sobald ein 'x' eingelesen wird, wird die Eingabe beendet werden und die eingegebenen Werte werden auf \n",
    "  der Konsole ausgegeben.\n",
    "- Beispiel Ausgabe: \n",
    "  ```\n",
    "  Geben Sie bitte einen Integer ein oder 'x' um die Eingabe zu beenden:\n",
    "  value = 1\n",
    "  value = 7\n",
    "  value = 9.5\n",
    "  Ungültiger Wert: 9.5 Geben Sie bitte einen Integer Wert ein!\n",
    "  value = 9\n",
    "  value = x\n",
    "  \n",
    "  Eingegebene Werte:\n",
    "  [1, 7, 9]\n",
    "  ```"
   ],
   "id": "798ad46d6bd35888"
  },
  {
   "metadata": {
    "ExecuteTime": {
     "end_time": "2025-09-02T20:25:10.458290Z",
     "start_time": "2025-09-02T20:24:51.708549Z"
    }
   },
   "cell_type": "code",
   "source": [
    "print(\"Geben Sie bitte einen Integer ein oder 'x' um die Eingabe zu beenden:\")\n",
    "\n",
    "numbers = []\n",
    "while (True):\n",
    "    try:\n",
    "        value = input(\"value = \")\n",
    "        if (value == \"x\"):\n",
    "            break;\n",
    "        number = int(value)\n",
    "        numbers.append(number)\n",
    "    except:\n",
    "        print(\"Ungültiger Wert:\", value, \"Geben Sie bitte einen Integer Wert ein!\")\n",
    "\n",
    "print(\"\\nEingegebene Werte:\")\n",
    "print(numbers)"
   ],
   "id": "f0a2d1586e7c572d",
   "outputs": [
    {
     "name": "stdout",
     "output_type": "stream",
     "text": [
      "Geben Sie bitte einen Integer ein oder 'x' um die Eingabe zu beenden:\n"
     ]
    },
    {
     "ename": "NameError",
     "evalue": "name 'value' is not defined",
     "output_type": "error",
     "traceback": [
      "\u001B[1;31m---------------------------------------------------------------------------\u001B[0m",
      "\u001B[1;31mTypeError\u001B[0m                                 Traceback (most recent call last)",
      "Cell \u001B[1;32mIn[12], line 6\u001B[0m\n\u001B[0;32m      5\u001B[0m \u001B[38;5;28;01mtry\u001B[39;00m:\n\u001B[1;32m----> 6\u001B[0m     value \u001B[38;5;241m=\u001B[39m \u001B[38;5;28;43minput\u001B[39;49m\u001B[43m(\u001B[49m\u001B[38;5;124;43m\"\u001B[39;49m\u001B[38;5;124;43mvalue = \u001B[39;49m\u001B[38;5;124;43m\"\u001B[39;49m\u001B[43m)\u001B[49m\n\u001B[0;32m      7\u001B[0m     \u001B[38;5;28;01mif\u001B[39;00m (value \u001B[38;5;241m==\u001B[39m \u001B[38;5;124m\"\u001B[39m\u001B[38;5;124mx\u001B[39m\u001B[38;5;124m\"\u001B[39m):\n",
      "\u001B[1;31mTypeError\u001B[0m: 'str' object is not callable",
      "\nDuring handling of the above exception, another exception occurred:\n",
      "\u001B[1;31mNameError\u001B[0m                                 Traceback (most recent call last)",
      "Cell \u001B[1;32mIn[12], line 12\u001B[0m\n\u001B[0;32m     10\u001B[0m         numbers\u001B[38;5;241m.\u001B[39mappend(number)\n\u001B[0;32m     11\u001B[0m     \u001B[38;5;28;01mexcept\u001B[39;00m:\n\u001B[1;32m---> 12\u001B[0m         \u001B[38;5;28mprint\u001B[39m(\u001B[38;5;124m\"\u001B[39m\u001B[38;5;124mUngültiger Wert:\u001B[39m\u001B[38;5;124m\"\u001B[39m, \u001B[43mvalue\u001B[49m, \u001B[38;5;124m\"\u001B[39m\u001B[38;5;124mGeben Sie bitte einen Integer Wert ein!\u001B[39m\u001B[38;5;124m\"\u001B[39m)\n\u001B[0;32m     14\u001B[0m \u001B[38;5;28mprint\u001B[39m(\u001B[38;5;124m\"\u001B[39m\u001B[38;5;130;01m\\n\u001B[39;00m\u001B[38;5;124mEingegebene Werte:\u001B[39m\u001B[38;5;124m\"\u001B[39m)\n\u001B[0;32m     15\u001B[0m \u001B[38;5;28mprint\u001B[39m(numbers)\n",
      "\u001B[1;31mNameError\u001B[0m: name 'value' is not defined"
     ]
    }
   ],
   "execution_count": 12
  }
 ],
 "metadata": {
  "kernelspec": {
   "name": "python3",
   "language": "python",
   "display_name": "Python 3 (ipykernel)"
  }
 },
 "nbformat": 4,
 "nbformat_minor": 5
}
