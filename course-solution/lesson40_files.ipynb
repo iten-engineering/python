{
 "cells": [
  {
   "cell_type": "markdown",
   "metadata": {},
   "source": [
    "# File Input/Output\n",
    "\n",
    "Um mit Textdatein zu Arbeiten gibt es Befehle zum Öffnen und Schliessen einer Datei sowie zum Lesen und Schreiben von Daten. Die folgenden Beispiele zeigen die wichtigsten Befehle.\n",
    "\n",
    "Hinweise & Best Practices\n",
    "- Bei Textdateien immer `encoding='utf-8'` angeben.\n",
    "- Bei CSV unter Windows beim Schreiben `newline=''` nutzen.\n",
    "- Für große Dateien: iteratives Lesen (z. B. `for line in f:`) statt `read()`.\n",
    "- Sicherheit: Lade Pickle-Dateien nur aus vertrauenswürdigen Quellen."
   ],
   "id": "faca7af10ae693b2"
  },
  {
   "cell_type": "markdown",
   "metadata": {},
   "source": [
    "## open, close\n",
    "\n",
    "Mit `open(pfad, modus)` wird eine Datei geöffnet. Der Modus gibt an für welchen Zweck:\n",
    "- `\"r\"` für Read (Daten lesen)\n",
    "- `\"w\"` für Write (Daten schreiben)\n",
    "- `\"a\"` für append (Daten an bestehende Daten anhängen/schreiben). \n",
    "\n",
    "Ein wichtiger Parameter ist auch das `encoding`, mit welchem angegeben welcher Zeichensatz verwendet wird. Der Parameter ist zwar optinal, aber es ist eine gute Praxis das Encoding explizit zu setzen.\n",
    "\n",
    "```python\n",
    "f = open('hello.txt', 'w', encoding='utf-8')\n",
    "f.write('Hello World\\n')\n",
    "f.close()\n",
    "```\n",
    "\n",
    "Mit `close` wird der Datei-Handle wieder geschlossen. Es ist wichtig, `close` auch im Fehlerfall auszuführen, damit der Datei-Handle wieder freigegeben wird. Eine Möglichkeit ist die Verarbeitung in einem **try-except-finally** Block auszuführen:  \n",
    "\n",
    "```python\n",
    "try:\n",
    "    f = open('hello.txt', 'w', encoding='utf-8')\n",
    "    f.write('Hello World\\n')\n",
    "except:\n",
    "    ... Fehlerbehandlung\n",
    "finally:\n",
    "    f.close()\n",
    "```\n",
    "\n",
    "Noch eleganter ist die Verwendung des **Context Manager** von Python mit dem `with` Befehl. Eine innerhalb von einem **with** Block geöffnete Datei wird von Python automatisch geschlossen, unabhängig davon, ob eine Exception aufgetreten ist oder nicht.\n",
    "\n",
    "```python\n",
    "with open('hello.txt', 'w', encoding='utf-8') as f:\n",
    "    f.write('Hello World\\n')\n",
    "```\n"
   ],
   "id": "131cc75d5abac16"
  },
  {
   "cell_type": "markdown",
   "metadata": {},
   "source": [
    "## read, readLine, readLines\n",
    "\n",
    "Mit den read Befehlen kann der Inhalt einer Datei gelesen werden.\n"
   ],
   "id": "5f2899cb344780df"
  },
  {
   "metadata": {
    "ExecuteTime": {
     "end_time": "2025-09-03T16:49:05.917694Z",
     "start_time": "2025-09-03T16:49:05.911627Z"
    }
   },
   "cell_type": "code",
   "source": [
    "file = \"lesson40_files_hello.txt\""
   ],
   "id": "c0b9072d78df46bf",
   "outputs": [],
   "execution_count": 2
  },
  {
   "cell_type": "code",
   "metadata": {
    "ExecuteTime": {
     "end_time": "2025-09-03T16:49:21.384425Z",
     "start_time": "2025-09-03T16:49:21.368837Z"
    }
   },
   "source": [
    "with open(file, 'r', encoding='utf-8') as f:\n",
    "    content = f.read()\n",
    "    print(content)"
   ],
   "id": "1012e78ce9550b6e",
   "outputs": [
    {
     "name": "stdout",
     "output_type": "stream",
     "text": [
      "Hello\n",
      "Word\n"
     ]
    }
   ],
   "execution_count": 4
  },
  {
   "metadata": {
    "ExecuteTime": {
     "end_time": "2025-09-03T16:50:36.704088Z",
     "start_time": "2025-09-03T16:50:36.699135Z"
    }
   },
   "cell_type": "code",
   "source": [
    "with open(file, 'r', encoding='utf-8') as f:\n",
    "    line1 = f.readline()\n",
    "    print('Zeile 1:', line1)"
   ],
   "id": "c1d0541f6bdf62ed",
   "outputs": [
    {
     "name": "stdout",
     "output_type": "stream",
     "text": [
      "Zeile 1: Hello\n",
      "\n"
     ]
    }
   ],
   "execution_count": 6
  },
  {
   "metadata": {
    "ExecuteTime": {
     "end_time": "2025-09-03T16:50:55.205467Z",
     "start_time": "2025-09-03T16:50:55.189561Z"
    }
   },
   "cell_type": "code",
   "source": [
    "with open(file, 'r', encoding='utf-8') as f:\n",
    "    lines = f.readlines()\n",
    "    print('Anzahl Zeilen:', len(lines))\n"
   ],
   "id": "14153460a565d962",
   "outputs": [
    {
     "name": "stdout",
     "output_type": "stream",
     "text": [
      "Anzahl Zeilen: 2\n"
     ]
    }
   ],
   "execution_count": 8
  },
  {
   "cell_type": "markdown",
   "metadata": {},
   "source": [
    "## write, writeLines\n",
    "\n",
    "Schreibe Strings mit write() und mehrere Zeilen mit writelines()."
   ],
   "id": "8e84ffde4c13dad3"
  },
  {
   "cell_type": "code",
   "metadata": {
    "ExecuteTime": {
     "end_time": "2025-09-03T16:54:54.526512Z",
     "start_time": "2025-09-03T16:54:54.510457Z"
    }
   },
   "source": [
    "city_file = \"lesson40_files_cities.txt\"\n",
    "\n",
    "cities = ['Bern', 'Zürich', 'Basel']\n",
    "\n",
    "with open(city_file, 'w', encoding='utf-8') as f:\n",
    "    f.write('Städte:\\n')\n",
    "\n",
    "\n",
    "with open(city_file, 'a', encoding='utf-8') as f:\n",
    "    f.writelines([city + '\\n' for city in cities])\n",
    "\n",
    "\n",
    "with open(city_file, 'r', encoding='utf-8') as f:\n",
    "    print(f.read())"
   ],
   "id": "abe1f80cfeb8341",
   "outputs": [
    {
     "name": "stdout",
     "output_type": "stream",
     "text": [
      "Städte:\n",
      "Bern\n",
      "Zürich\n",
      "Basel\n",
      "\n"
     ]
    }
   ],
   "execution_count": 10
  },
  {
   "cell_type": "markdown",
   "metadata": {},
   "source": [
    "## read/write csv\n",
    "\n",
    "**Python csv Modul**\n",
    "\n",
    "Zum Lesen und Schreiben von CSV Dateien stellt **Python das Modul `csv`** zur Verfügung. Ein Beispiel dazu findet man unter [File Beispiele](https://github.com/iten-engineering/python/blob/main/example/04-file/file.py). \n",
    "\n",
    "**Pandas Framework**\n",
    "\n",
    "Noch einfacher ist die Verwendung des **Pandas Framework**. Mit diesem kann eine CSV Datei direkt in ein Pandas DataFrame eingelesen werden. Die DataFrame Klasse von Pandas ist ähnlich wie das DataFrame von R und bietet viele verscheidene Funktionen zum arbeiten mit 2-dimensionalen Daten. "
   ],
   "id": "b05b76dad10511b4"
  },
  {
   "cell_type": "code",
   "metadata": {
    "ExecuteTime": {
     "end_time": "2025-09-03T17:08:02.032240Z",
     "start_time": "2025-09-03T17:08:00.277627Z"
    }
   },
   "source": [
    "import pandas as pd # Verwenden Sie den \"Python Pyodide\" Kernel\n",
    "\n",
    "books_file = \"lesson40_files_books.csv\"\n",
    "\n",
    "df = pd.read_csv(books_file, encoding='utf-8')\n",
    "print(df)"
   ],
   "id": "c5f28990199f813f",
   "outputs": [
    {
     "name": "stdout",
     "output_type": "stream",
     "text": [
      "                ISBN                        Title           Author  \\\n",
      "0  978-0-316-45742-2   The Coast-To-Coast Murders  James Patterson   \n",
      "1  978-0-525-95498-9  The Evening and the Morning      Ken Follett   \n",
      "2  978-1-250-14523-9      All the Devils Are Here     Louise Penny   \n",
      "\n",
      "          Publisher  \n",
      "0  Little Brown USA  \n",
      "1    Penguin LCC US  \n",
      "2     Macmillan USA  \n"
     ]
    }
   ],
   "execution_count": 11
  },
  {
   "cell_type": "markdown",
   "metadata": {},
   "source": [
    "> Pandas unterstützt **viele weitere Dateiformate**, so zum Beispiel Excel, Json, Parquet, etc. Mehr von Pandas lernen wir im Kapitel **Data Science Libraries** kennen.\n"
   ],
   "id": "e41b68d7a9385d0f"
  },
  {
   "cell_type": "markdown",
   "metadata": {},
   "source": [
    "## read/write objects \n",
    "\n",
    "Neben Text basierten Formaten kennt Python auch einen Binärmodus für Bytes. Dazu wird der Modus beim open Befehl mit einem `b` für binary ergänzt:\n",
    "- `\"rb\"` read binary\n",
    "- `\"wb\"` write binary\n",
    "- `\"ab\"` append binary\n",
    "\n",
    "\n",
    "**Pickle**\n",
    "\n",
    "Mit dem `pickle` Modul von Python können Objekte binär serialisiert und gespeichert werden. Ein so abgespeichertes Objekt kann dann wieder gelesen und deserialisiert werden. \n",
    "\n",
    "Beachte: Das Format wird u.a. auch verwendet um **trainierte Machine Learning Modelle** zu speichern.\n"
   ],
   "id": "99c527f1c54a0129"
  },
  {
   "cell_type": "code",
   "metadata": {
    "ExecuteTime": {
     "end_time": "2025-09-03T20:41:12.118795Z",
     "start_time": "2025-09-03T20:41:12.102754Z"
    }
   },
   "source": [
    "import pickle\n",
    "\n",
    "object_file = \"lesson40_files_object.pkl\"\n",
    "\n",
    "d = {1:2, \"k\":[1,2,3], \"fun\":print}\n",
    "print(d)\n",
    "\n",
    "with open(object_file, \"wb\") as fout:       # open file for write-binary\n",
    "    pickle.dump(d, fout)                    # dump pickle file\n",
    "\n",
    "with open(object_file, \"rb\") as fin:        # open file for read-binary\n",
    "    d2 = pickle.load(fin)                   # load pickle file\n",
    "\n",
    "print(d2)"
   ],
   "id": "ba2c6e4f2a2be059",
   "outputs": [
    {
     "name": "stdout",
     "output_type": "stream",
     "text": [
      "{1: 2, 'k': [1, 2, 3], 'fun': <built-in function print>}\n",
      "{1: 2, 'k': [1, 2, 3], 'fun': <built-in function print>}\n"
     ]
    }
   ],
   "execution_count": 1
  },
  {
   "cell_type": "markdown",
   "metadata": {},
   "source": [
    "# Aufgaben"
   ],
   "id": "cdf5d25beaefbbee"
  },
  {
   "metadata": {},
   "cell_type": "markdown",
   "source": [
    "## Names\n",
    "\n",
    "1. Lesen Sie die Textdatei `lesson40_files_names.txt` ein.\n",
    "   Diese enthält Vornamen in der folgenden Form:\n",
    "   ```\n",
    "   Elias\n",
    "   Theo\n",
    "   ...\n",
    "   Ida\n",
    "   Anna\n",
    "   ```\n",
    "\n",
    "2. Sortieren Sie die Vornamen alphabetisch.\n",
    "\n",
    "3. Speichern Sie die sortierten Namen in der Datei `lab41-files-names-sorted.txt` ab.\n",
    "   ```\n",
    "   Anna\n",
    "   Anton\n",
    "   ...\n",
    "   Sarah\n",
    "   Theo\n",
    "   ```"
   ],
   "id": "5409c7ef88d6d3d9"
  },
  {
   "metadata": {
    "ExecuteTime": {
     "end_time": "2025-09-03T20:49:14.830719Z",
     "start_time": "2025-09-03T20:49:14.817096Z"
    }
   },
   "cell_type": "code",
   "source": [
    "names_file = \"lesson40_files_names.txt\"\n",
    "sorted_names_file = \"lesson40_files_names_sorted.txt\""
   ],
   "id": "2eb039afe75dd695",
   "outputs": [],
   "execution_count": 2
  },
  {
   "metadata": {
    "ExecuteTime": {
     "end_time": "2025-09-03T20:49:16.922633Z",
     "start_time": "2025-09-03T20:49:16.906921Z"
    }
   },
   "cell_type": "code",
   "source": [
    "NEW_LINE = \"\\n\"\n",
    "\n",
    "with open(names_file, \"r\") as f:\n",
    "    names = f.read().splitlines()\n",
    "\n",
    "names.sort()\n",
    "print(names)\n",
    "\n",
    "with open(sorted_names_file, \"w\") as f:\n",
    "    for name in names:\n",
    "        f.write(name)\n",
    "        f.write(NEW_LINE)"
   ],
   "id": "8d6933eb3987832c",
   "outputs": [
    {
     "name": "stdout",
     "output_type": "stream",
     "text": [
      "['Anna', 'Anton', 'Elias', 'Emil', 'Emilia', 'Felix', 'Ida', 'Jonas', 'Julia', 'Laura', 'Lena', 'Line', 'Linus', 'Paul', 'Sarah', 'Theo']\n"
     ]
    }
   ],
   "execution_count": 3
  },
  {
   "metadata": {},
   "cell_type": "markdown",
   "source": [
    "\n",
    "## Footprint \n",
    "\n",
    "Bei dieser Überung soll der globale Fussabdruck (Number of earth) der Schweiz eingelesen und visualisiert werden. Öffnen sie dazu das Notebook **lesson41_lab_footprint.ipynb** und folgen sie den Anweisungen."
   ],
   "id": "140c8d4eafcfdde7"
  }
 ],
 "metadata": {
  "kernelspec": {
   "display_name": "Python 3",
   "language": "python",
   "name": "python3"
  },
  "language_info": {
   "name": "python",
   "version": "3.11"
  }
 },
 "nbformat": 4,
 "nbformat_minor": 5
}
