{
 "cells": [
  {
   "cell_type": "markdown",
   "source": [
    "# Operatoren, Variablen, Kommentare und Hilfe\n",
    "\n"
   ],
   "metadata": {
    "collapsed": false
   }
  },
  {
   "cell_type": "markdown",
   "id": "1858737f",
   "metadata": {},
   "source": [
    "## Operatoren\n",
    "\n",
    "### Kategorien\n",
    "\n",
    "In Python gibt es mehrere Kategorien von Operatoren, darunter:\n",
    "\n",
    "- Arithmetic Operators\n",
    "- Comparison (Relational) Operators\n",
    "- Assignment Operators\n",
    "- Logical Operators\n",
    "- Bitwise Operators\n",
    "- Membership Operators\n",
    "- Identity Operators\n"
   ]
  },
  {
   "cell_type": "markdown",
   "source": [
    "### Übersicht\n",
    "\n",
    "| Operator             | Beschreibung                      | Beispiel  | Ergebnis  |\n",
    "|----------------------|-----------------------------------|-----------|-----------|\n",
    "| +x, -x               | Vorzeichen                        | -3            | -3        |\n",
    "| +, -                 | Addition, Subtraktion             | 10–3          | 7         |\n",
    "| *, /, %              | Multiplikation, Division, Rest    | 27 % 7        | 6         |\n",
    "| //                   | Ganzzahl Division                 | 7//2          | 3         |\n",
    "| **                   | Potenz                            | 10 ** 3       | 1000      |\n",
    "| +=, -=, *=, /=, **=  | Compound Operatoren               | x += 3        | x = x + 3 |\n",
    "| or, and, not         | Boolsches OR, AND, NOT            | True or False | True      |\n",
    "| in                   | Element in Menge                  | 1 in [0, 1]   | True      |\n",
    "| <, <=, >, >=, !=, == | Vergleichsoperatoren              | 2 >= 3        | False     |\n",
    "| is, is not           | Vergleich Objekte                 | y=x; x is y   | True      |\n",
    "| ¦, &, ^, ~x          | Bitweises OR, AND, XOR, NOT       | 6 ^ 3         | 4         |\n",
    "| <<, >>               | Shiftoperatoren                   | 6 << 2        | 2         |\n"
   ],
   "metadata": {
    "collapsed": false
   }
  },
  {
   "cell_type": "markdown",
   "source": [
    "### Beispiele"
   ],
   "metadata": {
    "collapsed": false
   }
  },
  {
   "cell_type": "markdown",
   "source": [
    "**Rest einer Division (%)**\n",
    "\n",
    "Mit dem `%` Operator, wird der Rest einer Division zurückgegeben.\n",
    "- Beispiel: `27 % 7` ergibt `6`, da `27 = 3*7 + 6`.\n",
    "- Bei einer Divison durch 2 ist der Rest entweder 0 (gerade Zahl) oder 1 (ungerade Zahl).\n"
   ],
   "metadata": {
    "collapsed": false
   }
  },
  {
   "cell_type": "code",
   "execution_count": 2,
   "outputs": [
    {
     "name": "stdout",
     "output_type": "stream",
     "text": [
      "Ist x (5) gerade? False\n"
     ]
    }
   ],
   "source": [
    "x = 5\n",
    "ist_gerade = (x % 2) == 0\n",
    "\n",
    "print(f\"Ist x ({x}) gerade? {ist_gerade}\")"
   ],
   "metadata": {
    "collapsed": false
   }
  },
  {
   "cell_type": "markdown",
   "source": [
    "**Boolsche Operatoren**\n",
    "\n",
    "- `and` → liefert nur True, wenn beide Bedingungen True sind.\n",
    "- `or`  → liefert True, wenn mindestens eine Bedingung True ist.\n",
    "- `not` → kehrt den Wahrheitswert um."
   ],
   "metadata": {
    "collapsed": false
   }
  },
  {
   "cell_type": "code",
   "execution_count": 4,
   "outputs": [
    {
     "name": "stdout",
     "output_type": "stream",
     "text": [
      "x and y: False\n",
      "x or y: True\n",
      "not x: False\n",
      "not y: True\n"
     ]
    }
   ],
   "source": [
    "x = True\n",
    "y = False\n",
    "\n",
    "# AND – beide müssen True sein\n",
    "print(\"x and y:\", x and y)\n",
    "\n",
    "# OR – mindestens einer muss True sein\n",
    "print(\"x or y:\", x or y)\n",
    "\n",
    "# NOT – negiert den Wert\n",
    "print(\"not x:\", not x)\n",
    "print(\"not y:\", not y)"
   ],
   "metadata": {
    "collapsed": false
   }
  },
  {
   "cell_type": "markdown",
   "source": [
    "### Rangfolge\n",
    "\n",
    "Die Rangfolge der Operatoren bestimmt die Reihenfolge, in der Operationen ausgewertet werden. Hier ist eine Übersicht der wichtigsten Operatoren von höchster zu niedrigster Priorität:\n",
    "\n",
    "1. Klammern ()\n",
    "2. Potenz **\n",
    "3. Vorzeichen +x, -x, ~x\n",
    "4. Multiplikation/Division *, /, //, %\n",
    "5. Addition/Subtraktion +, -\n",
    "6. Vergleiche <, <=, >, >=, ==, !=\n",
    "7. Logik-Operatoren not, and, or\n",
    "\n",
    "Weiter Details mit einer vollständigen Liste siehe [Operator precedence](https://docs.python.org/3/reference/expressions.html#operator-precedence) der Python Dokumentation."
   ],
   "metadata": {
    "collapsed": false
   }
  },
  {
   "cell_type": "code",
   "execution_count": 8,
   "outputs": [
    {
     "name": "stdout",
     "output_type": "stream",
     "text": [
      "ohne Klammern  3 + 2 * 4 = 11\n",
      "mit Klammern (3 + 2) * 4 = 20\n"
     ]
    }
   ],
   "source": [
    "# Ohne Klammern\n",
    "result1 = 3 + 2 * 4             # Multiplikation hat Vorrang vor Addition\n",
    "print(\"ohne Klammern  3 + 2 * 4 =\", result1)   # 11\n",
    "\n",
    "# Mit Klammern\n",
    "result2 = (3 + 2) * 4\n",
    "print(\"mit Klammern (3 + 2) * 4 =\", result2)  # 20"
   ],
   "metadata": {
    "collapsed": false
   }
  },
  {
   "cell_type": "markdown",
   "source": [],
   "metadata": {
    "collapsed": false
   }
  },
  {
   "cell_type": "markdown",
   "id": "0b0410d5",
   "metadata": {},
   "source": [
    "## Variablen"
   ]
  },
  {
   "cell_type": "markdown",
   "source": [],
   "metadata": {
    "collapsed": false
   }
  },
  {
   "cell_type": "markdown",
   "source": [
    "### Deklaration\n",
    "\n",
    "In Python muss man Variablen nicht vorher deklarieren. Sie entstehen automatisch, wenn man ihnen einen Wert zuweist."
   ],
   "metadata": {
    "collapsed": false
   }
  },
  {
   "cell_type": "code",
   "execution_count": 9,
   "outputs": [
    {
     "name": "stdout",
     "output_type": "stream",
     "text": [
      "10 Alice 3.14\n"
     ]
    }
   ],
   "source": [
    "x = 10\n",
    "name = \"Alice\"\n",
    "pi = 3.14\n",
    "\n",
    "print(x, name, pi)"
   ],
   "metadata": {
    "collapsed": false
   }
  },
  {
   "cell_type": "markdown",
   "source": [
    "### Statische vs. dynamische Typen\n",
    "\n",
    "- In **statisch typisierten** Sprachen (z. B. Java, C++) muss man den Datentyp einer Variablen vorab festlegen.\n",
    "  - Der Typ der Variablen bleibt dann unverändert.\n",
    "  - Nur der Wert der Variablen kann sich noch ändern.\n",
    "\n",
    "- In **dynamisch typisierten** Sprachen wie Python oder JavaScript wird der Typ zur Laufzeit bestimmt.\n",
    "  - Es erfolgt keine Typenangabe bei der Deklaration.\n",
    "  - Es kann sowohl der Wert als auch der Typ einer Variablen zur Laufzeit geändert werden."
   ],
   "metadata": {
    "collapsed": false
   }
  },
  {
   "cell_type": "code",
   "execution_count": 12,
   "outputs": [
    {
     "name": "stdout",
     "output_type": "stream",
     "text": [
      "42 <class 'int'>\n",
      "Hallo <class 'str'>\n"
     ]
    }
   ],
   "source": [
    "x = 42        # x ist int\n",
    "print(x, type(x))\n",
    "\n",
    "x = \"Hallo\"   # x ist jetzt str\n",
    "print(x, type(x))\n"
   ],
   "metadata": {
    "collapsed": false
   }
  },
  {
   "cell_type": "markdown",
   "source": [
    "### Dynamische Typenzuordnung\n",
    "\n",
    "Python erkennt den Typ automatisch anhand des zugewiesenen Werts."
   ],
   "metadata": {
    "collapsed": false
   }
  },
  {
   "cell_type": "code",
   "execution_count": 13,
   "outputs": [
    {
     "name": "stdout",
     "output_type": "stream",
     "text": [
      "<class 'int'> <class 'float'> <class 'str'> <class 'bool'>\n"
     ]
    }
   ],
   "source": [
    "a = 5          # int\n",
    "b = 3.14       # float\n",
    "c = \"Hello\"    # str\n",
    "d = True       # bool\n",
    "\n",
    "print(type(a), type(b), type(c), type(d))"
   ],
   "metadata": {
    "collapsed": false
   }
  },
  {
   "cell_type": "markdown",
   "source": [
    "### Datentypen\n",
    "\n",
    "In Python sind folgende grundlegende Datentypen definiert:\n",
    "\n",
    "| Typ      | Klasse                                            |\n",
    "|----------|---------------------------------------------------|\n",
    "| Text     | str (Zeichenkette)                                |\n",
    "| Numeric  | int (Ganzzahl), float (Fliesskomazahlen), complex |\n",
    "| Boolean  | bool                                              |\n",
    "| Sequence | list, tuple, range                                |\n",
    "| Set      | set, frozenset                                    |\n",
    "| Map      | dict (Schlüssel/Werte Paare)                      |\n",
    "| Binary   | bytes, bytearray, memoryview                      |"
   ],
   "metadata": {
    "collapsed": false
   }
  },
  {
   "cell_type": "code",
   "execution_count": 15,
   "outputs": [
    {
     "name": "stdout",
     "output_type": "stream",
     "text": [
      "[1, 2, 3, 4, 5] <class 'list'>\n"
     ]
    }
   ],
   "source": [
    "numbers = [1, 2, 3, 4, 5]        # list\n",
    "print(numbers, type(numbers))"
   ],
   "metadata": {
    "collapsed": false
   }
  },
  {
   "cell_type": "markdown",
   "source": [
    "### Casting\n",
    "\n",
    "Mit Casting kann man Variablen in einen anderen Typ umwandeln."
   ],
   "metadata": {
    "collapsed": false
   }
  },
  {
   "cell_type": "code",
   "execution_count": 16,
   "outputs": [
    {
     "name": "stdout",
     "output_type": "stream",
     "text": [
      "<class 'str'> <class 'int'> <class 'float'>\n"
     ]
    }
   ],
   "source": [
    "x = \"123\"\n",
    "y = int(x)        # String -> int\n",
    "z = float(x)      # String -> float\n",
    "\n",
    "print(type(x), type(y), type(z))\n"
   ],
   "metadata": {
    "collapsed": false
   }
  },
  {
   "cell_type": "markdown",
   "source": [
    "**Vorsicht: Es können auch Daten verloren gehen!**"
   ],
   "metadata": {
    "collapsed": false
   }
  },
  {
   "cell_type": "code",
   "execution_count": 17,
   "outputs": [
    {
     "name": "stdout",
     "output_type": "stream",
     "text": [
      "3\n"
     ]
    }
   ],
   "source": [
    "x = 3.99\n",
    "y = int(x)        # float -> int (Nachkommastellen gehen verloren)\n",
    "print(y)"
   ],
   "metadata": {
    "collapsed": false
   }
  },
  {
   "cell_type": "markdown",
   "source": [
    "**Vorsicht: Es kann auch Fehler geben!**"
   ],
   "metadata": {
    "collapsed": false
   }
  },
  {
   "cell_type": "code",
   "execution_count": 18,
   "outputs": [
    {
     "name": "stdout",
     "output_type": "stream",
     "text": [
      "12.5\n"
     ]
    }
   ],
   "source": [
    "value = \"12.5\"\n",
    "x = float(value)  # Funktioniert\n",
    "print(x)"
   ],
   "metadata": {
    "collapsed": false
   }
  },
  {
   "cell_type": "code",
   "execution_count": 19,
   "outputs": [
    {
     "ename": "ValueError",
     "evalue": "could not convert string to float: '12,5'",
     "output_type": "error",
     "traceback": [
      "\u001B[1;31m---------------------------------------------------------------------------\u001B[0m",
      "\u001B[1;31mValueError\u001B[0m                                Traceback (most recent call last)",
      "Cell \u001B[1;32mIn[19], line 2\u001B[0m\n\u001B[0;32m      1\u001B[0m value \u001B[38;5;241m=\u001B[39m \u001B[38;5;124m\"\u001B[39m\u001B[38;5;124m12,5\u001B[39m\u001B[38;5;124m\"\u001B[39m\n\u001B[1;32m----> 2\u001B[0m x \u001B[38;5;241m=\u001B[39m \u001B[38;5;28;43mfloat\u001B[39;49m\u001B[43m(\u001B[49m\u001B[43mvalue\u001B[49m\u001B[43m)\u001B[49m  \u001B[38;5;66;03m# Funktioniert nicht, da Komma kein Dezimaltrennzeichen ist\u001B[39;00m\n\u001B[0;32m      3\u001B[0m \u001B[38;5;28mprint\u001B[39m(x)\n",
      "\u001B[1;31mValueError\u001B[0m: could not convert string to float: '12,5'"
     ]
    }
   ],
   "source": [
    "value = \"12,5\"\n",
    "x = float(value)  # Funktioniert nicht, da Komma kein Dezimaltrennzeichen ist\n",
    "print(x)"
   ],
   "metadata": {
    "collapsed": false
   }
  },
  {
   "cell_type": "markdown",
   "source": [
    "### Variablen-Namen (Regeln)\n",
    "\n",
    "Folgende Regeln gelten für Variablen-Namen in Python:\n",
    "- Dürfen Buchstaben, Ziffern und Unterstrich enthalten.\n",
    "- Müssen mit einem Buchstaben oder Unterstrich beginnen.\n",
    "- Keine Sonderzeichen, keine Leerzeichen.\n",
    "- Keine Reservierter Wörter (z. B. `if`, `for`, `while`, `def`, etc.).\n",
    "\n",
    "> Beachte: Python unterscheidet zwischen Groß- und Kleinschreibung."
   ],
   "metadata": {
    "collapsed": false
   }
  },
  {
   "cell_type": "code",
   "execution_count": 23,
   "outputs": [],
   "source": [
    "# Gültige Variablen-Namen\n",
    "name = \"Alice\"\n",
    "_age = 25\n",
    "task7 = \"Check balance\"\n",
    "\n",
    "# Ungültige Variablen-Namen (auskommentiert, da sie Fehler verursachen)\n",
    "# 2nd_place = \"Bob\"      # Beginnt mit Ziffer\n",
    "# first-name = \"Charlie\" # Enthält Sonderzeichen"
   ],
   "metadata": {
    "collapsed": false
   }
  },
  {
   "cell_type": "markdown",
   "source": [
    "### Reservierte Wörter\n",
    "\n",
    "Python hat bestimmte Schlüsselwörter, die nicht als Variablennamen verwendet werden dürfen."
   ],
   "metadata": {
    "collapsed": false
   }
  },
  {
   "cell_type": "code",
   "execution_count": 21,
   "outputs": [
    {
     "name": "stdout",
     "output_type": "stream",
     "text": [
      "['False', 'None', 'True', 'and', 'as', 'assert', 'async', 'await', 'break', 'class', 'continue', 'def', 'del', 'elif', 'else', 'except', 'finally', 'for', 'from', 'global', 'if', 'import', 'in', 'is', 'lambda', 'nonlocal', 'not', 'or', 'pass', 'raise', 'return', 'try', 'while', 'with', 'yield']\n"
     ]
    }
   ],
   "source": [
    "import keyword\n",
    "\n",
    "print(keyword.kwlist)"
   ],
   "metadata": {
    "collapsed": false
   }
  },
  {
   "cell_type": "markdown",
   "source": [
    "### Namenskonventionen\n",
    "\n",
    "In Python gibt es keine strengen Regeln für Variablennamen, aber die Community folgt gewissen Konventionen (PEP 8):\n",
    "\n",
    "- snake_case → wird für Variablen- und Funktionsnamen verwendet\n",
    "- CamelCase → wird für Klassen-Namen verwendet\n",
    "- UPPER_CASE → wird für Konstanten verwendet"
   ],
   "metadata": {
    "collapsed": false
   }
  },
  {
   "cell_type": "code",
   "execution_count": 22,
   "outputs": [],
   "source": [
    "# Variablen (snake_case)\n",
    "user_name = \"Alice\"\n",
    "max_value = 100\n",
    "\n",
    "# Funktionen (snake_case)\n",
    "def calculate_sum(a, b):\n",
    "    return a + b\n",
    "\n",
    "# Klassen (CamelCase)\n",
    "class MyClass:\n",
    "    pass\n",
    "\n",
    "# Konstanten (UPPER_CASE)\n",
    "PI = 3.14159"
   ],
   "metadata": {
    "collapsed": false
   }
  },
  {
   "cell_type": "markdown",
   "source": [
    "## Kommentare"
   ],
   "metadata": {
    "collapsed": false
   }
  },
  {
   "cell_type": "markdown",
   "source": [
    "### Einzeilig\n",
    "\n",
    "Ab dem Kommentarzeichen `#` wird der Rest der Zeile als Kommentar betrachtet."
   ],
   "metadata": {
    "collapsed": false
   }
  },
  {
   "cell_type": "code",
   "execution_count": 24,
   "outputs": [
    {
     "name": "stdout",
     "output_type": "stream",
     "text": [
      "7\n"
     ]
    }
   ],
   "source": [
    "# Dies ist ein Kommentar\n",
    "\n",
    "x = 7          # Kommentar hinter einer Zeile\n",
    "print(x)       # Kommentar hinter einer Zeile"
   ],
   "metadata": {
    "collapsed": false
   }
  },
  {
   "cell_type": "markdown",
   "source": [
    "## Mehrzeilige Kommentare\n",
    "\n",
    "Mehrzeilige Kommentare können mit 3 doppelten oder 3 einfachen Anführungszeichen erstellt werden."
   ],
   "metadata": {
    "collapsed": false
   }
  },
  {
   "cell_type": "code",
   "execution_count": 29,
   "outputs": [
    {
     "name": "stdout",
     "output_type": "stream",
     "text": [
      "\n"
     ]
    }
   ],
   "source": [
    "\"\"\"Hello World\n",
    "This is a multi-line comment\n",
    "\"\"\"\n",
    "\n",
    "print()"
   ],
   "metadata": {
    "collapsed": false
   }
  },
  {
   "cell_type": "markdown",
   "source": [
    "## Hilfe\n",
    "\n",
    "In Python gibt es mehrere Möglichkeiten, Hilfe zu Funktionen, Klassen oder Modulen zu erhalten."
   ],
   "metadata": {
    "collapsed": false
   }
  },
  {
   "cell_type": "markdown",
   "source": [
    "### help"
   ],
   "metadata": {
    "collapsed": false
   }
  },
  {
   "cell_type": "code",
   "execution_count": 33,
   "outputs": [
    {
     "name": "stdout",
     "output_type": "stream",
     "text": [
      "Help on built-in function abs in module builtins:\n",
      "\n",
      "abs(x, /)\n",
      "    Return the absolute value of the argument.\n",
      "\n"
     ]
    }
   ],
   "source": [
    "help(abs)           # show help of this object / function"
   ],
   "metadata": {
    "collapsed": false
   }
  },
  {
   "cell_type": "markdown",
   "source": [
    "### type"
   ],
   "metadata": {
    "collapsed": false
   }
  },
  {
   "cell_type": "code",
   "execution_count": 34,
   "outputs": [
    {
     "name": "stdout",
     "output_type": "stream",
     "text": [
      "<class 'int'>\n"
     ]
    }
   ],
   "source": [
    "x = 55\n",
    "print(type(x))    # show the type of an object"
   ],
   "metadata": {
    "collapsed": false
   }
  },
  {
   "cell_type": "markdown",
   "source": [
    "### dir"
   ],
   "metadata": {
    "collapsed": false
   }
  },
  {
   "cell_type": "code",
   "execution_count": 35,
   "outputs": [
    {
     "data": {
      "text/plain": "['In',\n 'MyClass',\n 'Out',\n 'PI',\n '_',\n '_25',\n '_28',\n '__',\n '___',\n '__builtin__',\n '__builtins__',\n '__doc__',\n '__loader__',\n '__name__',\n '__package__',\n '__session__',\n '__spec__',\n '_age',\n '_dh',\n '_i',\n '_i1',\n '_i10',\n '_i11',\n '_i12',\n '_i13',\n '_i14',\n '_i15',\n '_i16',\n '_i17',\n '_i18',\n '_i19',\n '_i2',\n '_i20',\n '_i21',\n '_i22',\n '_i23',\n '_i24',\n '_i25',\n '_i26',\n '_i27',\n '_i28',\n '_i29',\n '_i3',\n '_i30',\n '_i31',\n '_i32',\n '_i33',\n '_i34',\n '_i35',\n '_i4',\n '_i5',\n '_i6',\n '_i7',\n '_i8',\n '_i9',\n '_ih',\n '_ii',\n '_iii',\n '_oh',\n 'a',\n 'b',\n 'c',\n 'calculate_sum',\n 'd',\n 'exit',\n 'flag',\n 'get_ipython',\n 'hello',\n 'ist_gerade',\n 'keyword',\n 'max_value',\n 'name',\n 'numbers',\n 'obj',\n 'open',\n 'pi',\n 'quit',\n 'result1',\n 'result2',\n 'task7',\n 'text',\n 'user_name',\n 'value',\n 'x',\n 'y',\n 'z']"
     },
     "execution_count": 35,
     "metadata": {},
     "output_type": "execute_result"
    }
   ],
   "source": [
    "dir()            # list all names in the current scope"
   ],
   "metadata": {
    "collapsed": false
   }
  },
  {
   "cell_type": "code",
   "execution_count": 36,
   "outputs": [
    {
     "data": {
      "text/plain": "['__add__',\n '__class__',\n '__contains__',\n '__delattr__',\n '__dir__',\n '__doc__',\n '__eq__',\n '__format__',\n '__ge__',\n '__getattribute__',\n '__getitem__',\n '__getnewargs__',\n '__gt__',\n '__hash__',\n '__init__',\n '__init_subclass__',\n '__iter__',\n '__le__',\n '__len__',\n '__lt__',\n '__mod__',\n '__mul__',\n '__ne__',\n '__new__',\n '__reduce__',\n '__reduce_ex__',\n '__repr__',\n '__rmod__',\n '__rmul__',\n '__setattr__',\n '__sizeof__',\n '__str__',\n '__subclasshook__',\n 'capitalize',\n 'casefold',\n 'center',\n 'count',\n 'encode',\n 'endswith',\n 'expandtabs',\n 'find',\n 'format',\n 'format_map',\n 'index',\n 'isalnum',\n 'isalpha',\n 'isascii',\n 'isdecimal',\n 'isdigit',\n 'isidentifier',\n 'islower',\n 'isnumeric',\n 'isprintable',\n 'isspace',\n 'istitle',\n 'isupper',\n 'join',\n 'ljust',\n 'lower',\n 'lstrip',\n 'maketrans',\n 'partition',\n 'removeprefix',\n 'removesuffix',\n 'replace',\n 'rfind',\n 'rindex',\n 'rjust',\n 'rpartition',\n 'rsplit',\n 'rstrip',\n 'split',\n 'splitlines',\n 'startswith',\n 'strip',\n 'swapcase',\n 'title',\n 'translate',\n 'upper',\n 'zfill']"
     },
     "execution_count": 36,
     "metadata": {},
     "output_type": "execute_result"
    }
   ],
   "source": [
    "message = \"Hello\"\n",
    "dir(message)   # list all attributes and methods of the object"
   ],
   "metadata": {
    "collapsed": false
   }
  },
  {
   "cell_type": "markdown",
   "source": [
    "### vars"
   ],
   "metadata": {
    "collapsed": false
   }
  },
  {
   "cell_type": "code",
   "execution_count": 41,
   "outputs": [
    {
     "data": {
      "text/plain": "mappingproxy({'__new__': <function complex.__new__(*args, **kwargs)>,\n              '__repr__': <slot wrapper '__repr__' of 'complex' objects>,\n              '__hash__': <slot wrapper '__hash__' of 'complex' objects>,\n              '__getattribute__': <slot wrapper '__getattribute__' of 'complex' objects>,\n              '__lt__': <slot wrapper '__lt__' of 'complex' objects>,\n              '__le__': <slot wrapper '__le__' of 'complex' objects>,\n              '__eq__': <slot wrapper '__eq__' of 'complex' objects>,\n              '__ne__': <slot wrapper '__ne__' of 'complex' objects>,\n              '__gt__': <slot wrapper '__gt__' of 'complex' objects>,\n              '__ge__': <slot wrapper '__ge__' of 'complex' objects>,\n              '__add__': <slot wrapper '__add__' of 'complex' objects>,\n              '__radd__': <slot wrapper '__radd__' of 'complex' objects>,\n              '__sub__': <slot wrapper '__sub__' of 'complex' objects>,\n              '__rsub__': <slot wrapper '__rsub__' of 'complex' objects>,\n              '__mul__': <slot wrapper '__mul__' of 'complex' objects>,\n              '__rmul__': <slot wrapper '__rmul__' of 'complex' objects>,\n              '__pow__': <slot wrapper '__pow__' of 'complex' objects>,\n              '__rpow__': <slot wrapper '__rpow__' of 'complex' objects>,\n              '__neg__': <slot wrapper '__neg__' of 'complex' objects>,\n              '__pos__': <slot wrapper '__pos__' of 'complex' objects>,\n              '__abs__': <slot wrapper '__abs__' of 'complex' objects>,\n              '__bool__': <slot wrapper '__bool__' of 'complex' objects>,\n              '__truediv__': <slot wrapper '__truediv__' of 'complex' objects>,\n              '__rtruediv__': <slot wrapper '__rtruediv__' of 'complex' objects>,\n              'conjugate': <method 'conjugate' of 'complex' objects>,\n              '__getnewargs__': <method '__getnewargs__' of 'complex' objects>,\n              '__format__': <method '__format__' of 'complex' objects>,\n              'real': <member 'real' of 'complex' objects>,\n              'imag': <member 'imag' of 'complex' objects>,\n              '__doc__': 'Create a complex number from a real part and an optional imaginary part.\\n\\nThis is equivalent to (real + imag*1j) where imag defaults to 0.'})"
     },
     "execution_count": 41,
     "metadata": {},
     "output_type": "execute_result"
    }
   ],
   "source": [
    "c = complex     # class\n",
    "vars(c)         # show attributes of class"
   ],
   "metadata": {
    "collapsed": false
   }
  },
  {
   "cell_type": "markdown",
   "source": [],
   "metadata": {
    "collapsed": false
   }
  },
  {
   "cell_type": "markdown",
   "source": [
    "# Aufgaben"
   ],
   "metadata": {
    "collapsed": false
   }
  },
  {
   "cell_type": "markdown",
   "source": [
    "### Rechteck\n",
    "- Definieren Sie 2 Variablen für die Länge und Breite.\n",
    "- Initialisieren Sie die Länge mit dem  Defaultwert 10 und die Breite mit dem Defaultwert 5.\n",
    "- Berechnen Sie den Umfang und die Fläche der Rechtecks und geben Sie die Resultate auf der Konsole aus.\n",
    "- Beispiel Ausgabe:\n",
    "  ```\n",
    "  Rechteck mit Länge 10 und Breite 5\n",
    "  - Umfang = 30\n",
    "  - Fläche = 50\n",
    "  ```"
   ],
   "metadata": {
    "collapsed": false
   }
  },
  {
   "cell_type": "code",
   "execution_count": 42,
   "outputs": [
    {
     "name": "stdout",
     "output_type": "stream",
     "text": [
      "Rechteck mit Länge 10 und Breite 5\n",
      "- Umfang = 30\n",
      "- Fläche = 50\n"
     ]
    }
   ],
   "source": [
    "l = 10\n",
    "b = 5\n",
    "\n",
    "umfang = 2 * (l+b)\n",
    "flaeche = l * b\n",
    "\n",
    "print(f\"Rechteck mit Länge {l} und Breite {b}\")\n",
    "print(\"- Umfang =\", umfang)\n",
    "print(\"- Fläche =\", flaeche)"
   ],
   "metadata": {
    "collapsed": false
   }
  },
  {
   "cell_type": "markdown",
   "source": [
    "### Fahrenheit\n",
    "\n",
    "- Lesen Sie von der Konsole die Temperatur in Fahrenheit ein. Dazu wird die Funktion `input()` verwendet.\n",
    "- Die eingelesene Zahl ist vom Typ String (str). Konvertieren Sie diese in eine Gleitkommazahl (float).\n",
    "- Berechnen Sie die Temperatur in Grad Celisus nach der Formel:\n",
    "  **celsius = 5 * (fahrenheit-32) / 9**\n",
    "- Geben Sie das Resultat auf der Konsole aus.\n",
    "- Beispiel Ausgabe:\n",
    "  ```\n",
    "  Temperatur in Fahrenheit = 75.2\n",
    "  Fahrenheit   = 75.2\n",
    "  Grad Celsius = 24.0\n",
    "  ```"
   ],
   "metadata": {
    "collapsed": false
   }
  },
  {
   "cell_type": "code",
   "execution_count": 43,
   "outputs": [],
   "source": [
    "value = input(\"Temperatur in  Fahrenheit = \")"
   ],
   "metadata": {
    "collapsed": false
   }
  },
  {
   "cell_type": "code",
   "execution_count": 44,
   "outputs": [
    {
     "name": "stdout",
     "output_type": "stream",
     "text": [
      "Fahrenheit   = 12.0\n",
      "Grad Celcius = -11.11111111111111\n"
     ]
    }
   ],
   "source": [
    "fahrenheit = float(value)\n",
    "celcius = 5 * (fahrenheit-32) / 9\n",
    "\n",
    "print(\"Fahrenheit   =\", fahrenheit)\n",
    "print(\"Grad Celcius =\", celcius)"
   ],
   "metadata": {
    "collapsed": false
   }
  }
 ],
 "metadata": {},
 "nbformat": 4,
 "nbformat_minor": 5
}
