{
 "cells": [
  {
   "metadata": {},
   "cell_type": "markdown",
   "source": [
    "# Pandas\n",
    "\n",
    "[Pandas](https://pandas.pydata.org/) is a fast, powerful, flexible and easy to use open source data analysis and manipulation tool, built on top of the Python programming language.\n",
    "\n",
    "Warum Pandas?\n",
    "- Pandas untersützt eine Vielzahl von Dateiformaten zum lesen und schreiben von Daten\n",
    "- Pandas bietet zwei Hauptstrukturen:\n",
    "  - Series (1D-Daten, ähnlich wie eine Spalte)\n",
    "  - DataFrame (2D-Tabelle, ähnlich wie Excel)\n",
    "- Ermöglicht schnelles Filtern, Gruppieren, Umformen und Visualisieren von Daten.\n",
    "- Das Pandas DataFrame (analog dem DataFrame in R) eignet sich hervorragend für das Arbeint mit 2 dimensonalen  Daten wie sie oft in CSV, Excel oder Datenbank Tabellen vorliegen. \n"
   ],
   "id": "38cc2f20f85312af"
  },
  {
   "metadata": {},
   "cell_type": "markdown",
   "source": "## Series (1 dimensionale Daten)",
   "id": "f238e4430966f948"
  },
  {
   "metadata": {
    "ExecuteTime": {
     "end_time": "2025-09-06T10:10:29.613729Z",
     "start_time": "2025-09-06T10:10:29.603247Z"
    }
   },
   "cell_type": "code",
   "source": [
    "import numpy as np\n",
    "import pandas as pd\n",
    "\n",
    "s1 = pd.Series([10, 20, 30])\n",
    "s2 = pd.Series([10, 20, 30], index=[\"a\", \"b\", \"c\"])\n",
    "\n",
    "print(\"Series s1:\")\n",
    "print(s1)\n",
    "\n",
    "print(\"Series s2 mit Index:\")\n",
    "print(s2)\n",
    "\n",
    "print(\"Zugriff s1 via Index:\", s1[1])\n",
    "print(\"Zugriff s2 mit Index:\", s2[\"b\"])\n"
   ],
   "id": "547acb030e6f1842",
   "outputs": [
    {
     "name": "stdout",
     "output_type": "stream",
     "text": [
      "Series s1:\n",
      "0    10\n",
      "1    20\n",
      "2    30\n",
      "dtype: int64\n",
      "Series s2 mit Index:\n",
      "a    10\n",
      "b    20\n",
      "c    30\n",
      "dtype: int64\n",
      "Zugriff s1 via Index: 20\n",
      "Zugriff s2 mit Index: 20\n"
     ]
    }
   ],
   "execution_count": 38
  },
  {
   "metadata": {},
   "cell_type": "markdown",
   "source": "## DataFrame (2 dimensionale Daten)",
   "id": "f817612835c4992c"
  },
  {
   "metadata": {
    "ExecuteTime": {
     "end_time": "2025-09-06T10:17:17.746579Z",
     "start_time": "2025-09-06T10:17:17.631979Z"
    }
   },
   "cell_type": "code",
   "source": [
    "data = {\n",
    "    \"Name\": [\"Anna\", \"Ben\", \"Clara\"],\n",
    "    \"Alter\": [23, 35, 29],\n",
    "    \"Stadt\": [\"Zürich\", \"Bern\", \"Basel\"]\n",
    "}\n",
    "df = pd.DataFrame(data)\n",
    "print(df)\n"
   ],
   "id": "46bbdf4e5a961b72",
   "outputs": [
    {
     "name": "stdout",
     "output_type": "stream",
     "text": [
      "    Name  Alter   Stadt\n",
      "0   Anna     23  Zürich\n",
      "1    Ben     35    Bern\n",
      "2  Clara     29   Basel\n"
     ]
    }
   ],
   "execution_count": 47
  },
  {
   "metadata": {},
   "cell_type": "markdown",
   "source": "",
   "id": "5a1496a4978ed881"
  },
  {
   "metadata": {},
   "cell_type": "markdown",
   "source": "### Spalte auswählen",
   "id": "a397c2ed5ae6ac9e"
  },
  {
   "metadata": {
    "ExecuteTime": {
     "end_time": "2025-09-06T10:17:19.597759Z",
     "start_time": "2025-09-06T10:17:19.587997Z"
    }
   },
   "cell_type": "code",
   "source": [
    "print(\"Namen:\")\n",
    "print(df[\"Name\"])"
   ],
   "id": "b1538f5ccf9cb3e2",
   "outputs": [
    {
     "name": "stdout",
     "output_type": "stream",
     "text": [
      "Namen:\n",
      "0     Anna\n",
      "1      Ben\n",
      "2    Clara\n",
      "Name: Name, dtype: object\n"
     ]
    }
   ],
   "execution_count": 48
  },
  {
   "metadata": {},
   "cell_type": "markdown",
   "source": "### Zeile per Position (iloc)",
   "id": "8017dad0d580f490"
  },
  {
   "metadata": {
    "ExecuteTime": {
     "end_time": "2025-09-06T10:21:00.214157Z",
     "start_time": "2025-09-06T10:21:00.207385Z"
    }
   },
   "cell_type": "code",
   "source": [
    "print(\"Erste Zeile:\") \n",
    "print(df.iloc[0])"
   ],
   "id": "80fd8c7e2200f5bf",
   "outputs": [
    {
     "name": "stdout",
     "output_type": "stream",
     "text": [
      "Erste Zeile:\n",
      "Name       Anna\n",
      "Alter        23\n",
      "Stadt    Zürich\n",
      "Name: 0, dtype: object\n"
     ]
    }
   ],
   "execution_count": 56
  },
  {
   "metadata": {},
   "cell_type": "markdown",
   "source": "### Zeile per Index (loc)",
   "id": "46229869b9ca2600"
  },
  {
   "metadata": {
    "ExecuteTime": {
     "end_time": "2025-09-06T10:20:51.631093Z",
     "start_time": "2025-09-06T10:20:51.617607Z"
    }
   },
   "cell_type": "code",
   "source": [
    "print(\"Zeile mit Index\") \n",
    "print(df.loc[2])\n"
   ],
   "id": "850cc55317d48cf",
   "outputs": [
    {
     "name": "stdout",
     "output_type": "stream",
     "text": [
      "Zeile mit Index\n",
      "Name     Clara\n",
      "Alter       29\n",
      "Stadt    Basel\n",
      "Name: 2, dtype: object\n"
     ]
    }
   ],
   "execution_count": 54
  },
  {
   "metadata": {},
   "cell_type": "markdown",
   "source": "## Filtern",
   "id": "beed5f0c2af11012"
  },
  {
   "metadata": {
    "ExecuteTime": {
     "end_time": "2025-09-06T09:29:34.964383Z",
     "start_time": "2025-09-06T09:29:34.955842Z"
    }
   },
   "cell_type": "code",
   "source": [
    "print(\"Alle Personen älter als 25:\")\n",
    "print(df[df[\"Alter\"] > 25])\n"
   ],
   "id": "60bb7e6bce07cc27",
   "outputs": [
    {
     "name": "stdout",
     "output_type": "stream",
     "text": [
      "Alle Personen älter als 25:\n",
      "    Name  Alter  Stadt\n",
      "1    Ben     35   Bern\n",
      "2  Clara     29  Basel\n"
     ]
    }
   ],
   "execution_count": 9
  },
  {
   "metadata": {},
   "cell_type": "markdown",
   "source": "## Spalte hinzufügen",
   "id": "bcd2490ec6ca3aab"
  },
  {
   "metadata": {
    "ExecuteTime": {
     "end_time": "2025-09-06T09:29:48.764214Z",
     "start_time": "2025-09-06T09:29:48.751070Z"
    }
   },
   "cell_type": "code",
   "source": [
    "df[\"Alter_in_10_Jahren\"] = df[\"Alter\"] + 10\n",
    "print(df)\n"
   ],
   "id": "bbc9b882f742ccd6",
   "outputs": [
    {
     "name": "stdout",
     "output_type": "stream",
     "text": [
      "    Name  Alter   Stadt  Alter_in_10_Jahren\n",
      "0   Anna     23  Zürich                  33\n",
      "1    Ben     35    Bern                  45\n",
      "2  Clara     29   Basel                  39\n"
     ]
    }
   ],
   "execution_count": 10
  },
  {
   "metadata": {},
   "cell_type": "markdown",
   "source": [
    "## Apply\n",
    "\n",
    "Mit apply kann eine Funktion auf jedes Element einer Serie oder eines DataFrame angewendet werden:"
   ],
   "id": "c296e303981dbc32"
  },
  {
   "metadata": {
    "ExecuteTime": {
     "end_time": "2025-09-06T10:24:55.297966Z",
     "start_time": "2025-09-06T10:24:55.286279Z"
    }
   },
   "cell_type": "code",
   "source": [
    "col_names = [\"A\", \"B\", \"C\"]\n",
    "row_names = [\"First\", \"Second\", \"Third\"]\n",
    "data = [[1, 2, 3],\n",
    "        [4, 5, 6],\n",
    "        [7, 8, 9]]\n",
    "df = pd.DataFrame(data, row_names, col_names)\n",
    "print(df)\n",
    "\n",
    "sqrt_df = df.apply(np.sqrt)\n",
    "print(sqrt_df)\n",
    "\n",
    "square_df = df.apply(lambda x: x ** 2)\n",
    "print(square_df)\n"
   ],
   "id": "3819c6b1dd8589a4",
   "outputs": [
    {
     "name": "stdout",
     "output_type": "stream",
     "text": [
      "        A  B  C\n",
      "First   1  2  3\n",
      "Second  4  5  6\n",
      "Third   7  8  9\n",
      "               A         B         C\n",
      "First   1.000000  1.414214  1.732051\n",
      "Second  2.000000  2.236068  2.449490\n",
      "Third   2.645751  2.828427  3.000000\n",
      "         A   B   C\n",
      "First    1   4   9\n",
      "Second  16  25  36\n",
      "Third   49  64  81\n"
     ]
    }
   ],
   "execution_count": 60
  },
  {
   "metadata": {},
   "cell_type": "markdown",
   "source": [
    "## GroupBy\n",
    "\n",
    "- Mit der groupby Methode werden Daten nach einer Spalte gruppiert\n",
    "- Man kann dann auf dem zurückgegebenen Objekt Funktionen pro Gruppe anwenden"
   ],
   "id": "293794197710fe84"
  },
  {
   "metadata": {
    "ExecuteTime": {
     "end_time": "2025-09-06T11:57:17.564502Z",
     "start_time": "2025-09-06T11:57:17.554477Z"
    }
   },
   "cell_type": "code",
   "source": [
    "col_names = [\"A\", \"B\"]\n",
    "data = [[1, 2],\n",
    "        [1, 4],\n",
    "        [2, 4],\n",
    "        [1, 2]]\n",
    "\n",
    "df = pd.DataFrame(data, columns=col_names)\n",
    "\n",
    "grouped = df.groupby(\"A\")   # 1: 2 4 2 : mean = 8/3 = 2.67\n",
    "                            # 2: 4     : mean = 4/1 = 4\n",
    "\n",
    "print(grouped.mean())\n"
   ],
   "id": "a9cdb0b47a9fb53c",
   "outputs": [
    {
     "name": "stdout",
     "output_type": "stream",
     "text": [
      "          B\n",
      "A          \n",
      "1  2.666667\n",
      "2  4.000000\n"
     ]
    }
   ],
   "execution_count": 23
  },
  {
   "metadata": {},
   "cell_type": "markdown",
   "source": "# Aufgaben",
   "id": "312a4418f794e8f8"
  },
  {
   "metadata": {},
   "cell_type": "markdown",
   "source": [
    "## Datenanalyse\n",
    "\n",
    "Datenanalyse mit Pandas.\n",
    "\n",
    "1. Erstelle ein Dictionary mit den Daten von 6 Personen:\n",
    "   - \"Name\" (z. B. Anna, Ben, Clara, David, Eva, Felix)\n",
    "   - \"Alter\" (Ganzzahlen zwischen 20 und 60)\n",
    "   - \"Stadt\" (z. B. Zürich, Bern, Basel, Luzern, Genf, Winterthur)\n",
    "   - \"Einkommen\" (Ganzzahlen zwischen 3000 und 9000)\n",
    "\n",
    "2. Wandle das Dictionary in einen **DataFrame** um.\n",
    "\n",
    "3. Führe folgende Analysen durch:\n",
    "   1. Zeige alle Personen über 30 Jahre.\n",
    "   2. Berechne das Durchschnittseinkommen aller Personen.\n",
    "   3. Finde die Person mit dem höchsten Einkommen.\n",
    "   4. Gruppiere die Daten nach \"Stadt\" und berechne das mittlere Einkommen pro Stadt."
   ],
   "id": "dfe027254bdb8268"
  },
  {
   "metadata": {
    "ExecuteTime": {
     "end_time": "2025-09-06T11:57:36.197668Z",
     "start_time": "2025-09-06T11:57:36.183902Z"
    }
   },
   "cell_type": "code",
   "source": [
    "import pandas as pd\n",
    "\n",
    "data = {\n",
    "    \"Name\": [\"Anna\", \"Ben\", \"Clara\", \"David\", \"Eva\", \"Felix\"],\n",
    "    \"Alter\": [23, 35, 29, 42, 31, 55],\n",
    "    \"Stadt\": [\"Zürich\", \"Bern\", \"Basel\", \"Zürich\", \"Genf\", \"Bern\"],\n",
    "    \"Einkommen\": [4500, 5200, 6100, 8000, 7200, 3900]\n",
    "}\n",
    "\n",
    "df = pd.DataFrame(data)\n",
    "print(df)"
   ],
   "id": "eb0ae5da9ac03cad",
   "outputs": [
    {
     "name": "stdout",
     "output_type": "stream",
     "text": [
      "    Name  Alter   Stadt  Einkommen\n",
      "0   Anna     23  Zürich       4500\n",
      "1    Ben     35    Bern       5200\n",
      "2  Clara     29   Basel       6100\n",
      "3  David     42  Zürich       8000\n",
      "4    Eva     31    Genf       7200\n",
      "5  Felix     55    Bern       3900\n"
     ]
    }
   ],
   "execution_count": 24
  },
  {
   "metadata": {
    "ExecuteTime": {
     "end_time": "2025-09-06T11:45:38.831148Z",
     "start_time": "2025-09-06T11:45:38.816865Z"
    }
   },
   "cell_type": "code",
   "source": [
    "print(\"Personen über 30 Jahre:\")\n",
    "print(df[df[\"Alter\"] > 30])"
   ],
   "id": "2692281adcb20553",
   "outputs": [
    {
     "name": "stdout",
     "output_type": "stream",
     "text": [
      "Personen über 30 Jahre:\n",
      "    Name  Alter   Stadt  Einkommen\n",
      "1    Ben     35    Bern       5200\n",
      "3  David     42  Zürich       8000\n",
      "4    Eva     31    Genf       7200\n",
      "5  Felix     55    Bern       3900\n"
     ]
    }
   ],
   "execution_count": 5
  },
  {
   "metadata": {
    "ExecuteTime": {
     "end_time": "2025-09-06T11:46:26.464591Z",
     "start_time": "2025-09-06T11:46:26.456339Z"
    }
   },
   "cell_type": "code",
   "source": [
    "# Durchschnittseinkommen\n",
    "print(\"Durchschnittseinkommen:\")\n",
    "print(df[\"Einkommen\"].mean())"
   ],
   "id": "36febd7ff9ffcf4d",
   "outputs": [
    {
     "name": "stdout",
     "output_type": "stream",
     "text": [
      "Durchschnittseinkommen:\n",
      "5816.666666666667\n"
     ]
    }
   ],
   "execution_count": 7
  },
  {
   "metadata": {
    "ExecuteTime": {
     "end_time": "2025-09-06T11:46:48.564420Z",
     "start_time": "2025-09-06T11:46:48.549121Z"
    }
   },
   "cell_type": "code",
   "source": [
    "print(\"Höchstes Einkommen:\")\n",
    "print(df[df[\"Einkommen\"] == df[\"Einkommen\"].max()])"
   ],
   "id": "1a6e1359d5bdb49b",
   "outputs": [
    {
     "name": "stdout",
     "output_type": "stream",
     "text": [
      "Höchstes Einkommen:\n",
      "    Name  Alter   Stadt  Einkommen\n",
      "3  David     42  Zürich       8000\n"
     ]
    }
   ],
   "execution_count": 8
  },
  {
   "metadata": {
    "ExecuteTime": {
     "end_time": "2025-09-06T11:54:40.369649Z",
     "start_time": "2025-09-06T11:54:40.359529Z"
    }
   },
   "cell_type": "code",
   "source": [
    "print(\"Mittleres Einkommen pro Stadt:\")\n",
    "print(df.groupby(\"Stadt\")[\"Einkommen\"].mean())"
   ],
   "id": "8fbc53dea6b1f55b",
   "outputs": [
    {
     "name": "stdout",
     "output_type": "stream",
     "text": [
      "Mittleres Einkommen pro Stadt:\n",
      "Stadt\n",
      "Basel     6100.0\n",
      "Bern      4550.0\n",
      "Genf      7200.0\n",
      "Zürich    6250.0\n",
      "Name: Einkommen, dtype: float64\n"
     ]
    }
   ],
   "execution_count": 19
  }
 ],
 "metadata": {
  "kernelspec": {
   "display_name": "Python 3",
   "language": "python",
   "name": "python3"
  },
  "language_info": {
   "name": "python",
   "version": "3.11"
  }
 },
 "nbformat": 4,
 "nbformat_minor": 5
}
