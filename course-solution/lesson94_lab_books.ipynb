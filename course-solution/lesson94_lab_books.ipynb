{
 "cells": [
  {
   "cell_type": "markdown",
   "metadata": {},
   "source": [
    "# Übung Books\n",
    "\n",
    "Mit dieser Übung vertiefen Sie Ihre Kenntnisse im Umgang mit Dateien und der Datenverarbeitung in Python mit dem `csv`-Modul.\n",
    "\n"
   ],
   "id": "faca7af10ae693b2"
  },
  {
   "cell_type": "markdown",
   "source": [
    "## Vorbereitung\n",
    "\n",
    "Zum Lesen und Schreiben von CSV Dateien stellt **Python das Modul `csv`** zur Verfügung. Schauen sie sich das Beispiel **read and write csv with standard libraries** unter [File Beispiele](https://github.com/iten-engineering/python/blob/main/example/04-file/file.py) an und machen Sie sich mit dem Modul vertraut.\n"
   ],
   "metadata": {
    "collapsed": false
   }
  },
  {
   "metadata": {},
   "cell_type": "markdown",
   "source": [
    "\n",
    "## Aufgabe\n",
    "\n",
    "- Lesen Sie die Textdatei `lesson91_lab_books.txt` ein.\n",
    "- Diese enthält Bücherdaten in der fogenden Form:\n",
    "  ```\n",
    "  ISBN\n",
    "  Title\n",
    "  Author\n",
    "  Publisher\n",
    "\n",
    "  978-0-316-45742-2\n",
    "  The Coast-To-Coast Murders\n",
    "  James Patterson\n",
    "  Little Brown USA\n",
    "\n",
    "  978-0-525-95498-9\n",
    "  ...\n",
    "  ```\n",
    "- Erstellen Sie nun eine Liste von Einträgen. Jeder Eintrag beinhaltet die Daten eines \"Blocks\" und ist\n",
    "  selber auch wieder eine Liste, wie nachfolgend dargestellt. \n",
    "  ```\n",
    "  ['ISBN', 'Title', 'Author', 'Publisher']\n",
    "  ['978-0-316-45742-2', 'The Coast-To-Coast Murders', 'James Patterson', 'Little Brown USA']\n",
    "  u.s.w.  \n",
    "  ```\n",
    "- Speichern sie die aufbereiteten Daten im CSV Format ab.\n",
    "- Beispiel `lesson91_lab_books.csv`:\n",
    "  ```\n",
    "  ISBN,Title,Author,Publisher\n",
    "  978-0-316-45742-2,The Coast-To-Coast Murders,James Patterson,Little Brown USA\n",
    "  978-0-525-95498-9,The Evening and the Morning,Ken Follett,Penguin LCC US\n",
    "  978-1-250-14523-9,All the Devils Are Here,Louise Penny,Macmillan USA\n",
    "  ```\n"
   ],
   "id": "f1eebebf28cc4938"
  },
  {
   "cell_type": "markdown",
   "source": [
    "## Lösung"
   ],
   "metadata": {
    "collapsed": false
   }
  },
  {
   "metadata": {
    "ExecuteTime": {
     "end_time": "2025-09-03T20:56:03.864229Z",
     "start_time": "2025-09-03T20:56:03.859248Z"
    }
   },
   "cell_type": "code",
   "source": [
    "\n",
    "import csv\n",
    "\n",
    "text_file = \"lesson94_lab_books.txt\"\n",
    "csv_file = \"lesson94_lab_books.csv\"\n"
   ],
   "id": "27a3649c84989d4a",
   "outputs": [],
   "execution_count": 1
  },
  {
   "metadata": {
    "ExecuteTime": {
     "end_time": "2025-09-03T20:56:17.869327Z",
     "start_time": "2025-09-03T20:56:17.859306Z"
    }
   },
   "cell_type": "code",
   "source": [
    "\n",
    "# Read file content and save line to a list of lines:\n",
    "with open(text_file, \"r\") as f:\n",
    "    lines = f.read().splitlines()       # get rid of '\\n´\n",
    "\n",
    "\n",
    "# Create list of book entries:\n",
    "# - Each book entry is a list of: ISBN, Title, Author and Publisher\n",
    "# - The first entry is the header line: ['ISBN', 'Title', 'Author', 'Publisher']\n",
    "# - The other entries are the books   : ['978-0-316-45742-2', 'The Coast-To-Coast Murders', 'James Patterson', 'Little Brown USA']\n",
    "books = []\n",
    "book  = []\n",
    "for line in lines:\n",
    "    if line.strip() == \"\":\n",
    "        books.append(book)\n",
    "        book = []\n",
    "    else:\n",
    "        book.append(line.strip())\n",
    "\n",
    "books.append(book)\n",
    "\n",
    "\n",
    "# Create CSV file with titles and data rows:\n",
    "titles = books[0]\n",
    "rows = books[1:]\n",
    "\n",
    "out_file = \"lab43_files_books.csv\"\n",
    "print(\"Write data to:\", out_file)\n",
    "print(\"Titles:\", titles)\n",
    "print(\"Rows  :\", rows)\n",
    "\n",
    "with open(csv_file, \"w\") as f:\n",
    "    writer = csv.writer(f)\n",
    "    writer.writerow(titles)\n",
    "    writer.writerows(rows)\n"
   ],
   "id": "44b2d94bf935f29a",
   "outputs": [
    {
     "name": "stdout",
     "output_type": "stream",
     "text": [
      "Write data to: lab43_files_books.csv\n",
      "Titles: ['ISBN', 'Title', 'Author', 'Publisher']\n",
      "Rows  : [['978-0-316-45742-2', 'The Coast-To-Coast Murders', 'James Patterson', 'Little Brown USA'], ['978-0-525-95498-9', 'The Evening and the Morning', 'Ken Follett', 'Penguin LCC US'], ['978-1-250-14523-9', 'All the Devils Are Here', 'Louise Penny', 'Macmillan USA']]\n"
     ]
    }
   ],
   "execution_count": 2
  }
 ],
 "metadata": {
  "kernelspec": {
   "display_name": "Python 3",
   "language": "python",
   "name": "python3"
  },
  "language_info": {
   "name": "python",
   "version": "3.11"
  }
 },
 "nbformat": 4,
 "nbformat_minor": 5
}
