{
 "metadata": {
  "kernelspec": {
   "name": "python3",
   "display_name": "Python 3 (ipykernel)",
   "language": "python"
  },
  "language_info": {
   "codemirror_mode": {
    "name": "python",
    "version": 3
   },
   "file_extension": ".py",
   "mimetype": "text/x-python",
   "name": "python",
   "nbconvert_exporter": "python",
   "pygments_lexer": "ipython3",
   "version": "3.8"
  }
 },
 "nbformat_minor": 5,
 "nbformat": 4,
 "cells": [
  {
   "id": "b6903620-52bc-41cd-9337-9761a2bfb7cd",
   "cell_type": "markdown",
   "source": [
    "# File Input/Output"
   ],
   "metadata": {}
  },
  {
   "id": "6389f4f3-42a2-4fe2-a4c3-d1803aa30d20",
   "cell_type": "markdown",
   "source": [
    "## Global Footprint\n",
    "\n",
    "Laden und Filtern von CSV Daten und Visualisiern als Line Chart mit Hilfe eines Notebooks.\n",
    "\n",
    "**Important**: \n",
    "Please use the **Python(Pyodide)** Kernel for the pandas usage."
   ],
   "metadata": {}
  },
  {
   "id": "4eb5600c-81f9-441e-8c8d-d9564fa47787",
   "cell_type": "markdown",
   "source": [
    "### 1. Daten analysieren\n",
    "\n",
    "Schauen Sie sich die Datei `lesson41_lab_number_of_earth.csv` an. \n",
    "> Die erste Spalte enthält die Länder, anschliessend folgt die Kennzahl **Number of Earth** pro Jahr ab 1961."
   ],
   "metadata": {}
  },
  {
   "id": "eaace158-866d-43e0-82a4-b95cc14f63b0",
   "cell_type": "markdown",
   "source": [
    "### 2. Import"
   ],
   "metadata": {}
  },
  {
   "id": "a617fbe3-5c32-4b7b-9a76-6f0f23e786c7",
   "cell_type": "code",
   "source": [
    "%matplotlib inline\n",
    "\n",
    "import pandas as pd\n",
    "import numpy as np\n",
    "import matplotlib.pyplot as plt"
   ],
   "metadata": {
    "trusted": true,
    "ExecuteTime": {
     "end_time": "2025-09-03T21:04:29.974383Z",
     "start_time": "2025-09-03T21:04:29.952551Z"
    }
   },
   "outputs": [],
   "execution_count": 3
  },
  {
   "id": "03663b5e-ca82-48e6-873f-58da513732a4",
   "cell_type": "markdown",
   "source": [
    "### 3. Daten lesen\n",
    "\n",
    "Lesen sie die CSV Datei mit den Pandas Befehle pd.read_csv(...) in ein DataFrame mit dem Variablen Namen df ein und geben Sie die ersten und letzten 5 Zeilen mit print(df.head(-10)) aus."
   ],
   "metadata": {}
  },
  {
   "id": "06a0b96b-f686-4065-a2d6-14a66b18d065",
   "cell_type": "code",
   "source": [
    "filename = \"lesson41_lab_number_of_earth.csv\"\n",
    "df = pd.read_csv(filename)\n",
    "\n",
    "df.head(-10)"
   ],
   "metadata": {
    "trusted": true,
    "ExecuteTime": {
     "end_time": "2025-09-03T21:04:30.005989Z",
     "start_time": "2025-09-03T21:04:29.975891Z"
    }
   },
   "outputs": [
    {
     "data": {
      "text/plain": [
       "                 Country      1961      1962      1963      1964      1965  \\\n",
       "0            Afghanistan  0.391414  0.380273  0.397965  0.412565  0.432671   \n",
       "1                Albania  0.613892  0.582744  0.561330  0.589303  0.603006   \n",
       "2                Algeria  0.235301  0.266320  0.243327  0.197049  0.214247   \n",
       "3                 Angola  0.262301  0.283289  0.292217  0.329528  0.317662   \n",
       "4    Antigua and Barbuda       NaN       NaN       NaN       NaN       NaN   \n",
       "..                   ...       ...       ...       ...       ...       ...   \n",
       "172              Tunisia  0.272473  0.286110  0.314882  0.309599  0.326991   \n",
       "173               Turkey  0.506643  0.513699  0.593499  0.538876  0.564075   \n",
       "174         Turkmenistan       NaN       NaN       NaN       NaN       NaN   \n",
       "175               Uganda  0.627798  0.617284  0.637654  0.642396  0.632233   \n",
       "176              Ukraine       NaN       NaN       NaN       NaN       NaN   \n",
       "\n",
       "         1966      1967      1968      1969  ...      2007      2008  \\\n",
       "0    0.411886  0.431161  0.434181  0.439681  ...  0.387349  0.375804   \n",
       "1    0.619737  0.608684  0.665995  0.722587  ...  1.240377  1.228072   \n",
       "2    0.182636  0.225264  0.247321  0.229215  ...  1.087865  1.140777   \n",
       "3    0.364794  0.347914  0.348944  0.386690  ...  0.446917  0.549546   \n",
       "4         NaN       NaN       NaN       NaN  ...  2.780307  2.658741   \n",
       "..        ...       ...       ...       ...  ...       ...       ...   \n",
       "172  0.285961  0.315512  0.312884  0.330395  ...  1.244757  1.199393   \n",
       "173  0.613950  0.631036  0.641492  0.686782  ...  1.876262  1.785895   \n",
       "174       NaN       NaN       NaN       NaN  ...  2.881997  3.005644   \n",
       "175  0.637773  0.684538  0.714882  0.752837  ...  0.836835  0.768428   \n",
       "176       NaN       NaN       NaN       NaN  ...  1.933826  2.170230   \n",
       "\n",
       "         2009      2010      2011      2012      2013      2014      2015  \\\n",
       "0    0.447980  0.463076  0.453720  0.467565  0.452789  0.453771  0.438842   \n",
       "1    1.275704  1.242300  1.383024  1.320816  1.282428  1.223504  1.264884   \n",
       "2    1.280560  1.245269  1.355178  1.433022  1.463711  1.492944  1.565077   \n",
       "3    0.665732  0.549480  0.592127  0.633154  0.810212  1.071131  0.705151   \n",
       "4    2.578972  2.937069  2.455889  2.581045  2.351881  2.426256  2.667824   \n",
       "..        ...       ...       ...       ...       ...       ...       ...   \n",
       "172  1.184313  1.275879  1.243519  1.355288  1.290514  1.313037  1.332305   \n",
       "173  1.760024  1.889969  2.004867  2.021763  1.955240  1.956166  2.032394   \n",
       "174  2.737339  3.081494  3.208103  3.222127  3.230866  3.244610  3.292159   \n",
       "175  0.765952  0.760339  0.747681  0.717655  0.696158  0.693985  0.661399   \n",
       "176  1.653107  1.873628  2.075720  1.720939  1.927088  1.648423  1.416618   \n",
       "\n",
       "         2016  \n",
       "0    0.445928  \n",
       "1    1.231971  \n",
       "2    1.477107  \n",
       "3    0.622516  \n",
       "4    2.657499  \n",
       "..        ...  \n",
       "172  1.346790  \n",
       "173  2.060118  \n",
       "174  3.263958  \n",
       "175  0.652271  \n",
       "176  1.784639  \n",
       "\n",
       "[177 rows x 57 columns]"
      ],
      "text/html": [
       "<div>\n",
       "<style scoped>\n",
       "    .dataframe tbody tr th:only-of-type {\n",
       "        vertical-align: middle;\n",
       "    }\n",
       "\n",
       "    .dataframe tbody tr th {\n",
       "        vertical-align: top;\n",
       "    }\n",
       "\n",
       "    .dataframe thead th {\n",
       "        text-align: right;\n",
       "    }\n",
       "</style>\n",
       "<table border=\"1\" class=\"dataframe\">\n",
       "  <thead>\n",
       "    <tr style=\"text-align: right;\">\n",
       "      <th></th>\n",
       "      <th>Country</th>\n",
       "      <th>1961</th>\n",
       "      <th>1962</th>\n",
       "      <th>1963</th>\n",
       "      <th>1964</th>\n",
       "      <th>1965</th>\n",
       "      <th>1966</th>\n",
       "      <th>1967</th>\n",
       "      <th>1968</th>\n",
       "      <th>1969</th>\n",
       "      <th>...</th>\n",
       "      <th>2007</th>\n",
       "      <th>2008</th>\n",
       "      <th>2009</th>\n",
       "      <th>2010</th>\n",
       "      <th>2011</th>\n",
       "      <th>2012</th>\n",
       "      <th>2013</th>\n",
       "      <th>2014</th>\n",
       "      <th>2015</th>\n",
       "      <th>2016</th>\n",
       "    </tr>\n",
       "  </thead>\n",
       "  <tbody>\n",
       "    <tr>\n",
       "      <th>0</th>\n",
       "      <td>Afghanistan</td>\n",
       "      <td>0.391414</td>\n",
       "      <td>0.380273</td>\n",
       "      <td>0.397965</td>\n",
       "      <td>0.412565</td>\n",
       "      <td>0.432671</td>\n",
       "      <td>0.411886</td>\n",
       "      <td>0.431161</td>\n",
       "      <td>0.434181</td>\n",
       "      <td>0.439681</td>\n",
       "      <td>...</td>\n",
       "      <td>0.387349</td>\n",
       "      <td>0.375804</td>\n",
       "      <td>0.447980</td>\n",
       "      <td>0.463076</td>\n",
       "      <td>0.453720</td>\n",
       "      <td>0.467565</td>\n",
       "      <td>0.452789</td>\n",
       "      <td>0.453771</td>\n",
       "      <td>0.438842</td>\n",
       "      <td>0.445928</td>\n",
       "    </tr>\n",
       "    <tr>\n",
       "      <th>1</th>\n",
       "      <td>Albania</td>\n",
       "      <td>0.613892</td>\n",
       "      <td>0.582744</td>\n",
       "      <td>0.561330</td>\n",
       "      <td>0.589303</td>\n",
       "      <td>0.603006</td>\n",
       "      <td>0.619737</td>\n",
       "      <td>0.608684</td>\n",
       "      <td>0.665995</td>\n",
       "      <td>0.722587</td>\n",
       "      <td>...</td>\n",
       "      <td>1.240377</td>\n",
       "      <td>1.228072</td>\n",
       "      <td>1.275704</td>\n",
       "      <td>1.242300</td>\n",
       "      <td>1.383024</td>\n",
       "      <td>1.320816</td>\n",
       "      <td>1.282428</td>\n",
       "      <td>1.223504</td>\n",
       "      <td>1.264884</td>\n",
       "      <td>1.231971</td>\n",
       "    </tr>\n",
       "    <tr>\n",
       "      <th>2</th>\n",
       "      <td>Algeria</td>\n",
       "      <td>0.235301</td>\n",
       "      <td>0.266320</td>\n",
       "      <td>0.243327</td>\n",
       "      <td>0.197049</td>\n",
       "      <td>0.214247</td>\n",
       "      <td>0.182636</td>\n",
       "      <td>0.225264</td>\n",
       "      <td>0.247321</td>\n",
       "      <td>0.229215</td>\n",
       "      <td>...</td>\n",
       "      <td>1.087865</td>\n",
       "      <td>1.140777</td>\n",
       "      <td>1.280560</td>\n",
       "      <td>1.245269</td>\n",
       "      <td>1.355178</td>\n",
       "      <td>1.433022</td>\n",
       "      <td>1.463711</td>\n",
       "      <td>1.492944</td>\n",
       "      <td>1.565077</td>\n",
       "      <td>1.477107</td>\n",
       "    </tr>\n",
       "    <tr>\n",
       "      <th>3</th>\n",
       "      <td>Angola</td>\n",
       "      <td>0.262301</td>\n",
       "      <td>0.283289</td>\n",
       "      <td>0.292217</td>\n",
       "      <td>0.329528</td>\n",
       "      <td>0.317662</td>\n",
       "      <td>0.364794</td>\n",
       "      <td>0.347914</td>\n",
       "      <td>0.348944</td>\n",
       "      <td>0.386690</td>\n",
       "      <td>...</td>\n",
       "      <td>0.446917</td>\n",
       "      <td>0.549546</td>\n",
       "      <td>0.665732</td>\n",
       "      <td>0.549480</td>\n",
       "      <td>0.592127</td>\n",
       "      <td>0.633154</td>\n",
       "      <td>0.810212</td>\n",
       "      <td>1.071131</td>\n",
       "      <td>0.705151</td>\n",
       "      <td>0.622516</td>\n",
       "    </tr>\n",
       "    <tr>\n",
       "      <th>4</th>\n",
       "      <td>Antigua and Barbuda</td>\n",
       "      <td>NaN</td>\n",
       "      <td>NaN</td>\n",
       "      <td>NaN</td>\n",
       "      <td>NaN</td>\n",
       "      <td>NaN</td>\n",
       "      <td>NaN</td>\n",
       "      <td>NaN</td>\n",
       "      <td>NaN</td>\n",
       "      <td>NaN</td>\n",
       "      <td>...</td>\n",
       "      <td>2.780307</td>\n",
       "      <td>2.658741</td>\n",
       "      <td>2.578972</td>\n",
       "      <td>2.937069</td>\n",
       "      <td>2.455889</td>\n",
       "      <td>2.581045</td>\n",
       "      <td>2.351881</td>\n",
       "      <td>2.426256</td>\n",
       "      <td>2.667824</td>\n",
       "      <td>2.657499</td>\n",
       "    </tr>\n",
       "    <tr>\n",
       "      <th>...</th>\n",
       "      <td>...</td>\n",
       "      <td>...</td>\n",
       "      <td>...</td>\n",
       "      <td>...</td>\n",
       "      <td>...</td>\n",
       "      <td>...</td>\n",
       "      <td>...</td>\n",
       "      <td>...</td>\n",
       "      <td>...</td>\n",
       "      <td>...</td>\n",
       "      <td>...</td>\n",
       "      <td>...</td>\n",
       "      <td>...</td>\n",
       "      <td>...</td>\n",
       "      <td>...</td>\n",
       "      <td>...</td>\n",
       "      <td>...</td>\n",
       "      <td>...</td>\n",
       "      <td>...</td>\n",
       "      <td>...</td>\n",
       "      <td>...</td>\n",
       "    </tr>\n",
       "    <tr>\n",
       "      <th>172</th>\n",
       "      <td>Tunisia</td>\n",
       "      <td>0.272473</td>\n",
       "      <td>0.286110</td>\n",
       "      <td>0.314882</td>\n",
       "      <td>0.309599</td>\n",
       "      <td>0.326991</td>\n",
       "      <td>0.285961</td>\n",
       "      <td>0.315512</td>\n",
       "      <td>0.312884</td>\n",
       "      <td>0.330395</td>\n",
       "      <td>...</td>\n",
       "      <td>1.244757</td>\n",
       "      <td>1.199393</td>\n",
       "      <td>1.184313</td>\n",
       "      <td>1.275879</td>\n",
       "      <td>1.243519</td>\n",
       "      <td>1.355288</td>\n",
       "      <td>1.290514</td>\n",
       "      <td>1.313037</td>\n",
       "      <td>1.332305</td>\n",
       "      <td>1.346790</td>\n",
       "    </tr>\n",
       "    <tr>\n",
       "      <th>173</th>\n",
       "      <td>Turkey</td>\n",
       "      <td>0.506643</td>\n",
       "      <td>0.513699</td>\n",
       "      <td>0.593499</td>\n",
       "      <td>0.538876</td>\n",
       "      <td>0.564075</td>\n",
       "      <td>0.613950</td>\n",
       "      <td>0.631036</td>\n",
       "      <td>0.641492</td>\n",
       "      <td>0.686782</td>\n",
       "      <td>...</td>\n",
       "      <td>1.876262</td>\n",
       "      <td>1.785895</td>\n",
       "      <td>1.760024</td>\n",
       "      <td>1.889969</td>\n",
       "      <td>2.004867</td>\n",
       "      <td>2.021763</td>\n",
       "      <td>1.955240</td>\n",
       "      <td>1.956166</td>\n",
       "      <td>2.032394</td>\n",
       "      <td>2.060118</td>\n",
       "    </tr>\n",
       "    <tr>\n",
       "      <th>174</th>\n",
       "      <td>Turkmenistan</td>\n",
       "      <td>NaN</td>\n",
       "      <td>NaN</td>\n",
       "      <td>NaN</td>\n",
       "      <td>NaN</td>\n",
       "      <td>NaN</td>\n",
       "      <td>NaN</td>\n",
       "      <td>NaN</td>\n",
       "      <td>NaN</td>\n",
       "      <td>NaN</td>\n",
       "      <td>...</td>\n",
       "      <td>2.881997</td>\n",
       "      <td>3.005644</td>\n",
       "      <td>2.737339</td>\n",
       "      <td>3.081494</td>\n",
       "      <td>3.208103</td>\n",
       "      <td>3.222127</td>\n",
       "      <td>3.230866</td>\n",
       "      <td>3.244610</td>\n",
       "      <td>3.292159</td>\n",
       "      <td>3.263958</td>\n",
       "    </tr>\n",
       "    <tr>\n",
       "      <th>175</th>\n",
       "      <td>Uganda</td>\n",
       "      <td>0.627798</td>\n",
       "      <td>0.617284</td>\n",
       "      <td>0.637654</td>\n",
       "      <td>0.642396</td>\n",
       "      <td>0.632233</td>\n",
       "      <td>0.637773</td>\n",
       "      <td>0.684538</td>\n",
       "      <td>0.714882</td>\n",
       "      <td>0.752837</td>\n",
       "      <td>...</td>\n",
       "      <td>0.836835</td>\n",
       "      <td>0.768428</td>\n",
       "      <td>0.765952</td>\n",
       "      <td>0.760339</td>\n",
       "      <td>0.747681</td>\n",
       "      <td>0.717655</td>\n",
       "      <td>0.696158</td>\n",
       "      <td>0.693985</td>\n",
       "      <td>0.661399</td>\n",
       "      <td>0.652271</td>\n",
       "    </tr>\n",
       "    <tr>\n",
       "      <th>176</th>\n",
       "      <td>Ukraine</td>\n",
       "      <td>NaN</td>\n",
       "      <td>NaN</td>\n",
       "      <td>NaN</td>\n",
       "      <td>NaN</td>\n",
       "      <td>NaN</td>\n",
       "      <td>NaN</td>\n",
       "      <td>NaN</td>\n",
       "      <td>NaN</td>\n",
       "      <td>NaN</td>\n",
       "      <td>...</td>\n",
       "      <td>1.933826</td>\n",
       "      <td>2.170230</td>\n",
       "      <td>1.653107</td>\n",
       "      <td>1.873628</td>\n",
       "      <td>2.075720</td>\n",
       "      <td>1.720939</td>\n",
       "      <td>1.927088</td>\n",
       "      <td>1.648423</td>\n",
       "      <td>1.416618</td>\n",
       "      <td>1.784639</td>\n",
       "    </tr>\n",
       "  </tbody>\n",
       "</table>\n",
       "<p>177 rows × 57 columns</p>\n",
       "</div>"
      ]
     },
     "execution_count": 4,
     "metadata": {},
     "output_type": "execute_result"
    }
   ],
   "execution_count": 4
  },
  {
   "id": "7024f0f7-02ac-4b23-9c70-faad0674b6fb",
   "cell_type": "markdown",
   "source": [
    "### 4. Daten filtern\n",
    "\n",
    "Filtern Sie die Daten für die Schweiz mit dem folgenden Befehl und geben Sie die Daten aus:\n",
    "```\n",
    "df_ch = df.loc[df['Country'] == 'Switzerland']\n",
    "df_ch.head()\n",
    "```"
   ],
   "metadata": {}
  },
  {
   "id": "533542c6-0093-49c3-b148-e8aa1311cb71",
   "cell_type": "code",
   "source": [
    "df_ch = df.loc[df['Country'] == 'Switzerland']\n",
    "df_ch.head()"
   ],
   "metadata": {
    "trusted": true,
    "ExecuteTime": {
     "end_time": "2025-09-03T21:04:30.071112Z",
     "start_time": "2025-09-03T21:04:30.055395Z"
    }
   },
   "outputs": [
    {
     "data": {
      "text/plain": [
       "         Country      1961      1962      1963     1964      1965      1966  \\\n",
       "163  Switzerland  1.393355  1.509475  1.513693  1.56988  1.579109  1.568804   \n",
       "\n",
       "         1967      1968      1969  ...      2007      2008      2009  \\\n",
       "163  1.666972  1.702267  1.946353  ...  3.380249  3.345295  3.180803   \n",
       "\n",
       "         2010      2011      2012     2013      2014      2015      2016  \n",
       "163  3.224521  3.200238  3.072641  3.08098  2.923518  2.885091  2.845224  \n",
       "\n",
       "[1 rows x 57 columns]"
      ],
      "text/html": [
       "<div>\n",
       "<style scoped>\n",
       "    .dataframe tbody tr th:only-of-type {\n",
       "        vertical-align: middle;\n",
       "    }\n",
       "\n",
       "    .dataframe tbody tr th {\n",
       "        vertical-align: top;\n",
       "    }\n",
       "\n",
       "    .dataframe thead th {\n",
       "        text-align: right;\n",
       "    }\n",
       "</style>\n",
       "<table border=\"1\" class=\"dataframe\">\n",
       "  <thead>\n",
       "    <tr style=\"text-align: right;\">\n",
       "      <th></th>\n",
       "      <th>Country</th>\n",
       "      <th>1961</th>\n",
       "      <th>1962</th>\n",
       "      <th>1963</th>\n",
       "      <th>1964</th>\n",
       "      <th>1965</th>\n",
       "      <th>1966</th>\n",
       "      <th>1967</th>\n",
       "      <th>1968</th>\n",
       "      <th>1969</th>\n",
       "      <th>...</th>\n",
       "      <th>2007</th>\n",
       "      <th>2008</th>\n",
       "      <th>2009</th>\n",
       "      <th>2010</th>\n",
       "      <th>2011</th>\n",
       "      <th>2012</th>\n",
       "      <th>2013</th>\n",
       "      <th>2014</th>\n",
       "      <th>2015</th>\n",
       "      <th>2016</th>\n",
       "    </tr>\n",
       "  </thead>\n",
       "  <tbody>\n",
       "    <tr>\n",
       "      <th>163</th>\n",
       "      <td>Switzerland</td>\n",
       "      <td>1.393355</td>\n",
       "      <td>1.509475</td>\n",
       "      <td>1.513693</td>\n",
       "      <td>1.56988</td>\n",
       "      <td>1.579109</td>\n",
       "      <td>1.568804</td>\n",
       "      <td>1.666972</td>\n",
       "      <td>1.702267</td>\n",
       "      <td>1.946353</td>\n",
       "      <td>...</td>\n",
       "      <td>3.380249</td>\n",
       "      <td>3.345295</td>\n",
       "      <td>3.180803</td>\n",
       "      <td>3.224521</td>\n",
       "      <td>3.200238</td>\n",
       "      <td>3.072641</td>\n",
       "      <td>3.08098</td>\n",
       "      <td>2.923518</td>\n",
       "      <td>2.885091</td>\n",
       "      <td>2.845224</td>\n",
       "    </tr>\n",
       "  </tbody>\n",
       "</table>\n",
       "<p>1 rows × 57 columns</p>\n",
       "</div>"
      ]
     },
     "execution_count": 5,
     "metadata": {},
     "output_type": "execute_result"
    }
   ],
   "execution_count": 5
  },
  {
   "id": "f73c8634-6e8a-42a2-a08e-8213e0cb7048",
   "cell_type": "markdown",
   "source": [
    "### 5. Daten für X-Achse selektieren\n",
    "\n",
    "Als X-Achse sollen wie Jahre dargestellt werden. \n",
    "\n",
    "Filtern sie diese wie folgt:\n",
    "```\n",
    "x = df_ch.columns.values.tolist()[1:]\n",
    "print(\"x:\", x)\n",
    "```"
   ],
   "metadata": {}
  },
  {
   "id": "d572ccee-1c94-48be-be39-041a12406b96",
   "cell_type": "code",
   "source": [
    "x = df_ch.columns.values.tolist()[1:]\n",
    "print(\"x:\", x)"
   ],
   "metadata": {
    "trusted": true,
    "ExecuteTime": {
     "end_time": "2025-09-03T21:04:30.134336Z",
     "start_time": "2025-09-03T21:04:30.118430Z"
    }
   },
   "outputs": [
    {
     "name": "stdout",
     "output_type": "stream",
     "text": [
      "x: ['1961', '1962', '1963', '1964', '1965', '1966', '1967', '1968', '1969', '1970', '1971', '1972', '1973', '1974', '1975', '1976', '1977', '1978', '1979', '1980', '1981', '1982', '1983', '1984', '1985', '1986', '1987', '1988', '1989', '1990', '1991', '1992', '1993', '1994', '1995', '1996', '1997', '1998', '1999', '2000', '2001', '2002', '2003', '2004', '2005', '2006', '2007', '2008', '2009', '2010', '2011', '2012', '2013', '2014', '2015', '2016']\n"
     ]
    }
   ],
   "execution_count": 6
  },
  {
   "id": "c4cf48fb-df14-423a-b9f7-1371739d9f02",
   "cell_type": "markdown",
   "source": [
    "### 6. Daten für Y-Achse selektieren\n",
    "\n",
    "Als Y Werte werden folgende Daten selektiert:\n",
    "```\n",
    "y = df_ch.values.tolist()[0][1:]\n",
    "print(\"y:\", y)\n",
    "```"
   ],
   "metadata": {}
  },
  {
   "id": "797eaa51-0d60-4eea-8793-86f3bbc2b448",
   "cell_type": "code",
   "source": [
    "y = df_ch.values.tolist()[0][1:]\n",
    "print(\"y:\", y)"
   ],
   "metadata": {
    "trusted": true,
    "ExecuteTime": {
     "end_time": "2025-09-03T21:04:30.277001Z",
     "start_time": "2025-09-03T21:04:30.266199Z"
    }
   },
   "outputs": [
    {
     "name": "stdout",
     "output_type": "stream",
     "text": [
      "y: [1.3933552914350302, 1.5094751791586487, 1.5136927991042743, 1.5698795283631533, 1.57910860828275, 1.5688041818535947, 1.6669718902394526, 1.7022666140224816, 1.9463534234249436, 2.1581508160670877, 2.256430901243097, 2.377153607845889, 2.498584618637974, 2.3428297852277447, 2.0612102443948377, 2.184735931087366, 2.259296416621454, 2.438938740702014, 2.47538325004856, 2.5919052050787066, 2.4949098399762417, 2.3455270952785674, 2.5167955674422435, 2.6290243858021496, 2.675624276191712, 2.7936080685370754, 2.776100313177753, 2.914430647234429, 3.0550923970169244, 3.1298460249179225, 3.07033552546358, 2.94565252341051, 2.836980181059761, 2.888829925108944, 2.9750167007226223, 2.896571054775669, 2.9525434944578164, 3.007591172063091, 2.921396671143532, 3.008629618796011, 2.908433917750564, 2.973340726513338, 2.9978959909538814, 2.982985007650534, 3.194218021168697, 3.226055374846489, 3.3802494594788546, 3.34529532674777, 3.180803184511736, 3.224520554172087, 3.200237990347349, 3.072641354132077, 3.08098010437524, 2.9235184194185737, 2.885091487696447, 2.845224285167009]\n"
     ]
    }
   ],
   "execution_count": 7
  },
  {
   "id": "e317663b-3738-4924-af82-0ea57ec0429a",
   "cell_type": "markdown",
   "source": [
    "### 7. Plotten Sie den Line Chart \n",
    "\n",
    "\n",
    "- Erstellen Sie eine erste Ausgabe mit folgendem Commands:\n",
    "  ```\n",
    "  plt.figure()\n",
    "  plt.plot(x,y)\n",
    "  plt.show()\n",
    "  ```\n",
    "\n",
    "- Fügen sie einen Titel hinzu und beschriften Sie die Y-Achse for dem `plt.show()` Befehl ein. \n",
    "\n",
    "- Die X-Achse ist noch nicht ideal. Fügen Sie folgenden Code vor dem `plt.show()` Befehl ein:\n",
    "   ```\n",
    "   plt.xticks(np.arange(0, len(x), 5))\n",
    "   ```"
   ],
   "metadata": {}
  },
  {
   "id": "0f73faf2-46a9-470e-a8b9-a909a200c270",
   "cell_type": "code",
   "source": [
    "plt.figure()\n",
    "\n",
    "plt.plot(x, y)\n",
    "\n",
    "plt.title(\"Global Footprint\")\n",
    "plt.ylabel(\"Number of earth\")\n",
    "\n",
    "plt.xticks( np.arange(0, len(x), 5))\n",
    "\n",
    "plt.show()"
   ],
   "metadata": {
    "trusted": true,
    "ExecuteTime": {
     "end_time": "2025-09-03T21:04:30.550171Z",
     "start_time": "2025-09-03T21:04:30.397670Z"
    }
   },
   "outputs": [
    {
     "data": {
      "text/plain": [
       "<Figure size 640x480 with 1 Axes>"
      ],
      "image/png": "[encoded data removed]"
     },
     "metadata": {},
     "output_type": "display_data"
    }
   ],
   "execution_count": 8
  },
  {
   "id": "35a66530-d2a4-4004-89bc-be88bb53f9f7",
   "cell_type": "markdown",
   "source": [
    "## Zusatzaufgabe\n",
    "\n",
    "1. Erstellen sie eine Methode, die die y-Werte für ein beliebiges Land zurückgibt.\n",
    "2. Fügen sie die beiden Länder Germany und Italy dem Chart hinzu\n",
    "3. Ersellen sie einen neuen Plot mit den drei Ländern \n",
    "4. Fügen sie eine Legende hinzu\n"
   ],
   "metadata": {}
  },
  {
   "id": "d6779c23-9d10-44ad-b1ca-92b83408a259",
   "cell_type": "code",
   "source": [
    "def y_values(df, country):\n",
    "    df_country = df.loc[ df['Country'] == country ]\n",
    "    y_country = df_country.values.tolist()[0][1:]\n",
    "    return y_country"
   ],
   "metadata": {
    "trusted": true,
    "ExecuteTime": {
     "end_time": "2025-09-03T21:04:30.633685Z",
     "start_time": "2025-09-03T21:04:30.617836Z"
    }
   },
   "outputs": [],
   "execution_count": 9
  },
  {
   "id": "06785e99-3a8f-42df-bf96-534a1e1dbac9",
   "cell_type": "code",
   "source": [
    "y_germany = y_values(df, 'Germany')\n",
    "print(y_germany)"
   ],
   "metadata": {
    "trusted": true,
    "ExecuteTime": {
     "end_time": "2025-09-03T21:04:30.665221Z",
     "start_time": "2025-09-03T21:04:30.649533Z"
    }
   },
   "outputs": [
    {
     "name": "stdout",
     "output_type": "stream",
     "text": [
      "[1.3634167988128376, 1.4928491730966569, 1.5446829713626653, 1.61789494932419, 1.6707203676481208, 1.6706369299605075, 1.679777729226918, 1.8022586717521825, 1.9734927494740944, 2.518375574879669, 2.5758196659033907, 2.7144456264868597, 2.7964611650864133, 2.6997386041926084, 2.643439002332949, 2.824054283826955, 2.861649623381257, 2.980052910642803, 3.156103887232201, 3.089573865825427, 2.931386906245626, 2.882916535165017, 2.94363238672437, 2.9996872926411875, 3.067416693441216, 3.113590685328945, 3.1255674809929324, 3.1936495343471094, 3.174765361647112, 3.3355526678939578, 3.152069536968661, 3.0517982304914133, 2.962227771728048, 3.0159006130128265, 3.0318028946089424, 2.993579394589737, 2.9804222379892487, 3.022563629915133, 2.852441891979209, 2.964088600105678, 2.9490790778979123, 2.875238111220686, 2.953706330256189, 2.9717736236559804, 2.9352488551062232, 3.1027453163094, 3.1177206226393595, 3.0587478811296767, 2.933893447275932, 3.170316213111372, 3.133600043126718, 3.0733622928484983, 3.073691441077003, 3.018030501567844, 3.002352035279226, 2.970265878591844]\n"
     ]
    }
   ],
   "execution_count": 10
  },
  {
   "id": "4ad798b9-8dbe-409d-96dd-aa0aec19f5f2",
   "cell_type": "code",
   "source": [
    "y_italy = y_values(df, 'Italy')\n",
    "print(y_italy)"
   ],
   "metadata": {
    "trusted": true,
    "ExecuteTime": {
     "end_time": "2025-09-03T21:04:30.714522Z",
     "start_time": "2025-09-03T21:04:30.699976Z"
    }
   },
   "outputs": [
    {
     "name": "stdout",
     "output_type": "stream",
     "text": [
      "[0.7570334096063038, 0.8136892181573565, 0.9337701672000428, 0.9451822261854111, 0.99812049005083, 1.095607149642677, 1.205905305871924, 1.2777140916618277, 1.4084196031997347, 1.532952344827472, 1.5525877446789236, 1.670989622110781, 1.7856011332508808, 1.7315838899257392, 1.6500424223629295, 1.8021637997818545, 1.7346564860293343, 1.790925931553941, 1.972541005566487, 2.0220182647043123, 1.892125839260853, 1.8633463839059072, 1.921951295331617, 1.9751675509679525, 2.0880058301885467, 2.163717098022196, 2.315107955240061, 2.344413429872339, 2.471149395130891, 2.5060128230028136, 2.6850507398823047, 2.613986490370635, 2.5120763369903325, 2.625449232335869, 2.7108888335463504, 2.601202577568442, 2.7421838185122707, 2.8630848342383994, 2.923459444851439, 3.0122445711302577, 2.9604834664976982, 3.027534482075469, 3.1568294769145684, 3.220755272935324, 3.2580237223538635, 3.3203791170890367, 3.3005488150293503, 3.086054055736248, 2.916362511333793, 3.1110413251251954, 3.0319102373785425, 2.766057456605988, 2.641358815023479, 2.637882496004595, 2.703029773387148, 2.7220914127248643]\n"
     ]
    }
   ],
   "execution_count": 11
  },
  {
   "id": "f41140aa-8204-44d3-b0bc-f011e7b2eccb",
   "cell_type": "code",
   "source": [
    "plt.figure()\n",
    "\n",
    "plt.plot(x, y, label='Global')\n",
    "plt.plot(x, y_germany, label='Germany')\n",
    "plt.plot(x, y_italy, label='Italy')\n",
    "\n",
    "plt.xticks( np.arange(0, len(x), 5))\n",
    "\n",
    "plt.title(\"Global Footprint\")\n",
    "plt.ylabel(\"Number of earth\")\n",
    "plt.legend(loc=\"lower right\")\n",
    "\n",
    "plt.show()"
   ],
   "metadata": {
    "trusted": true,
    "ExecuteTime": {
     "end_time": "2025-09-03T21:04:30.863581Z",
     "start_time": "2025-09-03T21:04:30.762562Z"
    }
   },
   "outputs": [
    {
     "data": {
      "text/plain": [
       "<Figure size 640x480 with 1 Axes>"
      ],
      "image/png": "[encoded data removed]"
     },
     "metadata": {},
     "output_type": "display_data"
    }
   ],
   "execution_count": 12
  }
 ]
}
