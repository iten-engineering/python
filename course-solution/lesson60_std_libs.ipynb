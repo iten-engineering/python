{
 "cells": [
  {
   "cell_type": "markdown",
   "metadata": {},
   "source": [
    "# Python Standardbibliotheken\n",
    "\n",
    "Python enthält eine grosse Anzahl nützlicher Objekte und Funktionen, die Sie in Ihren\n",
    "eigenen Programmen benutzen können. Sie sind zu Modulen zusammengefasst und alle Module zusammen bilden die Standardbibliotheken. \n",
    "\n",
    "Die offizielle Dokumentation der Standardbibliothek finden Sie unter [The Python Standard Library](https://docs.python.org/3/library/index.html).\n",
    "\n",
    "Dieses Notebook gibt eine Übersicht über einige wichtige Standardmodule von Python mit Beispielen und Aufgaben."
   ],
   "id": "a9a6e8a8b443e378"
  },
  {
   "cell_type": "markdown",
   "metadata": {},
   "source": [
    "## math, cmath\n",
    "Das Modul `math` enthält viele mathematische Funktionen und Konstanten. Das Arbeiten mit komplexen Zahlen wird in Python mit dem Modul `cmath` unterstützt."
   ],
   "id": "68b402421ac490e1"
  },
  {
   "cell_type": "code",
   "metadata": {
    "ExecuteTime": {
     "end_time": "2025-09-04T18:55:10.839506Z",
     "start_time": "2025-09-04T18:55:10.823929Z"
    }
   },
   "source": [
    "import math\n",
    "\n",
    "print('Pi:', math.pi)\n",
    "print('e:', math.e)\n",
    "\n",
    "print('Wurzel von 16:', math.sqrt(16))\n",
    "print('Fakultät von 5:', math.factorial(5))\n",
    "print('Sinus von 90°:', math.sin(math.radians(90)))\n"
   ],
   "id": "39aed0072c71bdcb",
   "outputs": [
    {
     "name": "stdout",
     "output_type": "stream",
     "text": [
      "Pi: 3.141592653589793\n",
      "e: 2.718281828459045\n",
      "Wurzel von 16: 4.0\n",
      "Fakultät von 5: 120\n",
      "Sinus von 90°: 1.0\n"
     ]
    }
   ],
   "execution_count": 2
  },
  {
   "cell_type": "markdown",
   "metadata": {},
   "source": [
    "## os, sys, subprocess\n",
    "Diese Module ermöglichen Interaktion mit dem Betriebssystem und Prozessen.\n",
    "- `os`: Dateisystem & Umgebung\n",
    "- `sys`: Informationen zur Python-Laufzeit\n",
    "- `subprocess`: Externe Befehle starten"
   ],
   "id": "3d8bc38c8cce03c2"
  },
  {
   "cell_type": "code",
   "metadata": {
    "ExecuteTime": {
     "end_time": "2025-09-04T19:18:57.759581Z",
     "start_time": "2025-09-04T19:18:57.737881Z"
    }
   },
   "source": [
    "import os\n",
    "\n",
    "print('Aktuelles Verzeichnis:')\n",
    "print(os.getcwd())\n",
    "\n",
    "print('Dateien im Verzeichnis:')\n",
    "print(os.listdir('.'))"
   ],
   "id": "a64528570d0ab880",
   "outputs": [
    {
     "name": "stdout",
     "output_type": "stream",
     "text": [
      "Aktuelles Verzeichnis:\n",
      "C:\\Users\\tom7i\\dev\\workspace\\surfmachine\\python-work\\course-online\n",
      "Dateien im Verzeichnis:\n",
      "['lesson10_kickstart.ipynb', 'lesson21_basics.ipynb', 'lesson22_ctrl.ipynb', 'lesson23_exceptions.ipynb', 'lesson24_functions.ipynb', 'lesson24_functions_linear.png', 'lesson31_string.ipynb', 'lesson32_list.ipynb', 'lesson33_set.ipynb', 'lesson34_dict.ipynb', 'lesson40_files.ipynb', 'lesson40_files_books.csv', 'lesson40_files_cities.txt', 'lesson40_files_hello.txt', 'lesson40_files_names.txt', 'lesson41_lab_footprint.ipynb', 'lesson41_lab_number_of_earth.csv', 'lesson50_module.ipynb', 'lesson50_module_calculator.py', 'lesson50_module_fibo.py', 'lesson60_std_libs.ipynb', 'lesson61_std_libs_covid.ipynb', 'lesson61_std_libs_covid.json', 'lesson90_appendix.ipynb', 'lesson91_lab_books.ipynb', 'lesson91_lab_books.txt', 'README.md']\n",
      "0\n"
     ]
    }
   ],
   "execution_count": 7
  },
  {
   "metadata": {
    "ExecuteTime": {
     "end_time": "2025-09-04T19:25:36.136422Z",
     "start_time": "2025-09-04T19:25:36.121348Z"
    }
   },
   "cell_type": "code",
   "source": [
    "import sys\n",
    "\n",
    "print('Python Version:')\n",
    "print(sys.version)\n",
    "\n",
    "print('Plattform:')\n",
    "print(sys.platform)"
   ],
   "id": "aa6620141250c0f2",
   "outputs": [
    {
     "name": "stdout",
     "output_type": "stream",
     "text": [
      "Python Version:\n",
      "3.10.14 | packaged by conda-forge | (main, Mar 20 2024, 12:40:08) [MSC v.1938 64 bit (AMD64)]\n",
      "Plattform:\n",
      "win32\n"
     ]
    }
   ],
   "execution_count": 10
  },
  {
   "metadata": {
    "ExecuteTime": {
     "end_time": "2025-09-04T19:31:23.064545Z",
     "start_time": "2025-09-04T19:31:23.027420Z"
    }
   },
   "cell_type": "code",
   "source": [
    "import subprocess\n",
    "\n",
    "if sys.platform.startswith('win'):\n",
    "    subprocess.Popen(\"notepad\")"
   ],
   "id": "ff7b1b74394cb060",
   "outputs": [],
   "execution_count": 16
  },
  {
   "metadata": {
    "ExecuteTime": {
     "end_time": "2025-09-04T19:32:05.820905Z",
     "start_time": "2025-09-04T19:32:04.087688Z"
    }
   },
   "cell_type": "code",
   "source": [
    "if sys.platform.startswith('win'):\n",
    "    code = subprocess.call(\"notepad\")\n",
    "    if code == 0:\n",
    "        print(\"Notepad successfully executed\")\n",
    "    else:\n",
    "        print(\"Starting notepad failed\")\n",
    "else:\n",
    "    print(sys.platform)"
   ],
   "id": "7ff47e36490a8747",
   "outputs": [
    {
     "name": "stdout",
     "output_type": "stream",
     "text": [
      "Notepad successfully executed\n"
     ]
    }
   ],
   "execution_count": 19
  },
  {
   "cell_type": "markdown",
   "metadata": {},
   "source": [
    "## re\n",
    "\n",
    "Das Modul `re` steht für reguläre Ausdrücke. Mit diesen können Muster in Texten gesucht oder überprüft werden.\n",
    "\n",
    "- Ein regulärer Ausdruck ist eine Sequenz von Zeichen die ein Muster (Pattern) definieren\n",
    "- Damit kann Strings nach Muster durchsuchen oder prüfen ob diese ein bestimmtes Format erfüllen\n",
    "- Beispiele:\n",
    "  – Kreditkarten Format\n",
    "  – AHV Nummer\n",
    "  – ISBN Nummer\n",
    "  – E-Mail Adresse"
   ],
   "id": "9a66f4fe9ef90f82"
  },
  {
   "cell_type": "code",
   "metadata": {
    "ExecuteTime": {
     "end_time": "2025-09-04T19:35:11.970690Z",
     "start_time": "2025-09-04T19:35:11.959182Z"
    }
   },
   "source": [
    "import re\n",
    "\n",
    "text = 'Meine Telefonnummer: 079 123 45 67'\n",
    "pattern = r'\\d{3} \\d{3} \\d{2} \\d{2}'    \n",
    "\n",
    "match = re.search(pattern, text)\n",
    "if match:\n",
    "    print('Gefunden:', match.group())\n",
    "else:\n",
    "    print(\"Pattern nicht gefunden im Text\")\n"
   ],
   "id": "e30600e73afc8534",
   "outputs": [
    {
     "name": "stdout",
     "output_type": "stream",
     "text": [
      "Gefunden: 079 123 45 67\n"
     ]
    }
   ],
   "execution_count": 2
  },
  {
   "metadata": {},
   "cell_type": "markdown",
   "source": [
    "Das re Modul verfügt über folgende Methoden:\n",
    "- findall: Returns a list conatinig all matches\n",
    "- search: Returns a Match object it there is a match anywhere in the string\n",
    "- split: Returns a list where the string has been split at each match\n",
    "- sub: Replaces one or many matchs with a given string\n",
    "- match: Checks if a text matches the regular expression (pattern)\n",
    "\n",
    "\n",
    "Weiterführende Informationen\n",
    "- Python Dokumentation [re](https://docs.python.org/3/library/re.html)\n",
    "- RegEx Testen [regex101](https://regex101.com)"
   ],
   "id": "67181ae6c347421f"
  },
  {
   "metadata": {},
   "cell_type": "markdown",
   "source": [
    "### findall\n",
    "\n",
    "Suche nach E-Mail Adressen:"
   ],
   "id": "63f0f73e20d67e6c"
  },
  {
   "metadata": {
    "ExecuteTime": {
     "end_time": "2025-09-04T19:43:11.508668Z",
     "start_time": "2025-09-04T19:43:11.488062Z"
    }
   },
   "cell_type": "code",
   "source": [
    "text = \"Kontaktiere uns: info@test.com oder support@company.org\"\n",
    "pattern = r\"[a-zA-Z0-9._%+-]+@[a-zA-Z0-9.-]+\\.[a-z]{2,}\"\n",
    "\n",
    "emails = re.findall(pattern, text)\n",
    "print(\"Gefundene E-Mails:\", emails)\n"
   ],
   "id": "ec580d2ac2327cd",
   "outputs": [
    {
     "ename": "NameError",
     "evalue": "name 're' is not defined",
     "output_type": "error",
     "traceback": [
      "\u001B[1;31m---------------------------------------------------------------------------\u001B[0m",
      "\u001B[1;31mNameError\u001B[0m                                 Traceback (most recent call last)",
      "Cell \u001B[1;32mIn[1], line 4\u001B[0m\n\u001B[0;32m      1\u001B[0m text \u001B[38;5;241m=\u001B[39m \u001B[38;5;124m\"\u001B[39m\u001B[38;5;124mKontaktiere uns: info@test.com oder support@company.org\u001B[39m\u001B[38;5;124m\"\u001B[39m\n\u001B[0;32m      2\u001B[0m pattern \u001B[38;5;241m=\u001B[39m \u001B[38;5;124mr\u001B[39m\u001B[38;5;124m\"\u001B[39m\u001B[38;5;124m[a-zA-Z0-9._\u001B[39m\u001B[38;5;124m%\u001B[39m\u001B[38;5;124m+-]+@[a-zA-Z0-9.-]+\u001B[39m\u001B[38;5;124m\\\u001B[39m\u001B[38;5;124m.[a-z]\u001B[39m\u001B[38;5;124m{\u001B[39m\u001B[38;5;124m2,}\u001B[39m\u001B[38;5;124m\"\u001B[39m\n\u001B[1;32m----> 4\u001B[0m emails \u001B[38;5;241m=\u001B[39m \u001B[43mre\u001B[49m\u001B[38;5;241m.\u001B[39mfindall(pattern, text)\n\u001B[0;32m      5\u001B[0m \u001B[38;5;28mprint\u001B[39m(\u001B[38;5;124m\"\u001B[39m\u001B[38;5;124mGefundene E-Mails:\u001B[39m\u001B[38;5;124m\"\u001B[39m, emails)\n",
      "\u001B[1;31mNameError\u001B[0m: name 're' is not defined"
     ]
    }
   ],
   "execution_count": 1
  },
  {
   "cell_type": "markdown",
   "source": [
    "Alle Zahlen in einem Text extrahieren:"
   ],
   "metadata": {
    "collapsed": false
   },
   "id": "4be7a86c80582fab"
  },
  {
   "cell_type": "code",
   "execution_count": 4,
   "outputs": [
    {
     "name": "stdout",
     "output_type": "stream",
     "text": [
      "Gefundene Zahlen: ['2023', '150', '2024', '200']\n"
     ]
    }
   ],
   "source": [
    "text = \"Im Jahr 2023 waren es 150 Teilnehmer, 2024 werden es 200 sein.\"\n",
    "pattern = r\"\\d+\"\n",
    "\n",
    "zahlen = re.findall(pattern, text)\n",
    "print(\"Gefundene Zahlen:\", zahlen)"
   ],
   "metadata": {
    "collapsed": false
   },
   "id": "a67d7ce2a6381954"
  },
  {
   "metadata": {},
   "cell_type": "markdown",
   "source": [
    "### search\n",
    "\n",
    "Prüfung nach Telefon Nummer:"
   ],
   "id": "45c95269bde7729b"
  },
  {
   "metadata": {
    "ExecuteTime": {
     "end_time": "2025-09-04T19:40:58.232205Z",
     "start_time": "2025-09-04T19:40:58.214160Z"
    }
   },
   "cell_type": "code",
   "source": [
    "text = \"Meine Nummer ist +41 79 123 45 67\"\n",
    "pattern = r\"\\+41\\s?\\d{2}\\s?\\d{3}\\s?\\d{2}\\s?\\d{2}\"\n",
    "\n",
    "match = re.search(pattern, text)\n",
    "print(\"Telefonnummer gefunden:\", bool(match))"
   ],
   "id": "897f3c3dde869e86",
   "outputs": [
    {
     "name": "stdout",
     "output_type": "stream",
     "text": [
      "Telefonnummer gefunden: True\n"
     ]
    }
   ],
   "execution_count": 27
  },
  {
   "metadata": {},
   "cell_type": "markdown",
   "source": [
    "### sub\n",
    "\n",
    "Wörter ersetzen:"
   ],
   "id": "651a95ae218c8a81"
  },
  {
   "metadata": {
    "ExecuteTime": {
     "end_time": "2025-09-04T19:44:45.356180Z",
     "start_time": "2025-09-04T19:44:45.339373Z"
    }
   },
   "cell_type": "code",
   "source": [
    "text = \"Das ist doof und blöd!\"\n",
    "pattern = r\"doof|blöd\"\n",
    "\n",
    "zensiert = re.sub(pattern, \"***\", text)\n",
    "print(zensiert)"
   ],
   "id": "30e0087383e8c49d",
   "outputs": [
    {
     "name": "stdout",
     "output_type": "stream",
     "text": [
      "Das ist *** und ***!\n"
     ]
    }
   ],
   "execution_count": 30
  },
  {
   "metadata": {},
   "cell_type": "markdown",
   "source": [
    "\n",
    "### split\n",
    "\n",
    "Splitten von Text anhand von Satzzeichen:"
   ],
   "id": "a015067ae712e424"
  },
  {
   "metadata": {
    "ExecuteTime": {
     "end_time": "2025-09-04T19:45:55.183936Z",
     "start_time": "2025-09-04T19:45:55.179897Z"
    }
   },
   "cell_type": "code",
   "source": [
    "text = \"Hallo Welt! Wie geht's dir? Alles gut.\"\n",
    "pattern = r\"[.!?]\"\n",
    "\n",
    "teile = re.split(pattern, text)\n",
    "print(\"Sätze:\", [t.strip() for t in teile if t.strip()])\n"
   ],
   "id": "4e40ee5b4f84f0b2",
   "outputs": [
    {
     "name": "stdout",
     "output_type": "stream",
     "text": [
      "Sätze: ['Hallo Welt', \"Wie geht's dir\", 'Alles gut']\n"
     ]
    }
   ],
   "execution_count": 31
  },
  {
   "metadata": {},
   "cell_type": "markdown",
   "source": [
    "\n",
    "### match\n",
    "\n",
    "Validierung Postleitzahlen Schweiz (1000–9999):"
   ],
   "id": "f38748419790916b"
  },
  {
   "metadata": {
    "ExecuteTime": {
     "end_time": "2025-09-04T19:46:44.386364Z",
     "start_time": "2025-09-04T19:46:44.379Z"
    }
   },
   "cell_type": "code",
   "source": [
    "plz_list = [\"8000\", \"1234\", \"999\", \"10000\"]\n",
    "\n",
    "pattern = r\"^[1-9]\\d{3}$\"\n",
    "\n",
    "for plz in plz_list:\n",
    "    if re.match(pattern, plz):\n",
    "        print(plz, \"ist gültig\")\n",
    "    else:\n",
    "        print(plz, \"ist ungültig\")\n"
   ],
   "id": "b7c2b6b024a818e2",
   "outputs": [
    {
     "name": "stdout",
     "output_type": "stream",
     "text": [
      "8000 ist gültig\n",
      "1234 ist gültig\n",
      "999 ist ungültig\n",
      "10000 ist ungültig\n"
     ]
    }
   ],
   "execution_count": 32
  },
  {
   "cell_type": "markdown",
   "metadata": {},
   "source": [
    "## date, datetime\n",
    "Das Modul `datetime` ermöglicht das Arbeiten mit Datum und Uhrzeit."
   ],
   "id": "ea80177414c0bccd"
  },
  {
   "metadata": {},
   "cell_type": "markdown",
   "source": [
    "### date"
   ],
   "id": "82aeb5e2a0266f7"
  },
  {
   "cell_type": "code",
   "metadata": {
    "ExecuteTime": {
     "end_time": "2025-09-04T19:50:13.162006Z",
     "start_time": "2025-09-04T19:50:13.153495Z"
    }
   },
   "source": [
    "from datetime import date\n",
    "\n",
    "today = date.today()\n",
    "\n",
    "print(today)\n",
    "print(today.day, \".\", today.month, \".\", today.year, sep=\"\")\n",
    "\n",
    "today_str = date.strftime(today, \"%d.%m.%Y\")\n",
    "print(today_str)\n"
   ],
   "id": "b8bfc00a10f97cd",
   "outputs": [
    {
     "name": "stdout",
     "output_type": "stream",
     "text": [
      "2025-09-04\n",
      "4.9.2025\n",
      "04.09.2025\n"
     ]
    }
   ],
   "execution_count": 34
  },
  {
   "metadata": {},
   "cell_type": "markdown",
   "source": [
    "### datetime"
   ],
   "id": "74de75110d034b58"
  },
  {
   "metadata": {
    "ExecuteTime": {
     "end_time": "2025-09-04T19:50:56.079100Z",
     "start_time": "2025-09-04T19:50:56.066078Z"
    }
   },
   "cell_type": "code",
   "source": [
    "from datetime import datetime\n",
    "\n",
    "now = datetime.now()\n",
    "print(now)\n",
    "\n",
    "birthday = datetime.strptime('01.03.2007', \"%d.%m.%Y\")\n",
    "print(birthday)\n",
    "\n",
    "age = now - birthday\n",
    "print(age)\n",
    "print(age.days / 365, \"years\")\n"
   ],
   "id": "d712c0dcdd23eef",
   "outputs": [
    {
     "name": "stdout",
     "output_type": "stream",
     "text": [
      "2025-09-04 21:50:56.068077\n",
      "2007-03-01 00:00:00\n",
      "6762 days, 21:50:56.068077\n",
      "18.526027397260275 years\n"
     ]
    }
   ],
   "execution_count": 35
  },
  {
   "metadata": {},
   "cell_type": "markdown",
   "source": [
    "> Weitere Besipiele inkl. Liste der **Formatierungen** siehe [datetime samples](https://github.com/iten-engineering/python/blob/main/example/06-std-libs/datetime-format.py)."
   ],
   "id": "630ec65b3fe15b8c"
  },
  {
   "cell_type": "markdown",
   "metadata": {},
   "source": [
    "## json\n",
    "\n",
    "Mit dem Python `json` Modul können JSON Daten gelesen oder geschrieben werden.\n",
    "\n",
    "- JSON steht für JavaScript Object Notation\n",
    "- JSON ist ein Text Format für die Speicherung und den Transport/Austausch von Daten\n",
    "\n",
    "BeispieL:\n",
    "```\n",
    "{\n",
    "  \"name\": \"Anna\",\n",
    "  \"alter\": 25,\n",
    "  \"hobbies\": [\"Lesen\", \"Schwimmen\"]\n",
    "}\n",
    "```\n",
    "\n",
    "**Syntax**\n",
    "\n",
    "Die Syntax ist, wie der Name schon sagt, abgeleitet von der JavaScript Object Notation:\n",
    "– Daten sind als Name/Werte Paare abgelegt\n",
    "– Dateneinträge sind mit Komma separiert\n",
    "– Objekte werden mit geschweiften {…} Klammern deklariert\n",
    "– Arrays mit eckigen […] Klammern dargestellt\n",
    "\n",
    "**Datentypen**\n",
    "\n",
    "Folgende Datentypen werden mit JSON untersützt:\n",
    "- string\n",
    "- number\n",
    "- object  (wird in Python zu dict)\n",
    "- array   (wird in Python zu list)\n",
    "- boolean\n",
    "- null    (wird in Python zu None)"
   ],
   "id": "2b3ccfb20c5db10f"
  },
  {
   "cell_type": "markdown",
   "source": [
    "### dump"
   ],
   "metadata": {
    "collapsed": false
   },
   "id": "e50dcd6635ae747"
  },
  {
   "cell_type": "code",
   "execution_count": 13,
   "metadata": {},
   "outputs": [
    {
     "name": "stdout",
     "output_type": "stream",
     "text": [
      "Data has been exported to: lesson60_std_libs_person.json\n"
     ]
    }
   ],
   "source": [
    "import json\n",
    "\n",
    "file = \"lesson60_std_libs_person.json\"\n",
    "data = { \"name\": \"Jane Smith\", \"age\": 25, \"city\": \"Los Angeles\", \"zip\": None}\n",
    "\n",
    "with open(file, 'w') as f:\n",
    "    json.dump(data, f, indent=4)\n",
    "\n",
    "print(f\"Data has been exported to: {file}\")"
   ],
   "id": "51b2ace720395eec"
  },
  {
   "cell_type": "markdown",
   "source": [
    "### load"
   ],
   "metadata": {
    "collapsed": false
   },
   "id": "fbd425b68420e1e5"
  },
  {
   "cell_type": "code",
   "execution_count": 14,
   "outputs": [
    {
     "name": "stdout",
     "output_type": "stream",
     "text": [
      "Name: Jane Smith\n",
      "Age: 25\n",
      "City: Los Angeles\n",
      "Zip: None\n"
     ]
    }
   ],
   "source": [
    "with open(file, 'r') as f:\n",
    "    data = json.load(f)\n",
    "\n",
    "# Access the data\n",
    "print(\"Name:\", data['name'])\n",
    "print(\"Age:\", data['age'])\n",
    "print(\"City:\", data['city'])\n",
    "print(\"Zip:\", data['zip'])\n"
   ],
   "metadata": {
    "collapsed": false
   },
   "id": "e5be8c862748a570"
  },
  {
   "cell_type": "markdown",
   "metadata": {},
   "source": [
    "# Aufgaben\n",
    "\n",
    "## Age\n",
    "\n",
    "Schreibe ein Programm, das folgende Schritte ausführt:\n",
    "\n",
    "1. Lies ein Datum als Zeichenkette (String) im Format \"TT.MM.JJJJ\" ein (z. B. \"15.08.1995\").\n",
    "2. Wandle diesen String mit Hilfe des Moduls datetime in ein datetime-Objekt um.\n",
    "3. Berechne das Alter dieser Person in Jahren, ausgehend vom aktuellen Datum.\n",
    "4. Gib das Alter in Jahren auf der Konsole aus.\n",
    "\n",
    "Beispiel Ausgabe:\n",
    "```\n",
    "Gib dein Geburtsdatum ein (TT.MM.JJJJ): 15.08.1995\n",
    "Du bist 29 Jahre alt.\n",
    "```\n",
    "\n",
    "Hinweise:\n",
    "- Verwende datetime.strptime, um den String zu konvertieren.\n",
    "- Für die Berechnung des Alters kannst du die Differenz zwischen aktuellem Datum (datetime.today()) und Geburtsdatum bestimmen und die Jahre entsprechend berechnen. Dazu kannst du die Eigenschaft year der beiden datetime Objekte benutzen."
   ],
   "id": "3ac1f0a23f5cdba9"
  },
  {
   "cell_type": "code",
   "source": [
    "from datetime import datetime\n",
    "\n",
    "# Schritt 1: Eingabe\n",
    "datum_string = input(\"Gib dein Geburtsdatum ein (TT.MM.JJJJ): \")\n",
    "\n",
    "# Schritt 2: String -> datetime\n",
    "geburtsdatum = datetime.strptime(datum_string, \"%d.%m.%Y\")\n",
    "\n",
    "# Schritt 3: aktuelles Datum holen\n",
    "heute = datetime.today()\n",
    "\n",
    "# Schritt 4: Alter berechnen\n",
    "alter = heute.year - geburtsdatum.year\n",
    "\n",
    "# Korrektur, falls der Geburtstag dieses Jahr noch nicht war\n",
    "if (heute.month, heute.day) < (geburtsdatum.month, geburtsdatum.day):\n",
    "    alter -= 1\n",
    "\n",
    "# Schritt 5: Ausgabe\n",
    "print(f\"Du bist {alter} Jahre alt.\")\n"
   ],
   "metadata": {
    "collapsed": false,
    "ExecuteTime": {
     "end_time": "2025-09-05T16:30:38.533366Z",
     "start_time": "2025-09-05T16:30:31.103836Z"
    }
   },
   "id": "b56d393cd7a58cc4",
   "outputs": [
    {
     "name": "stdout",
     "output_type": "stream",
     "text": [
      "Du bist 1 Jahre alt.\n"
     ]
    }
   ],
   "execution_count": 1
  },
  {
   "cell_type": "markdown",
   "source": [
    "## Covid\n",
    "\n",
    "Bei dieser Überung werden die Covid Zahlen der Schweiz aus einer JSON Datei geladen und als Line Chart visualisiert. Öffnen sie dazu das Notebook **lesson61_lab_covid.ipynb** und folgen sie den Anweisungen."
   ],
   "metadata": {
    "collapsed": false
   },
   "id": "d7ed8c66b7ecba96"
  }
 ],
 "metadata": {
  "kernelspec": {
   "display_name": "Python 3",
   "language": "python",
   "name": "python3"
  },
  "language_info": {
   "name": "python",
   "version": "3.11"
  }
 },
 "nbformat": 4,
 "nbformat_minor": 5
}
