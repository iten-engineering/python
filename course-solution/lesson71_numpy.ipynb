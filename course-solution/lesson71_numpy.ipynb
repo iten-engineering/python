{
 "cells": [
  {
   "cell_type": "markdown",
   "metadata": {},
   "source": [
    "# NumPy\n",
    "\n",
    "[NumPy](https://numpy.org/) is the fundamental package for scientific computing with Python.\n",
    "\n",
    "Warum NumPy? \n",
    "- Python-Listen sind flexibel, aber langsam bei vielen numerischen Operationen.\n",
    "- NumPy bietet den ndarray-Datentyp: ein schnelles, speichereffizientes Array-Objekt.\n",
    "- Viele mathematische Operationen werden in C implementiert, was NumPy extrem performant macht.\n",
    "- Arrays können mehrdimensional sein (z. B. Vektoren, Matrizen, Tensoren).\n"
   ],
   "id": "a9a6e8a8b443e378"
  },
  {
   "metadata": {},
   "cell_type": "markdown",
   "source": "## Grundlagen",
   "id": "e3f3b103fd5d11a2"
  },
  {
   "metadata": {
    "ExecuteTime": {
     "end_time": "2025-09-06T09:45:33.279892Z",
     "start_time": "2025-09-06T09:45:33.274358Z"
    }
   },
   "cell_type": "code",
   "source": [
    "import numpy as np\n",
    "\n",
    "# Array erstellen aus Python-Liste\n",
    "a = np.array([1, 2, 3, 4, 5])\n",
    "print(\"Array      :\", a)\n",
    "print(\"Datentyp   :\", a.dtype)\n",
    "print(\"Dimensionen:\", a.ndim)\n",
    "print(\"Grösse     :\", a.size)\n",
    "print(\"Form       :\", a.shape)\n"
   ],
   "id": "b76099425e25d0f4",
   "outputs": [
    {
     "name": "stdout",
     "output_type": "stream",
     "text": [
      "Array: [1 2 3 4 5]\n",
      "Datentyp: int64\n",
      "Dimensionen: 1\n",
      "Grösse 5\n",
      "Form: (5,)\n"
     ]
    }
   ],
   "execution_count": 16
  },
  {
   "metadata": {},
   "cell_type": "markdown",
   "source": "## Arrays erzeugen",
   "id": "9a8e74401c29856a"
  },
  {
   "metadata": {
    "ExecuteTime": {
     "end_time": "2025-09-06T09:49:15.790941Z",
     "start_time": "2025-09-06T09:49:15.785936Z"
    }
   },
   "cell_type": "code",
   "source": [
    "print(\"Array mit Nullen  :\", np.zeros((2, 3)))\n",
    "print(\"Array mit Einsen  :\", np.ones((3, 3)))\n",
    "print(\"Array von 0 bis 9 :\", np.arange(10))\n",
    "print(\"Array 10x 0 bis 1 :\", np.linspace(0, 1, 10))\n"
   ],
   "id": "b98bee4dd9576ae",
   "outputs": [
    {
     "name": "stdout",
     "output_type": "stream",
     "text": [
      "Array mit Nullen  : [[0. 0. 0.]\n",
      " [0. 0. 0.]]\n",
      "Array mit Einsen  : [[1. 1. 1.]\n",
      " [1. 1. 1.]\n",
      " [1. 1. 1.]]\n",
      "Array von 0 bis 9 : [0 1 2 3 4 5 6 7 8 9]\n",
      "Array 10x 0 bis 1 : [0.         0.11111111 0.22222222 0.33333333 0.44444444 0.55555556\n",
      " 0.66666667 0.77777778 0.88888889 1.        ]\n"
     ]
    }
   ],
   "execution_count": 21
  },
  {
   "metadata": {},
   "cell_type": "markdown",
   "source": [
    "## Mathematische Operationen\n",
    "\n",
    "Mit Numpy können mathematische Operationen per Element ausgeführt werden:"
   ],
   "id": "2180371f2d03fc24"
  },
  {
   "metadata": {
    "ExecuteTime": {
     "end_time": "2025-09-06T09:50:31.583817Z",
     "start_time": "2025-09-06T09:50:31.567997Z"
    }
   },
   "cell_type": "code",
   "source": [
    "a = np.array([1, 2, 3, 4, 5])\n",
    "print(\"a + 10 :\", a + 10)\n",
    "print(\"a * 2  :\", a * 2)\n",
    "print(\"a ** 2 :\", a ** 2)\n",
    "print(\"Sinus  :\", np.sin(a))\n"
   ],
   "id": "b05f697e5c08c5c6",
   "outputs": [
    {
     "name": "stdout",
     "output_type": "stream",
     "text": [
      "a + 10 : [11 12 13 14 15]\n",
      "a * 2  : [ 2  4  6  8 10]\n",
      "a ** 2 : [ 1  4  9 16 25]\n",
      "Sinus  : [ 0.84147098  0.90929743  0.14112001 -0.7568025  -0.95892427]\n"
     ]
    }
   ],
   "execution_count": 22
  },
  {
   "metadata": {
    "ExecuteTime": {
     "end_time": "2025-09-06T09:53:14.680857Z",
     "start_time": "2025-09-06T09:53:14.665924Z"
    }
   },
   "cell_type": "code",
   "source": [
    "# Operationen mit Numpy Arrays erfolgen per Element:\n",
    "\n",
    "a = np.array([20,30,40,50] )\n",
    "b = np.array([10,12,20,35] )\n",
    "c = a-b\n",
    "\n",
    "print(a)\n",
    "print(b)\n",
    "print(c)"
   ],
   "id": "928a4a0db5fd29bc",
   "outputs": [
    {
     "name": "stdout",
     "output_type": "stream",
     "text": [
      "[20 30 40 50]\n",
      "[10 12 20 35]\n",
      "[10 18 20 15]\n"
     ]
    }
   ],
   "execution_count": 26
  },
  {
   "metadata": {},
   "cell_type": "markdown",
   "source": "## Mehrdimensonale Arrays (Matrizen)",
   "id": "b7cd2024d6ec5194"
  },
  {
   "metadata": {
    "ExecuteTime": {
     "end_time": "2025-09-06T09:26:10.412421Z",
     "start_time": "2025-09-06T09:26:10.400623Z"
    }
   },
   "cell_type": "code",
   "source": [
    "m = np.array([[1, 2, 3], [4, 5, 6]])\n",
    "print(\"Matrix:\\n\", m)\n",
    "\n",
    "# Transponieren\n",
    "print(\"Transponiert:\\n\", m.T)\n",
    "\n",
    "# Matrixmultiplikation\n",
    "n = np.array([[1, 0, 0], [0, 1, 0], [0, 0, 1]])\n",
    "print(\"Matrixprodukt:\\n\", m.dot(n))\n"
   ],
   "id": "6bf147f41d3c5b29",
   "outputs": [
    {
     "name": "stdout",
     "output_type": "stream",
     "text": [
      "Matrix:\n",
      " [[1 2 3]\n",
      " [4 5 6]]\n",
      "Transponiert:\n",
      " [[1 4]\n",
      " [2 5]\n",
      " [3 6]]\n",
      "Matrixprodukt:\n",
      " [[1 2 3]\n",
      " [4 5 6]]\n"
     ]
    }
   ],
   "execution_count": 4
  },
  {
   "metadata": {},
   "cell_type": "markdown",
   "source": [
    "## Slicing\n",
    "\n",
    "Analog der Python Listen können auch mit Numpy Array Selektionen von Elementen mit Hilfe von Slicing erfolgen."
   ],
   "id": "6eb16d37a2397e7d"
  },
  {
   "metadata": {
    "ExecuteTime": {
     "end_time": "2025-09-06T10:00:57.380423Z",
     "start_time": "2025-09-06T10:00:57.365512Z"
    }
   },
   "cell_type": "code",
   "source": [
    "x = np.array( [[1, 2, 3], [4, 5, 6], [7, 8, 9]])\n",
    "\n",
    "print(\"Matrix:\\n\", x)\n",
    "\n",
    "\n",
    "print(\"Erste Zeile   :\",x[0, :]) # first line\n",
    "print(\"Erste Spalte  :\",x[:, 0]) # first column\n",
    "print(\"Erstes Element:\",x[0, 0]) # first element of first column\n",
    "\n",
    "print(\"Erste 2 Elemente der 2ten Spalte:\", x[0:2,1]) # first 2 elements of 2nd column"
   ],
   "id": "371e91a0a2c2bca3",
   "outputs": [
    {
     "name": "stdout",
     "output_type": "stream",
     "text": [
      "Matrix:\n",
      " [[1 2 3]\n",
      " [4 5 6]\n",
      " [7 8 9]]\n",
      "Erste Zeile   : [1 2 3]\n",
      "Erste Spalte  : [1 4 7]\n",
      "Erstes Element: 1\n",
      "Erste 2 Elemente der 2ten Spalte: [2 5]\n"
     ]
    }
   ],
   "execution_count": 31
  },
  {
   "metadata": {},
   "cell_type": "markdown",
   "source": "## Statistiken",
   "id": "d2957a875c18cedd"
  },
  {
   "metadata": {
    "ExecuteTime": {
     "end_time": "2025-09-06T09:55:30.146908Z",
     "start_time": "2025-09-06T09:55:30.133650Z"
    }
   },
   "cell_type": "code",
   "source": [
    "x = np.random.randint(0, 100, size=10)\n",
    "print(\"Array             :\", x)\n",
    "print(\"Mittelwert        :\", np.mean(x))\n",
    "print(\"Standardabweichung:\", np.std(x))\n",
    "print(\"Maximum           :\", np.max(x))\n",
    "print(\"Index des Maximums:\", np.argmax(x))\n"
   ],
   "id": "f7446aed9e554696",
   "outputs": [
    {
     "name": "stdout",
     "output_type": "stream",
     "text": [
      "Array             : [62  9 99 60 63 36 89 78 17 39]\n",
      "Mittelwert        : 55.2\n",
      "Standardabweichung: 28.17019701741541\n",
      "Maximum           : 99\n",
      "Index des Maximums: 2\n"
     ]
    }
   ],
   "execution_count": 27
  },
  {
   "metadata": {},
   "cell_type": "markdown",
   "source": "# Aufgaben",
   "id": "312a4418f794e8f8"
  },
  {
   "metadata": {},
   "cell_type": "markdown",
   "source": [
    "## Calculations\n",
    "\n",
    "Führen sie folgenden Aufgaben aus:\n",
    "\n",
    "**Berechnungen:**\n",
    "- Erstellen Sie die folgenden drei Numpy Arrays.\n",
    "  - a = [20,30,40,50]\n",
    "  - b = [10,15,10,75]\n",
    "  - c = [17,12,-3,52]\n",
    "- Berechnen Sie elementweise:\n",
    "  - x = a - b\n",
    "  - y = x + c\n",
    "- Geben Sie die Resultate auf der Konsole aus.\n",
    "\n",
    "**6er Reihe:**\n",
    "- Erstellen Sie einen Numpy Array mit den Werten der 6er Reihe (verwenden Sie dazu die Range Funktion).\n",
    "- Berechnen Sie folgende Werte und geben Sie diese auf der Konsole aus:\n",
    "  - Minimum\n",
    "  - Maximum\n",
    "  - Mittelwert\n",
    "  - Standardabweichung\n",
    "\n",
    "**Lottozahlen:**\n",
    "- Erstellen Sie mit der Numpy Funktion ranom.randint() sechs Zufallszahlen im Bereich von 1 bis 45.\n",
    "- Jede Zufallszahl darf nur einmal vorkommen in der generierten Liste.\n",
    "- Geben Sie die Zahlen auf der Konsole aus.\n",
    "\n",
    "Beispiel Ausgabe:\n",
    "```\n",
    "Berechnungen:\n",
    "x: [ 10  15  30 -25]\n",
    "y: [27 27 27 27]\n",
    "\n",
    "6er Reihe: [ 6 12 18 24 30 36 42 48 54 60]\n",
    "Minimum: 6\n",
    "Maximum: 60\n",
    "Mittelwert: 33.0\n",
    "Standardabweichung: 17.233687939614086\n",
    "\n",
    "Lottozahlen:\n",
    "{34, 3, 8, 43, 18, 25}\n",
    "```\n"
   ],
   "id": "2186adf87ae849b6"
  },
  {
   "metadata": {
    "ExecuteTime": {
     "end_time": "2025-09-06T11:32:04.647591Z",
     "start_time": "2025-09-06T11:32:04.632179Z"
    }
   },
   "cell_type": "code",
   "source": [
    "import numpy as np\n",
    "\n",
    "# Part I - Berechnungen\n",
    "a = np.array([20,30,40,50])\n",
    "b = np.array([10,15,10,75])\n",
    "c = np.array([17,12,-3,52])\n",
    "\n",
    "x = a - b\n",
    "y = x + c\n",
    "\n",
    "print(\"Berechnungen:\")\n",
    "print(\"x:\", x)\n",
    "print(\"y:\", y)\n",
    "\n",
    "\n",
    "# Part II - 6er Reihen\n",
    "r6 = np.array(range(6,66,6))\n",
    "print(\"\\n6er Reihe:\", r6)\n",
    "\n",
    "print(\"Minimum:\",np.min(r6))\n",
    "print(\"Maximum:\",np.max(r6))\n",
    "print(\"Mittelwert:\",np.mean(r6))\n",
    "print(\"Standardabweichung:\",np.std(r6))\n",
    "\n",
    "\n",
    "# Part III - Lottozahlen\n",
    "print(\"\\nLottozahlen:\")\n",
    "lotto = set()\n",
    "\n",
    "while len(lotto) < 6:\n",
    "    n = np.random.randint(1, 46)\n",
    "    lotto.add(n)\n",
    "\n",
    "print(lotto)"
   ],
   "id": "1951786c0c8b129f",
   "outputs": [
    {
     "name": "stdout",
     "output_type": "stream",
     "text": [
      "Berechnungen:\n",
      "x: [ 10  15  30 -25]\n",
      "y: [27 27 27 27]\n",
      "\n",
      "6er Reihe: [ 6 12 18 24 30 36 42 48 54 60]\n",
      "Minimum: 6\n",
      "Maximum: 60\n",
      "Mittelwert: 33.0\n",
      "Standardabweichung: 17.233687939614086\n",
      "\n",
      "Lottozahlen:\n",
      "{35, 3, 36, 6, 15, 28}\n"
     ]
    }
   ],
   "execution_count": 6
  },
  {
   "metadata": {},
   "cell_type": "markdown",
   "source": [
    "## Performance\n",
    "\n",
    "In diesem Beispiel wollen wir die Performance von Numpy Operationen mit Standard Python vergleichen. Dazu lösen wir folgende Aufabe:\n",
    "\n",
    "1. Erzeuge eine Liste mit 5 Millionen Einträgen, wobei jeder Eintrag ein Tupel aus 5 Zufallszahlen (0–100) ist.\n",
    "2. Summiere die 5 Spalten einmal mit reinem Python (verschachtelte Schleifen).\n",
    "3. Summiere die 5 Spalten ein zweites Mal mit NumPy (np.sum).\n",
    "4. Miss und vergleiche die Ausführungszeit beider Varianten.\n",
    "5. Überlege: Warum ist NumPy deutlich schneller?\n",
    "\n",
    "Tipps:\n",
    "- Verwende das Modul time, um die Laufzeit mit time.time() zu messen.\n",
    "- Erstelle die Zufallsdaten mit einer List-Comprehension und random.randint().\n",
    "- Zum Summieren in Python kannst du eine Liste mit 5 Nullen anlegen und in einer Schleife Zeile für Zeile addieren.\n",
    "- In NumPy kannst du die Liste einfach in ein np.array umwandeln und mit np.sum(arr, axis=0) die Spalten aufsummieren.\n",
    "- Denke daran, die Ergebnisse (Summen und Zeit in Sekunden) am Ende auszugeben."
   ],
   "id": "dfe027254bdb8268"
  },
  {
   "metadata": {
    "ExecuteTime": {
     "end_time": "2025-09-06T11:28:36.378571Z",
     "start_time": "2025-09-06T11:28:19.050889Z"
    }
   },
   "cell_type": "code",
   "source": [
    "import time\n",
    "import random\n",
    "import numpy as np\n",
    "\n",
    "# \n",
    "# Testdaten (5 Millionen Einträge mit je 5 Zufallszahlen zwischen 0..100)\n",
    "#\n",
    "n = 5_000_000\n",
    "data = [(random.randint(0, 100),\n",
    "         random.randint(0, 100),\n",
    "         random.randint(0, 100),\n",
    "         random.randint(0, 100),\n",
    "         random.randint(0, 100)) for _ in range(n)]\n",
    "\n",
    "data_np = np.array(data)   # Umwandeln in NumPy Array\n",
    "\n",
    "\n",
    "# \n",
    "# Summe mit Python bilden und Zeit messen\n",
    "# \n",
    "start = time.time()\n",
    "\n",
    "sums_py = [0, 0, 0, 0, 0]\n",
    "for row in data:\n",
    "    for i in range(5):\n",
    "        sums_py[i] += row[i]\n",
    "\n",
    "end = time.time()\n",
    "time_py = round(end - start, 4)\n",
    "\n",
    "\n",
    "# \n",
    "# Summe mit NumPy bilden und Zeit messen\n",
    "# \n",
    "start = time.time()\n",
    "\n",
    "sums_np = np.sum(data_np, axis=0)\n",
    "\n",
    "end = time.time()\n",
    "time_np = round(end - start, 4)\n",
    "time_np_percent = round(100 * time_np / time_py, 2)\n",
    "\n",
    "#\n",
    "# Ergebnisse\n",
    "#\n",
    "print(f\"Summen mit Python: {sums_py}\")\n",
    "print(f\"Zeit mit Python  : {time_py} (100.00%)\")\n",
    "\n",
    "print(f\"Summen mit Numpy : {sums_np}\")\n",
    "print(f\"Zeit mit Numpy   : {time_np} ({time_np_percent}%)\")"
   ],
   "id": "cc6b25b205e4042f",
   "outputs": [
    {
     "name": "stdout",
     "output_type": "stream",
     "text": [
      "Summen mit Python: [249999206, 249953711, 249994128, 250114718, 249903739]\n",
      "Zeit mit Python  : 2.8904 (100.00%)\n",
      "Summen mit Numpy : [249999206 249953711 249994128 250114718 249903739]\n",
      "Zeit mit Numpy   : 0.0399 (1.38%)\n"
     ]
    }
   ],
   "execution_count": 5
  }
 ],
 "metadata": {
  "kernelspec": {
   "display_name": "Python 3",
   "language": "python",
   "name": "python3"
  },
  "language_info": {
   "name": "python",
   "version": "3.11"
  }
 },
 "nbformat": 4,
 "nbformat_minor": 5
}
