{
 "cells": [
  {
   "cell_type": "markdown",
   "id": "8188fc28",
   "metadata": {},
   "source": [
    "# Übung FruitBasket\n",
    "\n",
    "Mit dieser Übung soll das Thema **Operator Overloading** in Python anhand von einem praktischen Beispiel erörtert werden. Dazu wollen wir eine Klasse `Fruchtkorb` erstellen, die verschiedene Früchte enthält und die Addition von zwei Körben sowohl über den `+` Operator als auch über eine alternative Methode `.add()` ermöglicht."
   ]
  },
  {
   "cell_type": "markdown",
   "id": "c2f7a1b6",
   "metadata": {},
   "source": [
    "\n",
    "## Einführung\n",
    "\n",
    "In Python sind Operatoren wie `+`, `-`, `*` usw. eigentlich nur **Abkürzungen für spezielle Methoden** (*Magic Methods*).  \n",
    "Beispiel:\n",
    "- `a + b` ruft `a.__add__(b)` auf.  \n",
    "- `a == b` ruft `a.__eq__(b)` auf.\n",
    "\n",
    "Mit **Operator Overloading** kann man definieren, wie sich eigene Klassen bei diesen Operatoren verhalten sollen.\n"
   ]
  },
  {
   "cell_type": "markdown",
   "id": "417414b1",
   "metadata": {},
   "source": [
    "\n",
    "## Übersicht Operatoren\n",
    "\n",
    "| Operator | Methode        | Beschreibung            |\n",
    "|----------|---------------|-------------------------|\n",
    "| `+`      | `__add__`     | Addition                |\n",
    "| `-`      | `__sub__`     | Subtraktion             |\n",
    "| `*`      | `__mul__`     | Multiplikation          |\n",
    "| `/`      | `__truediv__` | Division                |\n",
    "| `//`     | `__floordiv__`| Ganzzahldivision        |\n",
    "| `%`      | `__mod__`     | Modulo                  |\n",
    "| `**`     | `__pow__`     | Potenzieren             |\n",
    "| `==`     | `__eq__`      | Gleichheit              |\n",
    "| `!=`     | `__ne__`      | Ungleichheit            |\n",
    "| `<`      | `__lt__`      | Kleiner als             |\n",
    "| `<=`     | `__le__`      | Kleiner oder gleich     |\n",
    "| `>`      | `__gt__`      | Größer als              |\n",
    "| `>=`     | `__ge__`      | Größer oder gleich      |\n",
    "| `len()`  | `__len__`     | Länge zurückgeben       |\n",
    "| `str()`  | `__str__`     | String-Darstellung      |\n",
    "| `repr()` | `__repr__`    | Entwicklerdarstellung   |\n"
   ]
  },
  {
   "cell_type": "markdown",
   "id": "f08ba5f6",
   "metadata": {},
   "source": [
    "\n",
    "## Vor- und Nachteile\n",
    "\n",
    "**Vorteile**\n",
    "- Macht Klassen intuitiver benutzbar (`fruit_basket1 + fruit_basket2`)\n",
    "- Erhöht Lesbarkeit und Verständlichkeit  \n",
    "- Integration in Python-Ökosystem (`len(obj)`, `print(obj)`)\n",
    "\n",
    "**Nachteile**\n",
    "- Kann Code verwirrend machen, wenn Operatoren „ungewöhnlich“ verwendet werden  \n",
    "- Muss sorgfältig implementiert werden  \n",
    "- Weniger explizit als Methodenaufrufe (`.add()` ist manchmal klarer)\n",
    "\n",
    "## Programmiersprachen\n",
    "- Neben Python kennt auch **C++** die Möglichkeit von Operator Overlaoding\n",
    "- Moderne Programmiersprachen wie **Java** oder **C#** unterstützen das Konzept nicht.\n",
    "\n",
    ">Es gibt auch alternative Möglichkeiten zum Operator Overloading. Wir schauen uns beide Varianten anhand von nachfolgenden Beispiel an.\n",
    "\n"
   ]
  },
  {
   "cell_type": "markdown",
   "source": [
    "# Aufgabe\n",
    "\n",
    "1. Erstellen eine Klasse FruitBasket welche 3 Früchte beinhalten kann.\n",
    "2. Via Konstruktor kann ein Früchtekorb erstellt werden und die Anzahl der verschiedenen Früchte kann angegeben werden.\n",
    "3. Erstelle die Funktion für den **+** Operator\n",
    "4. Schreiben ein Testprogramm, dass zwei Fruchtkörbe erstellt und diese dann miteinander addiert. Geben den neuen Fruchtkorb mit der Anzahl der Fürchte aus. Überschreibe dazu die `__str__` Funktion\n",
    "5. Erstelle eine alternative Funktion `add(self, other)` mit der auch zwei Früchtekörbe zusammen addiert werden könnnen. Teste auch diese Funktion."
   ],
   "metadata": {
    "collapsed": false
   },
   "id": "9682493fc1e827eb"
  },
  {
   "metadata": {},
   "cell_type": "markdown",
   "source": "# Lösung",
   "id": "9b86dd6eafc2acc9"
  },
  {
   "cell_type": "code",
   "execution_count": 5,
   "id": "9ef0d766",
   "metadata": {},
   "outputs": [],
   "source": [
    "\n",
    "class FruitBasket:\n",
    "\n",
    "    def __init__(self, apple, orange, banana):\n",
    "        self.apple = apple\n",
    "        self.orange = orange\n",
    "        self.banana = banana\n",
    "\n",
    "    def __add__(self, other):\n",
    "        if not isinstance(other, FruitBasket):\n",
    "            return NotImplemented\n",
    "        # Creae new Fruitbasket with total of self and other\n",
    "        return FruitBasket(\n",
    "            self.apple  + other.apple,\n",
    "            self.orange + other.orange,\n",
    "            self.banana + other.banana\n",
    "        )\n",
    "\n",
    "    def add(self, other):\n",
    "        if not isinstance(other, FruitBasket):\n",
    "            raise TypeError(\"other must be of type FruitBasket\")\n",
    "        # Creae new Fruitbasket with total of self and other\n",
    "        return FruitBasket(\n",
    "            self.apple  + other.apple,\n",
    "            self.orange + other.orange,\n",
    "            self.banana + other.banana\n",
    "        )\n",
    "\n",
    "    def __str__(self):\n",
    "        return f\"FruitBasket with apple={self.apple}, orange={self.orange}, banana={self.banana}\""
   ]
  },
  {
   "cell_type": "code",
   "execution_count": 8,
   "outputs": [
    {
     "name": "stdout",
     "output_type": "stream",
     "text": [
      "FruitBasket with apple=3, orange=5, banana=2\n",
      "FruitBasket with apple=1, orange=2, banana=4\n",
      "FruitBasket with apple=4, orange=7, banana=6\n",
      "FruitBasket with apple=4, orange=7, banana=6\n"
     ]
    }
   ],
   "source": [
    "basket1 = FruitBasket(3,5,2)\n",
    "basket2 = FruitBasket(1,2,4)\n",
    "\n",
    "print(basket1)\n",
    "print(basket2)\n",
    "\n",
    "basket3 = basket1 + basket2\n",
    "print(basket3)\n",
    "\n",
    "basket4 = basket1.add(basket2)\n",
    "print(basket4)"
   ],
   "metadata": {
    "collapsed": false
   },
   "id": "542bb48b6cf3b41e"
  }
 ],
 "metadata": {},
 "nbformat": 4,
 "nbformat_minor": 5
}
