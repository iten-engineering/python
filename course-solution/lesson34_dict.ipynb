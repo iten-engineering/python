{
 "metadata": {
  "kernelspec": {
   "name": "python3",
   "display_name": "Python 3 (ipykernel)",
   "language": "python"
  },
  "language_info": {
   "file_extension": ".py",
   "mimetype": "text/x-python",
   "name": "python",
   "version": "3.13.1"
  }
 },
 "nbformat_minor": 5,
 "nbformat": 4,
 "cells": [
  {
   "id": "1302ef03-c3e8-4f1f-9ea6-89beecee0612",
   "cell_type": "markdown",
   "source": [
    "# Dictionaries\n",
    "\n",
    "Ein Dictionary (dict) ist eine Sammlung von Schlüssel-Wert-Paaren.\n",
    "- Jeder Schlüssel (key) ist eindeutig.\n",
    "- Werte (value) können beliebigen Datentyp haben.\n",
    "- Die Werte können via key gelesen werden.\n",
    "- Dictionaries sind veränderlich (mutable).\n",
    "\n",
    "Sie eignen sich, um Daten mit klarer Zuordnung zu speichern, z. B. Namen und Telefonnummern, IDs und Objekte oder Produkte und Preise."
   ],
   "metadata": {}
  },
  {
   "id": "8e86ff34-ebb1-4754-ad93-b74da30f7676",
   "cell_type": "markdown",
   "source": [
    "## Initialisierung"
   ],
   "metadata": {}
  },
  {
   "id": "44ab51fa-6b2c-4a86-bdd6-9759fd3041c6",
   "cell_type": "code",
   "source": [
    "# Leeres Dictionary\n",
    "leeres_dict = {}\n",
    "\n",
    "# Mit Werten\n",
    "person = {\n",
    "    \"name\": \"Tom\",\n",
    "    \"alter\": 30,\n",
    "    \"stadt\": \"Bern\"\n",
    "}\n",
    "\n",
    "# Mit dict() Konstruktor\n",
    "person2 = dict(name=\"Selina\", alter=24, stadt=\"Bern\")\n",
    "\n",
    "print(person)\n",
    "print(person2)"
   ],
   "metadata": {
    "trusted": true,
    "ExecuteTime": {
     "end_time": "2025-08-29T18:38:06.262657Z",
     "start_time": "2025-08-29T18:38:06.249470Z"
    }
   },
   "outputs": [
    {
     "name": "stdout",
     "output_type": "stream",
     "text": [
      "{'name': 'Tom', 'alter': 30, 'stadt': 'Bern'}\n",
      "{'name': 'Selina', 'alter': 24, 'stadt': 'Bern'}\n"
     ]
    }
   ],
   "execution_count": 6
  },
  {
   "id": "3b6da99a-f9c4-4280-9f79-6060ad81ac9f",
   "cell_type": "markdown",
   "source": [
    "## Dict Operationen"
   ],
   "metadata": {}
  },
  {
   "id": "1ca99571-7851-4bd5-bccb-2ce31c9246d2",
   "cell_type": "markdown",
   "source": [
    "### read (via key)"
   ],
   "metadata": {}
  },
  {
   "id": "9a4e85cf-cbd0-4ab6-8f86-405ff97153d8",
   "cell_type": "code",
   "source": [
    "person = {\"name\": \"Selina\", \"alter\": 24, \"stadt\": \"Bern\"}\n",
    "\n",
    "# Zugriff auf einen Wert\n",
    "print(person[\"name\"]) \n",
    "print(person.get(\"alter\"))  "
   ],
   "metadata": {
    "trusted": true,
    "ExecuteTime": {
     "end_time": "2025-08-29T18:45:33.580503Z",
     "start_time": "2025-08-29T18:45:33.567671Z"
    }
   },
   "outputs": [
    {
     "name": "stdout",
     "output_type": "stream",
     "text": [
      "Selina\n",
      "24\n"
     ]
    }
   ],
   "execution_count": 15
  },
  {
   "id": "ffaf81f5-5f9e-4c27-a690-0757d2dff31e",
   "cell_type": "markdown",
   "source": [
    "### insert (assign new value)"
   ],
   "metadata": {}
  },
  {
   "id": "c7ecfa13-6e6f-476a-84cb-43e2fd82c7d9",
   "cell_type": "code",
   "source": [
    "person[\"beruf\"] = \"Ärztin\"\n",
    "print(person)"
   ],
   "metadata": {
    "trusted": true,
    "ExecuteTime": {
     "end_time": "2025-08-29T18:46:01.642756Z",
     "start_time": "2025-08-29T18:46:01.629114Z"
    }
   },
   "outputs": [
    {
     "name": "stdout",
     "output_type": "stream",
     "text": [
      "{'name': 'Selina', 'alter': 31, 'stadt': 'Zürich', 'hobby': 'Fahrrad', 'beruf': 'Ärztin'}\n"
     ]
    }
   ],
   "execution_count": 20
  },
  {
   "metadata": {},
   "cell_type": "markdown",
   "source": [
    "### update (assign existing value)"
   ],
   "id": "52c438134ac928f3"
  },
  {
   "metadata": {
    "ExecuteTime": {
     "end_time": "2025-08-29T18:45:57.629223Z",
     "start_time": "2025-08-29T18:45:57.617840Z"
    }
   },
   "cell_type": "code",
   "source": [
    "person[\"alter\"] = 31\n",
    "print(person)\n"
   ],
   "id": "9ded80648e51acbb",
   "outputs": [
    {
     "name": "stdout",
     "output_type": "stream",
     "text": [
      "{'name': 'Selina', 'alter': 31, 'stadt': 'Zürich', 'hobby': 'Fahrrad'}\n"
     ]
    }
   ],
   "execution_count": 19
  },
  {
   "metadata": {},
   "cell_type": "markdown",
   "source": [
    "### update (merge with 2nd dict)"
   ],
   "id": "de1f8cabea52391"
  },
  {
   "metadata": {
    "ExecuteTime": {
     "end_time": "2025-08-29T18:45:54.432374Z",
     "start_time": "2025-08-29T18:45:54.417841Z"
    }
   },
   "cell_type": "code",
   "source": [
    "zusatz = {\"hobby\": \"Fahrrad\", \"stadt\": \"Zürich\"}  # 'stadt' wird überschrieben\n",
    "person.update(zusatz)\n",
    "\n",
    "print(person)"
   ],
   "id": "7990a0852c67f0e2",
   "outputs": [
    {
     "name": "stdout",
     "output_type": "stream",
     "text": [
      "{'name': 'Selina', 'alter': 24, 'stadt': 'Zürich', 'hobby': 'Fahrrad'}\n"
     ]
    }
   ],
   "execution_count": 18
  },
  {
   "metadata": {
    "ExecuteTime": {
     "end_time": "2025-08-29T18:50:10.429264Z",
     "start_time": "2025-08-29T18:50:10.419481Z"
    }
   },
   "cell_type": "code",
   "source": [
    "d = {1: \"Hello\", 2: \"Tom\"}\n",
    "print(d)    \n",
    "\n",
    "# Update/Merge dict with other dictionary\n",
    "dx = {2: \"Selina\", 3: \"have a nice day\"}\n",
    "d.update(dx)         # Update existing entries, insert new entries\n",
    "print(d)    "
   ],
   "id": "97e07cc0e804a349",
   "outputs": [
    {
     "name": "stdout",
     "output_type": "stream",
     "text": [
      "{1: 'Hello', 2: 'Tom'}\n",
      "{1: 'Hello', 2: 'Selina', 3: 'have a nice day'}\n"
     ]
    }
   ],
   "execution_count": 22
  },
  {
   "metadata": {},
   "cell_type": "markdown",
   "source": [
    "### pop, del"
   ],
   "id": "429b760808c28faa"
  },
  {
   "metadata": {
    "ExecuteTime": {
     "end_time": "2025-08-29T18:46:11.414804Z",
     "start_time": "2025-08-29T18:46:11.398933Z"
    }
   },
   "cell_type": "code",
   "source": [
    "print(person)\n",
    "del person[\"beruf\"]       \n",
    "print(person)\n",
    "\n",
    "wert = person.pop(\"hobby\") # entfernt 'hobby' und gibt den Wert zurück\n",
    "print(person)\n",
    "print(wert)"
   ],
   "id": "5f5fe7b77451e92",
   "outputs": [
    {
     "name": "stdout",
     "output_type": "stream",
     "text": [
      "{'name': 'Selina', 'alter': 31, 'stadt': 'Zürich', 'hobby': 'Fahrrad', 'beruf': 'Ärztin'}\n",
      "{'name': 'Selina', 'alter': 31, 'stadt': 'Zürich', 'hobby': 'Fahrrad'}\n",
      "Fahrrad\n",
      "{'name': 'Selina', 'alter': 31, 'stadt': 'Zürich'}\n"
     ]
    }
   ],
   "execution_count": 21
  },
  {
   "metadata": {},
   "cell_type": "markdown",
   "source": [
    "## Iterationen"
   ],
   "id": "9ecbaf27856b8632"
  },
  {
   "metadata": {},
   "cell_type": "markdown",
   "source": [
    "### keys"
   ],
   "id": "2b38902822ef3672"
  },
  {
   "metadata": {
    "ExecuteTime": {
     "end_time": "2025-08-29T18:55:03.488487Z",
     "start_time": "2025-08-29T18:55:03.472748Z"
    }
   },
   "cell_type": "code",
   "source": [
    "person = {\"name\": \"Selina\", \"alter\": 24, \"stadt\": \"Bern\"}\n",
    "\n",
    "for key in person.keys():\n",
    "    value = person[key]\n",
    "    print(f\"{key} = {value}\")\n"
   ],
   "id": "61eccb03bea5f710",
   "outputs": [
    {
     "name": "stdout",
     "output_type": "stream",
     "text": [
      "name = Selina\n",
      "alter = 24\n",
      "stadt = Bern\n"
     ]
    }
   ],
   "execution_count": 24
  },
  {
   "metadata": {},
   "cell_type": "markdown",
   "source": [
    "### values"
   ],
   "id": "3ed22e33b02b9ee1"
  },
  {
   "metadata": {
    "ExecuteTime": {
     "end_time": "2025-08-29T18:55:28.112507Z",
     "start_time": "2025-08-29T18:55:28.103529Z"
    }
   },
   "cell_type": "code",
   "source": [
    "for value in person.values():\n",
    "    print(value)"
   ],
   "id": "976a85d75bd4cfa7",
   "outputs": [
    {
     "name": "stdout",
     "output_type": "stream",
     "text": [
      "Selina\n",
      "24\n",
      "Bern\n"
     ]
    }
   ],
   "execution_count": 25
  },
  {
   "metadata": {},
   "cell_type": "markdown",
   "source": [
    "### items"
   ],
   "id": "e4b9cabd746c8a9d"
  },
  {
   "metadata": {
    "ExecuteTime": {
     "end_time": "2025-08-29T18:56:10.083625Z",
     "start_time": "2025-08-29T18:56:10.069516Z"
    }
   },
   "cell_type": "code",
   "source": [
    "for key, value in person.items():\n",
    "    print(f\"{key} = {value}\")"
   ],
   "id": "21f08f80067a906a",
   "outputs": [
    {
     "name": "stdout",
     "output_type": "stream",
     "text": [
      "name = Selina\n",
      "alter = 24\n",
      "stadt = Bern\n"
     ]
    }
   ],
   "execution_count": 26
  },
  {
   "metadata": {},
   "cell_type": "markdown",
   "source": [
    "# Aufgaben"
   ],
   "id": "2172e614773ab96e"
  },
  {
   "metadata": {},
   "cell_type": "markdown",
   "source": [
    "### I18N\n",
    "\n",
    "- Verwalten Sie die Greetings aus der Tabelle in einem Dictionary mit dem\n",
    "  Key als Schlüssel.\n",
    "\n",
    "  | Key  | Greeting     | \n",
    "  | --- | ------------- | \n",
    "  | de  | Guten morgen  |\n",
    "  | fr  | Bon jour      |\n",
    "  | it  | Buongiorno    |\n",
    "  | en  | Good morning  |\n",
    "\n",
    "- Lesen Sie eine Namen und den Sprachschlüssel von der Konsole ein und Grüssen Sie die Person in Ihrer Sprache.\n",
    "- Falls ein ungültiger Schrachschlüssel eingegeben wird, verwenden Sie als Default den Key für Englisch. \n",
    "- Beispiel Ausgabe:\n",
    "  ```\n",
    "  Geben Sie bitte Ihren Namen ein: Anna\n",
    "  Wählen Sie die Sprache [de, fr, it, en]: fr\n",
    "  Bon jour\n",
    "  Anna\n",
    "  ```"
   ],
   "id": "3b84a013c6891832"
  },
  {
   "metadata": {
    "ExecuteTime": {
     "end_time": "2025-08-29T18:59:23.658268Z",
     "start_time": "2025-08-29T18:59:06.840027Z"
    }
   },
   "cell_type": "code",
   "source": [
    "i18n = {\n",
    "    \"de\" : \"Guten morgen\",\n",
    "    \"fr\" : \"Bon jour\",\n",
    "    \"it\" : \"Buongiorno\",\n",
    "    \"en\" : \"Good morning\"\n",
    "}\n",
    "\n",
    "name = input(\"Geben Sie bitte Ihren Namen ein: \")\n",
    "key = input(\"Wählen Sie die Sprache [de, fr, it, en]: \")\n",
    "\n",
    "# check if key is available\n",
    "key = key if key in i18n.keys() else \"en\"\n",
    "\n",
    "# greeting\n",
    "greeting = i18n[key]\n",
    "print(greeting)\n",
    "print(name)"
   ],
   "id": "5d758bef2c44e6cb",
   "outputs": [
    {
     "name": "stdout",
     "output_type": "stream",
     "text": [
      "Bon jour\n",
      "Selina\n"
     ]
    }
   ],
   "execution_count": 27
  },
  {
   "metadata": {},
   "cell_type": "markdown",
   "source": [
    "### Artikel\n",
    "\n",
    "- Verwalten Sie die Artikel aus der Tabelle in einem Dictionary:\n",
    "  - Als Schlüssel können Sie die Artikel Nummer verwenden. \n",
    "  - Damit kann auf eine weiteren Dictionary Eintrag zugegriffen werden, welcher die Artikeldaten beinhaltet.\n",
    "\n",
    "  | Nr  | Name                      | Price  |\n",
    "  | --- | ------------------------- | ------ |\n",
    "  | 11  | Bildschirm Belinea X3     | 499.50 |\n",
    "  | 12  | PC Tastatur Swiss German  |  35.00 |\n",
    "  | 13  | Logitec Maus              |  17.25 |\n",
    "  | 14  | USB Hub                   |  25.70 |\n",
    "  | 15  | Lautsprecher X66-12       |  87.90 |\n",
    "\n",
    "- Geben Sie nun alle Artikel auf der Konsole aus.  \n",
    "- Suchen Sie den Artikel mit dem tiefsten Preis und geben Sie diesen auf der Konsole aus.\n",
    "- Aktualisieren Sie alle Artikel Preise und geben Sie einen Disount von 20%. \n",
    "  Geben Sie die Artikel auf der Konsole aus.\n",
    "- Beispiel Ausgabe:\n",
    "  ```\n",
    "  List all articles:\n",
    "  {'name': 'Bildschirm Belinea X3', 'price': 499.5}\n",
    "  {'name': 'PC Tastatur Swiss German', 'price': 35.0}\n",
    "  {'name': 'Logitec Maus', 'price': 17.25}\n",
    "  {'name': 'USB Hub', 'price': 25.7}\n",
    "  {'name': 'Lautsprecher X66-12', 'price': 87.9}\n",
    "\n",
    "  Show article with lowest price:\n",
    "  {'name': 'Logitec Maus', 'price': 17.25}\n",
    "\n",
    "  Give a 20% discount of all prices and list articles:\n",
    "  {'name': 'Bildschirm Belinea X3', 'price': 399.6}\n",
    "  {'name': 'PC Tastatur Swiss German', 'price': 28.0}\n",
    "  {'name': 'Logitec Maus', 'price': 13.8}\n",
    "  {'name': 'USB Hub', 'price': 20.560000000000002}\n",
    "  {'name': 'Lautsprecher X66-12', 'price': 70.32000000000001}\n",
    "  ```\n"
   ],
   "id": "33865a1a930af2ee"
  },
  {
   "metadata": {
    "ExecuteTime": {
     "end_time": "2025-08-29T19:00:24.978523Z",
     "start_time": "2025-08-29T19:00:24.963601Z"
    }
   },
   "cell_type": "code",
   "source": [
    "articles = {\n",
    "    11: {\n",
    "        \"name\"  : \"Bildschirm Belinea X3\",\n",
    "        \"price\" : 499.50\n",
    "    },\n",
    "    12: {\n",
    "        \"name\"  : \"PC Tastatur Swiss German\",\n",
    "        \"price\" : 35.00\n",
    "    },\n",
    "    13: {\n",
    "        \"name\"  : \"Logitec Maus\",\n",
    "        \"price\" : 17.25\n",
    "    },\n",
    "    14: {\n",
    "        \"name\"  : \"USB Hub\",\n",
    "        \"price\" : 25.70\n",
    "    },\n",
    "    15: {\n",
    "        \"name\"  : \"Lautsprecher X66-12\",\n",
    "        \"price\" : 87.90\n",
    "    }\n",
    "}"
   ],
   "id": "cc283d0bc2f947f",
   "outputs": [],
   "execution_count": 28
  },
  {
   "metadata": {
    "ExecuteTime": {
     "end_time": "2025-08-29T19:00:40.374381Z",
     "start_time": "2025-08-29T19:00:40.351726Z"
    }
   },
   "cell_type": "code",
   "source": [
    "print(\"List all articles:\")\n",
    "for nr in articles:\n",
    "    print(articles[nr])"
   ],
   "id": "168b78c42d56e417",
   "outputs": [
    {
     "name": "stdout",
     "output_type": "stream",
     "text": [
      "List all articles:\n",
      "{'name': 'Bildschirm Belinea X3', 'price': 499.5}\n",
      "{'name': 'PC Tastatur Swiss German', 'price': 35.0}\n",
      "{'name': 'Logitec Maus', 'price': 17.25}\n",
      "{'name': 'USB Hub', 'price': 25.7}\n",
      "{'name': 'Lautsprecher X66-12', 'price': 87.9}\n"
     ]
    }
   ],
   "execution_count": 29
  },
  {
   "metadata": {
    "ExecuteTime": {
     "end_time": "2025-08-29T19:00:57.262757Z",
     "start_time": "2025-08-29T19:00:57.247973Z"
    }
   },
   "cell_type": "code",
   "source": [
    "print(\"Show article with lowest price:\")\n",
    "\n",
    "article = None\n",
    "for nr in articles:\n",
    "    if article is None:\n",
    "        article = articles[nr]\n",
    "        continue\n",
    "    if articles[nr][\"price\"] < article[\"price\"]:\n",
    "        article = articles[nr]\n",
    "\n",
    "print(article)"
   ],
   "id": "4439818204ae03e9",
   "outputs": [
    {
     "name": "stdout",
     "output_type": "stream",
     "text": [
      "Show article with lowest price:\n",
      "{'name': 'Logitec Maus', 'price': 17.25}\n"
     ]
    }
   ],
   "execution_count": 30
  },
  {
   "metadata": {
    "ExecuteTime": {
     "end_time": "2025-08-29T19:01:17.812425Z",
     "start_time": "2025-08-29T19:01:17.804280Z"
    }
   },
   "cell_type": "code",
   "source": [
    "print(\"Give a 20% discount of all prices and list articles:\")\n",
    "\n",
    "for nr in articles:\n",
    "    articles[nr][\"price\"] = articles[nr][\"price\"] * 0.8\n",
    "    print(articles[nr])"
   ],
   "id": "27f667dacab717ea",
   "outputs": [
    {
     "name": "stdout",
     "output_type": "stream",
     "text": [
      "Give a 20% discount of all prices and list articles:\n",
      "{'name': 'Bildschirm Belinea X3', 'price': 399.6}\n",
      "{'name': 'PC Tastatur Swiss German', 'price': 28.0}\n",
      "{'name': 'Logitec Maus', 'price': 13.8}\n",
      "{'name': 'USB Hub', 'price': 20.560000000000002}\n",
      "{'name': 'Lautsprecher X66-12', 'price': 70.32000000000001}\n"
     ]
    }
   ],
   "execution_count": 31
  }
 ]
}
