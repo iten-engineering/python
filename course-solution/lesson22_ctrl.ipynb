{
 "cells": [
  {
   "cell_type": "markdown",
   "id": "70e8a560",
   "metadata": {},
   "source": [
    "# Kontrollstrukturen\n",
    "\n",
    "In diesem Kapitel lernst du die grundlegenden Kontrollstrukturen in Python kennen."
   ]
  },
  {
   "cell_type": "markdown",
   "id": "4ebddcb1",
   "metadata": {},
   "source": [
    "## if-elif-else\n",
    "\n",
    "Mit `if`-Bedingungen kannst du Entscheidungen im Programmfluss treffen.\n",
    "\n",
    "**Beachte:**\n",
    "- Python verwendet Einrückungen (Indentation), um Blöcke zu definieren.\n",
    "- Es werden keine geschweiften Klammern `{}` verwendet."
   ]
  },
  {
   "cell_type": "markdown",
   "id": "f9961025",
   "metadata": {},
   "source": [
    "### if"
   ]
  },
  {
   "cell_type": "code",
   "execution_count": 2,
   "id": "6d9dba67",
   "metadata": {},
   "outputs": [
    {
     "name": "stdout",
     "output_type": "stream",
     "text": [
      "x ist größer als 5\n"
     ]
    }
   ],
   "source": [
    "x = 10\n",
    "if x > 5:\n",
    "    print('x ist größer als 5')"
   ]
  },
  {
   "cell_type": "markdown",
   "id": "d6d22645",
   "metadata": {},
   "source": [
    "### if-else"
   ]
  },
  {
   "cell_type": "code",
   "execution_count": 3,
   "id": "0348b0fd",
   "metadata": {},
   "outputs": [
    {
     "name": "stdout",
     "output_type": "stream",
     "text": [
      "x ist 5 oder kleiner\n"
     ]
    }
   ],
   "source": [
    "x = 3\n",
    "if x > 5:\n",
    "    print('x ist größer als 5')\n",
    "else:\n",
    "    print('x ist 5 oder kleiner')"
   ]
  },
  {
   "cell_type": "markdown",
   "id": "3157f089",
   "metadata": {},
   "source": [
    "### if-elif-else"
   ]
  },
  {
   "cell_type": "code",
   "execution_count": 4,
   "id": "9fe49997",
   "metadata": {},
   "outputs": [
    {
     "name": "stdout",
     "output_type": "stream",
     "text": [
      "x ist größer als 5, aber nicht größer als 10\n"
     ]
    }
   ],
   "source": [
    "x = 7\n",
    "if x > 10:\n",
    "    print('x ist größer als 10')\n",
    "elif x > 5:\n",
    "    print('x ist größer als 5, aber nicht größer als 10')\n",
    "else:\n",
    "    print('x ist 5 oder kleiner')"
   ]
  },
  {
   "cell_type": "markdown",
   "id": "753e21a1",
   "metadata": {},
   "source": [
    "## if shorthand\n",
    "\n",
    "Der Ternary Operator ermöglicht kurze if-else Ausdrücke."
   ]
  },
  {
   "cell_type": "code",
   "execution_count": 5,
   "id": "c2689b4e",
   "metadata": {},
   "outputs": [
    {
     "name": "stdout",
     "output_type": "stream",
     "text": [
      "volljährig\n"
     ]
    }
   ],
   "source": [
    "age = 18\n",
    "status = 'volljährig' if age >= 18 else 'minderjährig'\n",
    "print(status)"
   ]
  },
  {
   "cell_type": "code",
   "execution_count": 6,
   "outputs": [
    {
     "name": "stdout",
     "output_type": "stream",
     "text": [
      "10\n",
      "10\n"
     ]
    }
   ],
   "source": [
    "a = 5\n",
    "b = 3\n",
    "\n",
    "x = 10 if a > b else 1  # better readable\n",
    "y = a > b and 10 or 1   # style more like java or other languages\n",
    "\n",
    "print(x)\n",
    "print(y)"
   ],
   "metadata": {
    "collapsed": false
   },
   "id": "ce0dec78e7a9c09f"
  },
  {
   "cell_type": "markdown",
   "id": "d29bd241",
   "metadata": {},
   "source": [
    "## match-case (seit Python 3.10)\n",
    "\n",
    "Die `match`-Anweisung ermöglicht Pattern Matching und ist eine erweiterte Form von `switch-case` aus anderen Programmiersprachen. Es ist eine alternative zu if-elif-else-Ketten."
   ]
  },
  {
   "cell_type": "code",
   "execution_count": 7,
   "id": "7e689b6d",
   "metadata": {},
   "outputs": [
    {
     "name": "stdout",
     "output_type": "stream",
     "text": [
      "Programm startet...\n"
     ]
    }
   ],
   "source": [
    "command = 'start'\n",
    "\n",
    "match command:\n",
    "    case 'start':\n",
    "        print('Programm startet...')\n",
    "    case 'stop':\n",
    "        print('Programm stoppt...')\n",
    "    case _:\n",
    "        print('Unbekannter Befehl')"
   ]
  },
  {
   "cell_type": "markdown",
   "id": "413c4e7f",
   "metadata": {},
   "source": [
    "## for loop\n",
    "\n",
    "Die `for`-Schleifen werden verwendet, um über Sequenzen (Listen, Strings, etc.) zu iterieren."
   ]
  },
  {
   "cell_type": "markdown",
   "id": "44bdb78b",
   "metadata": {},
   "source": [
    "### for"
   ]
  },
  {
   "cell_type": "code",
   "execution_count": 32,
   "id": "1adc31dc",
   "metadata": {},
   "outputs": [
    {
     "name": "stdout",
     "output_type": "stream",
     "text": [
      "winter\n",
      "is\n",
      "coming\n"
     ]
    }
   ],
   "source": [
    "words = [\"winter\",\"is\",\"coming\"]\n",
    "\n",
    "for word in words:\n",
    "    print(word)"
   ]
  },
  {
   "cell_type": "markdown",
   "source": [
    "### for reversed"
   ],
   "metadata": {
    "collapsed": false
   },
   "id": "14fa7a36bdecde0c"
  },
  {
   "cell_type": "code",
   "execution_count": 22,
   "outputs": [
    {
     "name": "stdout",
     "output_type": "stream",
     "text": [
      "winter\n",
      "is\n",
      "coming\n"
     ]
    }
   ],
   "source": [
    "words = [\"coming\",\"is\",\"winter\"]\n",
    "\n",
    "for word in reversed(words):\n",
    "    print(word)"
   ],
   "metadata": {
    "collapsed": false
   },
   "id": "642e5ff72ad665f7"
  },
  {
   "cell_type": "markdown",
   "source": [
    "### for enumerate\n",
    "\n",
    "Die Funktion `enumerate` gibt sowohl den Index als auch den Wert der Elemente in einer Sequenz zurück."
   ],
   "metadata": {
    "collapsed": false
   },
   "id": "d3b961273e868ad1"
  },
  {
   "cell_type": "code",
   "execution_count": 27,
   "outputs": [
    {
     "name": "stdout",
     "output_type": "stream",
     "text": [
      "0 winter\n",
      "1 is\n",
      "2 coming\n"
     ]
    }
   ],
   "source": [
    "words = [\"winter\",\"is\",\"coming\"]\n",
    "for index, word in enumerate(words):    # use multiple loop-variables\n",
    "    print(index, word)"
   ],
   "metadata": {
    "collapsed": false
   },
   "id": "62c2d71150110401"
  },
  {
   "cell_type": "markdown",
   "source": [
    "### for range"
   ],
   "metadata": {
    "collapsed": false
   },
   "id": "da0fa1fbf1273808"
  },
  {
   "cell_type": "code",
   "execution_count": 29,
   "outputs": [
    {
     "name": "stdout",
     "output_type": "stream",
     "text": [
      "0\n",
      "1\n",
      "2\n"
     ]
    }
   ],
   "source": [
    "for i in range(3):                     # range(n) -> 0, 1, 2, ..., n-1\n",
    "    print(i)"
   ],
   "metadata": {
    "collapsed": false
   },
   "id": "a09ed151eba21dbb"
  },
  {
   "cell_type": "markdown",
   "source": [
    "**for range with start, stop, step**\n",
    "\n",
    "- start: Anfangswert (inklusive)\n",
    "- stop: Endwert (exklusive)\n",
    "- step: Schrittweite"
   ],
   "metadata": {
    "collapsed": false
   },
   "id": "3ff360db8c56f73d"
  },
  {
   "cell_type": "code",
   "execution_count": 31,
   "outputs": [
    {
     "name": "stdout",
     "output_type": "stream",
     "text": [
      "1\n",
      "3\n",
      "5\n",
      "7\n",
      "9\n"
     ]
    }
   ],
   "source": [
    "for i in range(1, 10, 2):               # range(start, stop, step)\n",
    "    print(i)"
   ],
   "metadata": {
    "collapsed": false
   },
   "id": "695d54d998fb2968"
  },
  {
   "cell_type": "markdown",
   "source": [
    "### for zip\n",
    "Die Funktion `zip` erlaubt es, über mehrere Sequenzen gleichzeitig zu iterieren."
   ],
   "metadata": {
    "collapsed": false
   },
   "id": "f666233316a23ad4"
  },
  {
   "cell_type": "code",
   "execution_count": 25,
   "outputs": [
    {
     "name": "stdout",
     "output_type": "stream",
     "text": [
      "Peter is 31\n",
      "Jane is 35\n",
      "Fred is 4\n"
     ]
    }
   ],
   "source": [
    "names = [\"Peter\", \"Jane\", \"Fred\"]\n",
    "ages = [31, 35, 4]\n",
    "\n",
    "for name, age in zip(names, ages):      # use multiple loop-variables\n",
    "    print(name, \"is\", age)"
   ],
   "metadata": {
    "collapsed": false
   },
   "id": "d898ef88dfd1792b"
  },
  {
   "cell_type": "markdown",
   "id": "85ce6bf4",
   "metadata": {},
   "source": [
    "## list comprehension\n",
    "\n",
    "List Comprehension ermöglicht den Einsatz einer kompakten Syntax (Anstelle eines for Loop) für die Erstellung einer neuen Liste basierend auf Werten einer bestehenden Liste. Mit List Comprehensions können Listen elegant erstellt oder gefiltert werden."
   ]
  },
  {
   "cell_type": "code",
   "execution_count": 36,
   "outputs": [
    {
     "name": "stdout",
     "output_type": "stream",
     "text": [
      "['apple', 'banana', 'mango']\n"
     ]
    }
   ],
   "source": [
    "fruits = [\"apple\", \"banana\", \"cherry\", \"kiwi\", \"mango\"]\n",
    "\n",
    "# konventioneller loop\n",
    "a_fruits = []\n",
    "\n",
    "for fruit in fruits:\n",
    "    if \"a\" in fruit:\n",
    "        a_fruits.append(fruit)\n",
    "\n",
    "print(a_fruits)"
   ],
   "metadata": {
    "collapsed": false
   },
   "id": "849b5d26da8649d3"
  },
  {
   "cell_type": "code",
   "execution_count": 38,
   "id": "e76d1624",
   "metadata": {},
   "outputs": [
    {
     "name": "stdout",
     "output_type": "stream",
     "text": [
      "['apple', 'banana', 'mango']\n"
     ]
    }
   ],
   "source": [
    "fruits = [\"apple\", \"banana\", \"cherry\", \"kiwi\", \"mango\"]\n",
    "\n",
    "# list comprehension\n",
    "a_fruits = [fruit for fruit in fruits if \"a\" in fruit]\n",
    "\n",
    "print(a_fruits)"
   ]
  },
  {
   "cell_type": "markdown",
   "id": "64bc3837",
   "metadata": {},
   "source": [
    "## while loop\n",
    "Die `while`-Schleife wiederholt Anweisungen solange die Bedingung True ist."
   ]
  },
  {
   "cell_type": "code",
   "execution_count": 39,
   "id": "e2055948",
   "metadata": {},
   "outputs": [
    {
     "name": "stdout",
     "output_type": "stream",
     "text": [
      "Countdown: 3\n",
      "Countdown: 2\n",
      "Countdown: 1\n"
     ]
    }
   ],
   "source": [
    "n = 3\n",
    "while n > 0:\n",
    "    print('Countdown:', n)\n",
    "    n = n-1"
   ]
  },
  {
   "cell_type": "code",
   "execution_count": 40,
   "outputs": [
    {
     "name": "stdout",
     "output_type": "stream",
     "text": [
      "[1, 5, 4, 3, 4, 1, 8]\n",
      "26\n"
     ]
    }
   ],
   "source": [
    "data = [1, 5, 4, 3, 4, 1, 8]\n",
    "sum = 0\n",
    "\n",
    "i = 0\n",
    "while (i < len(data)):\n",
    "    value = data[i]\n",
    "    sum = sum + value\n",
    "    i = i+1;\n",
    "\n",
    "print(data)\n",
    "print(sum)"
   ],
   "metadata": {
    "collapsed": false
   },
   "id": "c94249fb6b9a4bd1"
  },
  {
   "cell_type": "markdown",
   "source": [
    "## break und continue\n",
    "\n",
    "Mit `break` und `continue` kannst du den Ablauf von Schleifen beeinflussen."
   ],
   "metadata": {
    "collapsed": false
   },
   "id": "f6f413d0fc0e4255"
  },
  {
   "cell_type": "markdown",
   "source": [
    "### break\n",
    "\n",
    "Mit der `break`-Anweisung kannst du eine Schleife vorzeitig beenden auch wenn die Schleifenbedingung noch True ist."
   ],
   "metadata": {
    "collapsed": false
   },
   "id": "d04daa39a30446eb"
  },
  {
   "cell_type": "code",
   "execution_count": 41,
   "outputs": [
    {
     "name": "stdout",
     "output_type": "stream",
     "text": [
      "0\n",
      "1\n",
      "2\n",
      "3\n",
      "4\n",
      "Schleife wird bei i=5 abgebrochen\n"
     ]
    }
   ],
   "source": [
    "for i in range(10):\n",
    "    if i == 5:\n",
    "        print(\"Schleife wird bei i=5 abgebrochen\")\n",
    "        break\n",
    "    print(i)"
   ],
   "metadata": {
    "collapsed": false
   },
   "id": "b75f534b812de410"
  },
  {
   "cell_type": "markdown",
   "source": [
    "### continue\n",
    "\n",
    "Mit der `continue`-Anweisung kannst du den aktuellen Schleifendurchlauf überspringen und mit dem nächsten fortfahren."
   ],
   "metadata": {
    "collapsed": false
   },
   "id": "689977f9b9c5e7ba"
  },
  {
   "cell_type": "code",
   "execution_count": 42,
   "outputs": [
    {
     "name": "stdout",
     "output_type": "stream",
     "text": [
      "1\n",
      "3\n",
      "5\n"
     ]
    }
   ],
   "source": [
    "for i in range(6):\n",
    "    if i % 2 == 0:\n",
    "        continue  # gerade Zahlen überspringen\n",
    "    print(i)\n"
   ],
   "metadata": {
    "collapsed": false
   },
   "id": "8935751c5dad21e4"
  },
  {
   "cell_type": "markdown",
   "source": [
    "# Aufgaben"
   ],
   "metadata": {
    "collapsed": false
   },
   "id": "36ef8c97e61ddd48"
  },
  {
   "cell_type": "markdown",
   "source": [
    "### Note\n",
    "- Schreiben sie eine Programm, das eine Note im Bereich 1-6 als Ganzahl einliest.\n",
    "  Dazu müssen sie die Eingabe mit einem Cast auf einen `ìnt` konvertieren.\n",
    "- Prüfen Sie die eingelesene Note und falls diese grösser oder gleich 4 ist, geben Sie\n",
    "  folgenden Text aus: „Der Test ist bestanden“\n",
    "- Falls die Note kleiner 4 ist geben Sie den Text „Der Test ist nicht bestanden“ aus.\n",
    "- Starten Sie das Script mit verschiedenen Werten und prüfen Sie die Ausgabe.\n",
    "- Ergänzen Sie die bisherige Ausgabe nun noch mit einer detaillierten Angabe der Bewertung:\n",
    "  - Note 6: sehr gut\n",
    "  - Note 5: gut\n",
    "  - Note 4: genügend\n",
    "  - allen anderen Fälle: ungenügend\n",
    "\n",
    "**Hinweis:**\n",
    "- Zum einlesen einer Eingabe können Sie (analog dem folgenden Beispiel) die Methode input() verwenden:\n",
    "  ```\n",
    "  eingabe = input(\"Geben Sie bitte einen Text ein:\")\n",
    "  ```\n",
    "\n",
    "**Option:**\n",
    "- Führen sie den cast in int in einem `try-except` Block aus und geben sie eine Fehlermeldung aus, falls die Zahl nicht konvertiert werden kann.  \n",
    "- Prüfen Sie ob der eingegebene Werte zwischen 1..6 liegt. Falls nicht geben sie ebenfalls eine Fehlermeldung aus.\n",
    "- Führen sie die Eingabe und die beiden obigen Prüfungen in einem `while` Loop aus, bis eine gültige Zahl eingegeben wurde; fahren sie erst dann die Programmlogik vom esten Teil aus.\n"
   ],
   "metadata": {
    "collapsed": false
   },
   "id": "cda2224447ea085b"
  },
  {
   "cell_type": "code",
   "source": [
    "while(True):\n",
    "    # Validierung Eingabe\n",
    "    try:\n",
    "        value = input(\"Note = \")\n",
    "        note = int(value)\n",
    "    except:\n",
    "        print(f\"Ungültige Eingabe: {value}\")\n",
    "        continue\n",
    "    # Validierung Wertebereich\n",
    "    if note < 1 or note > 6:\n",
    "        print(f\"Ungültige Note: {note}\")\n",
    "        continue\n",
    "    # Note korrekt eingelesen\n",
    "    print(f\"Gültige Note: {note}\")\n",
    "    break    "
   ],
   "metadata": {
    "collapsed": false,
    "ExecuteTime": {
     "end_time": "2025-09-09T16:29:33.631045Z",
     "start_time": "2025-09-09T16:29:16.760478Z"
    }
   },
   "id": "4d91712c8163ddcc",
   "outputs": [
    {
     "name": "stdout",
     "output_type": "stream",
     "text": [
      "Ungültige Note: 8\n",
      "Ungültige Eingabe: xy\n",
      "Gültige Note: 6\n"
     ]
    }
   ],
   "execution_count": 2
  },
  {
   "cell_type": "code",
   "source": [
    "# Bestanden / nicht bestanden\n",
    "if note >= 4:\n",
    "    print(\"Der Test ist bestanden\")\n",
    "else:\n",
    "    print(\"Der Test ist nicht bestanden\")\n",
    "\n",
    "# Detail Note\n",
    "match note:\n",
    "    case 6:\n",
    "        print(\"Note 6: sehr gut\")\n",
    "    case 5: \n",
    "        print(\"Note 5: gut\")\n",
    "    case 4:\n",
    "        print(\"Note 4: genügend\")\n",
    "    case _:\n",
    "        print(\"Note ungenügend\")"
   ],
   "metadata": {
    "collapsed": false,
    "ExecuteTime": {
     "end_time": "2025-09-09T16:32:53.624096Z",
     "start_time": "2025-09-09T16:32:53.599899Z"
    }
   },
   "id": "de9749f0553db1e9",
   "outputs": [
    {
     "name": "stdout",
     "output_type": "stream",
     "text": [
      "Der Test ist bestanden\n",
      "Note 6: sehr gut\n"
     ]
    }
   ],
   "execution_count": 5
  },
  {
   "cell_type": "markdown",
   "source": [
    "## Modulo\n",
    "- Erstellen sie ein Script dass nacheinander alle ungeraden Zahlen zwischen 1 und 30.\n",
    "- Verwenden sie dazu ein while und den Modulo Operator `%`."
   ],
   "metadata": {
    "collapsed": false
   },
   "id": "f54255c26e0bfae6"
  },
  {
   "cell_type": "code",
   "execution_count": 46,
   "outputs": [
    {
     "name": "stdout",
     "output_type": "stream",
     "text": [
      "1\n",
      "3\n",
      "5\n",
      "7\n",
      "9\n",
      "11\n",
      "13\n",
      "15\n",
      "17\n",
      "19\n",
      "21\n",
      "23\n",
      "25\n",
      "27\n",
      "29\n"
     ]
    }
   ],
   "source": [
    "n = 1\n",
    "while n <= 30:\n",
    "    if n % 2 == 1:\n",
    "        print(n)\n",
    "    n = n + 1"
   ],
   "metadata": {
    "collapsed": false
   },
   "id": "b953e6de8a0d418f"
  },
  {
   "cell_type": "markdown",
   "source": [
    "## Quadrat\n",
    "- Erstellen Sie ein Script, dass das in einer Schleife alle Quadratzahlen ausgibt.\n",
    "- Die Schleife soll solange durchlaufen werden, wie die berechnete Quadratzahl kleiner oder gleich 15 ist.\n",
    "- Beispiel Ausgabe:\n",
    "  ```\n",
    "  1 x 1 = 1\n",
    "  2 x 2 = 4\n",
    "  usw.\n",
    "  ```\n"
   ],
   "metadata": {
    "collapsed": false
   },
   "id": "f11e072396f0a41f"
  },
  {
   "cell_type": "code",
   "execution_count": 47,
   "outputs": [
    {
     "name": "stdout",
     "output_type": "stream",
     "text": [
      "1 * 1 = 1\n",
      "2 * 2 = 4\n",
      "3 * 3 = 9\n"
     ]
    }
   ],
   "source": [
    "num = 1\n",
    "square = num * num\n",
    "\n",
    "while square <= 15:\n",
    "    print(f\"{num} * {num} = {square}\")\n",
    "    num = num + 1\n",
    "    square = num * num"
   ],
   "metadata": {
    "collapsed": false
   },
   "id": "8039188a6ea73fe0"
  },
  {
   "cell_type": "markdown",
   "source": [
    "## Group\n",
    "\n",
    "- Erstellen Sie ein Script mit der folgenden gemischten Liste: [7.5, 'Hello', 42, None, 'World', 1.25, 69, 12]\n",
    "- Gruppieren Sie die Listeneinträge in drei verschiedene Listen für Ganzzahlen, Gleitkomma und String Typen.\n",
    "- Geben Sie das Resultat auf der Konsole aus.\n",
    "- Beispiel Ausgabe:\n",
    "  ```\n",
    "  values  = [7.5, 'Hello', 42, None, 'World', 1.25, 69, 12]\n",
    "  - int   = [42, 69, 12]\n",
    "  - float = [7.5, 1.25]\n",
    "  - str   = ['Hello', 'World']\n",
    "  ```"
   ],
   "metadata": {
    "collapsed": false
   },
   "id": "a25fe6a83c3c6339"
  },
  {
   "cell_type": "code",
   "execution_count": 48,
   "outputs": [],
   "source": [
    "values = [7.5, \"Hello\", 42, None, \"World\", 1.25, 69, 12]"
   ],
   "metadata": {
    "collapsed": false
   },
   "id": "7fa3af78cfc0f8eb"
  },
  {
   "cell_type": "code",
   "execution_count": 49,
   "outputs": [
    {
     "name": "stdout",
     "output_type": "stream",
     "text": [
      "values  = [7.5, 'Hello', 42, None, 'World', 1.25, 69, 12]\n",
      "- int   = [42, 69, 12]\n",
      "- float = [7.5, 1.25]\n",
      "- str   = ['Hello', 'World']\n"
     ]
    }
   ],
   "source": [
    "int_values = []\n",
    "float_values = []\n",
    "str_values = []\n",
    "\n",
    "for value in values:\n",
    "    if type(value) == int:\n",
    "        int_values.append(value)\n",
    "    elif type(value) == float:\n",
    "        float_values.append(value)\n",
    "    elif type(value)==str:\n",
    "        str_values.append(value)\n",
    "\n",
    "print(\"values  =\", values)\n",
    "print(\"- int   =\", int_values)\n",
    "print(\"- float =\", float_values)\n",
    "print(\"- str   =\", str_values)"
   ],
   "metadata": {
    "collapsed": false
   },
   "id": "ba189e15e5a76b9b"
  }
 ],
 "metadata": {
  "kernelspec": {
   "name": "python3",
   "language": "python",
   "display_name": "Python 3 (ipykernel)"
  }
 },
 "nbformat": 4,
 "nbformat_minor": 5
}
