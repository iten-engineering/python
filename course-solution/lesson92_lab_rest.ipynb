{
 "cells": [
  {
   "cell_type": "markdown",
   "metadata": {},
   "source": [
    "# Übung REST\n",
    "\n",
    "Mit dieser Übung soll eine REST Schnittstelle via das `request` Modul von Python aufgerufen werden. Zuerst folgt eine kurze Einführung in das HTTP Protokoll mit Code Beispielen. Anschliessend folgt eine kleine Aufgabe."
   ],
   "id": "50852c8ad0b85cb6"
  },
  {
   "cell_type": "markdown",
   "metadata": {},
   "source": [
    "## Einführung HTTP\n",
    "\n",
    "Das **HTTP-Protokoll** (HyperText Transfer Protocol) ist die Basis für die Kommunikation im Web.\n",
    "Es funktioniert nach dem **Request–Response-Prinzip**:\n",
    "\n",
    "- Der **Client** (z. B. dein Browser oder Python-Programm) stellt eine Anfrage (*Request*).\n",
    "- Der **Server** beantwortet die Anfrage mit einer Antwort (*Response*).\n",
    "\n",
    "**Wichtige HTTP-Methoden:**\n",
    "- `GET` → Daten abfragen\n",
    "- `POST` → Neue Daten erstellen\n",
    "- `PUT` → Daten komplett ersetzen\n",
    "- `PATCH` → Daten teilweise ändern\n",
    "- `DELETE` → Daten löschen\n",
    "\n",
    "**Wichtige Status Codes:**\n",
    "- `200 OK` → Alles in Ordnung\n",
    "- `201 Created` → Ressource erfolgreich erstellt\n",
    "- `400 Bad Request` → Ungültige Anfrage\n",
    "- `401 Unauthorized` → Keine Berechtigung\n",
    "- `403 Forbidden` → Zugriff verboten\n",
    "- `404 Not Found` → Ressource nicht gefunden\n",
    "- `500 Internal Server Error` → Serverfehler"
   ],
   "id": "352410cf87b26df0"
  },
  {
   "cell_type": "markdown",
   "metadata": {},
   "source": "## Get Request mit 1 Datensatz",
   "id": "83de00fe53ae3c02"
  },
  {
   "cell_type": "code",
   "metadata": {
    "ExecuteTime": {
     "end_time": "2025-09-08T15:06:58.091860Z",
     "start_time": "2025-09-08T15:06:57.824615Z"
    }
   },
   "source": [
    "import requests\n",
    "\n",
    "# Beispiel: JSONPlaceholder API (Fake REST API für Tests)\n",
    "url = \"https://jsonplaceholder.typicode.com/posts/1\"\n",
    "\n",
    "response = requests.get(url)\n",
    "\n",
    "print(\"Status Code:\", response.status_code)\n",
    "print(\"Response JSON:\")\n",
    "print(response.json())"
   ],
   "id": "d0981a47579c2c78",
   "outputs": [
    {
     "name": "stdout",
     "output_type": "stream",
     "text": [
      "Status Code: 200\n",
      "Response JSON:\n",
      "{'userId': 1, 'id': 1, 'title': 'sunt aut facere repellat provident occaecati excepturi optio reprehenderit', 'body': 'quia et suscipit\\nsuscipit recusandae consequuntur expedita et cum\\nreprehenderit molestiae ut ut quas totam\\nnostrum rerum est autem sunt rem eveniet architecto'}\n"
     ]
    }
   ],
   "execution_count": 1
  },
  {
   "cell_type": "markdown",
   "metadata": {},
   "source": "## Get Request mit mehreren Datensätzen",
   "id": "56918eb94f2aa376"
  },
  {
   "cell_type": "code",
   "metadata": {
    "ExecuteTime": {
     "end_time": "2025-09-08T15:07:15.606864Z",
     "start_time": "2025-09-08T15:07:15.562653Z"
    }
   },
   "source": [
    "url = \"https://jsonplaceholder.typicode.com/posts\"\n",
    "\n",
    "response = requests.get(url)\n",
    "\n",
    "if response.status_code == 200:\n",
    "    posts = response.json()\n",
    "    for post in posts[:5]:   # nur die ersten 5\n",
    "        print(post[\"id\"], post[\"title\"])\n",
    "else:\n",
    "    print(\"Fehler:\", response.status_code)"
   ],
   "id": "5c8691632edf375c",
   "outputs": [
    {
     "name": "stdout",
     "output_type": "stream",
     "text": [
      "1 sunt aut facere repellat provident occaecati excepturi optio reprehenderit\n",
      "2 qui est esse\n",
      "3 ea molestias quasi exercitationem repellat qui ipsa sit aut\n",
      "4 eum et est occaecati\n",
      "5 nesciunt quas odio\n"
     ]
    }
   ],
   "execution_count": 2
  },
  {
   "cell_type": "markdown",
   "metadata": {},
   "source": "## Post Request",
   "id": "eb7cf40e554379f6"
  },
  {
   "cell_type": "code",
   "metadata": {
    "ExecuteTime": {
     "end_time": "2025-09-08T15:09:10.744913Z",
     "start_time": "2025-09-08T15:09:10.610534Z"
    }
   },
   "source": [
    "new_post = {\n",
    "    \"title\": \"Mein erster Post\",\n",
    "    \"body\": \"Das ist ein Test\",\n",
    "    \"userId\": 1\n",
    "}\n",
    "\n",
    "response = requests.post(\"https://jsonplaceholder.typicode.com/posts\", json=new_post)\n",
    "\n",
    "print(\"Status Code:\", response.status_code)\n",
    "print(\"Antwort:\", response.json())"
   ],
   "id": "af24021cec429d06",
   "outputs": [
    {
     "name": "stdout",
     "output_type": "stream",
     "text": [
      "Status Code: 201\n",
      "Antwort: {'title': 'Mein erster Post', 'body': 'Das ist ein Test', 'userId': 1, 'id': 101}\n"
     ]
    }
   ],
   "execution_count": 3
  },
  {
   "cell_type": "markdown",
   "metadata": {},
   "source": [
    "# Aufgabe\n",
    "\n",
    "1. Hole alle **User** von der API (`/users`) und gib deren Namen aus.  \n",
    "2. Hole alle **Todos** (`/todos`) und filtere die erledigten Aufgaben (`completed = True`).  \n",
    "3. Erstelle einen neuen **Post** mit deinem Namen.  \n",
    "\n",
    "Tipp: Nutze `requests.get()` und `requests.post()`, so wie in den Beispielen oben."
   ],
   "id": "2065eeb6f8fe3389"
  },
  {
   "metadata": {},
   "cell_type": "markdown",
   "source": "# Lösung",
   "id": "39d6abe58142e320"
  },
  {
   "cell_type": "code",
   "metadata": {
    "ExecuteTime": {
     "end_time": "2025-09-08T15:10:11.861457Z",
     "start_time": "2025-09-08T15:10:11.825582Z"
    }
   },
   "source": [
    "# 1. User abfragen\n",
    "users_url = \"https://jsonplaceholder.typicode.com/users\"\n",
    "\n",
    "users = requests.get(users_url).json()\n",
    "\n",
    "print(\"User:\")\n",
    "for u in users:\n",
    "    print(\"-\", u[\"name\"])"
   ],
   "id": "e33c592feee1af72",
   "outputs": [
    {
     "name": "stdout",
     "output_type": "stream",
     "text": [
      "User:\n",
      "- Leanne Graham\n",
      "- Ervin Howell\n",
      "- Clementine Bauch\n",
      "- Patricia Lebsack\n",
      "- Chelsey Dietrich\n",
      "- Mrs. Dennis Schulist\n",
      "- Kurtis Weissnat\n",
      "- Nicholas Runolfsdottir V\n",
      "- Glenna Reichert\n",
      "- Clementina DuBuque\n"
     ]
    }
   ],
   "execution_count": 5
  },
  {
   "metadata": {
    "ExecuteTime": {
     "end_time": "2025-09-08T15:10:28.064492Z",
     "start_time": "2025-09-08T15:10:28.022657Z"
    }
   },
   "cell_type": "code",
   "source": [
    "# 2. Todos abfragen und erledigte filtern\n",
    "todos_url = \"https://jsonplaceholder.typicode.com/todos\"\n",
    "todos = requests.get(todos_url).json()\n",
    "\n",
    "done = [t for t in todos if t[\"completed\"]]\n",
    "print(\"\\nErledigte Aufgaben (erste 5):\")\n",
    "for t in done[:5]:\n",
    "    print(\"-\", t[\"title\"])"
   ],
   "id": "b3b9302506530b56",
   "outputs": [
    {
     "name": "stdout",
     "output_type": "stream",
     "text": [
      "\n",
      "Erledigte Aufgaben (erste 5):\n",
      "- et porro tempora\n",
      "- quo adipisci enim quam ut ab\n",
      "- illo est ratione doloremque quia maiores aut\n",
      "- vero rerum temporibus dolor\n",
      "- ipsa repellendus fugit nisi\n"
     ]
    }
   ],
   "execution_count": 7
  },
  {
   "metadata": {
    "ExecuteTime": {
     "end_time": "2025-09-08T15:12:32.151853Z",
     "start_time": "2025-09-08T15:12:32.005420Z"
    }
   },
   "cell_type": "code",
   "source": [
    "# 3. Eigenen Post erstellen\n",
    "my_post = {\n",
    "    \"title\": \"REST API Test\",\n",
    "    \"body\": \"Hallo, ich habe einen neuen Post erstellt!\",\n",
    "    \"userId\": 42\n",
    "}\n",
    "\n",
    "response = requests.post(\"https://jsonplaceholder.typicode.com/posts\", json=my_post)\n",
    "print(\"Neuer Post erstellt:\", response.json())"
   ],
   "id": "7bd0d503af6bfacd",
   "outputs": [
    {
     "name": "stdout",
     "output_type": "stream",
     "text": [
      "Neuer Post erstellt: {'title': 'REST API Test', 'body': 'Hallo, ich habe einen neuen Post erstellt!', 'userId': 42, 'id': 101}\n"
     ]
    }
   ],
   "execution_count": 10
  }
 ],
 "metadata": {
  "kernelspec": {
   "display_name": "Python 3",
   "language": "python",
   "name": "python3"
  },
  "language_info": {
   "name": "python",
   "version": "3.11"
  }
 },
 "nbformat": 4,
 "nbformat_minor": 5
}
