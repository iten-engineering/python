{
 "cells": [
  {
   "cell_type": "markdown",
   "id": "35a89029",
   "metadata": {},
   "source": [
    "# Funktionen & Lambda Expression"
   ]
  },
  {
   "cell_type": "markdown",
   "id": "c32a2846",
   "metadata": {},
   "source": [
    "## Funktionen\n",
    "\n",
    "Funktionen ohne return führen einen Block von Code aus, geben aber keinen Wert zurück."
   ]
  },
  {
   "cell_type": "code",
   "execution_count": 1,
   "id": "2bfe2ab4",
   "metadata": {},
   "outputs": [
    {
     "name": "stdout",
     "output_type": "stream",
     "text": [
      "Hello\n",
      "Hello Tom\n",
      "Hello Zoé, i wish you a nice weekend\n"
     ]
    }
   ],
   "source": [
    "def hello():\n",
    "    print(\"Hello\")\n",
    "\n",
    "def greeting(name):\n",
    "    print(\"Hello\", name)\n",
    "\n",
    "def weekend_greeting(name, greeting):\n",
    "    print(\"Hello %s, i wish you %s\"%(name, greeting))\n",
    "\n",
    "hello()\n",
    "greeting(\"Tom\")\n",
    "weekend_greeting(\"Zoé\", \"a nice weekend\")\n"
   ]
  },
  {
   "cell_type": "markdown",
   "source": [
    "## Funktionen mit Rückgabewert\n",
    "\n",
    "Funktionen mit return geben einen Wert zurück, den man weiterverwenden kann."
   ],
   "metadata": {
    "collapsed": false
   },
   "id": "2b022315b91ea7a5"
  },
  {
   "cell_type": "code",
   "execution_count": 3,
   "outputs": [
    {
     "name": "stdout",
     "output_type": "stream",
     "text": [
      "add(3,9) = 12\n"
     ]
    }
   ],
   "source": [
    "def add(a, b):\n",
    "    return a + b\n",
    "\n",
    "res = add(3,9)\n",
    "print (\"add(3,9) =\", res)\n"
   ],
   "metadata": {
    "collapsed": false
   },
   "id": "383544412a19df1d"
  },
  {
   "cell_type": "code",
   "execution_count": 4,
   "outputs": [
    {
     "name": "stdout",
     "output_type": "stream",
     "text": [
      "mean([4,8,12]) = 8.0\n"
     ]
    }
   ],
   "source": [
    "def mean(values):\n",
    "    return sum(values) / len(values)\n",
    "\n",
    "res = mean([4,8,12])\n",
    "print (\"mean([4,8,12]) =\", res)"
   ],
   "metadata": {
    "collapsed": false
   },
   "id": "8953b68002e9a8b4"
  },
  {
   "metadata": {},
   "cell_type": "markdown",
   "source": [
    "## Funktionen mit mehreren Rückgabewerten\n",
    "\n",
    "Eine Funktion kann auch mehere Rückgabewerte zurückgeben. Dabei wird im Retun eine komma-separierte Liste der gewünschten Werte angegeben:"
   ],
   "id": "e1c4dfe3fcb5eea"
  },
  {
   "metadata": {
    "ExecuteTime": {
     "end_time": "2025-09-08T06:01:51.384386Z",
     "start_time": "2025-09-08T06:01:51.378886Z"
    }
   },
   "cell_type": "code",
   "source": [
    "def getPersonAndAge():\n",
    "    name = \"Anna\"\n",
    "    age = 23\n",
    "    return name, age\n",
    "\n",
    "name, age = getPersonAndAge()\n",
    "print(name)\n",
    "print(age)"
   ],
   "id": "51497cab21a97d62",
   "outputs": [
    {
     "name": "stdout",
     "output_type": "stream",
     "text": [
      "Anna\n",
      "23\n"
     ]
    }
   ],
   "execution_count": 2
  },
  {
   "cell_type": "markdown",
   "source": [
    "## Positional und Keyword Argumente\n",
    "\n",
    "Bei den Argumenten wird zwischen Positional und Keyword Argumenten unterschieden:\n",
    "- **Positional arguments**: sind obligatorisch und werden durch ihre Position gemapped\n",
    "- **Keyword arguments**: sind fakultativ und werden durch ihre Position oder key gemapped\n",
    "- **Mixed arguments**: zuerst werden alle Argumente die die Funktion ohne key bekommen hat durch ihre Position gemapped, dann werden die Restlichen durch ihre key gemapped\n",
    "\n",
    "Weitere Möglichkeiten\n",
    "- Argumente «entpacken» mit *args und **kwargs\n",
    "- Variable Anzahl Argumente mit *args und **kwargs\n",
    "Details siehe Beispiele [unpack elements](https://github.com/iten-engineering/python/blob/main/example/02-basics/functions.py).\n"
   ],
   "metadata": {
    "collapsed": false
   },
   "id": "1f7a2a5a4092ef56"
  },
  {
   "cell_type": "code",
   "execution_count": 6,
   "outputs": [
    {
     "name": "stdout",
     "output_type": "stream",
     "text": [
      "f1: arg1=1, arg2=2, arg3=3\n",
      "f2: arg1=None, arg2=10, arg3=Default\n",
      "f2: arg1=None, arg2=22, arg3=Default\n",
      "f3: arg1=1, arg2=2, arg3=Default, arg4=99\n",
      "f3: arg1=1, arg2=2, arg3=Default, arg4=88\n"
     ]
    }
   ],
   "source": [
    "# positional arguments\n",
    "def f1(arg1, arg2, arg3):\n",
    "    print(\"f1: arg1={}, arg2={}, arg3={}\".format(arg1,arg2,arg3))\n",
    "\n",
    "\n",
    "# keyword arguments\n",
    "def f2(arg1=None, arg2=10, arg3=\"Default\"):\n",
    "    print(\"f2: arg1={}, arg2={}, arg3={}\".format(arg1,arg2,arg3))\n",
    "\n",
    "# mixed arguments\n",
    "def f3(arg1, arg2, arg3=\"Default\", arg4=99):\n",
    "    print(\"f3: arg1={}, arg2={}, arg3={}, arg4={}\".format(arg1,arg2,arg3,arg4))\n",
    "\n",
    "f1(1,2,3)\n",
    "\n",
    "f2()\n",
    "f2(arg2=22)\n",
    "\n",
    "f3(1,2)\n",
    "f3(1,2, arg4=88)"
   ],
   "metadata": {
    "collapsed": false
   },
   "id": "1312ff462c7df2c"
  },
  {
   "cell_type": "markdown",
   "source": [
    "## Variable Anzahl Argumente und Entpacken von Argumenten\n",
    "\n",
    "In Zusammenhang mit Argumenten gibt es zwei weitere Möglichkeiten:\n",
    "- Argumente «entpacken» mit *args und **kwargs\n",
    "- Variable Anzahl Argumente mit *args und **kwargs\n",
    "\n",
    "Beispiel hierzu siehe [example functions](https://github.com/iten-engineering/python/blob/main/example/02-basics/functions.py).\n"
   ],
   "metadata": {
    "collapsed": false
   },
   "id": "113b16b3dabec502"
  },
  {
   "cell_type": "markdown",
   "id": "ce48e5f0",
   "metadata": {},
   "source": [
    "## Lambda Expression\n",
    "\n",
    "Ein Lambda Funktion ist eine **kleine anonyme Funktion**\n",
    "- mit einer beliebigen Anzahl Argumente\n",
    "- und einem Ausdruck (Expression)\n",
    "\n",
    "Syntax: **lambda arguments : expression**\n"
   ]
  },
  {
   "cell_type": "code",
   "execution_count": 7,
   "id": "7a08c98d",
   "metadata": {},
   "outputs": [
    {
     "name": "stdout",
     "output_type": "stream",
     "text": [
      "7\n"
     ]
    }
   ],
   "source": [
    "add = lambda a, b : a + b\n",
    "\n",
    "print(add(1,6))"
   ]
  },
  {
   "cell_type": "markdown",
   "source": [
    "Lambda Funktionen werden oft im Zusammenhang mit der Verarbeitung von Listen Elementen verwendet. Dazu gibt es spezielle Funktionen wie `map()` und `filter()`. Details hierzu werden im Kapitel über Listen behandelt.\n"
   ],
   "metadata": {
    "collapsed": false
   },
   "id": "32ce2629f2024bb6"
  },
  {
   "cell_type": "markdown",
   "id": "de63c88f",
   "metadata": {},
   "source": [
    "# Aufgaben"
   ]
  },
  {
   "cell_type": "markdown",
   "id": "c7257674",
   "metadata": {},
   "source": [
    "## Zugansage\n",
    "\n",
    "Für die Ansage von Zugabfahrten wurde das folgende Programm erstellt. Vereinfachen Sie diese mit einer Funktion `ansage(ort)`, so dass nur noch der Ort als Parameter übergeben werden muss.\n"
   ]
  },
  {
   "cell_type": "code",
   "execution_count": 11,
   "outputs": [
    {
     "name": "stdout",
     "output_type": "stream",
     "text": [
      "Der nächste Zug fährt nach Bern.\n",
      "Der nächste Zug fährt nach Luzern.\n",
      "Der nächste Zug fährt nach Genf.\n"
     ]
    }
   ],
   "source": [
    "print(\"Der nächste Zug fährt nach Bern.\")\n",
    "print(\"Der nächste Zug fährt nach Luzern.\")\n",
    "print(\"Der nächste Zug fährt nach Genf.\")"
   ],
   "metadata": {
    "collapsed": false
   },
   "id": "36d80f155bc9e12f"
  },
  {
   "cell_type": "code",
   "execution_count": 12,
   "outputs": [
    {
     "name": "stdout",
     "output_type": "stream",
     "text": [
      "Der nächste Zug fährt nach Bern.\n",
      "Der nächste Zug fährt nach Luzern.\n",
      "Der nächste Zug fährt nach Genf.\n"
     ]
    }
   ],
   "source": [
    "def ansage(ort):\n",
    "    print(f\"Der nächste Zug fährt nach {ort}.\")\n",
    "\n",
    "ansage(\"Bern\")\n",
    "ansage(\"Luzern\")\n",
    "ansage(\"Genf\")"
   ],
   "metadata": {
    "collapsed": false
   },
   "id": "1f01130bc46139cd"
  },
  {
   "cell_type": "markdown",
   "id": "ab3120e7",
   "metadata": {},
   "source": [
    "## Quadrat\n",
    "- Erstellen Sie einen Lambda Ausdruck, der als Parameter eine Zahl erhält und die\n",
    "  Quadratzahl zurückgibt.\n",
    "- Testen Sie den Lambda Ausdruck mit einigen Zahlen."
   ]
  },
  {
   "cell_type": "code",
   "execution_count": 13,
   "outputs": [
    {
     "name": "stdout",
     "output_type": "stream",
     "text": [
      "4\n",
      "25\n",
      "49\n"
     ]
    }
   ],
   "source": [
    "square = lambda x: x * x\n",
    "\n",
    "print(square(2))\n",
    "print(square(5))\n",
    "print(square(7))"
   ],
   "metadata": {
    "collapsed": false
   },
   "id": "53bb1fe03941fbe0"
  },
  {
   "cell_type": "markdown",
   "id": "db727876",
   "metadata": {},
   "source": [
    "## Linare Funktion\n",
    "\n",
    "- Implementieren Sie die Formel für die Berechnung von y in Abhängigkeit von x als Lambda Ausdruck gemäss der folgenden Grafik: [Linear](lesson24_functions_linear.png)\n",
    "- Prüfen Sie die Formel und berechen Sie die Werte von y für die x Werte -2, -1, 0, 1, 2 und 3.\n",
    "- Beispiel Ausgabe:\n",
    "  ```\n",
    "  y für x -2 = 0.0\n",
    "  y für x -1 = 0.5\n",
    "  y für x 0 = 1.0\n",
    "  y für x 1 = 1.5\n",
    "  y für x 2 = 2.0\n",
    "  y für x 3 = 2.5\n",
    "  ```\n"
   ]
  },
  {
   "cell_type": "code",
   "execution_count": 14,
   "outputs": [
    {
     "name": "stdout",
     "output_type": "stream",
     "text": [
      "y für x -3 = -0.5\n",
      "y für x -2 = 0.0\n",
      "y für x -1 = 0.5\n",
      "y für x 0 = 1.0\n",
      "y für x 1 = 1.5\n",
      "y für x 2 = 2.0\n",
      "y für x 3 = 2.5\n"
     ]
    }
   ],
   "source": [
    "f = lambda x: 1 + 0.5 * x\n",
    "\n",
    "for x in range(-3,4):\n",
    "    print(\"y für x\", x, \"=\", f(x))"
   ],
   "metadata": {
    "collapsed": false
   },
   "id": "50941c81e43905ac"
  }
 ],
 "metadata": {
  "kernelspec": {
   "name": "python3",
   "language": "python",
   "display_name": "Python 3 (ipykernel)"
  }
 },
 "nbformat": 4,
 "nbformat_minor": 5
}
