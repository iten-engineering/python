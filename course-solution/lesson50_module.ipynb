{
 "cells": [
  {
   "cell_type": "markdown",
   "metadata": {},
   "source": [
    "# Module und Packages\n",
    "\n"
   ],
   "id": "faca7af10ae693b2"
  },
  {
   "cell_type": "markdown",
   "source": [
    "## Module\n",
    "\n",
    "\n",
    "Mit Python können Definitionen (Funktionen, Klassen) in eigene Dateien (Module) ausgelagert werden.\n",
    "\n",
    "- Die Definitionen eines Moduls können in andere Module oder das Hauptprogramm importiert und dort genutzt werden.\n",
    "- Der Datei Name entspricht dabei dem Modulnamen mit dem Suffix «.py».\n",
    "- Innerhalb vom Modul ist der Modulname via die interne Variable \"__name__\" verfügbar.\n",
    "\n",
    "**Modul fibo.py:**\n",
    "```python\n",
    "def print_fib(n):\n",
    "    \"\"\" write Fibonacci series up to n \"\"\"\n",
    "    a, b = 0, 1\n",
    "    while a < n:\n",
    "        print(a, end=' ')\n",
    "        a, b = b, a+b\n",
    "    print()\n",
    "\n",
    "\n",
    "def fib(n):\n",
    "    \"\"\" return Fibonacci series up to n \"\"\"\n",
    "    a, b = 0, 1\n",
    "    result = []\n",
    "    while a < n:\n",
    "        result.append(a)\n",
    "        a, b = b, a+b\n",
    "    return result\n",
    "```\n",
    "\n",
    "\n",
    "**Verwendung vom Modul fibo.py:**\n",
    "```python\n",
    "import fibo\n",
    "\n",
    "print (\"Fibo sample:\")\n",
    "fibo.print_fib(100)\n",
    "result = fibo.fib(100)\n",
    "\n",
    "print(result)\n",
    "print((\"Show module details:\"))\n",
    "print(dir(fibo))\n",
    "```"
   ],
   "metadata": {
    "collapsed": false
   }
  },
  {
   "cell_type": "markdown",
   "source": [
    "### import\n",
    "\n",
    "\n",
    "**import module**\n",
    "– imports everything and keeps it in the module's namespace\n",
    "– module.func()\n",
    "– module.className.func()\n",
    "\n",
    "**from module import \\***\n",
    "– imports everything under the current namespace\n",
    "– func()\n",
    "– className.func()\n",
    "– **not recommended**\n",
    "\n",
    "**from module import className**\n",
    "– selectively imports under the current namespace\n",
    "– className.func()\n",
    "– like standard modules: math, os, sys\n"
   ],
   "metadata": {
    "collapsed": false
   }
  },
  {
   "cell_type": "markdown",
   "source": [
    "### alias import\n",
    "\n",
    "Beim Import kann ein Modul auch mit einem Alias versehen werden. Damit sind für den Zugriff auf die Modul-Elemente kürzere Namen möglich.\n",
    "\n",
    "Beispiel:\n",
    "```python\n",
    "import module_name as alias_name\n",
    "```\n",
    "\n",
    "Gebräuchliche alias sind:\n",
    "- math as mt\n",
    "- numpy as np\n",
    "- pandas als pd\n",
    "- matplotlib.pyplot als plt\n"
   ],
   "metadata": {
    "collapsed": false
   }
  },
  {
   "cell_type": "markdown",
   "source": [
    "### alias sample"
   ],
   "metadata": {
    "collapsed": false
   }
  },
  {
   "cell_type": "code",
   "execution_count": 4,
   "outputs": [
    {
     "name": "stdout",
     "output_type": "stream",
     "text": [
      "0 1 1 2 3 5 8 13 21 34 55 89 \n",
      "Fibo sample:\n",
      "[0, 1, 1, 2, 3, 5, 8, 13, 21, 34, 55, 89]\n"
     ]
    }
   ],
   "source": [
    "import lesson50_module_fibo as fibo\n",
    "\n",
    "fibo.print_fib(100)\n",
    "result = fibo.fib(100)\n",
    "\n",
    "print (\"Fibo sample:\")\n",
    "print(result)"
   ],
   "metadata": {
    "collapsed": false
   }
  },
  {
   "cell_type": "markdown",
   "source": [
    "### module details\n",
    "\n",
    "Die Funktion dir() listet die im Modul definierten Elemente auf."
   ],
   "metadata": {
    "collapsed": false
   }
  },
  {
   "cell_type": "code",
   "execution_count": 3,
   "outputs": [
    {
     "name": "stdout",
     "output_type": "stream",
     "text": [
      "Show module details:\n"
     ]
    },
    {
     "data": {
      "text/plain": "['__builtins__',\n '__cached__',\n '__doc__',\n '__file__',\n '__loader__',\n '__name__',\n '__package__',\n '__spec__',\n 'fib',\n 'print_fib']"
     },
     "execution_count": 3,
     "metadata": {},
     "output_type": "execute_result"
    }
   ],
   "source": [
    "print(\"Show module details:\")\n",
    "dir(fibo)"
   ],
   "metadata": {
    "collapsed": false
   }
  },
  {
   "cell_type": "markdown",
   "source": [
    "### module name\n",
    "\n",
    "Jedes Modul hat eine eingebaute Variable `__name__`, die den Namen des Moduls enthält. Wenn das Modul als Hauptprogramm ausgeführt wird, hat diese Variable den Wert `__main__`.\n",
    "\n",
    "Möchte man im Modul direkt einige Tests ausführen, so verwendet man häufig die folgende Konstruktion am Ende des Moduls:\n",
    "```python\n",
    "\n",
    "if __name__ == \"__main__\":\n",
    "    # Test code here\n",
    "    # ...\n",
    "```\n",
    "\n",
    "Damit wird der Code nur ausgeführt, wenn das Modul direkt gestartet wird, nicht aber wenn es importiert wird."
   ],
   "metadata": {
    "collapsed": false
   }
  },
  {
   "cell_type": "markdown",
   "source": [
    "## Packages\n",
    "\n",
    "**Notation**\n",
    "- Mit Hilfe von Packages werden Python Module organisiert.\n",
    "- Dabei kommt eine **Punkt Notation** zum Einsatz.\n",
    "- Mit dem Ausdruck A.B wird zum Beispiel das Modul B innerhalb vom Package A referenziert.\n",
    "- Jedes Modul hat seinen **eigenen Namensraum**, dadurch werden Namenskonflikte (von Variablen\n",
    "und Klassen) verhindert\n",
    "\n",
    "**Organisation**\n",
    "- Packages sind Verzeichnisse, die Module der Packages sind in entsprechenden Unterverzeichnissen organisiert.\n",
    "- Innerhalb vom Package Verzeichnis muss zwingend eine Datei `__init__.py` vorhanden sein, damit Python das Verzeichnis als Package identifiziert\n",
    "- Wenn ein Package importiert wird, durchsucht Python die Verzeichnisse der sys.path Variable, um das entsprechende Package Verzeichnis zu lokalisieren\n",
    "\n",
    "**Beispiel**\n",
    "\n",
    "```\n",
    "sound/                  Top-level package\n",
    "    __init__.py         Initialize the sound package\n",
    "\n",
    "    formats/            Subpackage for file format conversions\n",
    "        __init__.py\n",
    "        wavread.py      Module wavread\n",
    "        wavwrite.py     Module wavwrite\n",
    "        ...\n",
    "\n",
    "    effects/            Subpackage for sound effects\n",
    "        __init__.py\n",
    "        echo.py         Module echo\n",
    "        surround.py\n",
    "        reverse.py\n",
    "        ...\n",
    "\n",
    "    filters/            Subpackage for filters\n",
    "        __init__.py\n",
    "        equalizer.py\n",
    "        vocoder.py\n",
    "        karaoke.py\n",
    "        ...\n",
    "   ```"
   ],
   "metadata": {
    "collapsed": false
   }
  },
  {
   "cell_type": "markdown",
   "source": [
    "### import\n",
    "\n",
    "Import Modul und Referenzierung mit vollem Namen:\n",
    "```python\n",
    "import sound.effects.echo\n",
    "\n",
    "sound.effects.echo.echofilter (input, output, delay=0.7, …)\n",
    "```\n",
    "\n",
    "Import Modul ohne Package Prefix und Referenzieren mit einfachem Modulnamen.\n",
    "```python\n",
    "from sound.effects import echo\n",
    "\n",
    "echo.echofilter (input, output, delay=0.7, …)\n",
    "```\n",
    "\n",
    "Direkter Import einer Funktion oder Variable aus einem Modul:\n",
    "```python\n",
    "from sound.effects.echo import echofilter\n",
    "\n",
    "echofilter (input, output, delay=0.7, …)\n",
    "```\n"
   ],
   "metadata": {
    "collapsed": false
   }
  },
  {
   "cell_type": "markdown",
   "source": [
    "### **import \\***\n",
    "\n",
    "- Bei einem Import mit * werden die Module importiert, welche im Package entsprechend angegeben werden\n",
    "– Die Angabe erfolgt in der Datei `__init__.py` mit Hilfe der Variable `__all__`\n",
    "- Diese definiert eine Liste der Module, die das Package zur Verfügung stellt, wie zum Beispiel:\n",
    "  – `__all__ = [\"echo\", \"surround\", \"reverse\"]`\n",
    "  – Mit dem Import `sound.effects import *` würden somit die obigen Module auf einmal importiert.\n"
   ],
   "metadata": {
    "collapsed": false
   }
  },
  {
   "cell_type": "markdown",
   "source": [
    "### **import \\* ohne \\_\\_all\\_\\_**\n",
    "\n",
    "- Es ist in der Verantwortung der Package Entwickler bei neuen Package Release, die Liste up-to-date zu halten\n",
    "– Es ist auch möglich keine Angaben zu machen (falls man keine Verwendung für den Import mit * hat)\n",
    "- Falls `__all__` nicht definiert ist, werden mit dem Statement `sound.effects import *` die Module von sound.effects **nicht** importiert\n",
    "  – Es wird nur sichergestellt dass das Package sound.effects importiert wird\n",
    "  – Der Initialisierungs Code der Datei `__init__.py` ausgeführt wird sowie die dort definierten Namen importiert werden\n",
    "- **Generell werden Imports mit expliziter Angabe der Module empfohlen**\n"
   ],
   "metadata": {
    "collapsed": false
   }
  },
  {
   "cell_type": "markdown",
   "source": [
    "# Aufgabe"
   ],
   "metadata": {
    "collapsed": false
   }
  },
  {
   "cell_type": "markdown",
   "source": [
    "## Calculator\n",
    "\n",
    "- Implementieren Sie im Modul `lesson50_module_calculator.py` die folgenden Methoden:\n",
    "  - add(x, y) für die Addition x + y\n",
    "  - sub(x, y) für die Subtraktion x - y\n",
    "  - mul(x, y) für die Mulitiplikation x * y\n",
    "  - div(x, y) für die Division x / y\n",
    "\n",
    "- Lesen sie eine Calculation ein und führen sie diese aus. Dazu werden die Operationen aus dem calculator Modul importiert.\n",
    "\n",
    "- Als Eingabe wird ein String eingelesen mit der Operation und den Operanden,\n",
    "  wie zum Beispiel `5 + 2` oder `7 / 3`.\n",
    "\n",
    "- Fangen Sie folgende Fehler ab und geben Sie eine entsprechende Meldung aus:\n",
    "  - Ungültier Operator\n",
    "  - Divison durch 0\n",
    "\n",
    "- Beispiele:\n",
    "  ```\n",
    "  Calculate: 7 * 3\n",
    "  21.0\n",
    "\n",
    "  Calculate: 5 = 6\n",
    "  Unknown operator\n",
    "\n",
    "  Calculate: 13 / 0\n",
    "  Division by zero\n",
    "  ```"
   ],
   "metadata": {
    "collapsed": false
   }
  },
  {
   "cell_type": "markdown",
   "source": [],
   "metadata": {
    "collapsed": false
   }
  },
  {
   "cell_type": "code",
   "execution_count": 1,
   "outputs": [
    {
     "name": "stdout",
     "output_type": "stream",
     "text": [
      "1.25\n"
     ]
    }
   ],
   "source": [
    "from lesson50_module_calculator import add, sub, mul, div\n",
    "\n",
    "data = input(\"Calculate: \")\n",
    "tokens = data.split()\n",
    "\n",
    "x, op, y  = tokens\n",
    "\n",
    "map = {\"+\" : add, \"-\" : sub, \"*\" : mul, \"/\" : div}\n",
    "f = map.get(op)\n",
    "\n",
    "if f is None:\n",
    "    print(\"Unknown operator\")\n",
    "elif (f == div and y == \"0\"):\n",
    "    print(\"Division by zero\")\n",
    "else:\n",
    "    print( f(float(x),float(y)) )"
   ],
   "metadata": {
    "collapsed": false
   }
  }
 ],
 "metadata": {
  "kernelspec": {
   "display_name": "Python 3",
   "language": "python",
   "name": "python3"
  },
  "language_info": {
   "name": "python",
   "version": "3.11"
  }
 },
 "nbformat": 4,
 "nbformat_minor": 5
}
