{
 "cells": [
  {
   "metadata": {},
   "cell_type": "markdown",
   "source": [
    "# Data Science Libraries\n",
    "\n",
    "Python ist eine der beliebtesten Sprachen für **Data Science, Machine Learning und Künstliche Intelligenz**.\n",
    "Das liegt vor allem an der großen Auswahl an Bibliotheken, die effiziente Datenanalyse, Statistik und Visualisierung ermöglichen.\n",
    "\n",
    "Einige wichtige Libraries sind:\n",
    "\n",
    "- **NumPy**: Grundlage für wissenschaftliches Rechnen; Arrays, Matrizen, schnelle numerische Berechnungen\n",
    "- **SciPy**: Erweiterung von NumPy für Statistik, Optimierung, Signalverarbeitung usw.\n",
    "- **Pandas**: Datenanalyse-Toolkit mit DataFrames (ähnlich Tabellen in Excel)\n",
    "- **Scikit-Learn**: Machine Learning (Klassifikation, Regression, Clustering usw.)\n",
    "- **TensorFlow / PyTorch**: Deep Learning Frameworks\n",
    "- **Matplotlib**: Standard-Library für Visualisierungen\n",
    "- **Seaborn**: Erweiterung von Matplotlib mit einfacheren, schöneren Diagrammen\n",
    "\n",
    "> Im folgenden wollen wir uns **NumPy**, **Pandas** und **Matplotlib** im Detail anschauen. Folgen Sie dazu den Anweisungen in den entsprechenden Notebooks."
   ],
   "id": "a9a6e8a8b443e378"
  }
 ],
 "metadata": {
  "kernelspec": {
   "display_name": "Python 3",
   "language": "python",
   "name": "python3"
  },
  "language_info": {
   "name": "python",
   "version": "3.11"
  }
 },
 "nbformat": 4,
 "nbformat_minor": 5
}
