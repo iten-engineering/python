{
 "cells": [
  {
   "cell_type": "markdown",
   "metadata": {},
   "source": "# Anhang",
   "id": "faca7af10ae693b2"
  },
  {
   "metadata": {},
   "cell_type": "markdown",
   "source": "## Weitere Beispiele",
   "id": "c845a3f7ecbf50d1"
  },
  {
   "cell_type": "markdown",
   "source": [
    "### Fruitbasket\n",
    "\n",
    "Mit dieser Übung soll das Thema **Operator Overloading** in Python anhand von einem praktischen Beispiel erörtert werden. Dazu wollen wir eine Klasse `Fruchtkorb` erstellen, die verschiedene Früchte enthält und die Addition von zwei Körben sowohl über den `+` Operator als auch über eine alternative Methode `.add()` ermöglicht.\n",
    "\n",
    "Öffnen sie dazu das Notebook **lesson91_lab_fruitbasket.ipynb** und folgen sie den Anweisungen."
   ],
   "metadata": {
    "collapsed": false
   },
   "id": "5417a88de7c9770b"
  },
  {
   "metadata": {},
   "cell_type": "markdown",
   "source": [
    "### Rest\n",
    "\n",
    "Mit dieser Übung soll eine REST Schnittstelle via das `request` Modul von Python aufgerufen werden. Zuerst folgt eine kurze Einführung in das HTTP Protokoll mit Code Beispielen. Anschliessend folgt eine kleine Aufgabe.\n",
    "\n",
    "Öffnen sie dazu das Notebook **lesson92_lab_rest.ipynb** und folgen sie den Anweisungen."
   ],
   "id": "70152eb582b8fb40"
  },
  {
   "metadata": {},
   "cell_type": "markdown",
   "source": [
    "### Tree\n",
    "Mit dieser Übung vertiefen Sie Ihre Kenntnisse im Umgang mit Python Klassen und Funktionen. Im speziellen mit Rekursion und einem alternativen Lösungsansatz.\n",
    "\n",
    "Öffnen sie dazu das Notebook **lesson93_lab_tree.ipynb** und folgen sie den Anweisungen."
   ],
   "id": "3e453a3f1871051c"
  },
  {
   "metadata": {},
   "cell_type": "markdown",
   "source": [
    "### Books\n",
    "\n",
    "Mit dieser Übung vertiefen Sie Ihre Kenntnisse im Umgang mit Dateien und der Datenverarbeitung in Python mit dem `csv`-Modul.\n",
    "\n",
    "Öffnen sie dazu das Notebook **lesson94_lab_books.ipynb** und folgen sie den Anweisungen."
   ],
   "id": "f1eebebf28cc4938"
  }
 ],
 "metadata": {
  "kernelspec": {
   "display_name": "Python 3",
   "language": "python",
   "name": "python3"
  },
  "language_info": {
   "name": "python",
   "version": "3.11"
  }
 },
 "nbformat": 4,
 "nbformat_minor": 5
}
