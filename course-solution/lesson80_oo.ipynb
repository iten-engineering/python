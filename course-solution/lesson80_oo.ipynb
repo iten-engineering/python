{
 "cells": [
  {
   "cell_type": "markdown",
   "metadata": {},
   "source": "# Klassen & Objekte",
   "id": "faca7af10ae693b2"
  },
  {
   "metadata": {},
   "cell_type": "markdown",
   "source": [
    "## Einführung\n",
    "\n",
    "- Klassen sind Baupläne für Objekte.\n",
    "- Objekte sind Instanzen einer Klasse.\n",
    "- Klassen kapseln Daten (Attribute) und Funktionen (Methoden).\n",
    "- In Python ist alles ein Objekt: `“hello”.upper()`\n"
   ],
   "id": "3cc7cf11f0358c39"
  },
  {
   "metadata": {
    "ExecuteTime": {
     "end_time": "2025-09-06T18:44:30.009510Z",
     "start_time": "2025-09-06T18:44:29.999956Z"
    }
   },
   "cell_type": "code",
   "source": [
    "class Person:\n",
    "    \n",
    "    def __init__(self):\n",
    "        \"\"\"Konstruktor ohne Paramenter\"\"\"\n",
    "        self.name = None\n",
    "    \n",
    "    def greeting(self):\n",
    "        print(f\"Hallo, mein Name ist {self.name}\")\n",
    "\n",
    "max = Person()\n",
    "max.name = \"Max\"\n",
    "\n",
    "lara = Person()\n",
    "lara.name = \"Lara\"\n",
    "\n",
    "max.greeting()\n",
    "lara.greeting()"
   ],
   "id": "483628bf75742c2f",
   "outputs": [
    {
     "name": "stdout",
     "output_type": "stream",
     "text": [
      "Hallo, mein Name ist Max\n",
      "Hallo, mein Name ist Lara\n"
     ]
    }
   ],
   "execution_count": 10
  },
  {
   "metadata": {},
   "cell_type": "markdown",
   "source": [
    "## Konstruktor\n",
    "\n",
    "- Wird automatisch aufgerufen, wenn ein Objekt erstellt wird.\n",
    "- Dient zum Initialisieren von Attributen.\n",
    "- Jede Klassenmethode benötigt die Instanz-Referenz self als ersten Parameter\n",
    "  - Der Parameter Name kann frei gewählt werden\n",
    "  - Als Konvention wird self als Name verwendet\n",
    "- Der Typ der Attribute wird implizit bestimmt (wie bei allen anderen Variablen auch)\n",
    "- Alle Konstruktoren haben den Namen `__init__(self, ...)`\n",
    "- Typen von Konstruktoren\n",
    "  - Default Konstruktor\n",
    "  - Konstruktor mit Parametern\n",
    "- Default Konstruktor\n",
    "  - Einfacher Konstruktor ohne Argumente\n",
    "  - Einzig die Instanz Referenz self muss definiert werden\n",
    "- Konstruktor mit Parametern\n",
    "  - Werden als «parameterized constructor» bezeichnet\n",
    "  - Der erster Parameter ist die Instanz Referenz self\n",
    "  - Die weiteren Parameter werden durch den Entwickler definiert\n",
    "  - Bei den Parametern sind sowohl positional als auch keyword Parameter möglich (analog wie bei den Funktionen)\n"
   ],
   "id": "e0e622be3ff188e7"
  },
  {
   "metadata": {
    "ExecuteTime": {
     "end_time": "2025-09-06T19:05:17.057172Z",
     "start_time": "2025-09-06T19:05:17.044760Z"
    }
   },
   "cell_type": "code",
   "source": [
    "class Person:\n",
    "\n",
    "    def __init__(self, name):\n",
    "        \"\"\"Konstruktor mit Parameter name.\"\"\"\n",
    "        self.name = name\n",
    "\n",
    "    def greeting(self):\n",
    "        print(f\"Hallo, mein Name ist {self.name}\")\n",
    "\n",
    "max = Person(\"Max\")\n",
    "lara = Person(\"Lara\")\n",
    "\n",
    "max.greeting()\n",
    "lara.greeting()"
   ],
   "id": "8b5a688461509f29",
   "outputs": [
    {
     "name": "stdout",
     "output_type": "stream",
     "text": [
      "Hallo, mein Name ist Max\n",
      "Hallo, mein Name ist Lara\n"
     ]
    }
   ],
   "execution_count": 14
  },
  {
   "metadata": {},
   "cell_type": "markdown",
   "source": [
    "## Destruktor\n",
    "\n",
    "- Wird automatisch aufgerufen, wenn ein Objekt gelöscht wird oder nicht mehr referenziert wird.\n",
    "- Wird selten benötigt, z. B. zum Aufräumen von Ressourcen.\n",
    "- Der Destruktor `__del__(self)`wird automatisch durch Python aufgerufen (Garbage Collection)\n",
    "- Man kann ein Objekt auch explizit mit `del` entfernen"
   ],
   "id": "e37209fb805fa76c"
  },
  {
   "metadata": {
    "ExecuteTime": {
     "end_time": "2025-09-06T19:10:58.824851Z",
     "start_time": "2025-09-06T19:10:58.813482Z"
    }
   },
   "cell_type": "code",
   "source": [
    "class Item:\n",
    "    \n",
    "    def __init__(self, number):\n",
    "        self.number = number\n",
    "        print(\"Create item:\", self.number)\n",
    "        \n",
    "    def __del__(self):\n",
    "        print(\"Delete item:\", self.number)\n",
    "    \n",
    "\n",
    "item = Item(47)     \n",
    "del item"
   ],
   "id": "fd368b6bfe698c86",
   "outputs": [
    {
     "name": "stdout",
     "output_type": "stream",
     "text": [
      "Create item: 47\n",
      "Delete item: 47\n"
     ]
    }
   ],
   "execution_count": 19
  },
  {
   "metadata": {},
   "cell_type": "markdown",
   "source": [
    "## Vererbung\n",
    "\n",
    "- Eine Klasse kann Attribute und Methoden von einer anderen Klasse übernehmen.\n",
    "- Ermöglicht Wiederverwendbarkeit und hierarchische Struktur.\n",
    "- Ein gutes Beispiel für eine Klassenhierarchie ist die [Python Exception hierarchy](https://docs.python.org/3/library/exceptions.html#exception-hierarchy)."
   ],
   "id": "6236c79890ad811c"
  },
  {
   "metadata": {
    "ExecuteTime": {
     "end_time": "2025-09-06T19:13:15.909602Z",
     "start_time": "2025-09-06T19:13:15.903105Z"
    }
   },
   "cell_type": "code",
   "source": [
    "class Person:\n",
    "    def __init__(self, firstname, lastname):\n",
    "        self.firstname = firstname\n",
    "        self.lastname = lastname\n",
    "\n",
    "    def printname(self):\n",
    "        print(self.firstname, self.lastname)\n",
    "\n",
    "x = Person(\"John\", \"Doe\")\n",
    "x.printname()\n",
    "\n",
    "\n",
    "class Teacher(Person):\n",
    "    pass            # Use the pass keyword when you do not want to add\n",
    "                    # any other properties or methods to the class.\n",
    "\n",
    "x = Teacher(\"Mike\", \"Olsen\")\n",
    "x.printname()\n",
    "\n",
    "\n",
    "class Student(Person):\n",
    "    def __init__(self, firstname, lastname, studentId):\n",
    "        super().__init__(firstname, lastname)\n",
    "        self.studentId = studentId\n",
    "\n",
    "    def printname(self):\n",
    "        print(self.firstname, self.lastname, self.studentId)\n",
    "\n",
    "x = Student(\"James\", \"Bond\", \"007\")\n",
    "x.printname()"
   ],
   "id": "f06332bc4b832e9f",
   "outputs": [
    {
     "name": "stdout",
     "output_type": "stream",
     "text": [
      "John Doe\n",
      "Mike Olsen\n",
      "James Bond 007\n"
     ]
    }
   ],
   "execution_count": 21
  },
  {
   "metadata": {},
   "cell_type": "markdown",
   "source": [
    "## Statische Attribute und Methoden\n",
    "\n",
    "- Statische Attribute: werden auf Klassenebene gespeichert, nicht pro Objekt.\n",
    "- Statische Methoden: gehören zur Klasse, benötigen kein `self`.\n",
    "- Der Aufruf erfolgt via Klassenname, d.h. man benötigt keine Instanz für den Zugriff.\n",
    "- Die Klassenattribute werden auf Klassen Level definiert.\n",
    "- Die Methoden werden mit `@staticmethod` gekennzeichnet"
   ],
   "id": "2f9469b31a95d19b"
  },
  {
   "metadata": {},
   "cell_type": "markdown",
   "source": [
    "### Attribut\n",
    "\n",
    "Das Beispiel zeigt eine Konstante für die maximale Anzahl Spieler.\n",
    "- Bei der Initialisierung vom Team wird geprüft of das Maximum überschritten wird.\n",
    "- Der Zugriff auf das statische Attribut erfolgt über den Klassennamen.\n"
   ],
   "id": "7fb83398782e9744"
  },
  {
   "metadata": {
    "ExecuteTime": {
     "end_time": "2025-09-06T19:30:20.425958Z",
     "start_time": "2025-09-06T19:30:20.402080Z"
    }
   },
   "cell_type": "code",
   "source": [
    "class Player:\n",
    "    def __init__(self, name):\n",
    "        self.name = name\n",
    "\n",
    "class Team:\n",
    "\n",
    "    MAX_PLAYERS = 5\n",
    "\n",
    "    def __init__(self, players):\n",
    "        if len(players) > Team.MAX_PLAYERS:\n",
    "            raise ValueError(\"Too many players\")\n",
    "        self.players = players\n",
    "\n",
    "    def members(self):\n",
    "        members = []\n",
    "        for p in self.players:\n",
    "            members.append(p.name)\n",
    "        return members\n",
    "\n",
    "players = [\n",
    "    Player(\"Emilia\"),\n",
    "    Player(\"Estelle\"),\n",
    "    Player(\"Noemie\"),\n",
    "    Player(\"Karina\"),\n",
    "    Player(\"Meghan\")\n",
    "]\n",
    "\n",
    "team = Team(players)\n",
    "print(team.members())"
   ],
   "id": "ec0b67391a4ea560",
   "outputs": [
    {
     "name": "stdout",
     "output_type": "stream",
     "text": [
      "['Emilia', 'Estelle', 'Noemie', 'Karina', 'Meghan']\n"
     ]
    }
   ],
   "execution_count": 29
  },
  {
   "metadata": {},
   "cell_type": "markdown",
   "source": [
    "### Attribut und Methoden\n",
    "\n",
    "Das folgenden Beispiel zeigt eine Utilty Klasse:\n",
    "- Die ganze Klasse besteht nur aus statischen Attributen und Methoden. \n",
    "- Um damit zu Arbeiten **muss keine Instanz** erstellt werden. \n",
    "- Man kann direkt den **Klassennamen** verweden."
   ],
   "id": "bef9c3b7fcdcc97"
  },
  {
   "metadata": {
    "ExecuteTime": {
     "end_time": "2025-09-06T19:18:57.558637Z",
     "start_time": "2025-09-06T19:18:57.543475Z"
    }
   },
   "cell_type": "code",
   "source": [
    "import math\n",
    "\n",
    "class MathUtils:\n",
    "\n",
    "    PI = 3.141592653589793          # Analog math.pi\n",
    "\n",
    "    @staticmethod\n",
    "    def quadrat(x):\n",
    "        return x * x\n",
    "\n",
    "    @staticmethod\n",
    "    def wurzel(x):\n",
    "        return math.sqrt(x)\n",
    "\n",
    "    @staticmethod\n",
    "    def ist_gerade(x):\n",
    "        return x % 2 == 0\n",
    "\n",
    "# Nutzung OHNE Objektinstanz\n",
    "print(\"Quadrat von 5:\", MathUtils.quadrat(5))\n",
    "print(\"Wurzel von 16:\", MathUtils.wurzel(16))\n",
    "print(\"Ist 7 gerade?:\", MathUtils.ist_gerade(7))\n"
   ],
   "id": "53f1347647558955",
   "outputs": [
    {
     "name": "stdout",
     "output_type": "stream",
     "text": [
      "Quadrat von 5: 25\n",
      "Wurzel von 16: 4.0\n",
      "Ist 7 gerade?: False\n"
     ]
    }
   ],
   "execution_count": 22
  },
  {
   "metadata": {},
   "cell_type": "markdown",
   "source": [
    "# Aufgaben\n",
    "\n",
    "## Kreis\n",
    "- Erstellen Sie die Klasse `Kreis` mit dem Attribut radius.\n",
    "- Erstellen Sie die Methode get_umfang() die den Umfang (2 * PI * radius) des Kreises zurückgibt\n",
    "- Erstellen Sie die Methode get_flaeche() die die Kreisfläche (PI * radius^2) zurückgibt\n",
    "- Erstellen Sie die Methode print() die den Radius, Umfang und die Fläche auf der Konsole ausgibt.\n",
    "- Testen Sie die Klasse mit mehreren verschiedenen Werten.\n",
    "- Beispiel Ausgabe:\n",
    "  ```\n",
    "  Kreis mit Radius 3\n",
    "  - Umfang = 18.849\n",
    "  - Fläche = 28.274\n",
    "  ```\n",
    " \n",
    "**Hinweis:**\n",
    "- Für PI gibt es im Python math modul eine vordefinierte Konstante:\n",
    "  ```\n",
    "  import math\n",
    "  print (math.pi)\n",
    "  ```\n"
   ],
   "id": "b46468eab1ea2e2b"
  },
  {
   "metadata": {
    "ExecuteTime": {
     "end_time": "2025-09-06T19:41:16.044637Z",
     "start_time": "2025-09-06T19:41:16.028622Z"
    }
   },
   "cell_type": "code",
   "source": [
    "import math\n",
    "\n",
    "class Kreis:\n",
    "    def __init__(self, radius):\n",
    "        self.radius = radius\n",
    "\n",
    "    def umfang(self):\n",
    "        return 2 * math.pi * self.radius\n",
    "\n",
    "    def flaeche(self):\n",
    "        return math.pi * pow(self.radius,2)\n",
    "\n",
    "    def print(self):\n",
    "        print(\"Kreis mit Radius\", self.radius)\n",
    "        print(\"- Umfang =\", self.umfang())\n",
    "        print(\"- Fläche =\", self.flaeche())\n",
    "\n",
    "\n",
    "radien = [2,3,7,15]\n",
    "for radius in radien:\n",
    "    k = Kreis(radius)\n",
    "    k.print()"
   ],
   "id": "be2ba3bdd9182a6c",
   "outputs": [
    {
     "name": "stdout",
     "output_type": "stream",
     "text": [
      "Kreis mit Radius 2\n",
      "- Umfang = 12.566370614359172\n",
      "- Fläche = 12.566370614359172\n",
      "Kreis mit Radius 3\n",
      "- Umfang = 18.84955592153876\n",
      "- Fläche = 28.274333882308138\n",
      "Kreis mit Radius 7\n",
      "- Umfang = 43.982297150257104\n",
      "- Fläche = 153.93804002589985\n",
      "Kreis mit Radius 15\n",
      "- Umfang = 94.24777960769379\n",
      "- Fläche = 706.8583470577034\n"
     ]
    }
   ],
   "execution_count": 30
  },
  {
   "metadata": {},
   "cell_type": "markdown",
   "source": [
    "## MathUtil\n",
    "- Erstellen Sie eine Klasse `MathUtil` mit folgenden statischen Methoden:\n",
    "  - min (a, b, c)\n",
    "    Berechnung und Rückgabe des Minimums der drei Zahlen.\n",
    "  - max (a, b, c)\n",
    "    Berechnung und Rückgabe des Maximum der drei Zahlen.\n",
    "- Testen Sie die beiden Hilfsmethoden mit verschiedenen Zahlenwerten und geben Sie die Resultate\n",
    "  auf der Konsole aus.\n",
    "- Beispiel Ausgabe:\n",
    "  ```\n",
    "  Das Maximum von 5,12,20 ist: 20\n",
    "  Das Minimum von 5,12,20 ist: 5\n",
    "  Das Maximum von 49,3,14 ist: 49\n",
    "  Das Minimum von 49,3,14 ist: 3\n",
    "  ```\n",
    "\n"
   ],
   "id": "3b02259586c97191"
  },
  {
   "metadata": {
    "ExecuteTime": {
     "end_time": "2025-09-06T19:41:41.752177Z",
     "start_time": "2025-09-06T19:41:41.738027Z"
    }
   },
   "cell_type": "code",
   "source": [
    "class MathUtil:\n",
    "\n",
    "    @staticmethod\n",
    "    def min(a, b, c):\n",
    "        if (a < b and a < c):\n",
    "            return a\n",
    "        elif b < c:\n",
    "            return b\n",
    "        return c\n",
    "\n",
    "    @staticmethod\n",
    "    def max(a, b, c):\n",
    "        if (a > b and a > c):\n",
    "            return a\n",
    "        elif b > c:\n",
    "            return b\n",
    "        return c\n",
    "\n",
    "print(\"Das Maximum von 5,12,20 ist: \" + str(MathUtil.max(5,12,20)))\n",
    "print(\"Das Minimum von 5,12,20 ist: \" + str(MathUtil.min(5,12,20)))\n",
    "print(\"Das Maximum von 49,3,14 ist: \" + str(MathUtil.max(49,3,14)))\n",
    "print(\"Das Minimum von 49,3,14 ist: \" + str(MathUtil.min(49,3,14)))"
   ],
   "id": "2005ec8d3c1c9bec",
   "outputs": [
    {
     "name": "stdout",
     "output_type": "stream",
     "text": [
      "Das Maximum von 5,12,20 ist: 20\n",
      "Das Minimum von 5,12,20 ist: 5\n",
      "Das Maximum von 49,3,14 ist: 49\n",
      "Das Minimum von 49,3,14 ist: 3\n"
     ]
    }
   ],
   "execution_count": 31
  },
  {
   "metadata": {},
   "cell_type": "markdown",
   "source": [
    "## Konto\n",
    "\n",
    "Erstelle eine Klasse BankKonto, die ein einfaches Bankkonto modelliert.\n",
    "\n",
    "Anforderungen:\n",
    "\n",
    "1. Die Klasse soll beim Erstellen folgende Eigenschaften haben:\n",
    "   - kontoinhaber (Name, String)\n",
    "   - kontonummer (String oder int)\n",
    "   - kontostand (float, Startwert = 0.0)\n",
    "\n",
    "2. Methoden:\n",
    "   - einzahlen(betrag) → erhöht den Kontostand um den Betrag\n",
    "   - abheben(betrag) → verringert den Kontostand, aber nicht unter 0 (Fehlermeldung ausgeben, wenn nicht genug Guthaben da ist)\n",
    "   - zeige_stand() → gibt den aktuellen Kontostand aus\n",
    "\n",
    "3. Statisches Attribut:\n",
    "   - anzahl_konten → zählt, wie viele Konten insgesamt eröffnet wurden\n",
    "\n",
    "4. Statische Methode:\n",
    "   - bank_info() → gibt allgemeine Infos aus, z. B. „Willkommen bei der Python Bank!“\n",
    "\n",
    "Tipps:\n",
    "- Nutze den Konstruktor __init__, um die Attribute zu setzen.\n",
    "- Greife auf das statische Attribut mit BankKonto.anzahl_konten zu.\n",
    "- Denke an Fehlerbehandlung beim Abheben (if betrag <= kontostand)\n",
    "\n",
    "Beispielanwendung:\n",
    "```\n",
    "# Zwei Konten erstellen\n",
    "k1 = BankKonto(\"Alice\", \"1234\")\n",
    "k2 = BankKonto(\"Bob\", \"5678\")\n",
    "\n",
    "k1.einzahlen(1000)\n",
    "k1.abheben(200)\n",
    "k1.zeige_stand()\n",
    "\n",
    "k2.einzahlen(500)\n",
    "k2.abheben(600)   # sollte Fehlermeldung bringen\n",
    "\n",
    "print(\"Anzahl Konten:\", BankKonto.anzahl_konten)\n",
    "BankKonto.bank_info()\n",
    "```"
   ],
   "id": "9ffeb33631a394c4"
  },
  {
   "metadata": {
    "ExecuteTime": {
     "end_time": "2025-09-06T19:45:33.056051Z",
     "start_time": "2025-09-06T19:45:33.034969Z"
    }
   },
   "cell_type": "code",
   "source": [
    "class BankKonto:\n",
    "    # Statisches Attribut: zählt alle eröffneten Konten\n",
    "    anzahl_konten = 0\n",
    "\n",
    "    def __init__(self, kontoinhaber, kontonummer):\n",
    "        self.kontoinhaber = kontoinhaber\n",
    "        self.kontonummer = kontonummer\n",
    "        self.kontostand = 0.0\n",
    "        # Erhöhe den Zähler bei jedem neuen Konto\n",
    "        BankKonto.anzahl_konten += 1\n",
    "\n",
    "    def einzahlen(self, betrag):\n",
    "        if betrag > 0:\n",
    "            self.kontostand += betrag\n",
    "            print(f\"{betrag:.2f} CHF eingezahlt. Neuer Kontostand: {self.kontostand:.2f} CHF\")\n",
    "        else:\n",
    "            print(\"Der Betrag muss positiv sein.\")\n",
    "\n",
    "    def abheben(self, betrag):\n",
    "        if betrag <= self.kontostand:\n",
    "            self.kontostand -= betrag\n",
    "            print(f\"{betrag:.2f} CHF abgehoben. Neuer Kontostand: {self.kontostand:.2f} CHF\")\n",
    "        else:\n",
    "            print(\"Fehler: Nicht genügend Guthaben!\")\n",
    "\n",
    "    def zeige_stand(self):\n",
    "        print(f\"Aktueller Kontostand ({self.kontoinhaber}): {self.kontostand:.2f} CHF\")\n",
    "\n",
    "    @staticmethod\n",
    "    def bank_info():\n",
    "        print(\"Willkommen bei der Python Bank! Wir freuen uns auf Ihr Vertrauen.\")\n",
    "\n",
    "# \n",
    "# Beispiel-Verwendung\n",
    "# \n",
    "k1 = BankKonto(\"Alice\", \"1234\")\n",
    "k2 = BankKonto(\"Bob\", \"5678\")\n",
    "\n",
    "k1.einzahlen(1000)\n",
    "k1.abheben(200)\n",
    "k1.zeige_stand()\n",
    "\n",
    "k2.einzahlen(500)\n",
    "k2.abheben(600)   # sollte Fehlermeldung bringen\n",
    "\n",
    "print(\"Anzahl eröffnete Konten:\", BankKonto.anzahl_konten)\n",
    "BankKonto.bank_info()\n"
   ],
   "id": "705daa9dbe296655",
   "outputs": [
    {
     "name": "stdout",
     "output_type": "stream",
     "text": [
      "1000.00 CHF eingezahlt. Neuer Kontostand: 1000.00 CHF\n",
      "200.00 CHF abgehoben. Neuer Kontostand: 800.00 CHF\n",
      "Aktueller Kontostand (Alice): 800.00 CHF\n",
      "500.00 CHF eingezahlt. Neuer Kontostand: 500.00 CHF\n",
      "Fehler: Nicht genügend Guthaben!\n",
      "Anzahl eröffnete Konten: 2\n",
      "Willkommen bei der Python Bank! Wir freuen uns auf Ihr Vertrauen.\n"
     ]
    }
   ],
   "execution_count": 33
  }
 ],
 "metadata": {
  "kernelspec": {
   "display_name": "Python 3",
   "language": "python",
   "name": "python3"
  },
  "language_info": {
   "name": "python",
   "version": "3.11"
  }
 },
 "nbformat": 4,
 "nbformat_minor": 5
}
