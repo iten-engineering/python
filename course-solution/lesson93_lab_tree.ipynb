{
 "cells": [
  {
   "cell_type": "markdown",
   "metadata": {},
   "source": [
    "# Übung Tree\n",
    "\n",
    "Mit dieser Übung vertiefen Sie Ihre Kenntnisse im Umgang mit Python Klassen und Funktionen. Im speziellen mit Rekursion und einem alternativen Lösungsansatz."
   ],
   "id": "faca7af10ae693b2"
  },
  {
   "metadata": {},
   "cell_type": "markdown",
   "source": [
    "\n",
    "## Aufgabe\n",
    "\n",
    "### Tree\n",
    "Schauen sie sich folgends Bild [Tree](lesson93_lab_tree.png) an und Erstellen Sie das Script welches folgende Aufgaben löst:\n",
    "- Erstellung Klasse Node mit den Attributen `value`, `parent` und `childs` sowie allen benötigten Methoden.\n",
    "- Erstellung Klasse Testdata die den abgebildeten Tree aufbaut.\n",
    "- Erstellung Klasse Recursion mit einer Funktion run(root), welche den Baum mit Hilfe einer Rekursion durchläuft und die Werte ausgibt. \n",
    "- Erstellung Klasse Traverse mit einer Funktion run(root), welche den Baum ohne Rekursion durchläuft und die Werte ausgibt.\n",
    "- Test der beiden Klassen   \n"
   ],
   "id": "f1eebebf28cc4938"
  },
  {
   "cell_type": "markdown",
   "source": [
    "## Lösung"
   ],
   "metadata": {
    "collapsed": false
   },
   "id": "dab4492deb3746b0"
  },
  {
   "metadata": {
    "ExecuteTime": {
     "end_time": "2025-09-08T15:18:53.360735Z",
     "start_time": "2025-09-08T15:18:53.338502Z"
    }
   },
   "cell_type": "code",
   "source": [
    "\n",
    "class Node:\n",
    "    def __init__(self, value, parent = None):\n",
    "        self.value = value\n",
    "        self.parent = parent\n",
    "        self.childs = []\n",
    "\n",
    "    def is_root(self):\n",
    "        return self.parent is None\n",
    "\n",
    "    def is_leaf(self):\n",
    "        return len(self.childs) == 0\n",
    "\n",
    "    def add_child(self, value):\n",
    "        node = Node(value, self)\n",
    "        self.childs.append(node)\n",
    "        return node\n",
    "\n",
    "\n",
    "class Testdata:\n",
    "\n",
    "    @staticmethod\n",
    "    def bulid_helloworld():\n",
    "        root = Node(\"H\")\n",
    "\n",
    "        e = root.add_child(\"E\")\n",
    "        e.add_child(\"L\")\n",
    "        e.add_child(\"L\")\n",
    "        e.add_child(\"O\")\n",
    "\n",
    "        w = root.add_child(\"W\")\n",
    "        w.add_child(\"O\")\n",
    "        w.add_child(\"R\").add_child(\"L\")\n",
    "\n",
    "        root.add_child(\"D\")\n",
    "\n",
    "        return root\n",
    "\n",
    "\n",
    "class Recursion:\n",
    "\n",
    "    def run(self, root):\n",
    "        self.visit(root)\n",
    "\n",
    "    def visit(self, node):\n",
    "        print(node.value)\n",
    "        for child in node.childs:\n",
    "            self.visit(child)\n",
    "\n",
    "\n",
    "class Traverse:\n",
    "\n",
    "    def run(self, root):\n",
    "        self.traverse(root)\n",
    "\n",
    "    def traverse(self, node):\n",
    "        stack = []\n",
    "        stack.append(node)\n",
    "\n",
    "        while len(stack) > 0:\n",
    "            node = stack.pop()\n",
    "            print(node.value)\n",
    "            for child in reversed(node.childs):\n",
    "                stack.append(child)\n",
    "\n",
    "\n",
    "if __name__ == '__main__':\n",
    "    root = Testdata.bulid_helloworld()\n",
    "\n",
    "    print(\"Recursion:\")\n",
    "    recursion = Recursion()\n",
    "    recursion.run(root)\n",
    "\n",
    "    print(\"Traverse:\")\n",
    "    traverse = Traverse()\n",
    "    traverse.run(root)\n"
   ],
   "id": "80902f6a085a183b",
   "outputs": [
    {
     "name": "stdout",
     "output_type": "stream",
     "text": [
      "Recursion:\n",
      "H\n",
      "E\n",
      "L\n",
      "L\n",
      "O\n",
      "W\n",
      "O\n",
      "R\n",
      "L\n",
      "D\n",
      "Traverse:\n",
      "H\n",
      "E\n",
      "L\n",
      "L\n",
      "O\n",
      "W\n",
      "O\n",
      "R\n",
      "L\n",
      "D\n"
     ]
    }
   ],
   "execution_count": 1
  }
 ],
 "metadata": {
  "kernelspec": {
   "display_name": "Python 3",
   "language": "python",
   "name": "python3"
  },
  "language_info": {
   "name": "python",
   "version": "3.11"
  }
 },
 "nbformat": 4,
 "nbformat_minor": 5
}
