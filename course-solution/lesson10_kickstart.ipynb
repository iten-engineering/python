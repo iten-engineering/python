{
 "cells": [
  {
   "cell_type": "markdown",
   "id": "3e02ef82",
   "metadata": {},
   "source": [
    "# Kick Start\n",
    "\n",
    "Willkommen zur ersten Lektion! Python ist eine beliebte, leicht verständliche Programmiersprache, die oft in der Datenanalyse, Webentwicklung und im Machine Learning eingesetzt wird. In dieser Lektion starten wir mit den allerersten Schritten."
   ]
  },
  {
   "metadata": {},
   "cell_type": "markdown",
   "source": [
    "## Was ist Python?\n",
    "\n",
    "- Python is an interpreted, interactive, object-oriented programming language. \n",
    "- It incorporates modules, exceptions, dynamic typing, very high level dynamic data types, and classes. \n",
    "- It supports multiple programming paradigms beyond object-oriented programming, such as procedural and functional programming. \n",
    "- Python combines remarkable power with very clear syntax. \n",
    "- It has interfaces to many system calls and libraries, as well as to various window systems, and is extensible in C or C++. \n",
    "- It is also usable as an extension language for applications that need a programmable interface. \n",
    "- Finally, Python is portable: it runs on many Unix variants including Linux and macOS, and on Windows.\n",
    "\n",
    "_Quelle: https://docs.python.org/3/faq/general.html_"
   ],
   "id": "60ed8e7c9d29f59f"
  },
  {
   "metadata": {},
   "cell_type": "markdown",
   "source": [
    "## Kompiliert vs. Interpretiert\n",
    "\n",
    "**Kompiliert**\n",
    "- Source Code wird vor Ausführung kompiliert\n",
    "- Erzeugt ausführbare Datei für spezifische Architektur und Betriebssystem \n",
    "- Ausführung des Programm ist schnell\n",
    "\n",
    "**Interpretiert**\n",
    "- Source Code wird während der Laufzeit interpretiert und ausgeführt\n",
    "- Ausführung ist langsamer\n",
    "- Interaktives Programmieren ist möglich"
   ],
   "id": "a53299e3f524a8c8"
  },
  {
   "metadata": {},
   "cell_type": "markdown",
   "source": [
    "## Warum Python?\n",
    "\n",
    "- Interpretierte Sprachen sind ideal für interactive Arbeiten, Forschung, etc. \n",
    "- Einfache Syntax\n",
    "- Mächtige Bibliotheken \n",
    "- Sehr populär im Bereich Data Science (Artificial Intelligence, Machine Learning)\n",
    "- Interaktive Arbeitsweise mit Jupiter Notebooks\n",
    "- Mächtige Grafik Bibilotheken\n",
    "- Frei verfügbar (Open Source)\n",
    "- Erweiterbar und Einbindbar (C, C++, RUST)\n",
    "\n",
    "> Popularität von Python, siehe [**TIOBE INDEX**](https://www.tiobe.com/tiobe-index) "
   ],
   "id": "21b7bdb2c3e4d5de"
  },
  {
   "cell_type": "markdown",
   "id": "85f525b9",
   "metadata": {},
   "source": [
    "## Hello World\n",
    "Das berühmte erste Programm in jeder Sprache:"
   ]
  },
  {
   "cell_type": "code",
   "id": "2e2a4e7d",
   "metadata": {
    "ExecuteTime": {
     "end_time": "2025-08-30T16:31:08.923602Z",
     "start_time": "2025-08-30T16:31:08.913460Z"
    }
   },
   "source": [
    "print(\"Hello World\")"
   ],
   "outputs": [
    {
     "name": "stdout",
     "output_type": "stream",
     "text": [
      "Hello World\n"
     ]
    }
   ],
   "execution_count": 1
  },
  {
   "cell_type": "markdown",
   "id": "70847d34",
   "metadata": {},
   "source": [
    "## Hello Jupyter\n",
    "\n",
    "Ein **Jupyter Notebook** besteht aus sogenannten *Zellen*.\n",
    "- Ist eine Mischung aus Text (Markdown) und ausführbarem Code\n",
    "- **Markdown-Zellen**: enthalten erklärenden Text, Formeln oder Bilder.\n",
    "- **Codezellen**: enthalten Python-Code, den man ausführen kann.\n",
    "- Die Resultate werden dann unterhalb der jeweiligen Code Zelle eingeblendet.\n",
    "\n",
    "> Jupiter Notebook sind ideal für interaktive Arbeiten die gleichzeitig dokumentiert \n",
    "  werden sollen oder Grafiken darstellen.\n",
    "\n",
    "Man führt eine Zelle mit `Shift + Enter` aus."
   ]
  },
  {
   "cell_type": "code",
   "id": "41f94f4f",
   "metadata": {
    "ExecuteTime": {
     "end_time": "2025-08-30T16:41:09.165766Z",
     "start_time": "2025-08-30T16:41:09.155802Z"
    }
   },
   "source": [
    "a = 10\n",
    "b = 5\n",
    "print('Summe:', a + b)\n",
    "print('Differenz:', a - b)"
   ],
   "outputs": [
    {
     "name": "stdout",
     "output_type": "stream",
     "text": [
      "Summe: 15\n",
      "Differenz: 5\n"
     ]
    }
   ],
   "execution_count": 2
  },
  {
   "metadata": {},
   "cell_type": "markdown",
   "source": [
    "# Erste Schritte"
   ],
   "id": "8b2fc89e2f33638e"
  },
  {
   "metadata": {},
   "cell_type": "markdown",
   "source": [
    "## Kommentare"
   ],
   "id": "304cb54c8c46ed01"
  },
  {
   "metadata": {
    "ExecuteTime": {
     "end_time": "2025-08-30T19:23:36.938109Z",
     "start_time": "2025-08-30T19:23:36.931398Z"
    }
   },
   "cell_type": "code",
   "source": [
    "# Dies ist ein Kommentar\n",
    "x = 7          # Kommentar hinter einer Zeile\n",
    "print(x)       # Kommentar hinter einer Zeile"
   ],
   "id": "af9ca4f7a040a284",
   "outputs": [
    {
     "name": "stdout",
     "output_type": "stream",
     "text": [
      "7\n"
     ]
    }
   ],
   "execution_count": 6
  },
  {
   "metadata": {},
   "cell_type": "markdown",
   "source": [
    "## Berechnungen\n",
    "Führen Sie die folgenden Berechnungen aus.\n",
    "- 3 x 3\n",
    "- 5 hoch 2 (hoch wird mit ** angegeben)\n",
    "- 5 x 3 + 2 x 3"
   ],
   "id": "9517cf948808ff89"
  },
  {
   "metadata": {},
   "cell_type": "code",
   "outputs": [],
   "execution_count": null,
   "source": [],
   "id": "6eeb231c50dc2298"
  },
  {
   "metadata": {},
   "cell_type": "markdown",
   "source": [
    "**Berechnung mit Variablen**\n",
    "- Definieren Sie eine Variable x mit den Wert 5.5 und eine Variable y mit dem Wert 7.\n",
    "- Berenchen Sie die Summe und speichern Sie das Resultat in die Variable total.\n",
    "- Geben Sie das Resultat aus.\n"
   ],
   "id": "f282b9bc58431172"
  },
  {
   "metadata": {},
   "cell_type": "code",
   "outputs": [],
   "execution_count": null,
   "source": [],
   "id": "945ea04f983d8b90"
  },
  {
   "metadata": {},
   "cell_type": "markdown",
   "source": [
    "**Weitere Berechnung mit Variablen aus der obigen Zelle**\n",
    "- Die Variablen aus der obigen Zelle (sofern diese ausgeführt wurde) können weiter verwendet werden.\n",
    "- Multiplizieren Sie die Werte von x und y und geben Sie das Resultat aus."
   ],
   "id": "96a52499115da0eb"
  },
  {
   "metadata": {},
   "cell_type": "code",
   "outputs": [],
   "execution_count": null,
   "source": [],
   "id": "fc03a238199c8cb"
  },
  {
   "metadata": {},
   "cell_type": "markdown",
   "source": [
    "## Typen"
   ],
   "id": "5e20b622c89bdb7c"
  },
  {
   "metadata": {},
   "cell_type": "markdown",
   "source": [
    "**Type**\n",
    "\n",
    "- Definieren Sie die folgenden Variablen und geben Sie jeweis den Typ aus.\n",
    "  - i = 1\n",
    "  - f = 1.5\n",
    "  - b = True\n",
    "  - s = \"Heute\"\n",
    "- Für die Ausgabe des Typ verwenden Sie die Mehtode type(x)"
   ],
   "id": "6860cd07b3c9fd75"
  },
  {
   "metadata": {},
   "cell_type": "code",
   "outputs": [],
   "execution_count": null,
   "source": [],
   "id": "f65640e8c6990f67"
  },
  {
   "metadata": {},
   "cell_type": "markdown",
   "source": [
    "**Casting**\n",
    "\n",
    "- Mann kann einer Variablen auch explizit einen Typen zuweisen. \n",
    "- Erstellen Sie zwei Variablen wie folgt und geben Sie anschliessend die jeweiligen Typen aus:\n",
    "  - i = 5\n",
    "  - f = float(5)"
   ],
   "id": "67bf6f80c6bfb459"
  },
  {
   "metadata": {},
   "cell_type": "code",
   "outputs": [],
   "execution_count": null,
   "source": [],
   "id": "7c52d331efbbf5ef"
  },
  {
   "metadata": {},
   "cell_type": "markdown",
   "source": [
    "**Casting Beispiele**\n",
    "- Beim Casting werden Typen umgewandelt. \n",
    "- Probieren Sie folgenden Cast aus und geben Sie jeweils das Resultat auf der Console aus.\n",
    "- Cast to float\n",
    "  - x = 5\n",
    "  - y = float(x)\n",
    "- Cast to int\n",
    "  - x = 5.5\n",
    "  - y = int(x)\n",
    "- Was passiert bei Cast von float nach int?  "
   ],
   "id": "8a9c0585a5921ed9"
  },
  {
   "metadata": {},
   "cell_type": "code",
   "outputs": [],
   "execution_count": null,
   "source": [],
   "id": "9d21bdc63de9a354"
  },
  {
   "metadata": {},
   "cell_type": "markdown",
   "source": [
    "## Hilfe\n",
    "- Verwenden Sie die Methode help() um herauszufinden, was die Funktion abs macht.\n",
    "- Typen Sie dazu help(abs) in der Konsole ein. \n",
    "- Mit der Methode dir(abs) werden zudem alle Attribute und Methoden der Klasse abs angzeigt.\n",
    "- Estellen Sie eine weitere Zelle und führen Sie den Befehl aus."
   ],
   "id": "a37850854343e60c"
  },
  {
   "metadata": {},
   "cell_type": "code",
   "outputs": [],
   "execution_count": null,
   "source": [],
   "id": "474e72d3a5aaef80"
  },
  {
   "metadata": {},
   "cell_type": "markdown",
   "source": [
    "# Aufgaben"
   ],
   "id": "be1a886a179597b7"
  },
  {
   "cell_type": "markdown",
   "id": "4b74c1f8",
   "metadata": {},
   "source": [
    "## Hello\n",
    "Schreibe ein Programm, das `'Hello <dein Name>'` ausgibt."
   ]
  },
  {
   "cell_type": "markdown",
   "id": "d92bab84",
   "metadata": {},
   "source": [
    "## Rechnen\n",
    "- Lege zwei Variablen `x` und `y` an.\n",
    "- Berechne ihre Summe, Differenz und ihr Produkt.\n",
    "- Gib die Ergebnisse mit `print()` aus."
   ]
  }
 ],
 "metadata": {
  "kernelspec": {
   "name": "python3",
   "language": "python",
   "display_name": "Python 3 (ipykernel)"
  }
 },
 "nbformat": 4,
 "nbformat_minor": 5
}
