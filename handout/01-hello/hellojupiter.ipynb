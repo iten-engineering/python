{
 "cells": [
  {
   "attachments": {},
   "cell_type": "markdown",
   "metadata": {},
   "source": [
    "# Jupiter Notebook\n",
    "## Untertitel\n",
    "- Ist eine Mischung aus Text (Markdown) und ausführbarem Code\n",
    "- Die Code Zellen können einzeln oder auch alle zusammen ausgeführt werden.\n",
    "- Die Resultate werden dann unterhalb der jeweiligen Code Zelle eingeblendet.\n",
    "\n",
    "> Jupiter Notebook sind ideal für interaktive Arbeiten die gleichzeitig dokumentiert \n",
    "  werden sollen oder Grafiken darstellen."
   ]
  },
  {
   "cell_type": "markdown",
   "metadata": {
    "collapsed": false
   },
   "source": [
    "## Hello Jupiter\n",
    "- Führen Sie den folgenden Code Block aus. \n",
    "- Dazu können Sie den Run Butten betätigen oder die Zelle anwählen und [CTRL][ENTER] drücken. "
   ]
  },
  {
   "cell_type": "code",
   "execution_count": 1,
   "metadata": {
    "pycharm": {
     "is_executing": false
    }
   },
   "outputs": [
    {
     "name": "stdout",
     "output_type": "stream",
     "text": [
      "Hello Jupiter 123\n"
     ]
    }
   ],
   "source": [
    "print(\"Hello Jupiter 123\")"
   ]
  },
  {
   "cell_type": "markdown",
   "metadata": {
    "collapsed": false
   },
   "source": [
    "## Berechnungen\n",
    "Führen Sie die folgenden Berechnungen aus.\n",
    "- 3 x 3\n",
    "- 5 hoch 2 (hoch wird mit ** angegeben)\n",
    "- 5 x 3 + 2 x 3"
   ]
  },
  {
   "cell_type": "code",
   "execution_count": 6,
   "metadata": {
    "collapsed": false,
    "pycharm": {
     "is_executing": false,
     "name": "#%%\n"
    }
   },
   "outputs": [
    {
     "name": "stdout",
     "output_type": "stream",
     "text": [
      "3x3 = 9\n",
      "5^2 = 25\n"
     ]
    },
    {
     "data": {
      "text/plain": [
       "21"
      ]
     },
     "execution_count": 6,
     "metadata": {},
     "output_type": "execute_result"
    }
   ],
   "source": [
    "print(\"3x3 =\", 3 * 3)\n",
    "print(\"5^2 =\", 5 ** 2)\n",
    "5 * 3 + 2 * 3\n"
   ]
  },
  {
   "cell_type": "markdown",
   "metadata": {
    "collapsed": false
   },
   "source": [
    "## Berechnung mit Variablen\n",
    "- Definieren Sie eine Variable x mit den Wert 5.5 und eine Variable y mit dem Wert 7.\n",
    "- Berenchen Sie die Summe und speichern Sie das Resultat in die Variable total.\n",
    "- Geben Sie das Resultat aus.\n"
   ]
  },
  {
   "cell_type": "code",
   "execution_count": 11,
   "metadata": {
    "pycharm": {
     "is_executing": false
    }
   },
   "outputs": [
    {
     "name": "stdout",
     "output_type": "stream",
     "text": [
      "75.5\n"
     ]
    }
   ],
   "source": [
    "x = 5.5\n",
    "y = 70\n",
    "total = x + y\n",
    "print(total)"
   ]
  },
  {
   "cell_type": "markdown",
   "metadata": {},
   "source": [
    "## Weitere Berechnung mit Variablen aus der obigen Zelle\n",
    "- Die Variablen aus der obigen Zelle (sofern diese ausgeführt wurde) können weiter verwendet werden.\n",
    "- Multiplizieren Sie die Werte von x und y und geben Sie das Resultat aus."
   ]
  },
  {
   "cell_type": "code",
   "execution_count": 12,
   "metadata": {
    "pycharm": {
     "is_executing": false
    }
   },
   "outputs": [
    {
     "data": {
      "text/plain": [
       "385.0"
      ]
     },
     "execution_count": 12,
     "metadata": {},
     "output_type": "execute_result"
    }
   ],
   "source": [
    "x * y"
   ]
  },
  {
   "cell_type": "markdown",
   "metadata": {
    "collapsed": false
   },
   "source": [
    "## Hilfe\n",
    "- Verwenden Sie die Methode help() um herauszufinden, was die Funktion abs macht.\n",
    "- Typen Sie dazu help(abs) in der Konsole ein. \n",
    "- Mit der Methode dir(abs) werden zudem alle Attribute und Methoden der Klasse abs angzeigt.\n",
    "  Estellen Sie eine weitere Zelle und führen Sie den Befehl aus."
   ]
  },
  {
   "cell_type": "code",
   "execution_count": 14,
   "metadata": {
    "collapsed": false,
    "pycharm": {
     "name": "#%%\n"
    }
   },
   "outputs": [
    {
     "name": "stdout",
     "output_type": "stream",
     "text": [
      "Help on built-in function abs in module builtins:\n",
      "\n",
      "abs(x, /)\n",
      "    Return the absolute value of the argument.\n",
      "\n"
     ]
    },
    {
     "data": {
      "text/plain": [
       "44"
      ]
     },
     "execution_count": 14,
     "metadata": {},
     "output_type": "execute_result"
    }
   ],
   "source": [
    "help(abs)\n",
    "abs(-44)"
   ]
  },
  {
   "cell_type": "code",
   "execution_count": 15,
   "metadata": {
    "collapsed": false,
    "pycharm": {
     "name": "#%%\n"
    }
   },
   "outputs": [
    {
     "data": {
      "text/plain": [
       "['__call__',\n",
       " '__class__',\n",
       " '__delattr__',\n",
       " '__dir__',\n",
       " '__doc__',\n",
       " '__eq__',\n",
       " '__format__',\n",
       " '__ge__',\n",
       " '__getattribute__',\n",
       " '__gt__',\n",
       " '__hash__',\n",
       " '__init__',\n",
       " '__init_subclass__',\n",
       " '__le__',\n",
       " '__lt__',\n",
       " '__module__',\n",
       " '__name__',\n",
       " '__ne__',\n",
       " '__new__',\n",
       " '__qualname__',\n",
       " '__reduce__',\n",
       " '__reduce_ex__',\n",
       " '__repr__',\n",
       " '__self__',\n",
       " '__setattr__',\n",
       " '__sizeof__',\n",
       " '__str__',\n",
       " '__subclasshook__',\n",
       " '__text_signature__']"
      ]
     },
     "execution_count": 15,
     "metadata": {},
     "output_type": "execute_result"
    }
   ],
   "source": [
    "dir(abs)"
   ]
  },
  {
   "cell_type": "markdown",
   "metadata": {},
   "source": [
    "## Typen\n",
    "- Definieren Sie die folgenden Variablen und geben Sie jeweis den Typ aus.\n",
    "  - i = 1\n",
    "  - f = 1.5\n",
    "  - b = True\n",
    "  - s = \"Heute\"\n",
    "- Für die Ausgabe des Typ verwenden Sie die Mehtode type(x)"
   ]
  },
  {
   "cell_type": "code",
   "execution_count": 21,
   "metadata": {
    "collapsed": false,
    "pycharm": {
     "is_executing": false,
     "name": "#%%\n"
    }
   },
   "outputs": [
    {
     "name": "stdout",
     "output_type": "stream",
     "text": [
      "typ of i: <class 'int'>\n",
      "<class 'float'>\n",
      "<class 'bool'>\n",
      "<class 'str'>\n",
      "typ of i: <class 'bool'>\n"
     ]
    }
   ],
   "source": [
    "i = 1\n",
    "print(\"typ of i:\", type(i))\n",
    "\n",
    "f = 1.5\n",
    "print(type(f))\n",
    "\n",
    "b = True\n",
    "print(type(b))\n",
    "\n",
    "s = \"Hello\"\n",
    "print(type(s))\n",
    "\n",
    "i = False\n",
    "print(\"typ of i:\", type(i))\n"
   ]
  },
  {
   "cell_type": "markdown",
   "metadata": {},
   "source": [
    "## Explizite Typen\n",
    "- Mann kann einer Variablen auch explizit einen Typen zuweisen. \n",
    "- Erstellen Sie zwei Variablen wie folgt und geben Sie anschliessend die jeweiligen Typen aus:\n",
    "  - i = 5\n",
    "  - f = float(5)"
   ]
  },
  {
   "cell_type": "code",
   "execution_count": 23,
   "metadata": {
    "pycharm": {
     "is_executing": false,
     "name": "#%%\n"
    }
   },
   "outputs": [
    {
     "name": "stdout",
     "output_type": "stream",
     "text": [
      "<class 'int'>\n",
      "<class 'float'>\n"
     ]
    }
   ],
   "source": [
    "i = 5\n",
    "print(type(i))\n",
    "\n",
    "x = float(5)\n",
    "print(type(x))"
   ]
  },
  {
   "cell_type": "markdown",
   "metadata": {},
   "source": [
    "## Casting\n",
    "- Beim Casting werden Typen umgewandelt. \n",
    "- Probieren Sie folgenden Cast aus und geben Sie jeweils das Resultat auf der Console aus.\n",
    "- Cast to float\n",
    "  - x = 5\n",
    "  - y = float(x)\n",
    "- Cast to int\n",
    "  - x = 5.5\n",
    "  - y = int(x)\n",
    "- Was passiert bei Cast von float nach int?  "
   ]
  },
  {
   "cell_type": "code",
   "execution_count": 26,
   "metadata": {
    "pycharm": {
     "is_executing": false,
     "name": "#%%\n"
    }
   },
   "outputs": [
    {
     "name": "stdout",
     "output_type": "stream",
     "text": [
      "<class 'int'>\n",
      "5\n"
     ]
    }
   ],
   "source": [
    "x = 5.5\n",
    "y = int(x)\n",
    "print(type(y))\n",
    "print(y)"
   ]
  },
  {
   "cell_type": "code",
   "execution_count": 29,
   "metadata": {},
   "outputs": [
    {
     "name": "stdout",
     "output_type": "stream",
     "text": [
      "<class 'str'>\n",
      "5x\n"
     ]
    },
    {
     "ename": "ValueError",
     "evalue": "invalid literal for int() with base 10: '5x'",
     "output_type": "error",
     "traceback": [
      "\u001b[1;31m---------------------------------------------------------------------------\u001b[0m",
      "\u001b[1;31mValueError\u001b[0m                                Traceback (most recent call last)",
      "\u001b[1;32m~\\AppData\\Local\\Temp/ipykernel_6400/545829229.py\u001b[0m in \u001b[0;36m<module>\u001b[1;34m\u001b[0m\n\u001b[0;32m      3\u001b[0m \u001b[0mprint\u001b[0m\u001b[1;33m(\u001b[0m\u001b[0mt\u001b[0m\u001b[1;33m)\u001b[0m\u001b[1;33m\u001b[0m\u001b[1;33m\u001b[0m\u001b[0m\n\u001b[0;32m      4\u001b[0m \u001b[1;33m\u001b[0m\u001b[0m\n\u001b[1;32m----> 5\u001b[1;33m \u001b[0mi\u001b[0m \u001b[1;33m=\u001b[0m \u001b[0mint\u001b[0m\u001b[1;33m(\u001b[0m\u001b[0mt\u001b[0m\u001b[1;33m)\u001b[0m\u001b[1;33m\u001b[0m\u001b[1;33m\u001b[0m\u001b[0m\n\u001b[0m\u001b[0;32m      6\u001b[0m \u001b[0mprint\u001b[0m\u001b[1;33m(\u001b[0m\u001b[0mi\u001b[0m\u001b[1;33m)\u001b[0m\u001b[1;33m\u001b[0m\u001b[1;33m\u001b[0m\u001b[0m\n",
      "\u001b[1;31mValueError\u001b[0m: invalid literal for int() with base 10: '5x'"
     ]
    }
   ],
   "source": [
    "t = \"5x\"\n",
    "print(type(t))\n",
    "print(t)\n",
    "\n",
    "i = int(t)\n",
    "print(i)"
   ]
  },
  {
   "cell_type": "markdown",
   "metadata": {
    "collapsed": false,
    "pycharm": {
     "name": "#%% md\n"
    }
   },
   "source": [
    "_The end._\n",
    "\n",
    "\n"
   ]
  }
 ],
 "metadata": {
  "kernelspec": {
   "display_name": "Python 3.9.5 ('base')",
   "language": "python",
   "name": "python3"
  },
  "language_info": {
   "codemirror_mode": {
    "name": "ipython",
    "version": 3
   },
   "file_extension": ".py",
   "mimetype": "text/x-python",
   "name": "python",
   "nbconvert_exporter": "python",
   "pygments_lexer": "ipython3",
   "version": "3.9.5"
  },
  "pycharm": {
   "stem_cell": {
    "cell_type": "raw",
    "metadata": {
     "collapsed": false
    },
    "source": []
   }
  },
  "vscode": {
   "interpreter": {
    "hash": "2e27eab561546a84cd429f5381f528a41cf29132cc0c7d11c77bf0ff2e2df2df"
   }
  }
 },
 "nbformat": 4,
 "nbformat_minor": 2
}
