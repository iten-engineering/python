{
 "cells": [
  {
   "cell_type": "markdown",
   "metadata": {},
   "source": [
    "# Jupiter Notebook\n",
    "## Untertitel\n",
    "- Ist eine Mischung aus Text (Markdown) und ausführbarem Code\n",
    "- Die Code Zellen können einzeln oder auch alle zusammen ausgeführt werden.\n",
    "- Die Resultate werden dann unterhalb der jeweiligen Code Zelle eingeblendet.\n",
    "\n",
    "> Jupiter Notebook sind ideal für interaktive Arbeiten die gleichzeitig dokumentiert \n",
    "  werden sollen oder Grafiken darstellen."
   ]
  },
  {
   "cell_type": "markdown",
   "metadata": {
    "collapsed": false
   },
   "source": [
    "## Hello Jupiter\n",
    "- Führen Sie den folgenden Code Block aus. \n",
    "- Dazu können Sie den Run Butten betätigen oder die Zelle anwählen und [CTRL][ENTER] drücken. "
   ]
  },
  {
   "cell_type": "code",
   "execution_count": 2,
   "metadata": {
    "pycharm": {
     "is_executing": false
    }
   },
   "outputs": [
    {
     "name": "stdout",
     "output_type": "stream",
     "text": [
      "Hello Jupiter 123\n"
     ]
    }
   ],
   "source": [
    "print(\"Hello Jupiter 123\")"
   ]
  },
  {
   "cell_type": "markdown",
   "metadata": {
    "collapsed": false
   },
   "source": [
    "## Berechnungen\n",
    "Führen Sie die folgenden Berechnungen aus.\n",
    "- 3 x 3\n",
    "- 5 hoch 2 (hoch wird mit ** angegeben)\n",
    "- 5 x 3 + 2 x 3"
   ]
  },
  {
   "cell_type": "code",
   "execution_count": 7,
   "metadata": {
    "collapsed": false,
    "pycharm": {
     "is_executing": false,
     "name": "#%%\n"
    }
   },
   "outputs": [
    {
     "name": "stdout",
     "output_type": "stream",
     "text": [
      "9\n",
      "25\n",
      "75\n",
      "21\n"
     ]
    }
   ],
   "source": [
    "print(3 * 3)\n",
    "print(5 ** 2)\n",
    "print(5 * (3 + 2) * 3)\n",
    "print(5 * 3 + 2 * 3)"
   ]
  },
  {
   "cell_type": "markdown",
   "metadata": {
    "collapsed": false
   },
   "source": [
    "## Berechnung mit Variablen\n",
    "- Definieren Sie eine Variable x mit den Wert 5.5 und eine Variable y mit dem Wert 7.\n",
    "- Berenchen Sie die Summe und speichern Sie das Resultat in die Variable total.\n",
    "- Geben Sie das Resultat aus.\n"
   ]
  },
  {
   "cell_type": "code",
   "execution_count": 11,
   "metadata": {
    "pycharm": {
     "is_executing": false
    }
   },
   "outputs": [
    {
     "name": "stdout",
     "output_type": "stream",
     "text": [
      "75.5\n"
     ]
    }
   ],
   "source": [
    "x = 5.5\n",
    "y = 70\n",
    "\n",
    "result = x + y\n",
    "print(result)"
   ]
  },
  {
   "cell_type": "markdown",
   "metadata": {},
   "source": [
    "## Weitere Berechnung mit Variablen aus der obigen Zelle\n",
    "- Die Variablen aus der obigen Zelle (sofern diese ausgeführt wurde) können weiter verwendet werden.\n",
    "- Multiplizieren Sie die Werte von x und y und geben Sie das Resultat aus."
   ]
  },
  {
   "cell_type": "code",
   "execution_count": 12,
   "metadata": {
    "pycharm": {
     "is_executing": false
    }
   },
   "outputs": [
    {
     "name": "stdout",
     "output_type": "stream",
     "text": [
      "385.0\n"
     ]
    }
   ],
   "source": [
    "result = x * y\n",
    "print(result)"
   ]
  },
  {
   "cell_type": "markdown",
   "metadata": {
    "collapsed": false
   },
   "source": [
    "## Hilfe\n",
    "- Verwenden Sie die Methode help() um herauszufinden, was die Funktion abs macht.\n",
    "- Typen Sie dazu help(abs) in der Konsole ein. \n",
    "- Mit der Methode dir(abs) werden zudem alle Attribute und Methoden der Klasse abs angzeigt.\n",
    "  Estellen Sie eine weitere Zelle und führen Sie den Befehl aus."
   ]
  },
  {
   "cell_type": "code",
   "execution_count": 15,
   "metadata": {
    "collapsed": false,
    "pycharm": {
     "name": "#%%\n"
    }
   },
   "outputs": [
    {
     "name": "stdout",
     "output_type": "stream",
     "text": [
      "Help on built-in function abs in module builtins:\n",
      "\n",
      "abs(x, /)\n",
      "    Return the absolute value of the argument.\n",
      "\n"
     ]
    }
   ],
   "source": [
    "help(abs)\n"
   ]
  },
  {
   "cell_type": "code",
   "execution_count": 16,
   "metadata": {
    "collapsed": false,
    "pycharm": {
     "name": "#%%\n"
    }
   },
   "outputs": [
    {
     "name": "stdout",
     "output_type": "stream",
     "text": [
      "1\n"
     ]
    }
   ],
   "source": [
    "print(abs(-1))"
   ]
  },
  {
   "cell_type": "markdown",
   "metadata": {},
   "source": [
    "## Typen\n",
    "- Definieren Sie die folgenden Variablen und geben Sie jeweis den Typ aus.\n",
    "  - i = 1\n",
    "  - f = 1.5\n",
    "  - b = True\n",
    "  - s = \"Heute\"\n",
    "- Für die Ausgabe des Typ verwenden Sie die Mehtode type(x)"
   ]
  },
  {
   "cell_type": "code",
   "execution_count": 27,
   "metadata": {
    "collapsed": false,
    "pycharm": {
     "is_executing": false,
     "name": "#%%\n"
    }
   },
   "outputs": [
    {
     "name": "stdout",
     "output_type": "stream",
     "text": [
      "i = <class 'int'>\n",
      "f = <class 'float'>\n",
      "b = <class 'bool'>\n",
      "s = <class 'str'>\n",
      "i = <class 'str'>\n"
     ]
    }
   ],
   "source": [
    "i = 1\n",
    "print(\"i =\", type(i))\n",
    "\n",
    "f = 1.5\n",
    "b = True\n",
    "s = \"Heute\"\n",
    "i = s\n",
    "\n",
    "print(\"f =\", type(f))\n",
    "print(\"b =\", type(b))\n",
    "print(\"s =\", type(s))\n",
    "print(\"i =\", type(i))"
   ]
  },
  {
   "cell_type": "code",
   "execution_count": 23,
   "metadata": {},
   "outputs": [
    {
     "name": "stdout",
     "output_type": "stream",
     "text": [
      "True\n",
      "<class 'bool'>\n",
      "Kunde ist älter als 18 Jahre\n"
     ]
    }
   ],
   "source": [
    "age = 21\n",
    "is_adult = age >= 18\n",
    "\n",
    "print(is_adult)\n",
    "print(type(is_adult))\n",
    "\n",
    "if is_adult:\n",
    "    print(\"Kunde ist älter oder gleich 18 Jahre\")\n",
    "else:\n",
    "    print(\"Kunde ist jünger als 18 Jahre\")"
   ]
  },
  {
   "cell_type": "markdown",
   "metadata": {},
   "source": [
    "## Explizite Typen\n",
    "- Mann kann einer Variablen auch explizit einen Typen zuweisen. \n",
    "- Erstellen Sie zwei Variablen wie folgt und geben Sie anschliessend die jeweiligen Typen aus:\n",
    "  - i = 5\n",
    "  - f = float(5)"
   ]
  },
  {
   "cell_type": "code",
   "execution_count": 29,
   "metadata": {
    "pycharm": {
     "is_executing": false,
     "name": "#%%\n"
    }
   },
   "outputs": [
    {
     "name": "stdout",
     "output_type": "stream",
     "text": [
      "<class 'int'>\n",
      "<class 'float'>\n"
     ]
    }
   ],
   "source": [
    "i = 5\n",
    "f = float(5)\n",
    "\n",
    "print(type(i))\n",
    "print(type(f))"
   ]
  },
  {
   "cell_type": "markdown",
   "metadata": {},
   "source": [
    "## Casting\n",
    "- Beim Casting werden Typen umgewandelt. \n",
    "- Probieren Sie folgenden Cast aus und geben Sie jeweils das Resultat auf der Console aus.\n",
    "- Cast to float\n",
    "  - x = 5\n",
    "  - y = float(x)\n",
    "- Cast to int\n",
    "  - x = 5.5\n",
    "  - y = int(x)\n",
    "- Was passiert bei Cast von float nach int?  "
   ]
  },
  {
   "cell_type": "code",
   "execution_count": 33,
   "metadata": {
    "pycharm": {
     "is_executing": false,
     "name": "#%%\n"
    }
   },
   "outputs": [
    {
     "name": "stdout",
     "output_type": "stream",
     "text": [
      "x= 5 , y= 5.0\n",
      "x= 5.5 , y= 5\n"
     ]
    }
   ],
   "source": [
    "x = 5\n",
    "y = float(x)\n",
    "print(\"x=\", x, \", y=\", y)\n",
    "\n",
    "x = 5.5\n",
    "y = int(x)\n",
    "print(\"x=\", x, \", y=\", y)"
   ]
  },
  {
   "cell_type": "code",
   "execution_count": 35,
   "metadata": {},
   "outputs": [
    {
     "ename": "ValueError",
     "evalue": "could not convert string to float: '5.5x'",
     "output_type": "error",
     "traceback": [
      "\u001b[1;31m---------------------------------------------------------------------------\u001b[0m",
      "\u001b[1;31mValueError\u001b[0m                                Traceback (most recent call last)",
      "\u001b[1;32m~\\AppData\\Local\\Temp/ipykernel_12376/3047734498.py\u001b[0m in \u001b[0;36m<module>\u001b[1;34m\u001b[0m\n\u001b[0;32m      1\u001b[0m \u001b[0mvalue\u001b[0m \u001b[1;33m=\u001b[0m \u001b[1;34m\"5.5x\"\u001b[0m\u001b[1;33m\u001b[0m\u001b[1;33m\u001b[0m\u001b[0m\n\u001b[0;32m      2\u001b[0m \u001b[1;33m\u001b[0m\u001b[0m\n\u001b[1;32m----> 3\u001b[1;33m \u001b[0mx\u001b[0m \u001b[1;33m=\u001b[0m \u001b[0mfloat\u001b[0m\u001b[1;33m(\u001b[0m\u001b[0mvalue\u001b[0m\u001b[1;33m)\u001b[0m\u001b[1;33m\u001b[0m\u001b[1;33m\u001b[0m\u001b[0m\n\u001b[0m\u001b[0;32m      4\u001b[0m \u001b[0mprint\u001b[0m\u001b[1;33m(\u001b[0m\u001b[0mx\u001b[0m\u001b[1;33m)\u001b[0m\u001b[1;33m\u001b[0m\u001b[1;33m\u001b[0m\u001b[0m\n",
      "\u001b[1;31mValueError\u001b[0m: could not convert string to float: '5.5x'"
     ]
    }
   ],
   "source": [
    "value = \"5.5x\"\n",
    "\n",
    "x = float(value)\n",
    "print(x)"
   ]
  },
  {
   "cell_type": "markdown",
   "metadata": {
    "collapsed": false,
    "pycharm": {
     "name": "#%% md\n"
    }
   },
   "source": [
    "_The end._\n",
    "\n",
    "\n"
   ]
  }
 ],
 "metadata": {
  "kernelspec": {
   "display_name": "Python 3.9.5 ('base')",
   "language": "python",
   "name": "python3"
  },
  "language_info": {
   "codemirror_mode": {
    "name": "ipython",
    "version": 3
   },
   "file_extension": ".py",
   "mimetype": "text/x-python",
   "name": "python",
   "nbconvert_exporter": "python",
   "pygments_lexer": "ipython3",
   "version": "3.9.5"
  },
  "pycharm": {
   "stem_cell": {
    "cell_type": "raw",
    "metadata": {
     "collapsed": false
    },
    "source": []
   }
  },
  "vscode": {
   "interpreter": {
    "hash": "2e27eab561546a84cd429f5381f528a41cf29132cc0c7d11c77bf0ff2e2df2df"
   }
  }
 },
 "nbformat": 4,
 "nbformat_minor": 2
}
