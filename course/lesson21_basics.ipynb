{
  "metadata": {
    "kernelspec": {
      "name": "python",
      "display_name": "Python (Pyodide)",
      "language": "python"
    },
    "language_info": {
      "codemirror_mode": {
        "name": "python",
        "version": 3
      },
      "file_extension": ".py",
      "mimetype": "text/x-python",
      "name": "python",
      "nbconvert_exporter": "python",
      "pygments_lexer": "ipython3",
      "version": "3.8"
    }
  },
  "nbformat_minor": 5,
  "nbformat": 4,
  "cells": [
    {
      "id": "46e9def2-f0c6-4243-980c-e9a3adc6e104",
      "cell_type": "markdown",
      "source": "# Operatoren, Variablen, Kommentare und Hilfe\n\n",
      "metadata": {
        "collapsed": false,
        "jupyter": {
          "outputs_hidden": false
        }
      }
    },
    {
      "id": "1858737f",
      "cell_type": "markdown",
      "source": "## Operatoren\n\n### Kategorien\n\nIn Python gibt es mehrere Kategorien von Operatoren, darunter:\n\n- Arithmetic Operators\n- Comparison (Relational) Operators\n- Assignment Operators\n- Logical Operators\n- Bitwise Operators\n- Membership Operators\n- Identity Operators\n",
      "metadata": {}
    },
    {
      "id": "c20eaedf-513a-4748-afbe-a2942acd0d5b",
      "cell_type": "markdown",
      "source": "### Übersicht\n\n| Operator             | Beschreibung                      | Beispiel  | Ergebnis  |\n|----------------------|-----------------------------------|-----------|-----------|\n| +x, -x               | Vorzeichen                        | -3            | -3        |\n| +, -                 | Addition, Subtraktion             | 10–3          | 7         |\n| *, /, %              | Multiplikation, Division, Rest    | 27 % 7        | 6         |\n| //                   | Ganzzahl Division                 | 7//2          | 3         |\n| **                   | Potenz                            | 10 ** 3       | 1000      |\n| +=, -=, *=, /=, **=  | Compound Operatoren               | x += 3        | x = x + 3 |\n| or, and, not         | Boolsches OR, AND, NOT            | True or False | True      |\n| in                   | Element in Menge                  | 1 in [0, 1]   | True      |\n| <, <=, >, >=, !=, == | Vergleichsoperatoren              | 2 >= 3        | False     |\n| is, is not           | Vergleich Objekte                 | y=x; x is y   | True      |\n| ¦, &, ^, ~x          | Bitweises OR, AND, XOR, NOT       | 6 ^ 3         | 4         |\n| <<, >>               | Shiftoperatoren                   | 6 << 2        | 2         |\n",
      "metadata": {
        "collapsed": false,
        "jupyter": {
          "outputs_hidden": false
        }
      }
    },
    {
      "id": "5b5e251c-72e4-4cf1-bfa2-ddbf81cdefc1",
      "cell_type": "markdown",
      "source": "### Beispiele",
      "metadata": {
        "collapsed": false,
        "jupyter": {
          "outputs_hidden": false
        }
      }
    },
    {
      "id": "11ae7a76-31d2-4ef5-863b-06f4dfafea0d",
      "cell_type": "markdown",
      "source": "**Rest einer Division (%)**\n\nMit dem `%` Operator, wird der Rest einer Division zurückgegeben.\n- Beispiel: `27 % 7` ergibt `6`, da `27 = 3*7 + 6`.\n- Bei einer Divison durch 2 ist der Rest entweder 0 (gerade Zahl) oder 1 (ungerade Zahl).\n",
      "metadata": {
        "collapsed": false,
        "jupyter": {
          "outputs_hidden": false
        }
      }
    },
    {
      "id": "3fe43326-ae79-4943-9d6a-4cb276d8e363",
      "cell_type": "code",
      "source": "x = 5\nist_gerade = (x % 2) == 0\n\nprint(f\"Ist x ({x}) gerade? {ist_gerade}\")",
      "metadata": {
        "collapsed": false,
        "jupyter": {
          "outputs_hidden": false
        },
        "trusted": true
      },
      "outputs": [
        {
          "name": "stdout",
          "output_type": "stream",
          "text": "Ist x (5) gerade? False\n"
        }
      ],
      "execution_count": 1
    },
    {
      "id": "5b07aaf8-9011-4449-a137-cde62fa93d47",
      "cell_type": "markdown",
      "source": "**Boolsche Operatoren**\n\n- `and` → liefert nur True, wenn beide Bedingungen True sind.\n- `or`  → liefert True, wenn mindestens eine Bedingung True ist.\n- `not` → kehrt den Wahrheitswert um.",
      "metadata": {
        "collapsed": false,
        "jupyter": {
          "outputs_hidden": false
        }
      }
    },
    {
      "id": "84b5be14-1bc4-485d-87a1-52c08721c6fd",
      "cell_type": "code",
      "source": "x = True\ny = False\n\n# AND – beide müssen True sein\nprint(\"x and y:\", x and y)\n\n# OR – mindestens einer muss True sein\nprint(\"x or y:\", x or y)\n\n# NOT – negiert den Wert\nprint(\"not x:\", not x)\nprint(\"not y:\", not y)",
      "metadata": {
        "collapsed": false,
        "jupyter": {
          "outputs_hidden": false
        },
        "trusted": true
      },
      "outputs": [
        {
          "name": "stdout",
          "output_type": "stream",
          "text": "x and y: False\nx or y: True\nnot x: False\nnot y: True\n"
        }
      ],
      "execution_count": 2
    },
    {
      "id": "7c6e19d1-5200-4003-9985-353ba43c52d6",
      "cell_type": "markdown",
      "source": "### Rangfolge\n\nDie Rangfolge der Operatoren bestimmt die Reihenfolge, in der Operationen ausgewertet werden. Hier ist eine Übersicht der wichtigsten Operatoren von höchster zu niedrigster Priorität:\n\n1. Klammern ()\n2. Potenz **\n3. Vorzeichen +x, -x, ~x\n4. Multiplikation/Division *, /, //, %\n5. Addition/Subtraktion +, -\n6. Vergleiche <, <=, >, >=, ==, !=\n7. Logik-Operatoren not, and, or\n\nWeiter Details mit einer vollständigen Liste siehe [Operator precedence](https://docs.python.org/3/reference/expressions.html#operator-precedence) der Python Dokumentation.",
      "metadata": {
        "collapsed": false,
        "jupyter": {
          "outputs_hidden": false
        }
      }
    },
    {
      "id": "2c691e23-adac-4796-9e29-3a6e5dbcac45",
      "cell_type": "code",
      "source": "# Ohne Klammern\nresult1 = 3 + 2 * 4             # Multiplikation hat Vorrang vor Addition\nprint(\"ohne Klammern  3 + 2 * 4 =\", result1)   # 11\n\n# Mit Klammern\nresult2 = (3 + 2) * 4\nprint(\"mit Klammern (3 + 2) * 4 =\", result2)  # 20",
      "metadata": {
        "collapsed": false,
        "jupyter": {
          "outputs_hidden": false
        },
        "trusted": true
      },
      "outputs": [
        {
          "name": "stdout",
          "output_type": "stream",
          "text": "ohne Klammern  3 + 2 * 4 = 11\nmit Klammern (3 + 2) * 4 = 20\n"
        }
      ],
      "execution_count": 3
    },
    {
      "id": "35ccd3e5-a6c3-4037-a804-48f090cfba68",
      "cell_type": "markdown",
      "source": "",
      "metadata": {
        "collapsed": false,
        "jupyter": {
          "outputs_hidden": false
        }
      }
    },
    {
      "id": "0b0410d5",
      "cell_type": "markdown",
      "source": "## Variablen",
      "metadata": {}
    },
    {
      "id": "8f1cb3f0-6405-4d68-a707-390d9b830a87",
      "cell_type": "markdown",
      "source": "",
      "metadata": {
        "collapsed": false,
        "jupyter": {
          "outputs_hidden": false
        }
      }
    },
    {
      "id": "335bdc76-7583-4081-98bd-d9d3c6c1141d",
      "cell_type": "markdown",
      "source": "### Deklaration\n\nIn Python muss man Variablen nicht vorher deklarieren. Sie entstehen automatisch, wenn man ihnen einen Wert zuweist.",
      "metadata": {
        "collapsed": false,
        "jupyter": {
          "outputs_hidden": false
        }
      }
    },
    {
      "id": "62f18f7e-b40a-4e1d-bff3-123a8c06c28e",
      "cell_type": "code",
      "source": "x = 10\nname = \"Alice\"\npi = 3.14\n\nprint(x, name, pi)",
      "metadata": {
        "collapsed": false,
        "jupyter": {
          "outputs_hidden": false
        },
        "trusted": true
      },
      "outputs": [
        {
          "name": "stdout",
          "output_type": "stream",
          "text": "10 Alice 3.14\n"
        }
      ],
      "execution_count": 4
    },
    {
      "id": "a4cf90e5-7b7c-42b3-be5c-e0712ed966ac",
      "cell_type": "markdown",
      "source": "### Statische vs. dynamische Typen\n\n- In **statisch typisierten** Sprachen (z. B. Java, C++) muss man den Datentyp einer Variablen vorab festlegen.\n  - Der Typ der Variablen bleibt dann unverändert.\n  - Nur der Wert der Variablen kann sich noch ändern.\n\n- In **dynamisch typisierten** Sprachen wie Python oder JavaScript wird der Typ zur Laufzeit bestimmt.\n  - Es erfolgt keine Typenangabe bei der Deklaration.\n  - Es kann sowohl der Wert als auch der Typ einer Variablen zur Laufzeit geändert werden.",
      "metadata": {
        "collapsed": false,
        "jupyter": {
          "outputs_hidden": false
        }
      }
    },
    {
      "id": "e423df59-b6b7-4e6f-8dbf-d46ec0ea6e9d",
      "cell_type": "code",
      "source": "x = 42        # x ist int\nprint(x, type(x))\n\nx = \"Hallo\"   # x ist jetzt str\nprint(x, type(x))\n",
      "metadata": {
        "collapsed": false,
        "jupyter": {
          "outputs_hidden": false
        },
        "trusted": true
      },
      "outputs": [
        {
          "name": "stdout",
          "output_type": "stream",
          "text": "42 <class 'int'>\nHallo <class 'str'>\n"
        }
      ],
      "execution_count": 5
    },
    {
      "id": "ebf36ef4-0eb1-4848-9537-b8276bb42d0d",
      "cell_type": "markdown",
      "source": "### Dynamische Typenzuordnung\n\nPython erkennt den Typ automatisch anhand des zugewiesenen Werts.",
      "metadata": {
        "collapsed": false,
        "jupyter": {
          "outputs_hidden": false
        }
      }
    },
    {
      "id": "9a3fb3e0-bd1a-4303-b467-0a612d5b1295",
      "cell_type": "code",
      "source": "a = 5          # int\nb = 3.14       # float\nc = \"Hello\"    # str\nd = True       # bool\n\nprint(type(a), type(b), type(c), type(d))",
      "metadata": {
        "collapsed": false,
        "jupyter": {
          "outputs_hidden": false
        },
        "trusted": true
      },
      "outputs": [
        {
          "name": "stdout",
          "output_type": "stream",
          "text": "<class 'int'> <class 'float'> <class 'str'> <class 'bool'>\n"
        }
      ],
      "execution_count": 6
    },
    {
      "id": "51d57cef-c737-4f19-bb30-c4cb0afc99ab",
      "cell_type": "markdown",
      "source": "### Datentypen\n\nIn Python sind folgende grundlegende Datentypen definiert:\n\n| Typ      | Klasse                                            |\n|----------|---------------------------------------------------|\n| Text     | str (Zeichenkette)                                |\n| Numeric  | int (Ganzzahl), float (Fliesskomazahlen), complex |\n| Boolean  | bool                                              |\n| Sequence | list, tuple, range                                |\n| Set      | set, frozenset                                    |\n| Map      | dict (Schlüssel/Werte Paare)                      |\n| Binary   | bytes, bytearray, memoryview                      |",
      "metadata": {
        "collapsed": false,
        "jupyter": {
          "outputs_hidden": false
        }
      }
    },
    {
      "id": "7533174c-6e52-4b95-9d51-40f30e0163f0",
      "cell_type": "code",
      "source": "numbers = [1, 2, 3, 4, 5]        # list\nprint(numbers, type(numbers))",
      "metadata": {
        "collapsed": false,
        "jupyter": {
          "outputs_hidden": false
        },
        "trusted": true
      },
      "outputs": [
        {
          "name": "stdout",
          "output_type": "stream",
          "text": "[1, 2, 3, 4, 5] <class 'list'>\n"
        }
      ],
      "execution_count": 7
    },
    {
      "id": "6491a581-9513-4076-b2ff-a80e2e7c33f7",
      "cell_type": "markdown",
      "source": "### Casting\n\nMit Casting kann man Variablen in einen anderen Typ umwandeln.",
      "metadata": {
        "collapsed": false,
        "jupyter": {
          "outputs_hidden": false
        }
      }
    },
    {
      "id": "6f5e5a9b-ba66-48a0-a690-b03387351d28",
      "cell_type": "code",
      "source": "x = \"123\"\ny = int(x)        # String -> int\nz = float(x)      # String -> float\n\nprint(type(x), type(y), type(z))\n",
      "metadata": {
        "collapsed": false,
        "jupyter": {
          "outputs_hidden": false
        },
        "trusted": true
      },
      "outputs": [
        {
          "name": "stdout",
          "output_type": "stream",
          "text": "<class 'str'> <class 'int'> <class 'float'>\n"
        }
      ],
      "execution_count": 8
    },
    {
      "id": "b6431c2f-1b50-4e0f-9d35-0aad76152812",
      "cell_type": "markdown",
      "source": "**Vorsicht: Es können auch Daten verloren gehen!**",
      "metadata": {
        "collapsed": false,
        "jupyter": {
          "outputs_hidden": false
        }
      }
    },
    {
      "id": "d40a519e-9115-4406-89b4-2203d37e2a40",
      "cell_type": "code",
      "source": "x = 3.99\ny = int(x)        # float -> int (Nachkommastellen gehen verloren)\nprint(y)",
      "metadata": {
        "collapsed": false,
        "jupyter": {
          "outputs_hidden": false
        },
        "trusted": true
      },
      "outputs": [
        {
          "name": "stdout",
          "output_type": "stream",
          "text": "3\n"
        }
      ],
      "execution_count": 9
    },
    {
      "id": "1a88c688-3561-411f-af76-1807d942e3c9",
      "cell_type": "markdown",
      "source": "**Vorsicht: Es kann auch Fehler geben!**",
      "metadata": {
        "collapsed": false,
        "jupyter": {
          "outputs_hidden": false
        }
      }
    },
    {
      "id": "9d3dff3f-5d50-4e7f-a1bd-d6ad007db922",
      "cell_type": "code",
      "source": "value = \"12.5\"\nx = float(value)  # Funktioniert\nprint(x)",
      "metadata": {
        "collapsed": false,
        "jupyter": {
          "outputs_hidden": false
        },
        "trusted": true
      },
      "outputs": [
        {
          "name": "stdout",
          "output_type": "stream",
          "text": "12.5\n"
        }
      ],
      "execution_count": 10
    },
    {
      "id": "e5616289-7330-4379-9724-0e4d199e1597",
      "cell_type": "code",
      "source": "value = \"12,5\"\n# x = float(value)  # Funktioniert nicht, da Komma kein Dezimaltrennzeichen ist\n# print(x)",
      "metadata": {
        "collapsed": false,
        "jupyter": {
          "outputs_hidden": false
        },
        "trusted": true
      },
      "outputs": [],
      "execution_count": 11
    },
    {
      "id": "7780e5c5-e189-41ae-bd98-0bd867a3934e",
      "cell_type": "markdown",
      "source": "### Variablen-Namen (Regeln)\n\nFolgende Regeln gelten für Variablen-Namen in Python:\n- Dürfen Buchstaben, Ziffern und Unterstrich enthalten.\n- Müssen mit einem Buchstaben oder Unterstrich beginnen.\n- Keine Sonderzeichen, keine Leerzeichen.\n- Keine Reservierter Wörter (z. B. `if`, `for`, `while`, `def`, etc.).\n\n> Beachte: Python unterscheidet zwischen Groß- und Kleinschreibung.",
      "metadata": {
        "collapsed": false,
        "jupyter": {
          "outputs_hidden": false
        }
      }
    },
    {
      "id": "d85a8835-7507-455a-a071-0ff6fe9bed39",
      "cell_type": "code",
      "source": "# Gültige Variablen-Namen\nname = \"Alice\"\n_age = 25\ntask7 = \"Check balance\"\n\n# Ungültige Variablen-Namen (auskommentiert, da sie Fehler verursachen)\n# 2nd_place = \"Bob\"      # Beginnt mit Ziffer\n# first-name = \"Charlie\" # Enthält Sonderzeichen",
      "metadata": {
        "collapsed": false,
        "jupyter": {
          "outputs_hidden": false
        },
        "trusted": true
      },
      "outputs": [],
      "execution_count": 12
    },
    {
      "id": "005e80c3-2e39-41ca-a4e4-811dde6de27b",
      "cell_type": "markdown",
      "source": "### Reservierte Wörter\n\nPython hat bestimmte Schlüsselwörter, die nicht als Variablennamen verwendet werden dürfen.",
      "metadata": {
        "collapsed": false,
        "jupyter": {
          "outputs_hidden": false
        }
      }
    },
    {
      "id": "1932fb71-b5c5-4a53-906d-c2c70d8794e0",
      "cell_type": "code",
      "source": "import keyword\n\nprint(keyword.kwlist)",
      "metadata": {
        "collapsed": false,
        "jupyter": {
          "outputs_hidden": false
        },
        "trusted": true
      },
      "outputs": [
        {
          "name": "stdout",
          "output_type": "stream",
          "text": "['False', 'None', 'True', 'and', 'as', 'assert', 'async', 'await', 'break', 'class', 'continue', 'def', 'del', 'elif', 'else', 'except', 'finally', 'for', 'from', 'global', 'if', 'import', 'in', 'is', 'lambda', 'nonlocal', 'not', 'or', 'pass', 'raise', 'return', 'try', 'while', 'with', 'yield']\n"
        }
      ],
      "execution_count": 13
    },
    {
      "id": "001cb0c4-7d7c-4d0f-ba0d-8b7c2165bffd",
      "cell_type": "markdown",
      "source": "### Namenskonventionen\n\nIn Python gibt es keine strengen Regeln für Variablennamen, aber die Community folgt gewissen Konventionen (PEP 8):\n\n- snake_case → wird für Variablen- und Funktionsnamen verwendet\n- CamelCase → wird für Klassen-Namen verwendet\n- UPPER_CASE → wird für Konstanten verwendet",
      "metadata": {
        "collapsed": false,
        "jupyter": {
          "outputs_hidden": false
        }
      }
    },
    {
      "id": "0c413320-e30e-4de8-be57-038638be2c97",
      "cell_type": "code",
      "source": "# Variablen (snake_case)\nuser_name = \"Alice\"\nmax_value = 100\n\n# Funktionen (snake_case)\ndef calculate_sum(a, b):\n    return a + b\n\n# Klassen (CamelCase)\nclass MyClass:\n    pass\n\n# Konstanten (UPPER_CASE)\nPI = 3.14159",
      "metadata": {
        "collapsed": false,
        "jupyter": {
          "outputs_hidden": false
        },
        "trusted": true
      },
      "outputs": [],
      "execution_count": 14
    },
    {
      "id": "aa9aa7aa-b7f7-44ea-a620-f19ddaa76866",
      "cell_type": "markdown",
      "source": "## Kommentare",
      "metadata": {
        "collapsed": false,
        "jupyter": {
          "outputs_hidden": false
        }
      }
    },
    {
      "id": "cdcc7fb3-7e7d-4b64-bed1-7c6452c3f1ff",
      "cell_type": "markdown",
      "source": "### Einzeilig\n\nAb dem Kommentarzeichen `#` wird der Rest der Zeile als Kommentar betrachtet.",
      "metadata": {
        "collapsed": false,
        "jupyter": {
          "outputs_hidden": false
        }
      }
    },
    {
      "id": "8c636a6f-2d24-4fa4-aa04-edfbc9f964da",
      "cell_type": "code",
      "source": "# Dies ist ein Kommentar\n\nx = 7          # Kommentar hinter einer Zeile\nprint(x)       # Kommentar hinter einer Zeile",
      "metadata": {
        "collapsed": false,
        "jupyter": {
          "outputs_hidden": false
        },
        "trusted": true
      },
      "outputs": [
        {
          "name": "stdout",
          "output_type": "stream",
          "text": "7\n"
        }
      ],
      "execution_count": 15
    },
    {
      "id": "f4d1d75a-538b-4526-bee2-ba464144d7cc",
      "cell_type": "markdown",
      "source": "## Mehrzeilige Kommentare\n\nMehrzeilige Kommentare können mit 3 doppelten oder 3 einfachen Anführungszeichen erstellt werden.",
      "metadata": {
        "collapsed": false,
        "jupyter": {
          "outputs_hidden": false
        }
      }
    },
    {
      "id": "fbbe3bd2-d21f-414e-b571-32cc84a01c9d",
      "cell_type": "code",
      "source": "\"\"\"Hello World\nThis is a multi-line comment\n\"\"\"",
      "metadata": {
        "collapsed": false,
        "jupyter": {
          "outputs_hidden": false
        },
        "trusted": true
      },
      "outputs": [
        {
          "execution_count": 16,
          "output_type": "execute_result",
          "data": {
            "text/plain": "'Hello World\\nThis is a multi-line comment\\n'"
          },
          "metadata": {}
        }
      ],
      "execution_count": 16
    },
    {
      "id": "9e019f0b-a4e3-431e-88e6-663c82419c72",
      "cell_type": "markdown",
      "source": "## Hilfe\n\nIn Python gibt es mehrere Möglichkeiten, Hilfe zu Funktionen, Klassen oder Modulen zu erhalten.",
      "metadata": {
        "collapsed": false,
        "jupyter": {
          "outputs_hidden": false
        }
      }
    },
    {
      "id": "34e9f082-5df2-44b0-96ea-a91ba670a419",
      "cell_type": "markdown",
      "source": "### help",
      "metadata": {
        "collapsed": false,
        "jupyter": {
          "outputs_hidden": false
        }
      }
    },
    {
      "id": "f22c0fc5-a49b-4e22-b059-21dd88dcccf0",
      "cell_type": "code",
      "source": "help(abs)           # show help of this object / function",
      "metadata": {
        "collapsed": false,
        "jupyter": {
          "outputs_hidden": false
        },
        "trusted": true
      },
      "outputs": [
        {
          "name": "stdout",
          "output_type": "stream",
          "text": "Help on built-in function abs in module builtins:\n\nabs(x, /)\n    Return the absolute value of the argument.\n\n"
        }
      ],
      "execution_count": 17
    },
    {
      "id": "14111c4b-145a-4c92-9a5d-dc883020094d",
      "cell_type": "markdown",
      "source": "### type",
      "metadata": {
        "collapsed": false,
        "jupyter": {
          "outputs_hidden": false
        }
      }
    },
    {
      "id": "08f37092-550c-4b9f-b5a5-2ea5f9c6605b",
      "cell_type": "code",
      "source": "x = 55\nprint(type(x))    # show the type of an object",
      "metadata": {
        "collapsed": false,
        "jupyter": {
          "outputs_hidden": false
        },
        "trusted": true
      },
      "outputs": [
        {
          "name": "stdout",
          "output_type": "stream",
          "text": "<class 'int'>\n"
        }
      ],
      "execution_count": 18
    },
    {
      "id": "4b254662-47ee-4dca-bfa8-94dc31ba65be",
      "cell_type": "markdown",
      "source": "### dir",
      "metadata": {
        "collapsed": false,
        "jupyter": {
          "outputs_hidden": false
        }
      }
    },
    {
      "id": "6b16196b-c01d-4ceb-9846-1c8ea623bcbd",
      "cell_type": "code",
      "source": "dir()            # list all names in the current scope",
      "metadata": {
        "collapsed": false,
        "jupyter": {
          "outputs_hidden": false
        },
        "trusted": true
      },
      "outputs": [
        {
          "execution_count": 19,
          "output_type": "execute_result",
          "data": {
            "text/plain": "['In',\n 'MyClass',\n 'Out',\n 'PI',\n '_',\n '_16',\n '__',\n '___',\n '__builtin__',\n '__builtins__',\n '__name__',\n '_age',\n '_dh',\n '_i',\n '_i1',\n '_i10',\n '_i11',\n '_i12',\n '_i13',\n '_i14',\n '_i15',\n '_i16',\n '_i17',\n '_i18',\n '_i19',\n '_i2',\n '_i3',\n '_i4',\n '_i5',\n '_i6',\n '_i7',\n '_i8',\n '_i9',\n '_ih',\n '_ii',\n '_iii',\n '_oh',\n 'a',\n 'b',\n 'c',\n 'calculate_sum',\n 'd',\n 'exit',\n 'get_ipython',\n 'ist_gerade',\n 'keyword',\n 'max_value',\n 'name',\n 'numbers',\n 'open',\n 'pi',\n 'quit',\n 'result1',\n 'result2',\n 'task7',\n 'user_name',\n 'value',\n 'x',\n 'y',\n 'z']"
          },
          "metadata": {}
        }
      ],
      "execution_count": 19
    },
    {
      "id": "25e49a48-e25b-4e28-a504-4a47cd764c9a",
      "cell_type": "code",
      "source": "message = \"Hello\"\ndir(message)   # list all attributes and methods of the object",
      "metadata": {
        "collapsed": false,
        "jupyter": {
          "outputs_hidden": false
        },
        "trusted": true
      },
      "outputs": [
        {
          "execution_count": 20,
          "output_type": "execute_result",
          "data": {
            "text/plain": "['__add__',\n '__class__',\n '__contains__',\n '__delattr__',\n '__dir__',\n '__doc__',\n '__eq__',\n '__format__',\n '__ge__',\n '__getattribute__',\n '__getitem__',\n '__getnewargs__',\n '__getstate__',\n '__gt__',\n '__hash__',\n '__init__',\n '__init_subclass__',\n '__iter__',\n '__le__',\n '__len__',\n '__lt__',\n '__mod__',\n '__mul__',\n '__ne__',\n '__new__',\n '__reduce__',\n '__reduce_ex__',\n '__repr__',\n '__rmod__',\n '__rmul__',\n '__setattr__',\n '__sizeof__',\n '__str__',\n '__subclasshook__',\n 'capitalize',\n 'casefold',\n 'center',\n 'count',\n 'encode',\n 'endswith',\n 'expandtabs',\n 'find',\n 'format',\n 'format_map',\n 'index',\n 'isalnum',\n 'isalpha',\n 'isascii',\n 'isdecimal',\n 'isdigit',\n 'isidentifier',\n 'islower',\n 'isnumeric',\n 'isprintable',\n 'isspace',\n 'istitle',\n 'isupper',\n 'join',\n 'ljust',\n 'lower',\n 'lstrip',\n 'maketrans',\n 'partition',\n 'removeprefix',\n 'removesuffix',\n 'replace',\n 'rfind',\n 'rindex',\n 'rjust',\n 'rpartition',\n 'rsplit',\n 'rstrip',\n 'split',\n 'splitlines',\n 'startswith',\n 'strip',\n 'swapcase',\n 'title',\n 'translate',\n 'upper',\n 'zfill']"
          },
          "metadata": {}
        }
      ],
      "execution_count": 20
    },
    {
      "id": "91e9627a-4a3e-4b94-b891-ef51fee5b400",
      "cell_type": "markdown",
      "source": "### vars",
      "metadata": {
        "collapsed": false,
        "jupyter": {
          "outputs_hidden": false
        }
      }
    },
    {
      "id": "d19e345c-2e7e-4be6-af01-02326cdc106c",
      "cell_type": "code",
      "source": "c = complex     # class\nvars(c)         # show attributes of class",
      "metadata": {
        "collapsed": false,
        "jupyter": {
          "outputs_hidden": false
        },
        "trusted": true
      },
      "outputs": [
        {
          "execution_count": 21,
          "output_type": "execute_result",
          "data": {
            "text/plain": "mappingproxy({'__new__': <function complex.__new__(*args, **kwargs)>,\n              '__repr__': <slot wrapper '__repr__' of 'complex' objects>,\n              '__hash__': <slot wrapper '__hash__' of 'complex' objects>,\n              '__getattribute__': <slot wrapper '__getattribute__' of 'complex' objects>,\n              '__lt__': <slot wrapper '__lt__' of 'complex' objects>,\n              '__le__': <slot wrapper '__le__' of 'complex' objects>,\n              '__eq__': <slot wrapper '__eq__' of 'complex' objects>,\n              '__ne__': <slot wrapper '__ne__' of 'complex' objects>,\n              '__gt__': <slot wrapper '__gt__' of 'complex' objects>,\n              '__ge__': <slot wrapper '__ge__' of 'complex' objects>,\n              '__add__': <slot wrapper '__add__' of 'complex' objects>,\n              '__radd__': <slot wrapper '__radd__' of 'complex' objects>,\n              '__sub__': <slot wrapper '__sub__' of 'complex' objects>,\n              '__rsub__': <slot wrapper '__rsub__' of 'complex' objects>,\n              '__mul__': <slot wrapper '__mul__' of 'complex' objects>,\n              '__rmul__': <slot wrapper '__rmul__' of 'complex' objects>,\n              '__pow__': <slot wrapper '__pow__' of 'complex' objects>,\n              '__rpow__': <slot wrapper '__rpow__' of 'complex' objects>,\n              '__neg__': <slot wrapper '__neg__' of 'complex' objects>,\n              '__pos__': <slot wrapper '__pos__' of 'complex' objects>,\n              '__abs__': <slot wrapper '__abs__' of 'complex' objects>,\n              '__bool__': <slot wrapper '__bool__' of 'complex' objects>,\n              '__truediv__': <slot wrapper '__truediv__' of 'complex' objects>,\n              '__rtruediv__': <slot wrapper '__rtruediv__' of 'complex' objects>,\n              'conjugate': <method 'conjugate' of 'complex' objects>,\n              '__complex__': <method '__complex__' of 'complex' objects>,\n              '__getnewargs__': <method '__getnewargs__' of 'complex' objects>,\n              '__format__': <method '__format__' of 'complex' objects>,\n              'real': <member 'real' of 'complex' objects>,\n              'imag': <member 'imag' of 'complex' objects>,\n              '__doc__': \"Create a complex number from a string or numbers.\\n\\nIf a string is given, parse it as a complex number.\\nIf a single number is given, convert it to a complex number.\\nIf the 'real' or 'imag' arguments are given, create a complex number\\nwith the specified real and imaginary components.\"})"
          },
          "metadata": {}
        }
      ],
      "execution_count": 21
    },
    {
      "id": "28c88436-b3a9-4639-b0e3-dc5d66f50805",
      "cell_type": "markdown",
      "source": "",
      "metadata": {
        "collapsed": false,
        "jupyter": {
          "outputs_hidden": false
        }
      }
    },
    {
      "id": "3ed021ca-9a4b-484f-bcfd-21218bda8043",
      "cell_type": "markdown",
      "source": "# Aufgaben",
      "metadata": {
        "collapsed": false,
        "jupyter": {
          "outputs_hidden": false
        }
      }
    },
    {
      "id": "5655b954-92df-49c9-843d-546cab764427",
      "cell_type": "markdown",
      "source": "### Rechteck\n- Definieren Sie 2 Variablen für die Länge und Breite.\n- Initialisieren Sie die Länge mit dem  Defaultwert 10 und die Breite mit dem Defaultwert 5.\n- Berechnen Sie den Umfang und die Fläche der Rechtecks und geben Sie die Resultate auf der Konsole aus.\n- Beispiel Ausgabe:\n  ```\n  Rechteck mit Länge 10 und Breite 5\n  - Umfang = 30\n  - Fläche = 50\n  ```",
      "metadata": {
        "collapsed": false,
        "jupyter": {
          "outputs_hidden": false
        }
      }
    },
    {
      "id": "b456d775-5198-4e4c-9b78-fd3cc73323bd",
      "cell_type": "code",
      "source": "",
      "metadata": {
        "collapsed": false,
        "jupyter": {
          "outputs_hidden": false
        },
        "trusted": true
      },
      "outputs": [],
      "execution_count": null
    },
    {
      "id": "68a6399a-1615-4b6f-b28b-f7afe692f3e1",
      "cell_type": "markdown",
      "source": "### Fahrenheit\n\n- Lesen Sie von der Konsole die Temperatur in Fahrenheit ein. Dazu wird die Funktion `input()` verwendet.\n- Die eingelesene Zahl ist vom Typ String (str). Konvertieren Sie diese in eine Gleitkommazahl (float).\n- Berechnen Sie die Temperatur in Grad Celisus nach der Formel:\n  **celsius = 5 * (fahrenheit-32) / 9**\n- Geben Sie das Resultat auf der Konsole aus.\n- Beispiel Ausgabe:\n  ```\n  Temperatur in Fahrenheit = 75.2\n  Fahrenheit   = 75.2\n  Grad Celsius = 24.0\n  ```",
      "metadata": {
        "collapsed": false,
        "jupyter": {
          "outputs_hidden": false
        }
      }
    },
    {
      "id": "e378ebe7-44db-4dce-b217-2010ffb5e866",
      "cell_type": "code",
      "source": "# value = input(\"Temperatur in  Fahrenheit = \")",
      "metadata": {
        "collapsed": false,
        "jupyter": {
          "outputs_hidden": false
        },
        "trusted": true
      },
      "outputs": [],
      "execution_count": 22
    },
    {
      "id": "32d4d7ee-7ae2-431f-a646-6c1bb3d37fa5",
      "cell_type": "code",
      "source": "",
      "metadata": {
        "collapsed": false,
        "jupyter": {
          "outputs_hidden": false
        },
        "trusted": true
      },
      "outputs": [],
      "execution_count": null
    }
  ]
}