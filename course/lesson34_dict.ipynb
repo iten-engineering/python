{
  "metadata": {
    "kernelspec": {
      "name": "xpython",
      "display_name": "Python 3.13 (XPython)",
      "language": "python"
    },
    "language_info": {
      "file_extension": ".py",
      "mimetype": "text/x-python",
      "name": "python",
      "version": "3.13.1"
    }
  },
  "nbformat_minor": 5,
  "nbformat": 4,
  "cells": [
    {
      "id": "1302ef03-c3e8-4f1f-9ea6-89beecee0612",
      "cell_type": "markdown",
      "source": "# Dictionaries\n\nEin Dictionary (dict) ist eine Sammlung von Schlüssel-Wert-Paaren.\n- Jeder Schlüssel (key) ist eindeutig.\n- Werte (value) können beliebigen Datentyp haben.\n- Die Werte können via key gelesen werden.\n- Dictionaries sind veränderlich (mutable).\n\nSie eignen sich, um Daten mit klarer Zuordnung zu speichern, z. B. Namen und Telefonnummern, IDs und Objekte oder Produkte und Preise.",
      "metadata": {}
    },
    {
      "id": "8e86ff34-ebb1-4754-ad93-b74da30f7676",
      "cell_type": "markdown",
      "source": "## Initialisierung",
      "metadata": {}
    },
    {
      "id": "44ab51fa-6b2c-4a86-bdd6-9759fd3041c6",
      "cell_type": "code",
      "source": "# Leeres Dictionary\nleeres_dict = {}\n\n# Mit Werten\nperson = {\n    \"name\": \"Tom\",\n    \"alter\": 30,\n    \"stadt\": \"Bern\"\n}\n\n# Mit dict() Konstruktor\nperson2 = dict(name=\"Selina\", alter=24, stadt=\"Bern\")\n\nprint(person)\nprint(person2)",
      "metadata": {
        "trusted": true,
        "ExecuteTime": {
          "end_time": "2025-08-29T18:38:06.262657Z",
          "start_time": "2025-08-29T18:38:06.249470Z"
        }
      },
      "outputs": [
        {
          "name": "stdout",
          "output_type": "stream",
          "text": "{'name': 'Tom', 'alter': 30, 'stadt': 'Bern'}\n{'name': 'Selina', 'alter': 24, 'stadt': 'Bern'}\n"
        }
      ],
      "execution_count": 1
    },
    {
      "id": "3b6da99a-f9c4-4280-9f79-6060ad81ac9f",
      "cell_type": "markdown",
      "source": "## Dict Operationen",
      "metadata": {}
    },
    {
      "id": "1ca99571-7851-4bd5-bccb-2ce31c9246d2",
      "cell_type": "markdown",
      "source": "### read (via key)",
      "metadata": {}
    },
    {
      "id": "9a4e85cf-cbd0-4ab6-8f86-405ff97153d8",
      "cell_type": "code",
      "source": "person = {\"name\": \"Selina\", \"alter\": 24, \"stadt\": \"Bern\"}\n\n# Zugriff auf einen Wert\nprint(person[\"name\"]) \nprint(person.get(\"alter\"))  ",
      "metadata": {
        "trusted": true,
        "ExecuteTime": {
          "end_time": "2025-08-29T18:45:33.580503Z",
          "start_time": "2025-08-29T18:45:33.567671Z"
        }
      },
      "outputs": [
        {
          "name": "stdout",
          "output_type": "stream",
          "text": "Selina\n24\n"
        }
      ],
      "execution_count": 2
    },
    {
      "id": "ffaf81f5-5f9e-4c27-a690-0757d2dff31e",
      "cell_type": "markdown",
      "source": "### insert (assign new value)",
      "metadata": {}
    },
    {
      "id": "c7ecfa13-6e6f-476a-84cb-43e2fd82c7d9",
      "cell_type": "code",
      "source": "person[\"beruf\"] = \"Ärztin\"\nprint(person)",
      "metadata": {
        "trusted": true,
        "ExecuteTime": {
          "end_time": "2025-08-29T18:46:01.642756Z",
          "start_time": "2025-08-29T18:46:01.629114Z"
        }
      },
      "outputs": [
        {
          "name": "stdout",
          "output_type": "stream",
          "text": "{'name': 'Selina', 'alter': 24, 'stadt': 'Bern', 'beruf': 'Ärztin'}\n"
        }
      ],
      "execution_count": 3
    },
    {
      "id": "52c438134ac928f3",
      "cell_type": "markdown",
      "source": "### update (assign existing value)",
      "metadata": {}
    },
    {
      "id": "9ded80648e51acbb",
      "cell_type": "code",
      "source": "person[\"alter\"] = 31\nprint(person)\n",
      "metadata": {
        "ExecuteTime": {
          "end_time": "2025-08-29T18:45:57.629223Z",
          "start_time": "2025-08-29T18:45:57.617840Z"
        },
        "trusted": true
      },
      "outputs": [
        {
          "name": "stdout",
          "output_type": "stream",
          "text": "{'name': 'Selina', 'alter': 31, 'stadt': 'Bern', 'beruf': 'Ärztin'}\n"
        }
      ],
      "execution_count": 4
    },
    {
      "id": "de1f8cabea52391",
      "cell_type": "markdown",
      "source": "### update (merge with 2nd dict)",
      "metadata": {}
    },
    {
      "id": "7990a0852c67f0e2",
      "cell_type": "code",
      "source": "zusatz = {\"hobby\": \"Fahrrad\", \"stadt\": \"Zürich\"}  # 'stadt' wird überschrieben\nperson.update(zusatz)\n\nprint(person)",
      "metadata": {
        "ExecuteTime": {
          "end_time": "2025-08-29T18:45:54.432374Z",
          "start_time": "2025-08-29T18:45:54.417841Z"
        },
        "trusted": true
      },
      "outputs": [
        {
          "name": "stdout",
          "output_type": "stream",
          "text": "{'name': 'Selina', 'alter': 31, 'stadt': 'Zürich', 'beruf': 'Ärztin', 'hobby': 'Fahrrad'}\n"
        }
      ],
      "execution_count": 5
    },
    {
      "id": "97e07cc0e804a349",
      "cell_type": "code",
      "source": "d = {1: \"Hello\", 2: \"Tom\"}\nprint(d)    \n\n# Update/Merge dict with other dictionary\ndx = {2: \"Selina\", 3: \"have a nice day\"}\nd.update(dx)         # Update existing entries, insert new entries\nprint(d)    ",
      "metadata": {
        "ExecuteTime": {
          "end_time": "2025-08-29T18:50:10.429264Z",
          "start_time": "2025-08-29T18:50:10.419481Z"
        },
        "trusted": true
      },
      "outputs": [
        {
          "name": "stdout",
          "output_type": "stream",
          "text": "{1: 'Hello', 2: 'Tom'}\n{1: 'Hello', 2: 'Selina', 3: 'have a nice day'}\n"
        }
      ],
      "execution_count": 6
    },
    {
      "id": "429b760808c28faa",
      "cell_type": "markdown",
      "source": "### pop, del",
      "metadata": {}
    },
    {
      "id": "5f5fe7b77451e92",
      "cell_type": "code",
      "source": "print(person)\ndel person[\"beruf\"]       \nprint(person)\n\nwert = person.pop(\"hobby\") # entfernt 'hobby' und gibt den Wert zurück\nprint(person)\nprint(wert)",
      "metadata": {
        "ExecuteTime": {
          "end_time": "2025-08-29T18:46:11.414804Z",
          "start_time": "2025-08-29T18:46:11.398933Z"
        },
        "trusted": true
      },
      "outputs": [
        {
          "name": "stdout",
          "output_type": "stream",
          "text": "{'name': 'Selina', 'alter': 31, 'stadt': 'Zürich', 'beruf': 'Ärztin', 'hobby': 'Fahrrad'}\n{'name': 'Selina', 'alter': 31, 'stadt': 'Zürich', 'hobby': 'Fahrrad'}\n{'name': 'Selina', 'alter': 31, 'stadt': 'Zürich'}\nFahrrad\n"
        }
      ],
      "execution_count": 7
    },
    {
      "id": "9ecbaf27856b8632",
      "cell_type": "markdown",
      "source": "## Iterationen",
      "metadata": {}
    },
    {
      "id": "2b38902822ef3672",
      "cell_type": "markdown",
      "source": "### keys",
      "metadata": {}
    },
    {
      "id": "61eccb03bea5f710",
      "cell_type": "code",
      "source": "person = {\"name\": \"Selina\", \"alter\": 24, \"stadt\": \"Bern\"}\n\nfor key in person.keys():\n    value = person[key]\n    print(f\"{key} = {value}\")\n",
      "metadata": {
        "ExecuteTime": {
          "end_time": "2025-08-29T18:55:03.488487Z",
          "start_time": "2025-08-29T18:55:03.472748Z"
        },
        "trusted": true
      },
      "outputs": [
        {
          "name": "stdout",
          "output_type": "stream",
          "text": "name = Selina\nalter = 24\nstadt = Bern\n"
        }
      ],
      "execution_count": 8
    },
    {
      "id": "3ed22e33b02b9ee1",
      "cell_type": "markdown",
      "source": "### values",
      "metadata": {}
    },
    {
      "id": "976a85d75bd4cfa7",
      "cell_type": "code",
      "source": "for value in person.values():\n    print(value)",
      "metadata": {
        "ExecuteTime": {
          "end_time": "2025-08-29T18:55:28.112507Z",
          "start_time": "2025-08-29T18:55:28.103529Z"
        },
        "trusted": true
      },
      "outputs": [
        {
          "name": "stdout",
          "output_type": "stream",
          "text": "Selina\n24\nBern\n"
        }
      ],
      "execution_count": 9
    },
    {
      "id": "e4b9cabd746c8a9d",
      "cell_type": "markdown",
      "source": "### items",
      "metadata": {}
    },
    {
      "id": "21f08f80067a906a",
      "cell_type": "code",
      "source": "for key, value in person.items():\n    print(f\"{key} = {value}\")",
      "metadata": {
        "ExecuteTime": {
          "end_time": "2025-08-29T18:56:10.083625Z",
          "start_time": "2025-08-29T18:56:10.069516Z"
        },
        "trusted": true
      },
      "outputs": [
        {
          "name": "stdout",
          "output_type": "stream",
          "text": "name = Selina\nalter = 24\nstadt = Bern\n"
        }
      ],
      "execution_count": 10
    },
    {
      "id": "2172e614773ab96e",
      "cell_type": "markdown",
      "source": "# Aufgaben",
      "metadata": {}
    },
    {
      "id": "3b84a013c6891832",
      "cell_type": "markdown",
      "source": "### I18N\n\n- Verwalten Sie die Greetings aus der Tabelle in einem Dictionary mit dem\n  Key als Schlüssel.\n\n  | Key  | Greeting     | \n  | --- | ------------- | \n  | de  | Guten morgen  |\n  | fr  | Bon jour      |\n  | it  | Buongiorno    |\n  | en  | Good morning  |\n\n- Lesen Sie eine Namen und den Sprachschlüssel von der Konsole ein und Grüssen Sie die Person in Ihrer Sprache.\n- Falls ein ungültiger Schrachschlüssel eingegeben wird, verwenden Sie als Default den Key für Englisch. \n- Beispiel Ausgabe:\n  ```\n  Geben Sie bitte Ihren Namen ein: Anna\n  Wählen Sie die Sprache [de, fr, it, en]: fr\n  Bon jour\n  Anna\n  ```",
      "metadata": {}
    },
    {
      "id": "5d758bef2c44e6cb",
      "cell_type": "code",
      "source": "",
      "metadata": {
        "ExecuteTime": {
          "end_time": "2025-08-29T18:59:23.658268Z",
          "start_time": "2025-08-29T18:59:06.840027Z"
        },
        "trusted": true
      },
      "outputs": [],
      "execution_count": null
    },
    {
      "id": "33865a1a930af2ee",
      "cell_type": "markdown",
      "source": "### Artikel\n\n- Verwalten Sie die Artikel aus der Tabelle in einem Dictionary:\n  - Als Schlüssel können Sie die Artikel Nummer verwenden. \n  - Damit kann auf eine weiteren Dictionary Eintrag zugegriffen werden, welcher die Artikeldaten beinhaltet.\n\n  | Nr  | Name                      | Price  |\n  | --- | ------------------------- | ------ |\n  | 11  | Bildschirm Belinea X3     | 499.50 |\n  | 12  | PC Tastatur Swiss German  |  35.00 |\n  | 13  | Logitec Maus              |  17.25 |\n  | 14  | USB Hub                   |  25.70 |\n  | 15  | Lautsprecher X66-12       |  87.90 |\n\n- Geben Sie nun alle Artikel auf der Konsole aus.  \n- Suchen Sie den Artikel mit dem tiefsten Preis und geben Sie diesen auf der Konsole aus.\n- Aktualisieren Sie alle Artikel Preise und geben Sie einen Disount von 20%. \n  Geben Sie die Artikel auf der Konsole aus.\n- Beispiel Ausgabe:\n  ```\n  List all articles:\n  {'name': 'Bildschirm Belinea X3', 'price': 499.5}\n  {'name': 'PC Tastatur Swiss German', 'price': 35.0}\n  {'name': 'Logitec Maus', 'price': 17.25}\n  {'name': 'USB Hub', 'price': 25.7}\n  {'name': 'Lautsprecher X66-12', 'price': 87.9}\n\n  Show article with lowest price:\n  {'name': 'Logitec Maus', 'price': 17.25}\n\n  Give a 20% discount of all prices and list articles:\n  {'name': 'Bildschirm Belinea X3', 'price': 399.6}\n  {'name': 'PC Tastatur Swiss German', 'price': 28.0}\n  {'name': 'Logitec Maus', 'price': 13.8}\n  {'name': 'USB Hub', 'price': 20.560000000000002}\n  {'name': 'Lautsprecher X66-12', 'price': 70.32000000000001}\n  ```\n",
      "metadata": {}
    },
    {
      "id": "cc283d0bc2f947f",
      "cell_type": "code",
      "source": "articles = {\n    11: {\n        \"name\"  : \"Bildschirm Belinea X3\",\n        \"price\" : 499.50\n    },\n    12: {\n        \"name\"  : \"PC Tastatur Swiss German\",\n        \"price\" : 35.00\n    },\n    13: {\n        \"name\"  : \"Logitec Maus\",\n        \"price\" : 17.25\n    },\n    14: {\n        \"name\"  : \"USB Hub\",\n        \"price\" : 25.70\n    },\n    15: {\n        \"name\"  : \"Lautsprecher X66-12\",\n        \"price\" : 87.90\n    }\n}",
      "metadata": {
        "ExecuteTime": {
          "end_time": "2025-08-29T19:00:24.978523Z",
          "start_time": "2025-08-29T19:00:24.963601Z"
        },
        "trusted": true
      },
      "outputs": [],
      "execution_count": 11
    },
    {
      "id": "168b78c42d56e417",
      "cell_type": "code",
      "source": "print(\"List all articles:\")\n\n",
      "metadata": {
        "ExecuteTime": {
          "end_time": "2025-08-29T19:00:40.374381Z",
          "start_time": "2025-08-29T19:00:40.351726Z"
        },
        "trusted": true
      },
      "outputs": [
        {
          "name": "stdout",
          "output_type": "stream",
          "text": "List all articles:\n"
        }
      ],
      "execution_count": 12
    },
    {
      "id": "4439818204ae03e9",
      "cell_type": "code",
      "source": "print(\"Show article with lowest price:\")\n",
      "metadata": {
        "ExecuteTime": {
          "end_time": "2025-08-29T19:00:57.262757Z",
          "start_time": "2025-08-29T19:00:57.247973Z"
        },
        "trusted": true
      },
      "outputs": [
        {
          "name": "stdout",
          "output_type": "stream",
          "text": "Show article with lowest price:\n"
        }
      ],
      "execution_count": 13
    },
    {
      "id": "27f667dacab717ea",
      "cell_type": "code",
      "source": "print(\"Give a 20% discount of all prices and list articles:\")\n",
      "metadata": {
        "ExecuteTime": {
          "end_time": "2025-08-29T19:01:17.812425Z",
          "start_time": "2025-08-29T19:01:17.804280Z"
        },
        "trusted": true
      },
      "outputs": [
        {
          "name": "stdout",
          "output_type": "stream",
          "text": "Give a 20% discount of all prices and list articles:\n"
        }
      ],
      "execution_count": 14
    }
  ]
}