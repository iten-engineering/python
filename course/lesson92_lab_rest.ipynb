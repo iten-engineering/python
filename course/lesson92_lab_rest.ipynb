{
  "metadata": {
    "kernelspec": {
      "name": "python",
      "display_name": "Python (Pyodide)",
      "language": "python"
    },
    "language_info": {
      "codemirror_mode": {
        "name": "python",
        "version": 3
      },
      "file_extension": ".py",
      "mimetype": "text/x-python",
      "name": "python",
      "nbconvert_exporter": "python",
      "pygments_lexer": "ipython3",
      "version": "3.8"
    }
  },
  "nbformat_minor": 5,
  "nbformat": 4,
  "cells": [
    {
      "id": "50852c8ad0b85cb6",
      "cell_type": "markdown",
      "source": "# Übung REST\n\nMit dieser Übung soll eine REST Schnittstelle via das `request` Modul von Python aufgerufen werden. Zuerst folgt eine kurze Einführung in das HTTP Protokoll mit Code Beispielen. Anschliessend folgt eine kleine Aufgabe.",
      "metadata": {}
    },
    {
      "id": "352410cf87b26df0",
      "cell_type": "markdown",
      "source": "## Einführung HTTP\n\nDas **HTTP-Protokoll** (HyperText Transfer Protocol) ist die Basis für die Kommunikation im Web.\nEs funktioniert nach dem **Request–Response-Prinzip**:\n\n- Der **Client** (z. B. dein Browser oder Python-Programm) stellt eine Anfrage (*Request*).\n- Der **Server** beantwortet die Anfrage mit einer Antwort (*Response*).\n\n**Wichtige HTTP-Methoden:**\n- `GET` → Daten abfragen\n- `POST` → Neue Daten erstellen\n- `PUT` → Daten komplett ersetzen\n- `PATCH` → Daten teilweise ändern\n- `DELETE` → Daten löschen\n\n**Wichtige Status Codes:**\n- `200 OK` → Alles in Ordnung\n- `201 Created` → Ressource erfolgreich erstellt\n- `400 Bad Request` → Ungültige Anfrage\n- `401 Unauthorized` → Keine Berechtigung\n- `403 Forbidden` → Zugriff verboten\n- `404 Not Found` → Ressource nicht gefunden\n- `500 Internal Server Error` → Serverfehler",
      "metadata": {}
    },
    {
      "id": "83de00fe53ae3c02",
      "cell_type": "markdown",
      "source": "## Get Request mit 1 Datensatz",
      "metadata": {}
    },
    {
      "id": "d0981a47579c2c78",
      "cell_type": "code",
      "source": "import requests\n\n# Beispiel: JSONPlaceholder API (Fake REST API für Tests)\nurl = \"https://jsonplaceholder.typicode.com/posts/1\"\n\nresponse = requests.get(url)\n\nprint(\"Status Code:\", response.status_code)\nprint(\"Response JSON:\")\nprint(response.json())",
      "metadata": {
        "ExecuteTime": {
          "end_time": "2025-09-08T15:06:58.091860Z",
          "start_time": "2025-09-08T15:06:57.824615Z"
        },
        "trusted": true
      },
      "outputs": [
        {
          "name": "stdout",
          "output_type": "stream",
          "text": "Status Code: 200\nResponse JSON:\n{'userId': 1, 'id': 1, 'title': 'sunt aut facere repellat provident occaecati excepturi optio reprehenderit', 'body': 'quia et suscipit\\nsuscipit recusandae consequuntur expedita et cum\\nreprehenderit molestiae ut ut quas totam\\nnostrum rerum est autem sunt rem eveniet architecto'}\n"
        }
      ],
      "execution_count": 1
    },
    {
      "id": "56918eb94f2aa376",
      "cell_type": "markdown",
      "source": "## Get Request mit mehreren Datensätzen",
      "metadata": {}
    },
    {
      "id": "5c8691632edf375c",
      "cell_type": "code",
      "source": "url = \"https://jsonplaceholder.typicode.com/posts\"\n\nresponse = requests.get(url)\n\nif response.status_code == 200:\n    posts = response.json()\n    for post in posts[:5]:   # nur die ersten 5\n        print(post[\"id\"], post[\"title\"])\nelse:\n    print(\"Fehler:\", response.status_code)",
      "metadata": {
        "ExecuteTime": {
          "end_time": "2025-09-08T15:07:15.606864Z",
          "start_time": "2025-09-08T15:07:15.562653Z"
        },
        "trusted": true
      },
      "outputs": [
        {
          "name": "stdout",
          "output_type": "stream",
          "text": "1 sunt aut facere repellat provident occaecati excepturi optio reprehenderit\n2 qui est esse\n3 ea molestias quasi exercitationem repellat qui ipsa sit aut\n4 eum et est occaecati\n5 nesciunt quas odio\n"
        }
      ],
      "execution_count": 2
    },
    {
      "id": "eb7cf40e554379f6",
      "cell_type": "markdown",
      "source": "## Post Request",
      "metadata": {}
    },
    {
      "id": "af24021cec429d06",
      "cell_type": "code",
      "source": "new_post = {\n    \"title\": \"Mein erster Post\",\n    \"body\": \"Das ist ein Test\",\n    \"userId\": 1\n}\n\nresponse = requests.post(\"https://jsonplaceholder.typicode.com/posts\", json=new_post)\n\nprint(\"Status Code:\", response.status_code)\nprint(\"Antwort:\", response.json())",
      "metadata": {
        "ExecuteTime": {
          "end_time": "2025-09-08T15:09:10.744913Z",
          "start_time": "2025-09-08T15:09:10.610534Z"
        },
        "trusted": true
      },
      "outputs": [
        {
          "name": "stdout",
          "output_type": "stream",
          "text": "Status Code: 201\nAntwort: {'title': 'Mein erster Post', 'body': 'Das ist ein Test', 'userId': 1, 'id': 101}\n"
        }
      ],
      "execution_count": 3
    },
    {
      "id": "2065eeb6f8fe3389",
      "cell_type": "markdown",
      "source": "# Aufgabe\n\n1. Hole alle **User** von der API (`/users`) und gib deren Namen aus.  \n2. Hole alle **Todos** (`/todos`) und filtere die erledigten Aufgaben (`completed = True`).  \n3. Erstelle einen neuen **Post** mit deinem Namen.  \n\nTipp: Nutze `requests.get()` und `requests.post()`, so wie in den Beispielen oben.",
      "metadata": {}
    },
    {
      "id": "39d6abe58142e320",
      "cell_type": "markdown",
      "source": "# Lösung",
      "metadata": {}
    },
    {
      "id": "e33c592feee1af72",
      "cell_type": "code",
      "source": "# 1. User abfragen\n",
      "metadata": {
        "ExecuteTime": {
          "end_time": "2025-09-08T15:10:11.861457Z",
          "start_time": "2025-09-08T15:10:11.825582Z"
        },
        "trusted": true
      },
      "outputs": [],
      "execution_count": 4
    },
    {
      "id": "b3b9302506530b56",
      "cell_type": "code",
      "source": "# 2. Todos abfragen und erledigte filtern\n",
      "metadata": {
        "ExecuteTime": {
          "end_time": "2025-09-08T15:10:28.064492Z",
          "start_time": "2025-09-08T15:10:28.022657Z"
        },
        "trusted": true
      },
      "outputs": [],
      "execution_count": 5
    },
    {
      "id": "7bd0d503af6bfacd",
      "cell_type": "code",
      "source": "# 3. Eigenen Post erstellen\n",
      "metadata": {
        "ExecuteTime": {
          "end_time": "2025-09-08T15:12:32.151853Z",
          "start_time": "2025-09-08T15:12:32.005420Z"
        },
        "trusted": true
      },
      "outputs": [],
      "execution_count": 6
    }
  ]
}