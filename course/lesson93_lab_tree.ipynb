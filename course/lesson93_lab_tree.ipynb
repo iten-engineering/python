{
  "metadata": {
    "kernelspec": {
      "name": "python",
      "display_name": "Python (Pyodide)",
      "language": "python"
    },
    "language_info": {
      "codemirror_mode": {
        "name": "python",
        "version": 3
      },
      "file_extension": ".py",
      "mimetype": "text/x-python",
      "name": "python",
      "nbconvert_exporter": "python",
      "pygments_lexer": "ipython3",
      "version": "3.8"
    }
  },
  "nbformat_minor": 5,
  "nbformat": 4,
  "cells": [
    {
      "id": "faca7af10ae693b2",
      "cell_type": "markdown",
      "source": "# Übung Tree\n\nMit dieser Übung vertiefen Sie Ihre Kenntnisse im Umgang mit Python Klassen und Funktionen. Im speziellen mit Rekursion und einem alternativen Lösungsansatz.",
      "metadata": {}
    },
    {
      "id": "f1eebebf28cc4938",
      "cell_type": "markdown",
      "source": "\n## Aufgabe\n\n### Tree\n\nSchauen sie sich folgends Bild [Tree](lesson93_lab_tree.png) an und Erstellen Sie das Script welches folgende Aufgaben löst:\n- Erstellung Klasse Node mit den Attributen `value`, `parent` und `childs` sowie allen benötigten Methoden.\n- Erstellung Klasse Testdata die den abgebildeten Tree aufbaut.\n- Erstellung Klasse Recursion mit einer Funktion run(root), welche den Baum mit Hilfe einer Rekursion durchläuft und die Werte ausgibt. \n- Erstellung Klasse Traverse mit einer Funktion run(root), welche den Baum ohne Rekursion durchläuft und die Werte ausgibt.\n- Test der beiden Klassen   \n",
      "metadata": {}
    },
    {
      "id": "dab4492deb3746b0",
      "cell_type": "markdown",
      "source": "## Lösung",
      "metadata": {
        "collapsed": false,
        "jupyter": {
          "outputs_hidden": false
        }
      }
    },
    {
      "id": "80902f6a085a183b",
      "cell_type": "code",
      "source": "\n",
      "metadata": {
        "ExecuteTime": {
          "end_time": "2025-09-08T15:18:53.360735Z",
          "start_time": "2025-09-08T15:18:53.338502Z"
        },
        "trusted": true
      },
      "outputs": [],
      "execution_count": null
    }
  ]
}