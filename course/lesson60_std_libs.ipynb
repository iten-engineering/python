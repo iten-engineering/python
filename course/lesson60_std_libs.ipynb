{
  "metadata": {
    "kernelspec": {
      "name": "python",
      "display_name": "Python (Pyodide)",
      "language": "python"
    },
    "language_info": {
      "codemirror_mode": {
        "name": "python",
        "version": 3
      },
      "file_extension": ".py",
      "mimetype": "text/x-python",
      "name": "python",
      "nbconvert_exporter": "python",
      "pygments_lexer": "ipython3",
      "version": "3.8"
    }
  },
  "nbformat_minor": 5,
  "nbformat": 4,
  "cells": [
    {
      "id": "a9a6e8a8b443e378",
      "cell_type": "markdown",
      "source": "# Python Standardbibliotheken\n\nPython enthält eine grosse Anzahl nützlicher Objekte und Funktionen, die Sie in Ihren\neigenen Programmen benutzen können. Sie sind zu Modulen zusammengefasst und alle Module zusammen bilden die Standardbibliotheken. \n\nDie offizielle Dokumentation der Standardbibliothek finden Sie unter [The Python Standard Library](https://docs.python.org/3/library/index.html).\n\nDieses Notebook gibt eine Übersicht über einige wichtige Standardmodule von Python mit Beispielen und Aufgaben.",
      "metadata": {}
    },
    {
      "id": "68b402421ac490e1",
      "cell_type": "markdown",
      "source": "## math, cmath\nDas Modul `math` enthält viele mathematische Funktionen und Konstanten. Das Arbeiten mit komplexen Zahlen wird in Python mit dem Modul `cmath` unterstützt.",
      "metadata": {}
    },
    {
      "id": "39aed0072c71bdcb",
      "cell_type": "code",
      "source": "import math\n\nprint('Pi:', math.pi)\nprint('e:', math.e)\n\nprint('Wurzel von 16:', math.sqrt(16))\nprint('Fakultät von 5:', math.factorial(5))\nprint('Sinus von 90°:', math.sin(math.radians(90)))\n",
      "metadata": {
        "ExecuteTime": {
          "end_time": "2025-09-04T18:55:10.839506Z",
          "start_time": "2025-09-04T18:55:10.823929Z"
        },
        "trusted": true
      },
      "outputs": [
        {
          "name": "stdout",
          "output_type": "stream",
          "text": "Pi: 3.141592653589793\ne: 2.718281828459045\nWurzel von 16: 4.0\nFakultät von 5: 120\nSinus von 90°: 1.0\n"
        }
      ],
      "execution_count": 1
    },
    {
      "id": "3d8bc38c8cce03c2",
      "cell_type": "markdown",
      "source": "## os, sys, subprocess\nDiese Module ermöglichen Interaktion mit dem Betriebssystem und Prozessen.\n- `os`: Dateisystem & Umgebung\n- `sys`: Informationen zur Python-Laufzeit\n- `subprocess`: Externe Befehle starten",
      "metadata": {}
    },
    {
      "id": "a64528570d0ab880",
      "cell_type": "code",
      "source": "import os\n\nprint('Aktuelles Verzeichnis:')\nprint(os.getcwd())\n\nprint('Dateien im Verzeichnis:')\nprint(os.listdir('.'))",
      "metadata": {
        "ExecuteTime": {
          "end_time": "2025-09-04T19:18:57.759581Z",
          "start_time": "2025-09-04T19:18:57.737881Z"
        },
        "trusted": true
      },
      "outputs": [
        {
          "name": "stdout",
          "output_type": "stream",
          "text": "Aktuelles Verzeichnis:\n/drive/course\nDateien im Verzeichnis:\n['README.md', 'lesson10_kickstart.ipynb', 'lesson21_basics.ipynb', 'lesson22_ctrl.ipynb', 'lesson23_exceptions.ipynb', 'lesson24_functions.ipynb', 'lesson24_functions_linear.png', 'lesson31_string.ipynb', 'lesson32_list.ipynb', 'lesson33_set.ipynb', 'lesson34_dict.ipynb', 'lesson40_files.ipynb', 'lesson40_files_books.csv', 'lesson40_files_cities.txt', 'lesson40_files_hello.txt', 'lesson40_files_names.txt', 'lesson40_files_names_sorted.txt', 'lesson40_files_object.pkl', 'lesson41_lab_footprint.ipynb', 'lesson41_lab_number_of_earth.csv', 'lesson50_module.ipynb', 'lesson50_module_calculator.py', 'lesson50_module_fibo.py', 'lesson60_std_libs.ipynb', 'lesson60_std_libs_person.json', 'lesson61_lab_covid.ipynb', 'lesson61_lab_covid.json', 'lesson70_ds_libs.ipynb', 'lesson71_numpy.ipynb', 'lesson72_pandas.ipynb', 'lesson73_matplotlib.ipynb', 'lesson80_oo.ipynb', 'lesson90_appendix.ipynb', 'lesson91_lab_fruitbasket.ipynb', 'lesson92_lab_rest.ipynb', 'lesson93_lab_tree.ipynb', 'lesson93_lab_tree.png', 'lesson94_lab_books.csv', 'lesson94_lab_books.ipynb', 'lesson94_lab_books.txt']\n"
        }
      ],
      "execution_count": 2
    },
    {
      "id": "aa6620141250c0f2",
      "cell_type": "code",
      "source": "import sys\n\nprint('Python Version:')\nprint(sys.version)\n\nprint('Plattform:')\nprint(sys.platform)",
      "metadata": {
        "ExecuteTime": {
          "end_time": "2025-09-04T19:25:36.136422Z",
          "start_time": "2025-09-04T19:25:36.121348Z"
        },
        "trusted": true
      },
      "outputs": [
        {
          "name": "stdout",
          "output_type": "stream",
          "text": "Python Version:\n3.12.7 (main, May 15 2025, 18:47:24) [Clang 19.0.0git (https:/github.com/llvm/llvm-project 0a8cd1ed1f4f35905df318015b\nPlattform:\nemscripten\n"
        }
      ],
      "execution_count": 3
    },
    {
      "id": "ff7b1b74394cb060",
      "cell_type": "code",
      "source": "import subprocess\n\nif sys.platform.startswith('win'):\n    subprocess.Popen(\"notepad\")",
      "metadata": {
        "ExecuteTime": {
          "end_time": "2025-09-04T19:31:23.064545Z",
          "start_time": "2025-09-04T19:31:23.027420Z"
        },
        "trusted": true
      },
      "outputs": [],
      "execution_count": 4
    },
    {
      "id": "7ff47e36490a8747",
      "cell_type": "code",
      "source": "if sys.platform.startswith('win'):\n    code = subprocess.call(\"notepad\")\n    if code == 0:\n        print(\"Notepad successfully executed\")\n    else:\n        print(\"Starting notepad failed\")\nelse:\n    print(sys.platform)",
      "metadata": {
        "ExecuteTime": {
          "end_time": "2025-09-04T19:32:05.820905Z",
          "start_time": "2025-09-04T19:32:04.087688Z"
        },
        "trusted": true
      },
      "outputs": [
        {
          "name": "stdout",
          "output_type": "stream",
          "text": "emscripten\n"
        }
      ],
      "execution_count": 5
    },
    {
      "id": "9a66f4fe9ef90f82",
      "cell_type": "markdown",
      "source": "## re\n\nDas Modul `re` steht für reguläre Ausdrücke. Mit diesen können Muster in Texten gesucht oder überprüft werden.\n\n- Ein regulärer Ausdruck ist eine Sequenz von Zeichen die ein Muster (Pattern) definieren\n- Damit kann Strings nach Muster durchsuchen oder prüfen ob diese ein bestimmtes Format erfüllen\n- Beispiele:\n  – Kreditkarten Format\n  – AHV Nummer\n  – ISBN Nummer\n  – E-Mail Adresse",
      "metadata": {}
    },
    {
      "id": "e30600e73afc8534",
      "cell_type": "code",
      "source": "import re\n\ntext = 'Meine Telefonnummer: 079 123 45 67'\npattern = r'\\d{3} \\d{3} \\d{2} \\d{2}'    \n\nmatch = re.search(pattern, text)\nif match:\n    print('Gefunden:', match.group())\nelse:\n    print(\"Pattern nicht gefunden im Text\")\n",
      "metadata": {
        "ExecuteTime": {
          "end_time": "2025-09-04T19:35:11.970690Z",
          "start_time": "2025-09-04T19:35:11.959182Z"
        },
        "trusted": true
      },
      "outputs": [
        {
          "name": "stdout",
          "output_type": "stream",
          "text": "Gefunden: 079 123 45 67\n"
        }
      ],
      "execution_count": 6
    },
    {
      "id": "67181ae6c347421f",
      "cell_type": "markdown",
      "source": "Das re Modul verfügt über folgende Methoden:\n- findall: Returns a list conatinig all matches\n- search: Returns a Match object it there is a match anywhere in the string\n- split: Returns a list where the string has been split at each match\n- sub: Replaces one or many matchs with a given string\n- match: Checks if a text matches the regular expression (pattern)\n\n\nWeiterführende Informationen\n- Python Dokumentation [re](https://docs.python.org/3/library/re.html)\n- RegEx Testen [regex101](https://regex101.com)",
      "metadata": {}
    },
    {
      "id": "63f0f73e20d67e6c",
      "cell_type": "markdown",
      "source": "### findall\n\nSuche nach E-Mail Adressen:",
      "metadata": {}
    },
    {
      "id": "ec580d2ac2327cd",
      "cell_type": "code",
      "source": "text = \"Kontaktiere uns: info@test.com oder support@company.org\"\npattern = r\"[a-zA-Z0-9._%+-]+@[a-zA-Z0-9.-]+\\.[a-z]{2,}\"\n\nemails = re.findall(pattern, text)\nprint(\"Gefundene E-Mails:\", emails)\n",
      "metadata": {
        "ExecuteTime": {
          "end_time": "2025-09-04T19:43:11.508668Z",
          "start_time": "2025-09-04T19:43:11.488062Z"
        },
        "trusted": true
      },
      "outputs": [
        {
          "name": "stdout",
          "output_type": "stream",
          "text": "Gefundene E-Mails: ['info@test.com', 'support@company.org']\n"
        }
      ],
      "execution_count": 7
    },
    {
      "id": "4be7a86c80582fab",
      "cell_type": "markdown",
      "source": "Alle Zahlen in einem Text extrahieren:",
      "metadata": {
        "collapsed": false,
        "jupyter": {
          "outputs_hidden": false
        }
      }
    },
    {
      "id": "a67d7ce2a6381954",
      "cell_type": "code",
      "source": "text = \"Im Jahr 2023 waren es 150 Teilnehmer, 2024 werden es 200 sein.\"\npattern = r\"\\d+\"\n\nzahlen = re.findall(pattern, text)\nprint(\"Gefundene Zahlen:\", zahlen)",
      "metadata": {
        "collapsed": false,
        "jupyter": {
          "outputs_hidden": false
        },
        "trusted": true
      },
      "outputs": [
        {
          "name": "stdout",
          "output_type": "stream",
          "text": "Gefundene Zahlen: ['2023', '150', '2024', '200']\n"
        }
      ],
      "execution_count": 8
    },
    {
      "id": "45c95269bde7729b",
      "cell_type": "markdown",
      "source": "### search\n\nPrüfung nach Telefon Nummer:",
      "metadata": {}
    },
    {
      "id": "897f3c3dde869e86",
      "cell_type": "code",
      "source": "text = \"Meine Nummer ist +41 79 123 45 67\"\npattern = r\"\\+41\\s?\\d{2}\\s?\\d{3}\\s?\\d{2}\\s?\\d{2}\"\n\nmatch = re.search(pattern, text)\nprint(\"Telefonnummer gefunden:\", bool(match))",
      "metadata": {
        "ExecuteTime": {
          "end_time": "2025-09-04T19:40:58.232205Z",
          "start_time": "2025-09-04T19:40:58.214160Z"
        },
        "trusted": true
      },
      "outputs": [
        {
          "name": "stdout",
          "output_type": "stream",
          "text": "Telefonnummer gefunden: True\n"
        }
      ],
      "execution_count": 9
    },
    {
      "id": "651a95ae218c8a81",
      "cell_type": "markdown",
      "source": "### sub\n\nWörter ersetzen:",
      "metadata": {}
    },
    {
      "id": "30e0087383e8c49d",
      "cell_type": "code",
      "source": "text = \"Das ist doof und blöd!\"\npattern = r\"doof|blöd\"\n\nzensiert = re.sub(pattern, \"***\", text)\nprint(zensiert)",
      "metadata": {
        "ExecuteTime": {
          "end_time": "2025-09-04T19:44:45.356180Z",
          "start_time": "2025-09-04T19:44:45.339373Z"
        },
        "trusted": true
      },
      "outputs": [
        {
          "name": "stdout",
          "output_type": "stream",
          "text": "Das ist *** und ***!\n"
        }
      ],
      "execution_count": 10
    },
    {
      "id": "a015067ae712e424",
      "cell_type": "markdown",
      "source": "\n### split\n\nSplitten von Text anhand von Satzzeichen:",
      "metadata": {}
    },
    {
      "id": "4e40ee5b4f84f0b2",
      "cell_type": "code",
      "source": "text = \"Hallo Welt! Wie geht's dir? Alles gut.\"\npattern = r\"[.!?]\"\n\nteile = re.split(pattern, text)\nprint(\"Sätze:\", [t.strip() for t in teile if t.strip()])\n",
      "metadata": {
        "ExecuteTime": {
          "end_time": "2025-09-04T19:45:55.183936Z",
          "start_time": "2025-09-04T19:45:55.179897Z"
        },
        "trusted": true
      },
      "outputs": [
        {
          "name": "stdout",
          "output_type": "stream",
          "text": "Sätze: ['Hallo Welt', \"Wie geht's dir\", 'Alles gut']\n"
        }
      ],
      "execution_count": 11
    },
    {
      "id": "f38748419790916b",
      "cell_type": "markdown",
      "source": "\n### match\n\nValidierung Postleitzahlen Schweiz (1000–9999):",
      "metadata": {}
    },
    {
      "id": "b7c2b6b024a818e2",
      "cell_type": "code",
      "source": "plz_list = [\"8000\", \"1234\", \"999\", \"10000\"]\n\npattern = r\"^[1-9]\\d{3}$\"\n\nfor plz in plz_list:\n    if re.match(pattern, plz):\n        print(plz, \"ist gültig\")\n    else:\n        print(plz, \"ist ungültig\")\n",
      "metadata": {
        "ExecuteTime": {
          "end_time": "2025-09-04T19:46:44.386364Z",
          "start_time": "2025-09-04T19:46:44.379Z"
        },
        "trusted": true
      },
      "outputs": [
        {
          "name": "stdout",
          "output_type": "stream",
          "text": "8000 ist gültig\n1234 ist gültig\n999 ist ungültig\n10000 ist ungültig\n"
        }
      ],
      "execution_count": 12
    },
    {
      "id": "ea80177414c0bccd",
      "cell_type": "markdown",
      "source": "## date, datetime\nDas Modul `datetime` ermöglicht das Arbeiten mit Datum und Uhrzeit.",
      "metadata": {}
    },
    {
      "id": "82aeb5e2a0266f7",
      "cell_type": "markdown",
      "source": "### date",
      "metadata": {}
    },
    {
      "id": "b8bfc00a10f97cd",
      "cell_type": "code",
      "source": "from datetime import date\n\ntoday = date.today()\n\nprint(today)\nprint(today.day, \".\", today.month, \".\", today.year, sep=\"\")\n\ntoday_str = date.strftime(today, \"%d.%m.%Y\")\nprint(today_str)\n",
      "metadata": {
        "ExecuteTime": {
          "end_time": "2025-09-04T19:50:13.162006Z",
          "start_time": "2025-09-04T19:50:13.153495Z"
        },
        "trusted": true
      },
      "outputs": [
        {
          "name": "stdout",
          "output_type": "stream",
          "text": "2025-09-08\n8.9.2025\n08.09.2025\n"
        }
      ],
      "execution_count": 13
    },
    {
      "id": "74de75110d034b58",
      "cell_type": "markdown",
      "source": "### datetime",
      "metadata": {}
    },
    {
      "id": "d712c0dcdd23eef",
      "cell_type": "code",
      "source": "from datetime import datetime\n\nnow = datetime.now()\nprint(now)\n\nbirthday = datetime.strptime('01.03.2007', \"%d.%m.%Y\")\nprint(birthday)\n\nage = now - birthday\nprint(age)\nprint(age.days / 365, \"years\")\n",
      "metadata": {
        "ExecuteTime": {
          "end_time": "2025-09-04T19:50:56.079100Z",
          "start_time": "2025-09-04T19:50:56.066078Z"
        },
        "trusted": true
      },
      "outputs": [
        {
          "name": "stdout",
          "output_type": "stream",
          "text": "2025-09-08 18:40:23.419000\n2007-03-01 00:00:00\n6766 days, 18:40:23.419000\n18.53698630136986 years\n"
        }
      ],
      "execution_count": 14
    },
    {
      "id": "630ec65b3fe15b8c",
      "cell_type": "markdown",
      "source": "> Weitere Besipiele inkl. Liste der **Formatierungen** siehe [datetime samples](https://github.com/iten-engineering/python/blob/main/example/06-std-libs/datetime-format.py).",
      "metadata": {}
    },
    {
      "id": "2b3ccfb20c5db10f",
      "cell_type": "markdown",
      "source": "## json\n\nMit dem Python `json` Modul können JSON Daten gelesen oder geschrieben werden.\n\n- JSON steht für JavaScript Object Notation\n- JSON ist ein Text Format für die Speicherung und den Transport/Austausch von Daten\n\nBeispieL:\n```\n{\n  \"name\": \"Anna\",\n  \"alter\": 25,\n  \"hobbies\": [\"Lesen\", \"Schwimmen\"]\n}\n```\n\n**Syntax**\n\nDie Syntax ist, wie der Name schon sagt, abgeleitet von der JavaScript Object Notation:\n– Daten sind als Name/Werte Paare abgelegt\n– Dateneinträge sind mit Komma separiert\n– Objekte werden mit geschweiften {…} Klammern deklariert\n– Arrays mit eckigen […] Klammern dargestellt\n\n**Datentypen**\n\nFolgende Datentypen werden mit JSON untersützt:\n- string\n- number\n- object  (wird in Python zu dict)\n- array   (wird in Python zu list)\n- boolean\n- null    (wird in Python zu None)",
      "metadata": {}
    },
    {
      "id": "e50dcd6635ae747",
      "cell_type": "markdown",
      "source": "### dump",
      "metadata": {
        "collapsed": false,
        "jupyter": {
          "outputs_hidden": false
        }
      }
    },
    {
      "id": "51b2ace720395eec",
      "cell_type": "code",
      "source": "import json\n\nfile = \"lesson60_std_libs_person.json\"\ndata = { \"name\": \"Jane Smith\", \"age\": 25, \"city\": \"Los Angeles\", \"zip\": None}\n\nwith open(file, 'w') as f:\n    json.dump(data, f, indent=4)\n\nprint(f\"Data has been exported to: {file}\")",
      "metadata": {
        "trusted": true
      },
      "outputs": [],
      "execution_count": null
    },
    {
      "id": "fbd425b68420e1e5",
      "cell_type": "markdown",
      "source": "### load",
      "metadata": {
        "collapsed": false,
        "jupyter": {
          "outputs_hidden": false
        }
      }
    },
    {
      "id": "e5be8c862748a570",
      "cell_type": "code",
      "source": "with open(file, 'r') as f:\n    data = json.load(f)\n\n# Access the data\nprint(\"Name:\", data['name'])\nprint(\"Age:\", data['age'])\nprint(\"City:\", data['city'])\nprint(\"Zip:\", data['zip'])\n",
      "metadata": {
        "collapsed": false,
        "jupyter": {
          "outputs_hidden": false
        },
        "trusted": true
      },
      "outputs": [],
      "execution_count": null
    },
    {
      "id": "3ac1f0a23f5cdba9",
      "cell_type": "markdown",
      "source": "# Aufgaben\n\n## Age\n\nSchreibe ein Programm, das folgende Schritte ausführt:\n\n1. Lies ein Datum als Zeichenkette (String) im Format \"TT.MM.JJJJ\" ein (z. B. \"15.08.1995\").\n2. Wandle diesen String mit Hilfe des Moduls datetime in ein datetime-Objekt um.\n3. Berechne das Alter dieser Person in Jahren, ausgehend vom aktuellen Datum.\n4. Gib das Alter in Jahren auf der Konsole aus.\n\nBeispiel Ausgabe:\n```\nGib dein Geburtsdatum ein (TT.MM.JJJJ): 15.08.1995\nDu bist 29 Jahre alt.\n```\n\nHinweise:\n- Verwende datetime.strptime, um den String zu konvertieren.\n- Für die Berechnung des Alters kannst du die Differenz zwischen aktuellem Datum (datetime.today()) und Geburtsdatum bestimmen und die Jahre entsprechend berechnen. Dazu kannst du die Eigenschaft year der beiden datetime Objekte benutzen.",
      "metadata": {}
    },
    {
      "id": "b56d393cd7a58cc4",
      "cell_type": "code",
      "source": "\n",
      "metadata": {
        "collapsed": false,
        "ExecuteTime": {
          "end_time": "2025-09-05T16:30:38.533366Z",
          "start_time": "2025-09-05T16:30:31.103836Z"
        },
        "jupyter": {
          "outputs_hidden": false
        },
        "trusted": true
      },
      "outputs": [],
      "execution_count": null
    },
    {
      "id": "d7ed8c66b7ecba96",
      "cell_type": "markdown",
      "source": "## Covid\n\nBei dieser Überung werden die Covid Zahlen der Schweiz aus einer JSON Datei geladen und als Line Chart visualisiert. Öffnen sie dazu das Notebook **lesson61_lab_covid.ipynb** und folgen sie den Anweisungen.",
      "metadata": {
        "collapsed": false,
        "jupyter": {
          "outputs_hidden": false
        }
      }
    }
  ]
}