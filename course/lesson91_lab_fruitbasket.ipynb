{
  "metadata": {
    "kernelspec": {
      "name": "python",
      "display_name": "Python (Pyodide)",
      "language": "python"
    },
    "language_info": {
      "codemirror_mode": {
        "name": "python",
        "version": 3
      },
      "file_extension": ".py",
      "mimetype": "text/x-python",
      "name": "python",
      "nbconvert_exporter": "python",
      "pygments_lexer": "ipython3",
      "version": "3.8"
    }
  },
  "nbformat_minor": 5,
  "nbformat": 4,
  "cells": [
    {
      "id": "8188fc28",
      "cell_type": "markdown",
      "source": "# Übung FruitBasket\n\nMit dieser Übung soll das Thema **Operator Overloading** in Python anhand von einem praktischen Beispiel erörtert werden. Dazu wollen wir eine Klasse `Fruchtkorb` erstellen, die verschiedene Früchte enthält und die Addition von zwei Körben sowohl über den `+` Operator als auch über eine alternative Methode `.add()` ermöglicht.",
      "metadata": {}
    },
    {
      "id": "c2f7a1b6",
      "cell_type": "markdown",
      "source": "\n## Einführung\n\nIn Python sind Operatoren wie `+`, `-`, `*` usw. eigentlich nur **Abkürzungen für spezielle Methoden** (*Magic Methods*).  \nBeispiel:\n- `a + b` ruft `a.__add__(b)` auf.  \n- `a == b` ruft `a.__eq__(b)` auf.\n\nMit **Operator Overloading** kann man definieren, wie sich eigene Klassen bei diesen Operatoren verhalten sollen.\n",
      "metadata": {}
    },
    {
      "id": "417414b1",
      "cell_type": "markdown",
      "source": "\n## Übersicht Operatoren\n\n| Operator | Methode        | Beschreibung            |\n|----------|---------------|-------------------------|\n| `+`      | `__add__`     | Addition                |\n| `-`      | `__sub__`     | Subtraktion             |\n| `*`      | `__mul__`     | Multiplikation          |\n| `/`      | `__truediv__` | Division                |\n| `//`     | `__floordiv__`| Ganzzahldivision        |\n| `%`      | `__mod__`     | Modulo                  |\n| `**`     | `__pow__`     | Potenzieren             |\n| `==`     | `__eq__`      | Gleichheit              |\n| `!=`     | `__ne__`      | Ungleichheit            |\n| `<`      | `__lt__`      | Kleiner als             |\n| `<=`     | `__le__`      | Kleiner oder gleich     |\n| `>`      | `__gt__`      | Größer als              |\n| `>=`     | `__ge__`      | Größer oder gleich      |\n| `len()`  | `__len__`     | Länge zurückgeben       |\n| `str()`  | `__str__`     | String-Darstellung      |\n| `repr()` | `__repr__`    | Entwicklerdarstellung   |\n",
      "metadata": {}
    },
    {
      "id": "f08ba5f6",
      "cell_type": "markdown",
      "source": "\n## Vor- und Nachteile\n\n**Vorteile**\n- Macht Klassen intuitiver benutzbar (`fruit_basket1 + fruit_basket2`)\n- Erhöht Lesbarkeit und Verständlichkeit  \n- Integration in Python-Ökosystem (`len(obj)`, `print(obj)`)\n\n**Nachteile**\n- Kann Code verwirrend machen, wenn Operatoren „ungewöhnlich“ verwendet werden  \n- Muss sorgfältig implementiert werden  \n- Weniger explizit als Methodenaufrufe (`.add()` ist manchmal klarer)\n\n## Programmiersprachen\n- Neben Python kennt auch **C++** die Möglichkeit von Operator Overlaoding\n- Moderne Programmiersprachen wie **Java** oder **C#** unterstützen das Konzept nicht.\n\n>Es gibt auch alternative Möglichkeiten zum Operator Overloading. Wir schauen uns beide Varianten anhand von nachfolgenden Beispiel an.\n\n",
      "metadata": {}
    },
    {
      "id": "9682493fc1e827eb",
      "cell_type": "markdown",
      "source": "# Aufgabe\n\n1. Erstellen eine Klasse FruitBasket welche 3 Früchte beinhalten kann.\n2. Via Konstruktor kann ein Früchtekorb erstellt werden und die Anzahl der verschiedenen Früchte kann angegeben werden.\n3. Erstelle die Funktion für den **+** Operator\n4. Schreiben ein Testprogramm, dass zwei Fruchtkörbe erstellt und diese dann miteinander addiert. Geben den neuen Fruchtkorb mit der Anzahl der Fürchte aus. Überschreibe dazu die `__str__` Funktion\n5. Erstelle eine alternative Funktion `add(self, other)` mit der auch zwei Früchtekörbe zusammen addiert werden könnnen. Teste auch diese Funktion.",
      "metadata": {
        "collapsed": false,
        "jupyter": {
          "outputs_hidden": false
        }
      }
    },
    {
      "id": "9b86dd6eafc2acc9",
      "cell_type": "markdown",
      "source": "# Lösung",
      "metadata": {}
    },
    {
      "id": "9ef0d766",
      "cell_type": "code",
      "source": "\n",
      "metadata": {
        "trusted": true
      },
      "outputs": [],
      "execution_count": null
    },
    {
      "id": "542bb48b6cf3b41e",
      "cell_type": "code",
      "source": "",
      "metadata": {
        "collapsed": false,
        "jupyter": {
          "outputs_hidden": false
        },
        "trusted": true
      },
      "outputs": [],
      "execution_count": null
    }
  ]
}