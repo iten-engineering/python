{
  "metadata": {
    "kernelspec": {
      "name": "python",
      "display_name": "Python (Pyodide)",
      "language": "python"
    },
    "language_info": {
      "codemirror_mode": {
        "name": "python",
        "version": 3
      },
      "file_extension": ".py",
      "mimetype": "text/x-python",
      "name": "python",
      "nbconvert_exporter": "python",
      "pygments_lexer": "ipython3",
      "version": "3.8"
    }
  },
  "nbformat_minor": 5,
  "nbformat": 4,
  "cells": [
    {
      "id": "b6903620-52bc-41cd-9337-9761a2bfb7cd",
      "cell_type": "markdown",
      "source": "# File Input/Output",
      "metadata": {}
    },
    {
      "id": "6389f4f3-42a2-4fe2-a4c3-d1803aa30d20",
      "cell_type": "markdown",
      "source": "## Global Footprint\n\nLaden und Filtern von CSV Daten und Visualisiern als Line Chart mit Hilfe eines Notebooks.\n\n**Important**: \nPlease use the **Python(Pyodide)** Kernel for the pandas usage.",
      "metadata": {}
    },
    {
      "id": "4eb5600c-81f9-441e-8c8d-d9564fa47787",
      "cell_type": "markdown",
      "source": "### 1. Daten analysieren\n\nSchauen Sie sich die Datei `lesson41_lab_number_of_earth.csv` an. \n> Die erste Spalte enthält die Länder, anschliessend folgt die Kennzahl **Number of Earth** pro Jahr ab 1961.",
      "metadata": {}
    },
    {
      "id": "eaace158-866d-43e0-82a4-b95cc14f63b0",
      "cell_type": "markdown",
      "source": "### 2. Import",
      "metadata": {}
    },
    {
      "id": "a617fbe3-5c32-4b7b-9a76-6f0f23e786c7",
      "cell_type": "code",
      "source": "%matplotlib inline\n\nimport pandas as pd\nimport numpy as np\nimport matplotlib.pyplot as plt",
      "metadata": {
        "trusted": true,
        "ExecuteTime": {
          "end_time": "2025-09-03T21:04:29.974383Z",
          "start_time": "2025-09-03T21:04:29.952551Z"
        }
      },
      "outputs": [
        {
          "name": "stderr",
          "output_type": "stream",
          "text": "Matplotlib is building the font cache; this may take a moment.\n"
        }
      ],
      "execution_count": 1
    },
    {
      "id": "03663b5e-ca82-48e6-873f-58da513732a4",
      "cell_type": "markdown",
      "source": "### 3. Daten lesen\n\nLesen sie die CSV Datei mit den Pandas Befehle pd.read_csv(...) in ein DataFrame mit dem Variablen Namen df ein und geben Sie die ersten und letzten 5 Zeilen mit print(df.head(-10)) aus.",
      "metadata": {}
    },
    {
      "id": "06a0b96b-f686-4065-a2d6-14a66b18d065",
      "cell_type": "code",
      "source": "filename = \"lesson41_lab_number_of_earth.csv\"\n",
      "metadata": {
        "trusted": true,
        "ExecuteTime": {
          "end_time": "2025-09-03T21:04:30.005989Z",
          "start_time": "2025-09-03T21:04:29.975891Z"
        }
      },
      "outputs": [],
      "execution_count": 2
    },
    {
      "id": "7024f0f7-02ac-4b23-9c70-faad0674b6fb",
      "cell_type": "markdown",
      "source": "### 4. Daten filtern\n\nFiltern Sie die Daten für die Schweiz mit dem folgenden Befehl und geben Sie die Daten aus:\n```\ndf_ch = df.loc[df['Country'] == 'Switzerland']\ndf_ch.head()\n```",
      "metadata": {}
    },
    {
      "id": "533542c6-0093-49c3-b148-e8aa1311cb71",
      "cell_type": "code",
      "source": "",
      "metadata": {
        "trusted": true,
        "ExecuteTime": {
          "end_time": "2025-09-03T21:04:30.071112Z",
          "start_time": "2025-09-03T21:04:30.055395Z"
        }
      },
      "outputs": [],
      "execution_count": null
    },
    {
      "id": "f73c8634-6e8a-42a2-a08e-8213e0cb7048",
      "cell_type": "markdown",
      "source": "### 5. Daten für X-Achse selektieren\n\nAls X-Achse sollen wie Jahre dargestellt werden. \n\nFiltern sie diese wie folgt:\n```\nx = df_ch.columns.values.tolist()[1:]\nprint(\"x:\", x)\n```",
      "metadata": {}
    },
    {
      "id": "d572ccee-1c94-48be-be39-041a12406b96",
      "cell_type": "code",
      "source": "",
      "metadata": {
        "trusted": true,
        "ExecuteTime": {
          "end_time": "2025-09-03T21:04:30.134336Z",
          "start_time": "2025-09-03T21:04:30.118430Z"
        }
      },
      "outputs": [],
      "execution_count": null
    },
    {
      "id": "c4cf48fb-df14-423a-b9f7-1371739d9f02",
      "cell_type": "markdown",
      "source": "### 6. Daten für Y-Achse selektieren\n\nAls Y Werte werden folgende Daten selektiert:\n```\ny = df_ch.values.tolist()[0][1:]\nprint(\"y:\", y)\n```",
      "metadata": {}
    },
    {
      "id": "797eaa51-0d60-4eea-8793-86f3bbc2b448",
      "cell_type": "code",
      "source": "",
      "metadata": {
        "trusted": true,
        "ExecuteTime": {
          "end_time": "2025-09-03T21:04:30.277001Z",
          "start_time": "2025-09-03T21:04:30.266199Z"
        }
      },
      "outputs": [],
      "execution_count": null
    },
    {
      "id": "e317663b-3738-4924-af82-0ea57ec0429a",
      "cell_type": "markdown",
      "source": "### 7. Plotten Sie den Line Chart \n\n\n- Erstellen Sie eine erste Ausgabe mit folgendem Commands:\n  ```\n  plt.figure()\n  plt.plot(x,y)\n  plt.show()\n  ```\n\n- Fügen sie einen Titel hinzu und beschriften Sie die Y-Achse for dem `plt.show()` Befehl ein. \n\n- Die X-Achse ist noch nicht ideal. Fügen Sie folgenden Code vor dem `plt.show()` Befehl ein:\n   ```\n   plt.xticks(np.arange(0, len(x), 5))\n   ```",
      "metadata": {}
    },
    {
      "id": "0f73faf2-46a9-470e-a8b9-a909a200c270",
      "cell_type": "code",
      "source": "",
      "metadata": {
        "trusted": true,
        "ExecuteTime": {
          "end_time": "2025-09-03T21:04:30.550171Z",
          "start_time": "2025-09-03T21:04:30.397670Z"
        },
        "scrolled": true
      },
      "outputs": [],
      "execution_count": null
    },
    {
      "id": "35a66530-d2a4-4004-89bc-be88bb53f9f7",
      "cell_type": "markdown",
      "source": "## Zusatzaufgabe\n\n1. Erstellen sie eine Methode, die die y-Werte für ein beliebiges Land zurückgibt.\n2. Fügen sie die beiden Länder Germany und Italy dem Chart hinzu\n3. Ersellen sie einen neuen Plot mit den drei Ländern \n4. Fügen sie eine Legende hinzu\n",
      "metadata": {}
    },
    {
      "id": "d6779c23-9d10-44ad-b1ca-92b83408a259",
      "cell_type": "code",
      "source": "",
      "metadata": {
        "trusted": true,
        "ExecuteTime": {
          "end_time": "2025-09-03T21:04:30.633685Z",
          "start_time": "2025-09-03T21:04:30.617836Z"
        }
      },
      "outputs": [],
      "execution_count": null
    },
    {
      "id": "06785e99-3a8f-42df-bf96-534a1e1dbac9",
      "cell_type": "code",
      "source": "",
      "metadata": {
        "trusted": true,
        "ExecuteTime": {
          "end_time": "2025-09-03T21:04:30.665221Z",
          "start_time": "2025-09-03T21:04:30.649533Z"
        }
      },
      "outputs": [],
      "execution_count": null
    },
    {
      "id": "4ad798b9-8dbe-409d-96dd-aa0aec19f5f2",
      "cell_type": "code",
      "source": "",
      "metadata": {
        "trusted": true,
        "ExecuteTime": {
          "end_time": "2025-09-03T21:04:30.714522Z",
          "start_time": "2025-09-03T21:04:30.699976Z"
        }
      },
      "outputs": [],
      "execution_count": null
    },
    {
      "id": "f41140aa-8204-44d3-b0bc-f011e7b2eccb",
      "cell_type": "code",
      "source": "",
      "metadata": {
        "trusted": true,
        "ExecuteTime": {
          "end_time": "2025-09-03T21:04:30.863581Z",
          "start_time": "2025-09-03T21:04:30.762562Z"
        }
      },
      "outputs": [],
      "execution_count": null
    }
  ]
}