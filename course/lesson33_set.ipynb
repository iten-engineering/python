{
  "metadata": {
    "kernelspec": {
      "name": "python",
      "display_name": "Python (Pyodide)",
      "language": "python"
    },
    "language_info": {
      "codemirror_mode": {
        "name": "python",
        "version": 3
      },
      "file_extension": ".py",
      "mimetype": "text/x-python",
      "name": "python",
      "nbconvert_exporter": "python",
      "pygments_lexer": "ipython3",
      "version": "3.8"
    }
  },
  "nbformat_minor": 5,
  "nbformat": 4,
  "cells": [
    {
      "id": "b8840ff6-eeb6-4fa5-b6b4-01277b429b32",
      "cell_type": "markdown",
      "source": "# Set\n\nEin Set ist eine ungeordnete Sammlung von einzigartigen Elementen. Doppelte Werte werden automatisch entfernt. Sets sind nützlich, wenn man z. B. prüfen will, ob ein Element vorhanden ist, oder wenn man mathematische Mengenoperationen durchführen möchte.",
      "metadata": {}
    },
    {
      "id": "b9c949f5-97c9-4e86-af4c-57f41f643e8b",
      "cell_type": "markdown",
      "source": "## Initialisierung",
      "metadata": {}
    },
    {
      "id": "4bea5a9affefcd79",
      "cell_type": "code",
      "source": "s1 = set()            # {}\ns2 = set([1,2,3])     # {1, 2, 3}\ns3 = set([1,2,3,1])   # {1, 2, 3}\ns4 = set(\"sam\")       # {'s','a','m'}\n\nprint(s1)\nprint(s2)\nprint(s3)\nprint(s4)",
      "metadata": {
        "ExecuteTime": {
          "end_time": "2025-08-27T16:43:47.614106Z",
          "start_time": "2025-08-27T16:43:47.603637Z"
        },
        "trusted": true
      },
      "outputs": [
        {
          "name": "stdout",
          "output_type": "stream",
          "text": "set()\n{1, 2, 3}\n{1, 2, 3}\n{'s', 'a', 'm'}\n"
        }
      ],
      "execution_count": 1
    },
    {
      "id": "bcb718cf7da21110",
      "cell_type": "markdown",
      "source": "Es werden nur die eindeutigen Werte übernommen. Doppelte Elemente fallen weg:",
      "metadata": {}
    },
    {
      "id": "b7280d01-6198-4e8a-8429-8d97b2c46362",
      "cell_type": "code",
      "source": "l = [1, 2, 3, 2, 6, 2]\ns = set(l)         \n\nprint(s)",
      "metadata": {
        "trusted": true,
        "ExecuteTime": {
          "end_time": "2025-08-27T16:44:13.343734Z",
          "start_time": "2025-08-27T16:44:13.320101Z"
        }
      },
      "outputs": [
        {
          "name": "stdout",
          "output_type": "stream",
          "text": "{1, 2, 3, 6}\n"
        }
      ],
      "execution_count": 2
    },
    {
      "id": "a123033f-2369-496d-9a79-a33c96f7d2fc",
      "cell_type": "markdown",
      "source": "## Set Operationen",
      "metadata": {}
    },
    {
      "id": "3301c58ce1df7420",
      "cell_type": "markdown",
      "source": "### add",
      "metadata": {}
    },
    {
      "id": "6219f4d4be540b6b",
      "cell_type": "code",
      "source": "s = set([1,2,3])    # {1, 2, 3}\n\ns.add(4)            # {1, 2, 3, 4}\ns.add(0)            # {0, 1, 2, 3, 4}\n\nprint(s)",
      "metadata": {
        "ExecuteTime": {
          "end_time": "2025-08-27T16:44:29.676510Z",
          "start_time": "2025-08-27T16:44:29.660697Z"
        },
        "trusted": true
      },
      "outputs": [
        {
          "name": "stdout",
          "output_type": "stream",
          "text": "{0, 1, 2, 3, 4}\n"
        }
      ],
      "execution_count": 3
    },
    {
      "id": "b3a6c88e68d5aca2",
      "cell_type": "markdown",
      "source": "### pop\n\nMit `pop` wird das Element der ersten Position entfernt.",
      "metadata": {}
    },
    {
      "id": "b8ba57d3b2e5a741",
      "cell_type": "code",
      "source": "s = set([1,2,3,4])\n\ne = s.pop()       \nprint(f\"Element {e} removed, result={s}\")\n\ne = s.pop()       \nprint(f\"Element {e} removed, result={s}\")\n",
      "metadata": {
        "trusted": true
      },
      "outputs": [
        {
          "name": "stdout",
          "output_type": "stream",
          "text": "Element 1 removed, result={2, 3, 4}\nElement 2 removed, result={3, 4}\n"
        }
      ],
      "execution_count": 4
    },
    {
      "id": "00a185d8-986d-4ee4-85df-d489b68c6fad",
      "cell_type": "markdown",
      "source": "### remove\n\nMit `remove` wird das angegebene Element (Wert nicht Position) entfernt.",
      "metadata": {}
    },
    {
      "id": "e835f98d34413545",
      "cell_type": "code",
      "source": "s = set([1,2,3,4])\n\ns.remove(3)         # {1, 2, 4}\nprint(s)",
      "metadata": {
        "ExecuteTime": {
          "end_time": "2025-08-27T16:45:01.758041Z",
          "start_time": "2025-08-27T16:45:01.748457Z"
        },
        "trusted": true
      },
      "outputs": [
        {
          "name": "stdout",
          "output_type": "stream",
          "text": "{1, 2, 4}\n"
        }
      ],
      "execution_count": 5
    },
    {
      "id": "4be43e1c-ddc8-4f44-b55c-27e7face80cf",
      "cell_type": "markdown",
      "source": "### discard\n\nWie remove(), aber ohne Fehler, falls Element fehlt.",
      "metadata": {}
    },
    {
      "id": "762b85a8-8723-498c-b34f-0b37eeb8386a",
      "cell_type": "code",
      "source": "zahlen = {1, 2, 3}\nzahlen.discard(2)\nzahlen.discard(5)  # kein Fehler\n\nprint(zahlen)",
      "metadata": {
        "trusted": true
      },
      "outputs": [
        {
          "name": "stdout",
          "output_type": "stream",
          "text": "{1, 3}\n"
        }
      ],
      "execution_count": 6
    },
    {
      "id": "eb8e8f6f-3217-4523-97ba-8ebdfc4930ce",
      "cell_type": "markdown",
      "source": "### clear, in\n\nMit `in` kann geprüft werden ob ein Element in einem Set vorkommt. Mit `clear` werden alle Elemente entfernt.",
      "metadata": {}
    },
    {
      "id": "06ac3097-544b-4e43-a966-42ac5789c368",
      "cell_type": "code",
      "source": "zahlen = {1, 2, 3}\nprint(1 in zahlen)\n\nzahlen.clear()\nprint(1 in zahlen)",
      "metadata": {
        "trusted": true
      },
      "outputs": [
        {
          "name": "stdout",
          "output_type": "stream",
          "text": "True\nFalse\n"
        }
      ],
      "execution_count": 7
    },
    {
      "id": "8fbddfa14c051e2b",
      "cell_type": "markdown",
      "source": "## Mengenoperationen",
      "metadata": {}
    },
    {
      "id": "9a7ae9f2-da21-46d7-9817-e8067c68f066",
      "cell_type": "markdown",
      "source": "Die Mengenoperationen `union`, `intersection` und `difference` wollen wir mit dem beiden folgende Sets analysieren.\n\n```mermaid\ngraph TD\n    s1 --> x[1,2,3]\n    \n    s2 --> y[1,4]\n```\n\nErstellen Sie die beiden Sets und führen sie anschliessend die folgenden Funktionen aus:\n- s1.union(s2)           \n- s1.intersection(s2)    \n- s1.difference(s2)      \n- s2.difference(s1)      ",
      "metadata": {}
    },
    {
      "id": "a95d6b41-2504-46bd-9e15-1b0176d6f00b",
      "cell_type": "code",
      "source": "s1 = set([1,2,3])\ns2 = set([1,4])",
      "metadata": {
        "trusted": true
      },
      "outputs": [],
      "execution_count": 8
    },
    {
      "id": "9aa6de7279cce1f1",
      "cell_type": "markdown",
      "source": "### union",
      "metadata": {}
    },
    {
      "id": "99ccf588-bfb3-4bc5-950c-6da5060f4e3e",
      "cell_type": "code",
      "source": "s = s1.union(s2)\nprint(s)",
      "metadata": {
        "trusted": true
      },
      "outputs": [
        {
          "name": "stdout",
          "output_type": "stream",
          "text": "{1, 2, 3, 4}\n"
        }
      ],
      "execution_count": 9
    },
    {
      "id": "69f6ed5df67c562f",
      "cell_type": "markdown",
      "source": "### intersection",
      "metadata": {}
    },
    {
      "id": "033d50ac-c05f-4451-91bb-d01a1b065b20",
      "cell_type": "code",
      "source": "s = s1.intersection(s2)\nprint(s)",
      "metadata": {
        "trusted": true
      },
      "outputs": [
        {
          "name": "stdout",
          "output_type": "stream",
          "text": "{1}\n"
        }
      ],
      "execution_count": 10
    },
    {
      "id": "6853a472a1c46e7a",
      "cell_type": "markdown",
      "source": "### difference",
      "metadata": {}
    },
    {
      "id": "a3293047-f132-43c9-a4e2-8c532f8bc1ca",
      "cell_type": "code",
      "source": "s = s1.difference(s2)\nprint(s)\n\ns = s2.difference(s1)\nprint(s)",
      "metadata": {
        "trusted": true
      },
      "outputs": [
        {
          "name": "stdout",
          "output_type": "stream",
          "text": "{2, 3}\n{4}\n"
        }
      ],
      "execution_count": 11
    },
    {
      "id": "617f9480-bb97-4f99-8d32-a71cf68107b6",
      "cell_type": "markdown",
      "source": "### symmetric_difference\n\nGibt die Elemente an, die entweder in Menge 1 oder 2 vorkommen, aber nicht in beiden.",
      "metadata": {}
    },
    {
      "id": "d70c02df-530e-49e3-a984-c04c476fa286",
      "cell_type": "code",
      "source": "s = s1.symmetric_difference(s2)\nprint(s)",
      "metadata": {
        "trusted": true
      },
      "outputs": [
        {
          "name": "stdout",
          "output_type": "stream",
          "text": "{2, 3, 4}\n"
        }
      ],
      "execution_count": 12
    },
    {
      "id": "0c57353a-bc3b-4ec8-9ed2-15151d48dbe0",
      "cell_type": "markdown",
      "source": "# Aufgaben",
      "metadata": {}
    },
    {
      "id": "baaf5856-2790-4839-b45f-6a53d9e938fe",
      "cell_type": "markdown",
      "source": "### Operationen\n\nErstelle ein Set mit den Zahlen {1, 2, 3}.\n- Füge die Zahl 4 hinzu.\n- Entferne die Zahl 2.\n- Gib das Ergebnis aus.",
      "metadata": {}
    },
    {
      "id": "6d1ac63c-06e7-4dbc-b81b-7c19d22c9f27",
      "cell_type": "code",
      "source": "zahlen = {1, 2, 3}\nzahlen.add(4)\nzahlen.remove(2)\n\nprint(zahlen)  # {1, 3, 4}",
      "metadata": {
        "trusted": true
      },
      "outputs": [
        {
          "name": "stdout",
          "output_type": "stream",
          "text": "{1, 3, 4}\n"
        }
      ],
      "execution_count": 13
    },
    {
      "id": "4dddd010-3988-4929-afc9-682c8a01fee3",
      "cell_type": "markdown",
      "source": "## Mengen\n\nGegeben sind die zwei Mengen A und B. \n- Gib alle Früchte aus, die in beiden Sets vorkommen.\n- Gib alle Früchte aus, die nur in A oder nur in B vorkommen.",
      "metadata": {}
    },
    {
      "id": "62cc29c4-8bdb-4879-9f95-7f9c92f3c231",
      "cell_type": "code",
      "source": "A = {\"Apfel\", \"Banane\", \"Kirsche\"}\nB = {\"Banane\", \"Orange\", \"Kirsche\", \"Birne\"}",
      "metadata": {
        "trusted": true
      },
      "outputs": [],
      "execution_count": 14
    },
    {
      "id": "ec2e374a-2e70-44ed-bf13-84e437c8cd8e",
      "cell_type": "code",
      "source": "",
      "metadata": {
        "trusted": true
      },
      "outputs": [],
      "execution_count": null
    }
  ]
}