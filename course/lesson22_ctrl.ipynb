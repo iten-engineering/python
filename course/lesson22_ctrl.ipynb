{
  "metadata": {
    "kernelspec": {
      "name": "python",
      "display_name": "Python (Pyodide)",
      "language": "python"
    },
    "language_info": {
      "codemirror_mode": {
        "name": "python",
        "version": 3
      },
      "file_extension": ".py",
      "mimetype": "text/x-python",
      "name": "python",
      "nbconvert_exporter": "python",
      "pygments_lexer": "ipython3",
      "version": "3.8"
    }
  },
  "nbformat_minor": 5,
  "nbformat": 4,
  "cells": [
    {
      "id": "70e8a560",
      "cell_type": "markdown",
      "source": "# Kontrollstrukturen\n\nIn diesem Kapitel lernst du die grundlegenden Kontrollstrukturen in Python kennen.",
      "metadata": {}
    },
    {
      "id": "4ebddcb1",
      "cell_type": "markdown",
      "source": "## if-elif-else\n\nMit `if`-Bedingungen kannst du Entscheidungen im Programmfluss treffen.\n\n**Beachte:**\n- Python verwendet Einrückungen (Indentation), um Blöcke zu definieren.\n- Es werden keine geschweiften Klammern `{}` verwendet.",
      "metadata": {}
    },
    {
      "id": "f9961025",
      "cell_type": "markdown",
      "source": "### if",
      "metadata": {}
    },
    {
      "id": "6d9dba67",
      "cell_type": "code",
      "source": "x = 10\nif x > 5:\n    print('x ist größer als 5')",
      "metadata": {
        "trusted": true
      },
      "outputs": [
        {
          "name": "stdout",
          "output_type": "stream",
          "text": "x ist größer als 5\n"
        }
      ],
      "execution_count": 1
    },
    {
      "id": "d6d22645",
      "cell_type": "markdown",
      "source": "### if-else",
      "metadata": {}
    },
    {
      "id": "0348b0fd",
      "cell_type": "code",
      "source": "x = 3\nif x > 5:\n    print('x ist größer als 5')\nelse:\n    print('x ist 5 oder kleiner')",
      "metadata": {
        "trusted": true
      },
      "outputs": [
        {
          "name": "stdout",
          "output_type": "stream",
          "text": "x ist 5 oder kleiner\n"
        }
      ],
      "execution_count": 2
    },
    {
      "id": "3157f089",
      "cell_type": "markdown",
      "source": "### if-elif-else",
      "metadata": {}
    },
    {
      "id": "9fe49997",
      "cell_type": "code",
      "source": "x = 7\nif x > 10:\n    print('x ist größer als 10')\nelif x > 5:\n    print('x ist größer als 5, aber nicht größer als 10')\nelse:\n    print('x ist 5 oder kleiner')",
      "metadata": {
        "trusted": true
      },
      "outputs": [
        {
          "name": "stdout",
          "output_type": "stream",
          "text": "x ist größer als 5, aber nicht größer als 10\n"
        }
      ],
      "execution_count": 3
    },
    {
      "id": "753e21a1",
      "cell_type": "markdown",
      "source": "## if shorthand\n\nDer Ternary Operator ermöglicht kurze if-else Ausdrücke.",
      "metadata": {}
    },
    {
      "id": "c2689b4e",
      "cell_type": "code",
      "source": "age = 18\nstatus = 'volljährig' if age >= 18 else 'minderjährig'\nprint(status)",
      "metadata": {
        "trusted": true
      },
      "outputs": [
        {
          "name": "stdout",
          "output_type": "stream",
          "text": "volljährig\n"
        }
      ],
      "execution_count": 4
    },
    {
      "id": "00e42ffa-d841-4647-845f-9ceab34319a2",
      "cell_type": "code",
      "source": "a = 5\nb = 3\n\nx = 10 if a > b else 1  # better readable\ny = a > b and 10 or 1   # style more like java or other languages\n\nprint(x)\nprint(y)",
      "metadata": {
        "collapsed": false,
        "jupyter": {
          "outputs_hidden": false
        },
        "trusted": true
      },
      "outputs": [
        {
          "name": "stdout",
          "output_type": "stream",
          "text": "10\n10\n"
        }
      ],
      "execution_count": 5
    },
    {
      "id": "d29bd241",
      "cell_type": "markdown",
      "source": "## match-case (seit Python 3.10)\n\nDie `match`-Anweisung ermöglicht Pattern Matching und ist eine erweiterte Form von `switch-case` aus anderen Programmiersprachen. Es ist eine alternative zu if-elif-else-Ketten.",
      "metadata": {}
    },
    {
      "id": "7e689b6d",
      "cell_type": "code",
      "source": "command = 'start'\n\nmatch command:\n    case 'start':\n        print('Programm startet...')\n    case 'stop':\n        print('Programm stoppt...')\n    case _:\n        print('Unbekannter Befehl')",
      "metadata": {
        "trusted": true
      },
      "outputs": [
        {
          "name": "stdout",
          "output_type": "stream",
          "text": "Programm startet...\n"
        }
      ],
      "execution_count": 6
    },
    {
      "id": "413c4e7f",
      "cell_type": "markdown",
      "source": "## for loop\n\nDie `for`-Schleifen werden verwendet, um über Sequenzen (Listen, Strings, etc.) zu iterieren.",
      "metadata": {}
    },
    {
      "id": "44bdb78b",
      "cell_type": "markdown",
      "source": "### for",
      "metadata": {}
    },
    {
      "id": "1adc31dc",
      "cell_type": "code",
      "source": "words = [\"winter\",\"is\",\"coming\"]\n\nfor word in words:\n    print(word)",
      "metadata": {
        "trusted": true
      },
      "outputs": [
        {
          "name": "stdout",
          "output_type": "stream",
          "text": "winter\nis\ncoming\n"
        }
      ],
      "execution_count": 7
    },
    {
      "id": "9edae212-6aca-4562-8c02-c9faf14717b4",
      "cell_type": "markdown",
      "source": "### for reversed",
      "metadata": {
        "collapsed": false,
        "jupyter": {
          "outputs_hidden": false
        }
      }
    },
    {
      "id": "771d380b-16fc-4307-b2cd-bc406a9da646",
      "cell_type": "code",
      "source": "words = [\"coming\",\"is\",\"winter\"]\n\nfor word in reversed(words):\n    print(word)",
      "metadata": {
        "collapsed": false,
        "jupyter": {
          "outputs_hidden": false
        },
        "trusted": true
      },
      "outputs": [
        {
          "name": "stdout",
          "output_type": "stream",
          "text": "winter\nis\ncoming\n"
        }
      ],
      "execution_count": 8
    },
    {
      "id": "76a2e876-c4a0-401e-8846-a3650166d1ae",
      "cell_type": "markdown",
      "source": "### for enumerate\n\nDie Funktion `enumerate` gibt sowohl den Index als auch den Wert der Elemente in einer Sequenz zurück.",
      "metadata": {
        "collapsed": false,
        "jupyter": {
          "outputs_hidden": false
        }
      }
    },
    {
      "id": "5514163d-c07c-47f6-ae0b-fd30c7ba524f",
      "cell_type": "code",
      "source": "words = [\"winter\",\"is\",\"coming\"]\nfor index, word in enumerate(words):    # use multiple loop-variables\n    print(index, word)",
      "metadata": {
        "collapsed": false,
        "jupyter": {
          "outputs_hidden": false
        },
        "trusted": true
      },
      "outputs": [
        {
          "name": "stdout",
          "output_type": "stream",
          "text": "0 winter\n1 is\n2 coming\n"
        }
      ],
      "execution_count": 9
    },
    {
      "id": "e30961d4-d752-4eaa-9837-d18660e2fc52",
      "cell_type": "markdown",
      "source": "### for range",
      "metadata": {
        "collapsed": false,
        "jupyter": {
          "outputs_hidden": false
        }
      }
    },
    {
      "id": "d3d04a28-b44e-4d58-96b0-642d8cd6f899",
      "cell_type": "code",
      "source": "for i in range(3):                     # range(n) -> 0, 1, 2, ..., n-1\n    print(i)",
      "metadata": {
        "collapsed": false,
        "jupyter": {
          "outputs_hidden": false
        },
        "trusted": true
      },
      "outputs": [
        {
          "name": "stdout",
          "output_type": "stream",
          "text": "0\n1\n2\n"
        }
      ],
      "execution_count": 10
    },
    {
      "id": "973711e6-343e-4083-be7e-e8dd2ce9f52b",
      "cell_type": "markdown",
      "source": "**for range with start, stop, step**\n\n- start: Anfangswert (inklusive)\n- stop: Endwert (exklusive)\n- step: Schrittweite",
      "metadata": {
        "collapsed": false,
        "jupyter": {
          "outputs_hidden": false
        }
      }
    },
    {
      "id": "46d580f4-738f-4455-a500-af6a32fb715b",
      "cell_type": "code",
      "source": "for i in range(1, 10, 2):               # range(start, stop, step)\n    print(i)",
      "metadata": {
        "collapsed": false,
        "jupyter": {
          "outputs_hidden": false
        },
        "trusted": true
      },
      "outputs": [
        {
          "name": "stdout",
          "output_type": "stream",
          "text": "1\n3\n5\n7\n9\n"
        }
      ],
      "execution_count": 11
    },
    {
      "id": "52bcc3b2-171e-4152-b215-1610e085344b",
      "cell_type": "markdown",
      "source": "### for zip\nDie Funktion `zip` erlaubt es, über mehrere Sequenzen gleichzeitig zu iterieren.",
      "metadata": {
        "collapsed": false,
        "jupyter": {
          "outputs_hidden": false
        }
      }
    },
    {
      "id": "0efdbd18-1185-4b5a-aa2b-c57e885ff9d9",
      "cell_type": "code",
      "source": "names = [\"Peter\", \"Jane\", \"Fred\"]\nages = [31, 35, 4]\n\nfor name, age in zip(names, ages):      # use multiple loop-variables\n    print(name, \"is\", age)",
      "metadata": {
        "collapsed": false,
        "jupyter": {
          "outputs_hidden": false
        },
        "trusted": true
      },
      "outputs": [
        {
          "name": "stdout",
          "output_type": "stream",
          "text": "Peter is 31\nJane is 35\nFred is 4\n"
        }
      ],
      "execution_count": 12
    },
    {
      "id": "85ce6bf4",
      "cell_type": "markdown",
      "source": "## list comprehension\n\nList Comprehension ermöglicht den Einsatz einer kompakten Syntax (Anstelle eines for Loop) für die Erstellung einer neuen Liste basierend auf Werten einer bestehenden Liste. Mit List Comprehensions können Listen elegant erstellt oder gefiltert werden.",
      "metadata": {}
    },
    {
      "id": "68e6066a-f547-4b2e-a50d-2732749f5f6e",
      "cell_type": "code",
      "source": "fruits = [\"apple\", \"banana\", \"cherry\", \"kiwi\", \"mango\"]\n\n# konventioneller loop\na_fruits = []\n\nfor fruit in fruits:\n    if \"a\" in fruit:\n        a_fruits.append(fruit)\n\nprint(a_fruits)",
      "metadata": {
        "collapsed": false,
        "jupyter": {
          "outputs_hidden": false
        },
        "trusted": true
      },
      "outputs": [
        {
          "name": "stdout",
          "output_type": "stream",
          "text": "['apple', 'banana', 'mango']\n"
        }
      ],
      "execution_count": 13
    },
    {
      "id": "e76d1624",
      "cell_type": "code",
      "source": "fruits = [\"apple\", \"banana\", \"cherry\", \"kiwi\", \"mango\"]\n\n# list comprehension\na_fruits = [fruit for fruit in fruits if \"a\" in fruit]\n\nprint(a_fruits)",
      "metadata": {
        "trusted": true
      },
      "outputs": [
        {
          "name": "stdout",
          "output_type": "stream",
          "text": "['apple', 'banana', 'mango']\n"
        }
      ],
      "execution_count": 14
    },
    {
      "id": "64bc3837",
      "cell_type": "markdown",
      "source": "## while loop\nDie `while`-Schleife wiederholt Anweisungen solange die Bedingung True ist.",
      "metadata": {}
    },
    {
      "id": "e2055948",
      "cell_type": "code",
      "source": "n = 3\nwhile n > 0:\n    print('Countdown:', n)\n    n = n-1",
      "metadata": {
        "trusted": true
      },
      "outputs": [
        {
          "name": "stdout",
          "output_type": "stream",
          "text": "Countdown: 3\nCountdown: 2\nCountdown: 1\n"
        }
      ],
      "execution_count": 15
    },
    {
      "id": "3661aa8d-dde3-4d99-997e-db607c6e7b38",
      "cell_type": "code",
      "source": "data = [1, 5, 4, 3, 4, 1, 8]\nsum = 0\n\ni = 0\nwhile (i < len(data)):\n    value = data[i]\n    sum = sum + value\n    i = i+1;\n\nprint(data)\nprint(sum)",
      "metadata": {
        "collapsed": false,
        "jupyter": {
          "outputs_hidden": false
        },
        "trusted": true
      },
      "outputs": [
        {
          "name": "stdout",
          "output_type": "stream",
          "text": "[1, 5, 4, 3, 4, 1, 8]\n26\n"
        }
      ],
      "execution_count": 16
    },
    {
      "id": "c70c352a-1bab-4ffd-8669-8bb0ae9c3074",
      "cell_type": "markdown",
      "source": "## break und continue\n\nMit `break` und `continue` kannst du den Ablauf von Schleifen beeinflussen.",
      "metadata": {
        "collapsed": false,
        "jupyter": {
          "outputs_hidden": false
        }
      }
    },
    {
      "id": "27e1b805-289c-4067-a8ac-8bc36dbf1da7",
      "cell_type": "markdown",
      "source": "### break\n\nMit der `break`-Anweisung kannst du eine Schleife vorzeitig beenden auch wenn die Schleifenbedingung noch True ist.",
      "metadata": {
        "collapsed": false,
        "jupyter": {
          "outputs_hidden": false
        }
      }
    },
    {
      "id": "636314c5-3aab-40c4-a3b1-d60968ce7804",
      "cell_type": "code",
      "source": "for i in range(10):\n    if i == 5:\n        print(\"Schleife wird bei i=5 abgebrochen\")\n        break\n    print(i)",
      "metadata": {
        "collapsed": false,
        "jupyter": {
          "outputs_hidden": false
        },
        "trusted": true
      },
      "outputs": [
        {
          "name": "stdout",
          "output_type": "stream",
          "text": "0\n1\n2\n3\n4\nSchleife wird bei i=5 abgebrochen\n"
        }
      ],
      "execution_count": 17
    },
    {
      "id": "172b4112-47b9-4348-be92-2b32257c6377",
      "cell_type": "markdown",
      "source": "### continue\n\nMit der `continue`-Anweisung kannst du den aktuellen Schleifendurchlauf überspringen und mit dem nächsten fortfahren.",
      "metadata": {
        "collapsed": false,
        "jupyter": {
          "outputs_hidden": false
        }
      }
    },
    {
      "id": "af3f704c-99ef-4d46-adac-a7ef6eeecd10",
      "cell_type": "code",
      "source": "for i in range(6):\n    if i % 2 == 0:\n        continue  # gerade Zahlen überspringen\n    print(i)\n",
      "metadata": {
        "collapsed": false,
        "jupyter": {
          "outputs_hidden": false
        },
        "trusted": true
      },
      "outputs": [
        {
          "name": "stdout",
          "output_type": "stream",
          "text": "1\n3\n5\n"
        }
      ],
      "execution_count": 18
    },
    {
      "id": "aeea7792-cccc-413c-b499-877eddb6a33c",
      "cell_type": "markdown",
      "source": "# Aufgaben",
      "metadata": {
        "collapsed": false,
        "jupyter": {
          "outputs_hidden": false
        }
      }
    },
    {
      "id": "f7c7df0d-dfc2-4274-bbe6-7969d683017d",
      "cell_type": "markdown",
      "source": "### Note\n- Erstellen Sie das Script, das eine Note im Bereich 1-6 als Ganzahl einliest.\n  Dazu müssen sie die Eingabe mit einem Cast auf einen Int konvertieren.\n- Prüfen Sie die eingelesene Note und falls diese grösser oder gleich 4 ist, geben Sie\n  folgenden Text aus: „Der Test ist bestanden“\n- Falls die Note kleiner 4 ist geben Sie den Text „Der Test ist nicht bestanden“ aus.\n- Starten Sie das Script mit verschiedenen Werten und prüfen Sie die Ausgabe.\n- Ergänzen Sie die bisherige Ausgabe nun noch mit einer detaillierten Angabe der Bewertung:\n  - Note 6: sehr gut\n  - Note 5: gut\n  - Note 4: genügend\n  - allen anderen Fälle: ungenügend\n\n**Hinweis:**\n- Zum einlesen einer Eingabe können Sie (analog dem folgenden Beispiel) die Methode input() verwenden:\n  ```\n  eingabe = input(\"Geben Sie bitte einen Text ein:\")\n  ```\n\n**Zusatz:**\n- Damit Ihr Programm auch bei falschen Eingaben nicht abstürzt, soll am Anfang geprüft werden,\n  ob ein Parameter eingegeben wurde und ob dieser einen korrekten Wertebereich aufweist.\n- Falls keine Zahl übergeben wurde machen Sie folgende Ausgabe und beenden Sie\n  das Programm mit exit: \"Falscher Aufruf: Bitte übergeben Sie eine Zahl!\"\n- Falls der eingegebene Werte nicht zwischen 1..6 liegt, machen Sie folgende Ausgabe und\n  beenden Sie das Programm: \"Falscher Wert: Die Note muss einen Wert zwischen 1..6 haben!\"\n",
      "metadata": {
        "collapsed": false,
        "jupyter": {
          "outputs_hidden": false
        }
      }
    },
    {
      "id": "367fb7b4-8c9a-4547-ad63-eff5ad507eb3",
      "cell_type": "code",
      "source": "# Eingabe\n# input = input(\"Note = \")",
      "metadata": {
        "collapsed": false,
        "jupyter": {
          "outputs_hidden": false
        },
        "trusted": true
      },
      "outputs": [],
      "execution_count": 19
    },
    {
      "id": "7e952225-8f3f-46d9-a9da-7bed4314052c",
      "cell_type": "code",
      "source": "",
      "metadata": {
        "collapsed": false,
        "jupyter": {
          "outputs_hidden": false
        },
        "trusted": true
      },
      "outputs": [],
      "execution_count": null
    },
    {
      "id": "08c14cfb-10e7-41ca-9287-b43bd1a4ad2c",
      "cell_type": "code",
      "source": "",
      "metadata": {
        "collapsed": false,
        "jupyter": {
          "outputs_hidden": false
        },
        "trusted": true
      },
      "outputs": [],
      "execution_count": null
    },
    {
      "id": "778acd7d-00d7-417c-b26b-ef6455b0c9e5",
      "cell_type": "markdown",
      "source": "## Modulo\n- Erstellen sie ein Script dass nacheinander alle ungeraden Zahlen zwischen 1 und 30.\n- Verwenden sie dazu ein while und den Modulo Operator `%`.",
      "metadata": {
        "collapsed": false,
        "jupyter": {
          "outputs_hidden": false
        }
      }
    },
    {
      "id": "3e2d86b0-6de7-4e3f-b530-517872cf31db",
      "cell_type": "code",
      "source": "",
      "metadata": {
        "collapsed": false,
        "jupyter": {
          "outputs_hidden": false
        },
        "trusted": true
      },
      "outputs": [],
      "execution_count": null
    },
    {
      "id": "cc2242cb-f047-40ca-a933-5eb8537135a2",
      "cell_type": "markdown",
      "source": "## Quadrat\n- Erstellen Sie ein Script, dass das in einer Schleife alle Quadratzahlen ausgibt.\n- Die Schleife soll solange durchlaufen werden, wie die berechnete Quadratzahl kleiner oder gleich 15 ist.\n- Beispiel Ausgabe:\n  ```\n  1 x 1 = 1\n  2 x 2 = 4\n  usw.\n  ```\n",
      "metadata": {
        "collapsed": false,
        "jupyter": {
          "outputs_hidden": false
        }
      }
    },
    {
      "id": "a8fff25c-ec98-4e85-a6e4-f537c7d7d5d6",
      "cell_type": "code",
      "source": "",
      "metadata": {
        "collapsed": false,
        "jupyter": {
          "outputs_hidden": false
        },
        "trusted": true
      },
      "outputs": [],
      "execution_count": null
    },
    {
      "id": "9b7ff86e-1e60-4d6d-98df-bcb8adeb91cc",
      "cell_type": "markdown",
      "source": "## Group\n\n- Erstellen Sie ein Script mit der folgenden gemischten Liste: [7.5, 'Hello', 42, None, 'World', 1.25, 69, 12]\n- Gruppieren Sie die Listeneinträge in drei verschiedene Listen für Ganzzahlen, Gleitkomma und String Typen.\n- Geben Sie das Resultat auf der Konsole aus.\n- Beispiel Ausgabe:\n  ```\n  values  = [7.5, 'Hello', 42, None, 'World', 1.25, 69, 12]\n  - int   = [42, 69, 12]\n  - float = [7.5, 1.25]\n  - str   = ['Hello', 'World']\n  ```",
      "metadata": {
        "collapsed": false,
        "jupyter": {
          "outputs_hidden": false
        }
      }
    },
    {
      "id": "fa91bf85-de01-44b2-8913-05b409ac76d1",
      "cell_type": "code",
      "source": "values = [7.5, \"Hello\", 42, None, \"World\", 1.25, 69, 12]",
      "metadata": {
        "collapsed": false,
        "jupyter": {
          "outputs_hidden": false
        },
        "trusted": true
      },
      "outputs": [],
      "execution_count": 20
    },
    {
      "id": "a61f4fa9-62cc-43a6-ac5e-170e5a81859c",
      "cell_type": "code",
      "source": "",
      "metadata": {
        "collapsed": false,
        "jupyter": {
          "outputs_hidden": false
        },
        "trusted": true
      },
      "outputs": [],
      "execution_count": null
    }
  ]
}