{
  "metadata": {
    "kernelspec": {
      "name": "python",
      "display_name": "Python (Pyodide)",
      "language": "python"
    },
    "language_info": {
      "codemirror_mode": {
        "name": "python",
        "version": 3
      },
      "file_extension": ".py",
      "mimetype": "text/x-python",
      "name": "python",
      "nbconvert_exporter": "python",
      "pygments_lexer": "ipython3",
      "version": "3.8"
    }
  },
  "nbformat_minor": 5,
  "nbformat": 4,
  "cells": [
    {
      "id": "a9a6e8a8b443e378",
      "cell_type": "markdown",
      "source": "# NumPy\n\n[NumPy](https://numpy.org/) is the fundamental package for scientific computing with Python.\n\nWarum NumPy? \n- Python-Listen sind flexibel, aber langsam bei vielen numerischen Operationen.\n- NumPy bietet den ndarray-Datentyp: ein schnelles, speichereffizientes Array-Objekt.\n- Viele mathematische Operationen werden in C implementiert, was NumPy extrem performant macht.\n- Arrays können mehrdimensional sein (z. B. Vektoren, Matrizen, Tensoren).\n",
      "metadata": {}
    },
    {
      "id": "e3f3b103fd5d11a2",
      "cell_type": "markdown",
      "source": "## Grundlagen",
      "metadata": {}
    },
    {
      "id": "b76099425e25d0f4",
      "cell_type": "code",
      "source": "import numpy as np\n\n# Array erstellen aus Python-Liste\na = np.array([1, 2, 3, 4, 5])\nprint(\"Array      :\", a)\nprint(\"Datentyp   :\", a.dtype)\nprint(\"Dimensionen:\", a.ndim)\nprint(\"Grösse     :\", a.size)\nprint(\"Form       :\", a.shape)\n",
      "metadata": {
        "ExecuteTime": {
          "end_time": "2025-09-06T09:45:33.279892Z",
          "start_time": "2025-09-06T09:45:33.274358Z"
        },
        "trusted": true
      },
      "outputs": [
        {
          "name": "stdout",
          "output_type": "stream",
          "text": "Array      : [1 2 3 4 5]\nDatentyp   : int32\nDimensionen: 1\nGrösse     : 5\nForm       : (5,)\n"
        }
      ],
      "execution_count": 1
    },
    {
      "id": "9a8e74401c29856a",
      "cell_type": "markdown",
      "source": "## Arrays erzeugen",
      "metadata": {}
    },
    {
      "id": "b98bee4dd9576ae",
      "cell_type": "code",
      "source": "print(\"Array mit Nullen  :\", np.zeros((2, 3)))\nprint(\"Array mit Einsen  :\", np.ones((3, 3)))\nprint(\"Array von 0 bis 9 :\", np.arange(10))\nprint(\"Array 10x 0 bis 1 :\", np.linspace(0, 1, 10))\n",
      "metadata": {
        "ExecuteTime": {
          "end_time": "2025-09-06T09:49:15.790941Z",
          "start_time": "2025-09-06T09:49:15.785936Z"
        },
        "trusted": true
      },
      "outputs": [
        {
          "name": "stdout",
          "output_type": "stream",
          "text": "Array mit Nullen  : [[0. 0. 0.]\n [0. 0. 0.]]\nArray mit Einsen  : [[1. 1. 1.]\n [1. 1. 1.]\n [1. 1. 1.]]\nArray von 0 bis 9 : [0 1 2 3 4 5 6 7 8 9]\nArray 10x 0 bis 1 : [0.         0.11111111 0.22222222 0.33333333 0.44444444 0.55555556\n 0.66666667 0.77777778 0.88888889 1.        ]\n"
        }
      ],
      "execution_count": 2
    },
    {
      "id": "2180371f2d03fc24",
      "cell_type": "markdown",
      "source": "## Mathematische Operationen\n\nMit Numpy können mathematische Operationen per Element ausgeführt werden:",
      "metadata": {}
    },
    {
      "id": "b05f697e5c08c5c6",
      "cell_type": "code",
      "source": "a = np.array([1, 2, 3, 4, 5])\nprint(\"a + 10 :\", a + 10)\nprint(\"a * 2  :\", a * 2)\nprint(\"a ** 2 :\", a ** 2)\nprint(\"Sinus  :\", np.sin(a))\n",
      "metadata": {
        "ExecuteTime": {
          "end_time": "2025-09-06T09:50:31.583817Z",
          "start_time": "2025-09-06T09:50:31.567997Z"
        },
        "trusted": true
      },
      "outputs": [
        {
          "name": "stdout",
          "output_type": "stream",
          "text": "a + 10 : [11 12 13 14 15]\na * 2  : [ 2  4  6  8 10]\na ** 2 : [ 1  4  9 16 25]\nSinus  : [ 0.84147098  0.90929743  0.14112001 -0.7568025  -0.95892427]\n"
        }
      ],
      "execution_count": 3
    },
    {
      "id": "928a4a0db5fd29bc",
      "cell_type": "code",
      "source": "# Operationen mit Numpy Arrays erfolgen per Element:\n\na = np.array([20,30,40,50] )\nb = np.array([10,12,20,35] )\nc = a-b\n\nprint(a)\nprint(b)\nprint(c)",
      "metadata": {
        "ExecuteTime": {
          "end_time": "2025-09-06T09:53:14.680857Z",
          "start_time": "2025-09-06T09:53:14.665924Z"
        },
        "trusted": true
      },
      "outputs": [
        {
          "name": "stdout",
          "output_type": "stream",
          "text": "[20 30 40 50]\n[10 12 20 35]\n[10 18 20 15]\n"
        }
      ],
      "execution_count": 4
    },
    {
      "id": "b7cd2024d6ec5194",
      "cell_type": "markdown",
      "source": "## Mehrdimensonale Arrays (Matrizen)",
      "metadata": {}
    },
    {
      "id": "6bf147f41d3c5b29",
      "cell_type": "code",
      "source": "m = np.array([[1, 2, 3], [4, 5, 6]])\nprint(\"Matrix:\\n\", m)\n\n# Transponieren\nprint(\"Transponiert:\\n\", m.T)\n\n# Matrixmultiplikation\nn = np.array([[1, 0, 0], [0, 1, 0], [0, 0, 1]])\nprint(\"Matrixprodukt:\\n\", m.dot(n))\n",
      "metadata": {
        "ExecuteTime": {
          "end_time": "2025-09-06T09:26:10.412421Z",
          "start_time": "2025-09-06T09:26:10.400623Z"
        },
        "trusted": true
      },
      "outputs": [
        {
          "name": "stdout",
          "output_type": "stream",
          "text": "Matrix:\n [[1 2 3]\n [4 5 6]]\nTransponiert:\n [[1 4]\n [2 5]\n [3 6]]\nMatrixprodukt:\n [[1 2 3]\n [4 5 6]]\n"
        }
      ],
      "execution_count": 5
    },
    {
      "id": "6eb16d37a2397e7d",
      "cell_type": "markdown",
      "source": "## Slicing\n\nAnalog der Python Listen können auch mit Numpy Array Selektionen von Elementen mit Hilfe von Slicing erfolgen.",
      "metadata": {}
    },
    {
      "id": "371e91a0a2c2bca3",
      "cell_type": "code",
      "source": "x = np.array( [[1, 2, 3], [4, 5, 6], [7, 8, 9]])\n\nprint(\"Matrix:\\n\", x)\n\n\nprint(\"Erste Zeile   :\",x[0, :]) # first line\nprint(\"Erste Spalte  :\",x[:, 0]) # first column\nprint(\"Erstes Element:\",x[0, 0]) # first element of first column\n\nprint(\"Erste 2 Elemente der 2ten Spalte:\", x[0:2,1]) # first 2 elements of 2nd column",
      "metadata": {
        "ExecuteTime": {
          "end_time": "2025-09-06T10:00:57.380423Z",
          "start_time": "2025-09-06T10:00:57.365512Z"
        },
        "trusted": true
      },
      "outputs": [
        {
          "name": "stdout",
          "output_type": "stream",
          "text": "Matrix:\n [[1 2 3]\n [4 5 6]\n [7 8 9]]\nErste Zeile   : [1 2 3]\nErste Spalte  : [1 4 7]\nErstes Element: 1\nErste 2 Elemente der 2ten Spalte: [2 5]\n"
        }
      ],
      "execution_count": 6
    },
    {
      "id": "d2957a875c18cedd",
      "cell_type": "markdown",
      "source": "## Statistiken",
      "metadata": {}
    },
    {
      "id": "f7446aed9e554696",
      "cell_type": "code",
      "source": "x = np.random.randint(0, 100, size=10)\nprint(\"Array             :\", x)\nprint(\"Mittelwert        :\", np.mean(x))\nprint(\"Standardabweichung:\", np.std(x))\nprint(\"Maximum           :\", np.max(x))\nprint(\"Index des Maximums:\", np.argmax(x))\n",
      "metadata": {
        "ExecuteTime": {
          "end_time": "2025-09-06T09:55:30.146908Z",
          "start_time": "2025-09-06T09:55:30.133650Z"
        },
        "trusted": true
      },
      "outputs": [
        {
          "name": "stdout",
          "output_type": "stream",
          "text": "Array             : [ 9 78 58 94 85 47 42  6 89 37]\nMittelwert        : 54.5\nStandardabweichung: 30.309239515368905\nMaximum           : 94\nIndex des Maximums: 3\n"
        }
      ],
      "execution_count": 7
    },
    {
      "id": "312a4418f794e8f8",
      "cell_type": "markdown",
      "source": "# Aufgaben",
      "metadata": {}
    },
    {
      "id": "2186adf87ae849b6",
      "cell_type": "markdown",
      "source": "## Calculations\n\nFühren sie folgenden Aufgaben aus:\n\n**Berechnungen:**\n- Erstellen Sie die folgenden drei Numpy Arrays.\n  - a = [20,30,40,50]\n  - b = [10,15,10,75]\n  - c = [17,12,-3,52]\n- Berechnen Sie elementweise:\n  - x = a - b\n  - y = x + c\n- Geben Sie die Resultate auf der Konsole aus.\n\n**6er Reihe:**\n- Erstellen Sie einen Numpy Array mit den Werten der 6er Reihe (verwenden Sie dazu die Range Funktion).\n- Berechnen Sie folgende Werte und geben Sie diese auf der Konsole aus:\n  - Minimum\n  - Maximum\n  - Mittelwert\n  - Standardabweichung\n\n**Lottozahlen:**\n- Erstellen Sie mit der Numpy Funktion ranom.randint() sechs Zufallszahlen im Bereich von 1 bis 45.\n- Jede Zufallszahl darf nur einmal vorkommen in der generierten Liste.\n- Geben Sie die Zahlen auf der Konsole aus.\n\nBeispiel Ausgabe:\n```\nBerechnungen:\nx: [ 10  15  30 -25]\ny: [27 27 27 27]\n\n6er Reihe: [ 6 12 18 24 30 36 42 48 54 60]\nMinimum: 6\nMaximum: 60\nMittelwert: 33.0\nStandardabweichung: 17.233687939614086\n\nLottozahlen:\n{34, 3, 8, 43, 18, 25}\n```\n",
      "metadata": {}
    },
    {
      "id": "1951786c0c8b129f",
      "cell_type": "code",
      "source": "",
      "metadata": {
        "ExecuteTime": {
          "end_time": "2025-09-06T11:32:04.647591Z",
          "start_time": "2025-09-06T11:32:04.632179Z"
        },
        "trusted": true
      },
      "outputs": [],
      "execution_count": null
    },
    {
      "id": "dfe027254bdb8268",
      "cell_type": "markdown",
      "source": "## Performance\n\nIn diesem Beispiel wollen wir die Performance von Numpy Operationen mit Standard Python vergleichen. Dazu lösen wir folgende Aufabe:\n\n1. Erzeuge eine Liste mit 5 Millionen Einträgen, wobei jeder Eintrag ein Tupel aus 5 Zufallszahlen (0–100) ist.\n2. Summiere die 5 Spalten einmal mit reinem Python (verschachtelte Schleifen).\n3. Summiere die 5 Spalten ein zweites Mal mit NumPy (np.sum).\n4. Miss und vergleiche die Ausführungszeit beider Varianten.\n5. Überlege: Warum ist NumPy deutlich schneller?\n\nTipps:\n- Verwende das Modul time, um die Laufzeit mit time.time() zu messen.\n- Erstelle die Zufallsdaten mit einer List-Comprehension und random.randint().\n- Zum Summieren in Python kannst du eine Liste mit 5 Nullen anlegen und in einer Schleife Zeile für Zeile addieren.\n- In NumPy kannst du die Liste einfach in ein np.array umwandeln und mit np.sum(arr, axis=0) die Spalten aufsummieren.\n- Denke daran, die Ergebnisse (Summen und Zeit in Sekunden) am Ende auszugeben.",
      "metadata": {}
    },
    {
      "id": "cc6b25b205e4042f",
      "cell_type": "code",
      "source": "import time\nimport random\nimport numpy as np\n\n# \n# Testdaten (5 Millionen Einträge mit je 5 Zufallszahlen zwischen 0..100)\n#\nn = 5_000_000\ndata = [(random.randint(0, 100),\n         random.randint(0, 100),\n         random.randint(0, 100),\n         random.randint(0, 100),\n         random.randint(0, 100)) for _ in range(n)]\n\ndata_np = np.array(data)   # Umwandeln in NumPy Array\n\n\n# \n# Summe mit Python bilden und Zeit messen\n# \n\n\n# \n# Summe mit NumPy bilden und Zeit messen\n# \n",
      "metadata": {
        "ExecuteTime": {
          "end_time": "2025-09-06T11:28:36.378571Z",
          "start_time": "2025-09-06T11:28:19.050889Z"
        },
        "trusted": true
      },
      "outputs": [],
      "execution_count": 8
    },
    {
      "id": "cde341be-0f63-47e4-88f0-449d6e6fa7e7",
      "cell_type": "code",
      "source": "",
      "metadata": {
        "trusted": true
      },
      "outputs": [],
      "execution_count": null
    }
  ]
}