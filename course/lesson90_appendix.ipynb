{
  "metadata": {
    "kernelspec": {
      "name": "python",
      "display_name": "Python (Pyodide)",
      "language": "python"
    },
    "language_info": {
      "codemirror_mode": {
        "name": "python",
        "version": 3
      },
      "file_extension": ".py",
      "mimetype": "text/x-python",
      "name": "python",
      "nbconvert_exporter": "python",
      "pygments_lexer": "ipython3",
      "version": "3.8"
    }
  },
  "nbformat_minor": 5,
  "nbformat": 4,
  "cells": [
    {
      "id": "faca7af10ae693b2",
      "cell_type": "markdown",
      "source": "# Anhang",
      "metadata": {}
    },
    {
      "id": "c845a3f7ecbf50d1",
      "cell_type": "markdown",
      "source": "## Weitere Beispiele",
      "metadata": {}
    },
    {
      "id": "5417a88de7c9770b",
      "cell_type": "markdown",
      "source": "### Fruitbasket\n\nMit dieser Übung soll das Thema **Operator Overloading** in Python anhand von einem praktischen Beispiel erörtert werden. Dazu wollen wir eine Klasse `Fruchtkorb` erstellen, die verschiedene Früchte enthält und die Addition von zwei Körben sowohl über den `+` Operator als auch über eine alternative Methode `.add()` ermöglicht.\n\nÖffnen sie dazu das Notebook **lesson91_lab_fruitbasket.ipynb** und folgen sie den Anweisungen.",
      "metadata": {
        "collapsed": false,
        "jupyter": {
          "outputs_hidden": false
        }
      }
    },
    {
      "id": "70152eb582b8fb40",
      "cell_type": "markdown",
      "source": "### Rest\n\nMit dieser Übung soll eine REST Schnittstelle via das `request` Modul von Python aufgerufen werden. Zuerst folgt eine kurze Einführung in das HTTP Protokoll mit Code Beispielen. Anschliessend folgt eine kleine Aufgabe.\n\nÖffnen sie dazu das Notebook **lesson92_lab_rest.ipynb** und folgen sie den Anweisungen.",
      "metadata": {}
    },
    {
      "id": "3e453a3f1871051c",
      "cell_type": "markdown",
      "source": "### Tree\nMit dieser Übung vertiefen Sie Ihre Kenntnisse im Umgang mit Python Klassen und Funktionen. Im speziellen mit Rekursion und einem alternativen Lösungsansatz.\n\nÖffnen sie dazu das Notebook **lesson93_lab_tree.ipynb** und folgen sie den Anweisungen.",
      "metadata": {}
    },
    {
      "id": "f1eebebf28cc4938",
      "cell_type": "markdown",
      "source": "### Books\n\nMit dieser Übung vertiefen Sie Ihre Kenntnisse im Umgang mit Dateien und der Datenverarbeitung in Python mit dem `csv`-Modul.\n\nÖffnen sie dazu das Notebook **lesson94_lab_books.ipynb** und folgen sie den Anweisungen.",
      "metadata": {}
    }
  ]
}