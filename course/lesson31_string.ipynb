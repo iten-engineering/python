{
  "metadata": {
    "kernelspec": {
      "name": "xpython",
      "display_name": "Python 3.13 (XPython)",
      "language": "python"
    },
    "language_info": {
      "file_extension": ".py",
      "mimetype": "text/x-python",
      "name": "python",
      "version": "3.13.1"
    }
  },
  "nbformat_minor": 5,
  "nbformat": 4,
  "cells": [
    {
      "id": "b8840ff6-eeb6-4fa5-b6b4-01277b429b32",
      "cell_type": "markdown",
      "source": "# String\n\nEin **String** (Zeichenkette) ist in Python eine geordnete Folge von Zeichen. Strings werden typischerweise verwendet, um Text zu speichern und zu verarbeiten – z. B. Namen, Sätze, Dateien oder sogar Zahlen in Textform.\n\nStrings können in Python mit **einfachen** ('...') oder **doppelten** (\"...\") Anführungszeichen erstellt werden. Für mehrzeilige Texte können auch **dreifache Anführungszeichen** ('''...''' oder \"\"\"...\"\"\") verwendet werden.\n\nWichtige Eigenschaften von Strings:\n\n- Unveränderlich (immutable): Ein String kann nach seiner Erstellung nicht direkt verändert werden. Stattdessen wird ein neuer String erzeugt.\n\n- Indexierbar und durchsuchbar: Man kann mit Indexen (mystring[0]) auf einzelne Zeichen zugreifen oder Teilstücke (Slicing) extrahieren.\n\n- Vielfältige Operationen: Strings unterstützen viele nützliche Methoden wie upper(), lower(), split(), replace() und mehr.\n",
      "metadata": {}
    },
    {
      "id": "b9c949f5-97c9-4e86-af4c-57f41f643e8b",
      "cell_type": "markdown",
      "source": "## Initialisierung",
      "metadata": {}
    },
    {
      "id": "b7280d01-6198-4e8a-8429-8d97b2c46362",
      "cell_type": "code",
      "source": "quote = '\"Titanic\" is a cool movie.'\nprint(quote)\n\ndoublequote = \"'Titanic' is a cool movie\"\nprint(doublequote)\n\nescape = 'I\\'m hungry'\nprint(escape)\n\nmultilines = \"\"\"This is going...\n...over multiples lines\"\"\"\nprint(multilines)",
      "metadata": {
        "trusted": true
      },
      "outputs": [
        {
          "name": "stdout",
          "output_type": "stream",
          "text": "\"Titanic\" is a cool movie.\n'Titanic' is a cool movie\nI'm hungry\nThis is going...\n...over multiples lines\n"
        }
      ],
      "execution_count": 1
    },
    {
      "id": "a123033f-2369-496d-9a79-a33c96f7d2fc",
      "cell_type": "markdown",
      "source": "## Formatierung",
      "metadata": {}
    },
    {
      "id": "e73b28bb-d4bc-49cc-839b-87441afe1435",
      "cell_type": "markdown",
      "source": "### Format",
      "metadata": {}
    },
    {
      "id": "855f0ebf-6d39-4564-b800-d5e5a5ca1724",
      "cell_type": "markdown",
      "source": "**Formatierung im C-Stil**\n\nMit `%`wird die Position einer Variablen definiert",
      "metadata": {}
    },
    {
      "id": "7722aff6-7b4a-4bd5-b9d7-0201e5d92718",
      "cell_type": "code",
      "source": "name = \"Lea\"\nday = \"Monday\"\n\ngreeting = \"Hello %s, i wish you a pleasant %s.\"%(name, day)\nprint(greeting)",
      "metadata": {
        "trusted": true
      },
      "outputs": [
        {
          "name": "stdout",
          "output_type": "stream",
          "text": "Hello Lea, i wish you a pleasant Monday.\n"
        }
      ],
      "execution_count": 2
    },
    {
      "id": "986e82c5-a172-44a7-a1bb-be552e2b470a",
      "cell_type": "markdown",
      "source": "**Formatierung mit str.format()**\n\nAb Python 2.6 kann mit der String Funktion `format()` gearbeitet werden. Hier können die Parameter mit `{}` angegeben werden.",
      "metadata": {}
    },
    {
      "id": "67a2264b-5f24-414a-9ae5-bd01e6890fef",
      "cell_type": "code",
      "source": "greeting = \"Hello {}, i wish you a pleasant {}.\".format(name, day)\nprint(greeting)",
      "metadata": {
        "trusted": true
      },
      "outputs": [
        {
          "name": "stdout",
          "output_type": "stream",
          "text": "Hello Lea, i wish you a pleasant Monday.\n"
        }
      ],
      "execution_count": 3
    },
    {
      "id": "dc83faab-bd0e-43bc-98db-9ec7916ee801",
      "cell_type": "markdown",
      "source": "Es sind auch Varianten mit Postionsnummer oder Namen möglich:",
      "metadata": {}
    },
    {
      "id": "ed2ed49d-f7ab-4cd0-8d97-9ef652fa69d7",
      "cell_type": "code",
      "source": "print(\"i have {} {}\".format(1,\"cat\"))\nprint(\"i have {1} {0}\".format(\"cats\",2))\nprint(\"i have {count} {animal}\".format(count=3, animal=\"cats\"))",
      "metadata": {
        "trusted": true
      },
      "outputs": [
        {
          "name": "stdout",
          "output_type": "stream",
          "text": "i have 1 cat\ni have 2 cats\ni have 3 cats\n"
        }
      ],
      "execution_count": 4
    },
    {
      "id": "2765c25f-4959-452d-9601-ea337ee5d50e",
      "cell_type": "markdown",
      "source": "**Formatierung mit f-strings**\n\nAb Python 3.6 können Strings mit `f-Prefix` direkt Variablen auflösen. Hier können die Parameter direkt mit `{variable}` angegeben werden.",
      "metadata": {}
    },
    {
      "id": "e309f628-3998-4971-b8d9-f8c79958034a",
      "cell_type": "code",
      "source": "greeting = f\"Hello {name}, i wish you a pleasant {day}.\"\nprint(greeting)",
      "metadata": {
        "trusted": true
      },
      "outputs": [
        {
          "name": "stdout",
          "output_type": "stream",
          "text": "Hello Lea, i wish you a pleasant Monday.\n"
        }
      ],
      "execution_count": 5
    },
    {
      "id": "c4455759-15f7-4e8b-94b3-8145348ace3c",
      "cell_type": "markdown",
      "source": "### Breite und Genauigkeit",
      "metadata": {}
    },
    {
      "id": "9620c268-2efd-45d4-815b-3981df3f99a1",
      "cell_type": "code",
      "source": "from math import pi\n\nprint(pi)",
      "metadata": {
        "trusted": true
      },
      "outputs": [
        {
          "name": "stdout",
          "output_type": "stream",
          "text": "3.141592653589793\n"
        }
      ],
      "execution_count": 6
    },
    {
      "id": "bdd74cec-bcfd-48c5-9274-24e2195d056e",
      "cell_type": "markdown",
      "source": "**Positionierung: {variable:breite.genauigkeit}**\n\nBeachte dass die Gesammtbreite angegeben werden muss.",
      "metadata": {}
    },
    {
      "id": "0794fa14-1418-4ff7-bb36-ac23db598038",
      "cell_type": "code",
      "source": "print(f\"{pi:.2f}\")",
      "metadata": {
        "trusted": true
      },
      "outputs": [
        {
          "name": "stdout",
          "output_type": "stream",
          "text": "3.14\n"
        }
      ],
      "execution_count": 7
    },
    {
      "id": "6c27baec-ceaf-4855-981d-1ea0a1dca00b",
      "cell_type": "markdown",
      "source": "### Führende Nullen",
      "metadata": {}
    },
    {
      "id": "4497f607-240c-422f-8b50-aa6531e5fecf",
      "cell_type": "markdown",
      "source": "**Führende Nullen: {variable:0breite.genauigkeit]**\n\nEs können auch andere Zeichen anstelle der 0 eingesetzt werden (z.B. ein Leerschalg).",
      "metadata": {}
    },
    {
      "id": "6c8d81e9-a288-4585-af06-beeefdafcc85",
      "cell_type": "code",
      "source": "x = 100.25\ny = 55.2\n\nprint(f\"{x:06.2f}\")\nprint(f\"{y:06.2f}\")",
      "metadata": {
        "trusted": true
      },
      "outputs": [
        {
          "name": "stdout",
          "output_type": "stream",
          "text": "100.25\n055.20\n"
        }
      ],
      "execution_count": 8
    },
    {
      "id": "10090858-9eec-45ea-9f41-f383b3a72e04",
      "cell_type": "markdown",
      "source": "### Ausrichtung\n\nMit den folgenden Zeichen (als Prefix for der Breite) kann die Ausrichtung bestimmt werden:\n- `>` rechts\n- `<` links\n- `^` zentriert",
      "metadata": {},
      "attachments": {}
    },
    {
      "id": "09d67cf0-34fb-4b91-8e67-cf6a394e3a39",
      "cell_type": "code",
      "source": "s = \"pi={:>10.2}\".format(pi)        # rechts\nprint(\"[\", s, \"]\", sep=\"\")\ns = \"pi={:<10.2}\".format(pi)        # links\nprint(\"[\", s, \"]\", sep=\"\")\ns = \"pi={:^10.2}\".format(pi)        # centriert\nprint(\"[\", s, \"]\", sep=\"\")",
      "metadata": {
        "trusted": true
      },
      "outputs": [
        {
          "name": "stdout",
          "output_type": "stream",
          "text": "[pi=       3.1]\n[pi=3.1       ]\n[pi=   3.1    ]\n"
        }
      ],
      "execution_count": 9
    },
    {
      "id": "f8733ae7-7b49-475a-b402-ec92206a9146",
      "cell_type": "markdown",
      "source": "## Suchen und Ersetzen",
      "metadata": {}
    },
    {
      "id": "152de83e-79cd-406c-ad1f-9fc5f3448e61",
      "cell_type": "markdown",
      "source": "### find, rfind\n\nSuche nach einem Character oder Text innerhalb von einem String. Gibt die erste (find) oder letzte (rfind) Postion zurück.\n",
      "metadata": {},
      "attachments": {}
    },
    {
      "id": "18e0cf40-e14f-4afb-98fa-addb0b49f81a",
      "cell_type": "code",
      "source": "text = \"this and that\"\nsearch = \"th\"\n\nfirst_pos = text.find(search)       \t\t\nlast_pos = text.rfind(search)\n\nprint(f\"Erste  Position von '{search}': {first_pos}\")\nprint(f\"Letzte Position von '{search}': {last_pos}\")\n",
      "metadata": {
        "trusted": true
      },
      "outputs": [
        {
          "name": "stdout",
          "output_type": "stream",
          "text": "Erste  Position von 'th': 0\nLetzte Position von 'th': 9\n"
        }
      ],
      "execution_count": 10
    },
    {
      "id": "fc83b2ae-0744-4233-b474-7b184dd0ebe7",
      "cell_type": "markdown",
      "source": "### startswith, endswith, in\n\nPrüfung ob ein Character oder Text innerhalb von einen String vorkommt. Als Resultat erhält man `True` oder `False`.",
      "metadata": {},
      "attachments": {}
    },
    {
      "id": "ff9a307d-0af7-4749-ac00-7b469179616a",
      "cell_type": "code",
      "source": "text = \"Hallo Welt\"\nif text.startswith(\"Hallo\"):\n    print(\"Der Text beginnt mit 'Hallo'.\")",
      "metadata": {
        "trusted": true
      },
      "outputs": [
        {
          "name": "stdout",
          "output_type": "stream",
          "text": "Der Text beginnt mit 'Hallo'.\n"
        }
      ],
      "execution_count": 11
    },
    {
      "id": "4c1e77b5-0b1c-4687-af13-ea0c4b11664b",
      "cell_type": "code",
      "source": "file = \"Bericht.pdf\"\nif file.endswith(\".pdf\"):\n    print(\"Die Datei endet mit '.pdf'.\")",
      "metadata": {
        "trusted": true
      },
      "outputs": [
        {
          "name": "stdout",
          "output_type": "stream",
          "text": "Die Datei endet mit '.pdf'.\n"
        }
      ],
      "execution_count": 12
    },
    {
      "id": "31c25974-a172-40af-a266-b7965b819073",
      "cell_type": "code",
      "source": "text = \"Das Wetter ist schön heute.\"\nif \"schön\" in text:\n    print(\"Das Wort 'schön' ist im Text enthalten.\")",
      "metadata": {
        "trusted": true
      },
      "outputs": [
        {
          "name": "stdout",
          "output_type": "stream",
          "text": "Das Wort 'schön' ist im Text enthalten.\n"
        }
      ],
      "execution_count": 13
    },
    {
      "id": "6491b180-710f-4fad-b8d2-7e612dea2d08",
      "cell_type": "markdown",
      "source": "### replace\n",
      "metadata": {},
      "attachments": {}
    },
    {
      "id": "5bc2f39a-707a-4ed6-8308-3c7438f933af",
      "cell_type": "code",
      "source": "fall = \"Fall is coming\"\nwinter = fall.replace(\"Fall\", \"Winter\")\n\nprint(fall)\nprint(winter)",
      "metadata": {
        "trusted": true
      },
      "outputs": [
        {
          "name": "stdout",
          "output_type": "stream",
          "text": "Fall is coming\nWinter is coming\n"
        }
      ],
      "execution_count": 14
    },
    {
      "id": "dfc24aa2-b5af-4163-90d2-6f25bd16f822",
      "cell_type": "markdown",
      "source": "## Text Operationen\n",
      "metadata": {},
      "attachments": {}
    },
    {
      "id": "44519ee8-ef6a-4ae7-8f90-0b88cc0669b7",
      "cell_type": "markdown",
      "source": "### split, join\n\nText teilen mit `split` oder zusammenführen mit `join`.",
      "metadata": {}
    },
    {
      "id": "ba843e33-fa00-440e-befb-1b2c183832dd",
      "cell_type": "code",
      "source": "text = \"Hallo Welt, willkommen zu Python\"\ntokens = text.split(\" \")\nprint(tokens)  ",
      "metadata": {
        "trusted": true
      },
      "outputs": [
        {
          "name": "stdout",
          "output_type": "stream",
          "text": "['Hallo', 'Welt,', 'willkommen', 'zu', 'Python']\n"
        }
      ],
      "execution_count": 15
    },
    {
      "id": "af05ab62-0e3e-4473-bab8-f0dc17e8e19b",
      "cell_type": "code",
      "source": "words = ['Python', 'is', 'cool']\nsentence = \" \".join(words)\nprint(sentence) ",
      "metadata": {
        "trusted": true
      },
      "outputs": [
        {
          "name": "stdout",
          "output_type": "stream",
          "text": "Python is cool\n"
        }
      ],
      "execution_count": 16
    },
    {
      "id": "6d046d09-028c-43ab-a64e-bb071980c0e1",
      "cell_type": "markdown",
      "source": "### strip, lstrip, rstrip\n\nEntfernt Leerzeichen oder andere angegebene Zeichen am Anfang und/oder Ende eines Strings.",
      "metadata": {}
    },
    {
      "id": "2f5acd56-5c00-4bd6-9f41-4ba26df65baa",
      "cell_type": "code",
      "source": "t1 = \"  some text 1   \".strip()\nt2 = \"__some text 2___\".strip(\"_\")\nt3 = \"  some text 3  \".lstrip()     \nt4 = \"  some text 4  \".rstrip()\n\nprint(f\"[{t1}]\")\nprint(f\"[{t2}]\")\nprint(f\"[{t3}]\")\nprint(f\"[{t4}]\")",
      "metadata": {
        "trusted": true
      },
      "outputs": [
        {
          "name": "stdout",
          "output_type": "stream",
          "text": "[some text 1]\n[some text 2]\n[some text 3  ]\n[  some text 4]\n"
        }
      ],
      "execution_count": 17
    },
    {
      "id": "2ed5d621-7aee-4a9c-b999-351cbd85afd7",
      "cell_type": "markdown",
      "source": "### ljust, center, rjust\n\nFüllt einen String von rechts, links oder auf beiden Seiten mit Leerzeichen oder einem angegebenen Zeichen auf, um eine bestimmte Breite zu erreichen.",
      "metadata": {}
    },
    {
      "id": "c42de972-4d46-4979-9d28-57ac250257f1",
      "cell_type": "code",
      "source": "s1 = \"expand text\".ljust(20)\ns2 = \"expand text\".rjust(20)\ns3 = \"expand text\".center(20, \"-\")\n\nprint(f\"[{s1}]\")\nprint(f\"[{s2}]\")\nprint(f\"[{s3}]\")",
      "metadata": {
        "trusted": true
      },
      "outputs": [
        {
          "name": "stdout",
          "output_type": "stream",
          "text": "[expand text         ]\n[         expand text]\n[----expand text-----]\n"
        }
      ],
      "execution_count": 18
    },
    {
      "id": "0c57353a-bc3b-4ec8-9ed2-15151d48dbe0",
      "cell_type": "markdown",
      "source": "# Aufgaben",
      "metadata": {}
    },
    {
      "id": "fa075cae-fc4a-4f86-8d90-dc1392617a89",
      "cell_type": "markdown",
      "source": "## Prozent\n\nSchreibe ein Programm, das die Umsätze für die Schweiz, EU und die überigen Länder in Prozent rechnet und alle Angaben wie folgt ausgibt:\n\n```code \nUmsatz Total =  150000.00 (100.00%)\nUmsatz CH    =   79231.00 ( 52.82%)\nUmsatz EU    =   65769.00 ( 43.85%)\nUmsatz übrige=    5000.00 (  3.33%)\n```\n",
      "metadata": {}
    },
    {
      "id": "e0537c72-51b9-401f-a941-4158475f616f",
      "cell_type": "code",
      "source": "# Umsätze\numsatz_total = 150000\numsatz_ch = 79231\numsatz_eu = 65769\numsatz_rest = umsatz_total - umsatz_ch - umsatz_eu\n",
      "metadata": {
        "trusted": true
      },
      "outputs": [],
      "execution_count": 19
    },
    {
      "id": "bdd38722-3a94-4ca7-b75a-a67565a42df4",
      "cell_type": "markdown",
      "source": "## Sortierung\n\nSchreibe ein Programm, das die Aufzählung der Tiere \n1. in eine eine Liste von Tiernamen aufspaltet,\n3. die Einträge in alphabetischer Reihenfolge sortiert (dazu gibt es die Funktion `sort`)\n4. die Liste der sortierten Tiernamen ausgibt mit `print`",
      "metadata": {}
    },
    {
      "id": "9bbd4861-c39d-4756-85ea-a7eccf5e9472",
      "cell_type": "code",
      "source": "animals = \"Hund,Katze,Elefant,Löwe,Tiger,Giraffe,Zebra,Bär,Känguru,Delfin\"\n",
      "metadata": {
        "trusted": true
      },
      "outputs": [],
      "execution_count": 20
    }
  ]
}