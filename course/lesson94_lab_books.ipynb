{
  "metadata": {
    "kernelspec": {
      "name": "python",
      "display_name": "Python (Pyodide)",
      "language": "python"
    },
    "language_info": {
      "codemirror_mode": {
        "name": "python",
        "version": 3
      },
      "file_extension": ".py",
      "mimetype": "text/x-python",
      "name": "python",
      "nbconvert_exporter": "python",
      "pygments_lexer": "ipython3",
      "version": "3.8"
    }
  },
  "nbformat_minor": 5,
  "nbformat": 4,
  "cells": [
    {
      "id": "faca7af10ae693b2",
      "cell_type": "markdown",
      "source": "# Übung Books\n\nMit dieser Übung vertiefen Sie Ihre Kenntnisse im Umgang mit Dateien und der Datenverarbeitung in Python mit dem `csv`-Modul.\n\n",
      "metadata": {}
    },
    {
      "id": "e50b8318-ac1d-4b4f-8f90-d191ba4cd2f2",
      "cell_type": "markdown",
      "source": "## Vorbereitung\n\nZum Lesen und Schreiben von CSV Dateien stellt **Python das Modul `csv`** zur Verfügung. Schauen sie sich das Beispiel **read and write csv with standard libraries** unter [File Beispiele](https://github.com/iten-engineering/python/blob/main/example/04-file/file.py) an und machen Sie sich mit dem Modul vertraut.\n",
      "metadata": {
        "collapsed": false,
        "jupyter": {
          "outputs_hidden": false
        }
      }
    },
    {
      "id": "f1eebebf28cc4938",
      "cell_type": "markdown",
      "source": "\n## Aufgabe\n\n- Lesen Sie die Textdatei `lesson91_lab_books.txt` ein.\n- Diese enthält Bücherdaten in der fogenden Form:\n  ```\n  ISBN\n  Title\n  Author\n  Publisher\n\n  978-0-316-45742-2\n  The Coast-To-Coast Murders\n  James Patterson\n  Little Brown USA\n\n  978-0-525-95498-9\n  ...\n  ```\n- Erstellen Sie nun eine Liste von Einträgen. Jeder Eintrag beinhaltet die Daten eines \"Blocks\" und ist\n  selber auch wieder eine Liste, wie nachfolgend dargestellt. \n  ```\n  ['ISBN', 'Title', 'Author', 'Publisher']\n  ['978-0-316-45742-2', 'The Coast-To-Coast Murders', 'James Patterson', 'Little Brown USA']\n  u.s.w.  \n  ```\n- Speichern sie die aufbereiteten Daten im CSV Format ab.\n- Beispiel `lesson91_lab_books.csv`:\n  ```\n  ISBN,Title,Author,Publisher\n  978-0-316-45742-2,The Coast-To-Coast Murders,James Patterson,Little Brown USA\n  978-0-525-95498-9,The Evening and the Morning,Ken Follett,Penguin LCC US\n  978-1-250-14523-9,All the Devils Are Here,Louise Penny,Macmillan USA\n  ```\n",
      "metadata": {}
    },
    {
      "id": "08e1a3ef-1773-4961-9e28-f88511e13106",
      "cell_type": "markdown",
      "source": "## Lösung",
      "metadata": {
        "collapsed": false,
        "jupyter": {
          "outputs_hidden": false
        }
      }
    },
    {
      "id": "27a3649c84989d4a",
      "cell_type": "code",
      "source": "\nimport csv\n\ntext_file = \"lesson94_lab_books.txt\"\ncsv_file = \"lesson94_lab_books.csv\"\n",
      "metadata": {
        "ExecuteTime": {
          "end_time": "2025-09-03T20:56:03.864229Z",
          "start_time": "2025-09-03T20:56:03.859248Z"
        },
        "trusted": true
      },
      "outputs": [],
      "execution_count": null
    },
    {
      "id": "44b2d94bf935f29a",
      "cell_type": "code",
      "source": "\n\n",
      "metadata": {
        "ExecuteTime": {
          "end_time": "2025-09-03T20:56:17.869327Z",
          "start_time": "2025-09-03T20:56:17.859306Z"
        },
        "trusted": true
      },
      "outputs": [],
      "execution_count": null
    }
  ]
}