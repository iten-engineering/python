{
  "metadata": {
    "kernelspec": {
      "name": "xpython",
      "display_name": "Python 3.13 (XPython)",
      "language": "python"
    },
    "language_info": {
      "file_extension": ".py",
      "mimetype": "text/x-python",
      "name": "python",
      "version": "3.13.1"
    }
  },
  "nbformat_minor": 5,
  "nbformat": 4,
  "cells": [
    {
      "id": "35b8a1b8-50f9-4f41-a0a2-d93dad3cc42e",
      "cell_type": "markdown",
      "source": "# List & Tuples\n\nPython kennt verschiedene **Sequenztypen**, um mehrere Werte in einer geordneten Struktur zu speichern. Die zwei wichtigsten sind:\n\n- **Liste** (list)\n  - eine geordnete, veränderbare Sammlung von Elementen\n  - unterstützt unterschiedliche Datentypen und ist sehr flexibel\n- **Tupel** (tuple)\n  - eine geordnete, unveränderbare Sammlung von Elementen\n  - wird oft genutzt, wenn Daten nach der Initialisierung nicht mehr verändert werden sollen\n\nBeide Strukturen erlauben den Zugriff auf Elemente über Index und können verschachtelt werden.\n\n**Mutable vs. Immutable**\n\n- **Mutable** (veränderlich)\n  - Objekte, deren Inhalt nach der Erstellung verändert werden kann\n  - Änderungen wirken sich auf **alle Variablen** aus, die auf dieses Objekt zeigen\n  - Beispiele: list, set, dict\n- **Immutable** (unveränderlich)\n  - Objekte, deren Inhalt nach der Erstellung **nicht verändert** werden kann\n  - Jede „Änderung“ erzeugt ein **neues Objekt**\n  - Beispiele: tuple, str, int",
      "metadata": {}
    },
    {
      "id": "7c591cc6-d2e3-40ac-8ccc-f6e2d0f9bb6c",
      "cell_type": "markdown",
      "source": "**Beispiel: List(mutable)**",
      "metadata": {}
    },
    {
      "id": "c1dab94d-90c1-4aca-9a1a-08fac7c26f0e",
      "cell_type": "code",
      "source": "l = [1,2,3]              # List class list() is mutable\nl[1] = 22                # works fine\n\nprint(l)",
      "metadata": {
        "trusted": true
      },
      "outputs": [
        {
          "name": "stdout",
          "output_type": "stream",
          "text": "[1, 22, 3]\n"
        }
      ],
      "execution_count": 1
    },
    {
      "id": "3973785e-0fa1-4a42-a044-f647e2dfa361",
      "cell_type": "markdown",
      "source": "**Beispiel: Tuple (immutable)**",
      "metadata": {}
    },
    {
      "id": "e1527cec-4c13-4551-8c22-acd826075046",
      "cell_type": "code",
      "source": "# Immutable Tuple:\nt = (1,2,3)              # Tuple class tuple() is immutable\n# t[1] = 22              # raises TypeError\n\nprint(t)",
      "metadata": {
        "trusted": true
      },
      "outputs": [
        {
          "name": "stdout",
          "output_type": "stream",
          "text": "(1, 2, 3)\n"
        }
      ],
      "execution_count": 2
    },
    {
      "id": "e220331d-c59e-448f-aded-c3c83d4c3fde",
      "cell_type": "markdown",
      "source": "## Initialisierung ",
      "metadata": {}
    },
    {
      "id": "38fa9ae0-9f06-4cd9-ad74-27eba5ed4bfd",
      "cell_type": "markdown",
      "source": "**list**",
      "metadata": {}
    },
    {
      "id": "eef42fdc-f232-45f0-888d-b89c8c8827a7",
      "cell_type": "code",
      "source": "l1 = []                          # []\nl2 = [1,2,3]                     # [1, 2, 3]\nl3 = list(\"abc\")                 # ['a', 'b', 'c']\nl4 = list(range(4))              # [0,1,2,3]\n\nprint(type(l1))\nprint(l1)\nprint(l2)\nprint(l3)\nprint(l4)",
      "metadata": {
        "trusted": true
      },
      "outputs": [
        {
          "name": "stdout",
          "output_type": "stream",
          "text": "<class 'list'>\n[]\n[1, 2, 3]\n['a', 'b', 'c']\n[0, 1, 2, 3]\n"
        }
      ],
      "execution_count": 3
    },
    {
      "id": "85cea32c-003e-4cc4-b076-fe9f312cbe2b",
      "cell_type": "markdown",
      "source": "**tuple**",
      "metadata": {}
    },
    {
      "id": "6a15790c-25ce-4bd8-917d-dd3ee3edd9f2",
      "cell_type": "code",
      "source": "t = (1,2,3)\n\nprint(type(t))\nprint(t)",
      "metadata": {
        "trusted": true
      },
      "outputs": [
        {
          "name": "stdout",
          "output_type": "stream",
          "text": "<class 'tuple'>\n(1, 2, 3)\n"
        }
      ],
      "execution_count": 4
    },
    {
      "id": "af6eb679-5c7c-48f3-8dd0-c485b223296c",
      "cell_type": "markdown",
      "source": "## List Operationen",
      "metadata": {}
    },
    {
      "id": "aeca97f4-75e7-43d7-87b9-07dd8bb51c38",
      "cell_type": "markdown",
      "source": "### read (index)\n\nVia Index können einzelne Elemente gelesen werden\n- Der Index beginnt bei 0 für das erste Element\n- Der Index endet bei der Anzahl Elemente minus 1 für das letzte Element\n- Mit einem negativen Index können Elemente vom Ende her direkt referenziert werden\n- Index -1 referenziert das letzte Element\n- Index -2 das zweitletzte Element, usw.\n\n> Das lesen von Elementen bei Tuple funktioniert gleich wie die folgenden Beispiel für Listen. ",
      "metadata": {}
    },
    {
      "id": "0d983d49-034c-41e7-9134-a999784c921b",
      "cell_type": "code",
      "source": "numbers = [1,2,3,4,5,6,7,8,9,10]\n\nprint(numbers[0])     # erstes Element\nprint(numbers[1])     # zweites Element\n\nprint(numbers[-2])    # zweitletztes element\nprint(numbers[-1])    # letztes element",
      "metadata": {
        "trusted": true
      },
      "outputs": [
        {
          "name": "stdout",
          "output_type": "stream",
          "text": "1\n2\n9\n10\n"
        }
      ],
      "execution_count": 5
    },
    {
      "id": "81f9ee5d-2c6d-4b20-aa1b-35fb8b75212c",
      "cell_type": "markdown",
      "source": "**Len**\n\nMit der Funktion `len` kann die Länge der Liste abgefragt werden. Möchte man auf das letzte Element der Liste zugreifen so kann auch len-1 dazu verwendet werden.",
      "metadata": {}
    },
    {
      "id": "0e907a9e-f6d8-4eeb-921b-2921021844f0",
      "cell_type": "code",
      "source": "n = len(numbers)\nprint(numbers[n-1])",
      "metadata": {
        "trusted": true
      },
      "outputs": [
        {
          "name": "stdout",
          "output_type": "stream",
          "text": "10\n"
        }
      ],
      "execution_count": 6
    },
    {
      "id": "9a3e63ae-569c-4d9d-b27f-f9f9151c0a2a",
      "cell_type": "markdown",
      "source": "### read (slicing)\n\nMit Slicing kann eine Teilmenge einer Liste selektiert werden. Die Syntax ist wie folgt, wobei die einzelnen Angaben optional sind.\n\nSyntax: **list[from : to : step]**\n\n- from = Startposition mit Defaultwert 0 (Start der Kollektion)\n- to = Endposition mit Defaultwert -1  (Ende der Kollektion)\n- step = Schrittgrösse für Elementselektion mit Defaultwert 1 (jedes Element)",
      "metadata": {}
    },
    {
      "id": "8d021677-4a4d-47bd-b6bf-fe7be4077ac1",
      "cell_type": "code",
      "source": "numbers = (1,2,3,4,5)\n\nprint( numbers[:3] )    # first 3 elements\nprint( numbers[-2:] )   # last 2 elements",
      "metadata": {
        "trusted": true
      },
      "outputs": [
        {
          "name": "stdout",
          "output_type": "stream",
          "text": "(1, 2, 3)\n(4, 5)\n"
        }
      ],
      "execution_count": 7
    },
    {
      "id": "51b76e49-a9fb-44df-8a8a-237c8068e651",
      "cell_type": "code",
      "source": "print( numbers[::2] )   # every 2nd element\nprint( numbers[1:10:2]) # every 2nd from 1 to 10\nprint( numbers[::] )    # all elements in sequence",
      "metadata": {
        "trusted": true
      },
      "outputs": [
        {
          "name": "stdout",
          "output_type": "stream",
          "text": "(1, 3, 5)\n(2, 4)\n(1, 2, 3, 4, 5)\n"
        }
      ],
      "execution_count": 8
    },
    {
      "id": "eb12144d-3849-4c4a-8acc-79515f959246",
      "cell_type": "code",
      "source": "first, second = numbers[:2]\nprint(first)\nprint(second)",
      "metadata": {
        "trusted": true
      },
      "outputs": [
        {
          "name": "stdout",
          "output_type": "stream",
          "text": "1\n2\n"
        }
      ],
      "execution_count": 9
    },
    {
      "id": "518c9afb-6ae7-4c53-b16a-91bd002a43ba",
      "cell_type": "markdown",
      "source": "### assign\n\nMit einer Zuweisung kann ein einzelner Wert direkt geändert werden.",
      "metadata": {}
    },
    {
      "id": "f1965004-8f2f-432e-a6a5-9e45ef6c5482",
      "cell_type": "code",
      "source": "numbers = [1,2,3,4,5]\nprint(numbers)\n\nnumbers[0] = 11\nnumbers[2] = 33\nnumbers[4] = 55\n\nprint(numbers)",
      "metadata": {
        "trusted": true
      },
      "outputs": [
        {
          "name": "stdout",
          "output_type": "stream",
          "text": "[1, 2, 3, 4, 5]\n[11, 2, 33, 4, 55]\n"
        }
      ],
      "execution_count": 10
    },
    {
      "id": "f27f29cd-cbc3-4380-bbac-7963837cd1e4",
      "cell_type": "markdown",
      "source": "### append\n\nDie Funktion `append(elem)` fügt das Element elem ans Ende der Liste.",
      "metadata": {}
    },
    {
      "id": "5537c74e-ac00-4c9d-b360-9c7dc256ce1c",
      "cell_type": "code",
      "source": "print(numbers)\n\nnumbers.append(6)            # einzelnes Element hinzufügen\nnumbers += [77, 8, 99]       # Liste mit Elementen hinzufügen\n\nprint(numbers)",
      "metadata": {
        "trusted": true,
        "scrolled": true
      },
      "outputs": [
        {
          "name": "stdout",
          "output_type": "stream",
          "text": "[11, 2, 33, 4, 55]\n[11, 2, 33, 4, 55, 6, 77, 8, 99]\n"
        }
      ],
      "execution_count": 11
    },
    {
      "id": "0f9ce79b-1ae4-4393-bac9-1510bbc6d3a1",
      "cell_type": "markdown",
      "source": "### insert\n\nDie Funktion `insert(pos, elem)` fügt das Element elem an der Position pos in die Liste ein.",
      "metadata": {}
    },
    {
      "id": "23df2f1f-978d-41f2-bd21-63d327bfd6a6",
      "cell_type": "code",
      "source": "greeting = [\"Hello\", \"world\"]\nprint(greeting)\n\ngreeting.insert(1, \"wonderful\")\nprint(greeting)",
      "metadata": {
        "trusted": true
      },
      "outputs": [
        {
          "name": "stdout",
          "output_type": "stream",
          "text": "['Hello', 'world']\n['Hello', 'wonderful', 'world']\n"
        }
      ],
      "execution_count": 12
    },
    {
      "id": "d8754cd8-1327-4b91-9d4d-30757a5369f3",
      "cell_type": "markdown",
      "source": "### extend\n\nMit der Funktion `extend(seq)` kann eine Kollektion von Elementen (list oder tuble) zu einer bestehenden Kollektion hinzugefügt werden.",
      "metadata": {}
    },
    {
      "id": "6ba1b734-8266-4adc-9181-3e977fddea49",
      "cell_type": "code",
      "source": "seq = ['Life','is','awesome']\n\ngreeting.extend(seq)\nprint(greeting)",
      "metadata": {
        "trusted": true
      },
      "outputs": [
        {
          "name": "stdout",
          "output_type": "stream",
          "text": "['Hello', 'wonderful', 'world', 'Life', 'is', 'awesome']\n"
        }
      ],
      "execution_count": 13
    },
    {
      "id": "18a5d0e8-7bf4-4a92-a743-c6105f65ca1d",
      "cell_type": "markdown",
      "source": "### pop\n\n- Mit `pop` ohne Angabe der Position, wird das letzte Element entfernt und zurückgegeben.\n- Mit Angabe der Position wird das Element an der entsprechenden Postion in der Liste (Start mit 0) entfernt.",
      "metadata": {}
    },
    {
      "id": "d8c320b0-9fed-4151-8466-176f71d07085",
      "cell_type": "code",
      "source": "items = [1, 2, 3, 4]\n\ne = items.pop()\nprint(e)                # 4\nprint(items)            # [1, 2, 3]",
      "metadata": {
        "trusted": true
      },
      "outputs": [
        {
          "name": "stdout",
          "output_type": "stream",
          "text": "4\n[1, 2, 3]\n"
        }
      ],
      "execution_count": 14
    },
    {
      "id": "f83a463f-eb61-4dc9-ba00-5427eb8a047e",
      "cell_type": "code",
      "source": "print(items)\n\ne = items.pop(1)\nprint(e)                # 2\n\nprint(items)            # [1, 3]",
      "metadata": {
        "trusted": true
      },
      "outputs": [
        {
          "name": "stdout",
          "output_type": "stream",
          "text": "[1, 2, 3]\n2\n[1, 3]\n"
        }
      ],
      "execution_count": 15
    },
    {
      "id": "39147e70-94c7-464e-9bd7-a7fdcec429d9",
      "cell_type": "markdown",
      "source": "### remove\n\n- Mit remove wird das angegebene Element (der Wert und nicht die Position) aus der Liste entfernt.\n- Wenn das Element mehrmals vorkommt, so wird der erste Eintrag gelöscht.",
      "metadata": {}
    },
    {
      "id": "db6707dc-0ed4-43c4-9135-aecead59641a",
      "cell_type": "code",
      "source": "items = [1, 2, 1, 7]\nitems.remove(1)\n\nprint(items)",
      "metadata": {
        "trusted": true
      },
      "outputs": [
        {
          "name": "stdout",
          "output_type": "stream",
          "text": "[2, 1, 7]\n"
        }
      ],
      "execution_count": 16
    },
    {
      "id": "044815a3-c641-49dd-b718-623f7cb97a21",
      "cell_type": "markdown",
      "source": "## Sortierung und Suche\n\nListen lassen sich nicht nur erweitern oder auslesen – man kann sie auch sortieren, umkehren und gezielt nach Elementen suchen. Dafür stellt Python praktische Methoden und Funktionen bereit.",
      "metadata": {}
    },
    {
      "id": "4c7d5a01-8b25-4e97-804c-2df32e85b68d",
      "cell_type": "markdown",
      "source": "### sort\n\nSortiert die Liste **in-place**, d. h. die ursprüngliche Liste wird direkt verändert. Mit dem Parameter reverse=True kann die Liste absteigend sortiert werden.",
      "metadata": {}
    },
    {
      "id": "628da768-33a2-443c-8021-90312472cc7f",
      "cell_type": "code",
      "source": "zahlen = [5, 2, 9, 1]\nzahlen.sort()\n\nprint(zahlen)   # [1, 2, 5, 9]",
      "metadata": {
        "trusted": true
      },
      "outputs": [
        {
          "name": "stdout",
          "output_type": "stream",
          "text": "[1, 2, 5, 9]\n"
        }
      ],
      "execution_count": 17
    },
    {
      "id": "464d6f9d-e6d8-42ae-9ffe-32b6fa4bfbc4",
      "cell_type": "code",
      "source": "zahlen = [5, 2, 9, 1]\nzahlen.sort(reverse=True)\n\nprint(zahlen)   # [9, 5, 2, 1]",
      "metadata": {
        "trusted": true
      },
      "outputs": [
        {
          "name": "stdout",
          "output_type": "stream",
          "text": "[9, 5, 2, 1]\n"
        }
      ],
      "execution_count": 18
    },
    {
      "id": "67a2b4b9-9c41-4b57-9331-9be09bf05b33",
      "cell_type": "markdown",
      "source": "### sorted \n\nGibt eine **neue sortierte Liste** zurück, **die Original-Liste bleibt unverändert**. Auch hier kann mit dem Parameter reverse die Liste absteigend sortiert werden.",
      "metadata": {}
    },
    {
      "id": "b3ce86a9-b9e9-4321-ab9c-53bb252ace4e",
      "cell_type": "code",
      "source": "zahlen = [5, 2, 9, 1, 5]\nneu = sorted(zahlen)\n\nprint(zahlen)   # unverändert\nprint(neu)      # sortiert",
      "metadata": {
        "trusted": true
      },
      "outputs": [
        {
          "name": "stdout",
          "output_type": "stream",
          "text": "[5, 2, 9, 1, 5]\n[1, 2, 5, 5, 9]\n"
        }
      ],
      "execution_count": 19
    },
    {
      "id": "16f46da2-2355-4d11-8f03-3780e8d167e1",
      "cell_type": "code",
      "source": "neu = sorted(zahlen, reverse=True)\n\nprint(neu)      # sortiert absteigend",
      "metadata": {
        "trusted": true
      },
      "outputs": [
        {
          "name": "stdout",
          "output_type": "stream",
          "text": "[9, 5, 5, 2, 1]\n"
        }
      ],
      "execution_count": 20
    },
    {
      "id": "fa41d35d-c215-47b5-840e-901e46a44cb4",
      "cell_type": "markdown",
      "source": "### reverse\n\nDreht die Reihenfolge der Elemente um.",
      "metadata": {}
    },
    {
      "id": "e345c9b6-6c4d-452d-aff9-96e0f438e0b3",
      "cell_type": "code",
      "source": "farben = [\"rot\", \"grün\", \"blau\"]\nfarben.reverse()\n\nprint(farben)   # ['blau', 'grün', 'rot']",
      "metadata": {
        "trusted": true
      },
      "outputs": [
        {
          "name": "stdout",
          "output_type": "stream",
          "text": "['blau', 'grün', 'rot']\n"
        }
      ],
      "execution_count": 21
    },
    {
      "id": "f93db36a-bcc1-4bfd-b203-795dede80c72",
      "cell_type": "markdown",
      "source": "### index\n\nGibt den Index des ersten Vorkommens eines Elements zurück.\nFalls das Element nicht vorhanden ist, wird ein Fehler (ValueError) ausgelöst.",
      "metadata": {}
    },
    {
      "id": "f52cb7df-cf23-474b-bd8e-adeb3a077623",
      "cell_type": "code",
      "source": "# Position (Index) des ersten Vorkommens\nprint(zahlen)\nprint(zahlen.index(9))  ",
      "metadata": {
        "trusted": true
      },
      "outputs": [
        {
          "name": "stdout",
          "output_type": "stream",
          "text": "[5, 2, 9, 1, 5]\n2\n"
        }
      ],
      "execution_count": 22
    },
    {
      "id": "1bfbbc14-71e6-44a9-b031-e31f227dd0e3",
      "cell_type": "markdown",
      "source": "### count\n\nZählt, wie oft ein bestimmtes Element vorkommt.",
      "metadata": {}
    },
    {
      "id": "b7414969-64dc-419a-b115-9e243e5ec64b",
      "cell_type": "code",
      "source": "# Anzahl der Vorkommen eines Werts\nprint(zahlen.count(5))  ",
      "metadata": {
        "trusted": true
      },
      "outputs": [
        {
          "name": "stdout",
          "output_type": "stream",
          "text": "2\n"
        }
      ],
      "execution_count": 23
    },
    {
      "id": "aedca9c0-2115-4c82-92ce-a3df5cc7fd1a",
      "cell_type": "markdown",
      "source": "## Aggregatsfunktionen\n\nAggregatsfunktionen fassen eine Liste zusammen oder liefern Werte aus ihr zurück. Sie helfen dabei, die Größe oder bestimmte Eigenschaften der Liste zu bestimmen.",
      "metadata": {}
    },
    {
      "id": "2d4bd260-32d0-4ac0-9577-660b9974c60c",
      "cell_type": "markdown",
      "source": "### len",
      "metadata": {}
    },
    {
      "id": "9139a11b-4e09-4be3-adb4-9bd233c8b191",
      "cell_type": "code",
      "source": "zahlen = [3, 7, 2, 9, 7]\n\n# Länge der Liste\nprint(len(zahlen)) ",
      "metadata": {
        "trusted": true
      },
      "outputs": [
        {
          "name": "stdout",
          "output_type": "stream",
          "text": "5\n"
        }
      ],
      "execution_count": 24
    },
    {
      "id": "0c63962b-4358-423d-badd-cd279b1352ad",
      "cell_type": "markdown",
      "source": "### min, max",
      "metadata": {}
    },
    {
      "id": "ae5dc170-29b8-4775-bde5-c904ad6d66b6",
      "cell_type": "code",
      "source": "# Kleinster Wert\nprint(min(zahlen))  \n\n# Größter Wert\nprint(max(zahlen))  ",
      "metadata": {
        "trusted": true
      },
      "outputs": [
        {
          "name": "stdout",
          "output_type": "stream",
          "text": "2\n9\n"
        }
      ],
      "execution_count": 25
    },
    {
      "id": "37d992c6-e126-4dbb-acfa-e04e77f9dfb8",
      "cell_type": "markdown",
      "source": "### sum\n\nGibt die Summe der Liste zurück.",
      "metadata": {}
    },
    {
      "id": "ced6d913-1635-4720-9579-c828bb547364",
      "cell_type": "code",
      "source": "print(sum(zahlen))  ",
      "metadata": {
        "trusted": true
      },
      "outputs": [
        {
          "name": "stdout",
          "output_type": "stream",
          "text": "28\n"
        }
      ],
      "execution_count": 26
    },
    {
      "id": "83402cf1-7ed1-4a19-8550-645d8c8526f6",
      "cell_type": "markdown",
      "source": "### average\nMit sum und len kann der Durchschittswert einer Liste berechnet werden:",
      "metadata": {}
    },
    {
      "id": "a81abc1d-9001-41be-aadc-f7791c105ab9",
      "cell_type": "code",
      "source": "average = sum(zahlen) / len(zahlen)\nprint(average)",
      "metadata": {
        "trusted": true
      },
      "outputs": [
        {
          "name": "stdout",
          "output_type": "stream",
          "text": "5.6\n"
        }
      ],
      "execution_count": 27
    },
    {
      "id": "9dce5c20-b67d-409b-ad53-533873305144",
      "cell_type": "markdown",
      "source": "## Logikfunktionen\n\nLogikfunktionen prüfen Bedingungen für Listen. Sie sind nützlich, wenn du herausfinden willst, ob bestimmte Elemente enthalten sind oder ob alle/irgendein Element eine Bedingung erfüllt.",
      "metadata": {}
    },
    {
      "id": "a1b37e7a-025a-4b34-a786-025a5f918939",
      "cell_type": "code",
      "source": "werte = [2, 4, 6, 8]",
      "metadata": {
        "trusted": true
      },
      "outputs": [],
      "execution_count": 28
    },
    {
      "id": "4578d376-0cd3-4f16-81cc-d71e6a37cbeb",
      "cell_type": "markdown",
      "source": "### all\n\nGibt True zurück, wenn alle Elemente der Sequenz seq True sind, sonst False.",
      "metadata": {},
      "attachments": {}
    },
    {
      "id": "a984286a-f4e6-4b53-9edc-80fa79f9f075",
      "cell_type": "code",
      "source": "# Alle Elemente sind gerade?\nprint(all(w % 2 == 0 for w in werte))  ",
      "metadata": {
        "trusted": true
      },
      "outputs": [
        {
          "name": "stdout",
          "output_type": "stream",
          "text": "True\n"
        }
      ],
      "execution_count": 29
    },
    {
      "id": "90209ce1-94f1-47b9-a4fa-5e34b8412e68",
      "cell_type": "markdown",
      "source": "### any\n\nGibt True zurück, wenn ein oder mehrere Elemente der Sequenz seq True sind, sonst False.",
      "metadata": {},
      "attachments": {}
    },
    {
      "id": "979cf860-f7ce-4e28-9c84-181281b9e826",
      "cell_type": "code",
      "source": "# Gibt es mindestens ein Element größer als 5?\nprint(any(w > 5 for w in werte)) ",
      "metadata": {
        "trusted": true
      },
      "outputs": [
        {
          "name": "stdout",
          "output_type": "stream",
          "text": "True\n"
        }
      ],
      "execution_count": 30
    },
    {
      "id": "9dd77d56-f666-4a41-b99c-49643925f1c8",
      "cell_type": "markdown",
      "source": "### in, not in\n\nPrüfung ob eine Element in der Liste vorkommt oder nicht.",
      "metadata": {},
      "attachments": {}
    },
    {
      "id": "85e5834f-3141-49ee-8734-7960a0b2184d",
      "cell_type": "code",
      "source": "print(4 in werte)  \nprint(5 not in werte)  ",
      "metadata": {
        "trusted": true
      },
      "outputs": [
        {
          "name": "stdout",
          "output_type": "stream",
          "text": "True\nTrue\n"
        }
      ],
      "execution_count": 31
    },
    {
      "id": "b846c696-7183-41ae-99df-5f242b361f78",
      "cell_type": "markdown",
      "source": "## Funktionale Operationen\n\nNeben klassischen Methoden wie append oder sort bietet Python auch mächtige Werkzeuge aus der funktionalen Programmierung. Diese erlauben es, Listen elegant und kompakt zu transformieren oder zu filtern.",
      "metadata": {}
    },
    {
      "id": "675e1e25-504a-4222-b3c9-90b6426e6856",
      "cell_type": "markdown",
      "source": "### Lambda Funktionen\n\nEine Lambda-Funktion ist eine anonyme Funktion, die direkt im Code definiert wird, ohne def zu verwenden. Sie eignet sich für kurze, einmalige Berechnungen.",
      "metadata": {}
    },
    {
      "id": "50c259c8-0671-477f-8a70-74bb344550b1",
      "cell_type": "code",
      "source": "# normale Funktion\ndef quadriere(x):\n    return x * x\n\n# Lambda-Funktion\nquadriere_lambda = lambda x: x * x\n\nprint(quadriere(5))        # Ausgabe: 25\nprint(quadriere_lambda(5)) # Ausgabe: 25",
      "metadata": {
        "trusted": true
      },
      "outputs": [
        {
          "name": "stdout",
          "output_type": "stream",
          "text": "25\n25\n"
        }
      ],
      "execution_count": 32
    },
    {
      "id": "4cbd8529-af4a-4726-b888-45208de07294",
      "cell_type": "markdown",
      "source": "### map\n\nDie Funktion map() wendet eine Funktion (z. B. eine Lambda-Funktion) auf jedes Element einer Liste an. Das Ergebnis ist ein Iterator, den man oft mit list() in eine Liste umwandelt.",
      "metadata": {}
    },
    {
      "id": "7bacd9e8-1ad0-4961-ba42-c2a5d8ca502b",
      "cell_type": "code",
      "source": "zahlen = [1, 2, 3, 4, 5]\n\n# Jedes Element quadrieren\nquadrate = list(map(lambda x: x * x, zahlen))\n\nprint(quadrate)  # Ausgabe: [1, 4, 9, 16, 25]",
      "metadata": {
        "trusted": true
      },
      "outputs": [
        {
          "name": "stdout",
          "output_type": "stream",
          "text": "[1, 4, 9, 16, 25]\n"
        }
      ],
      "execution_count": 33
    },
    {
      "id": "29495617-396a-413b-8e76-165309066d78",
      "cell_type": "markdown",
      "source": "### filter\n\nDie Funktion filter() behält nur die Elemente, die eine Bedingung erfüllen.",
      "metadata": {}
    },
    {
      "id": "f5fac711-8d17-46c2-a0d8-5d2b2ecbb134",
      "cell_type": "code",
      "source": "zahlen = [10, 15, 20, 25, 30]\n\n# Nur gerade Zahlen behalten\ngerade = list(filter(lambda x: x % 2 == 0, zahlen))\n\nprint(gerade)  # Ausgabe: [10, 20, 30]",
      "metadata": {
        "trusted": true
      },
      "outputs": [
        {
          "name": "stdout",
          "output_type": "stream",
          "text": "[10, 20, 30]\n"
        }
      ],
      "execution_count": 34
    },
    {
      "id": "23d54c1c-71ce-46b5-914c-033ea649910c",
      "cell_type": "markdown",
      "source": "### List comprehension\n\nMit List Comprehension lassen sich neue Listen besonders kompakt erzeugen. Sie kombiniert die Funktionalität von map und filter.",
      "metadata": {}
    },
    {
      "id": "76854d7e-fc54-4c2c-ad07-bd0cfae347b8",
      "cell_type": "code",
      "source": "zahlen = [1, 2, 3, 4, 5, 6]\n\n# Quadrat aller geraden Zahlen\nquadrate_gerade = [x * x for x in zahlen if x % 2 == 0]\n\nprint(quadrate_gerade)  # [4, 16, 36]\n",
      "metadata": {
        "trusted": true
      },
      "outputs": [
        {
          "name": "stdout",
          "output_type": "stream",
          "text": "[4, 16, 36]\n"
        }
      ],
      "execution_count": 35
    },
    {
      "id": "9748642d-4b2f-4fcb-b99e-bba4163e82cd",
      "cell_type": "markdown",
      "source": "# Aufgaben",
      "metadata": {}
    },
    {
      "id": "64931a2a-d9cb-40cb-b976-f546396c8f43",
      "cell_type": "markdown",
      "source": "## Numbers\n\n- Erstellen Sie ein Tuple `numbers` mit den folgenden Nummern: (7, 9, 16, 23, 4, 12, 99, 5)\n- Selektieren Sie folgende Elemente und geben Sie diese auf der Konsole aus:\n  - Erstes und letztes Element\n  - Die ersten zwei Elemente, die letzten zwei Elemente\n  - Anzahl Elemente (Länge), Minimum und Maximum\n- Beispiel Ausgabe:\n  ```\n  (7, 9, 16, 23, 4, 12, 99, 5)\n  7\n  5\n  (7, 9)\n  (99, 5)\n  8\n  4\n  99\n  ```",
      "metadata": {}
    },
    {
      "id": "75961a8a-7507-42a8-b71a-84e596f30a80",
      "cell_type": "code",
      "source": "numbers = (7,9,16,23,4,12,99,5)\n",
      "metadata": {
        "trusted": true,
        "scrolled": true
      },
      "outputs": [],
      "execution_count": 36
    },
    {
      "id": "d8d08abf-478f-42a7-8918-fbc636d01c84",
      "cell_type": "markdown",
      "source": "## Filter\n\n- Erstellen Sie eine Liste `numbers` mit den Zahlen 1..20 und geben Sie diese auf der Konsole aus.\n- Selektieren Sie aus der Liste alle geraden Zahlen und speichern Sie diese der Liste `even_numbers`. \n  Verwenden Sie dazu eine Schleife. Geben Sie das Resultat auf der Konsole aus.\n- Selektieren Sie aus der Liste alle ungeraden Zahlen und speichern Sie diese der Liste `odd_numbers`. \n  Verwenden Sie dazu die filter() Funktion. Geben Sie das Resultat auf der Konsole aus.\n- Beispiel Ausgabe:\n  ```\n  [1, 2, 3, 4, 5, 6, 7, 8, 9, 10, 11, 12, 13, 14, 15, 16, 17, 18, 19, 20]\n  [2, 4, 6, 8, 10, 12, 14, 16, 18, 20]\n  [1, 3, 5, 7, 9, 11, 13, 15, 17, 19]\n  ```",
      "metadata": {}
    },
    {
      "id": "6dc07005-915d-4b10-ae8f-fab51987a234",
      "cell_type": "code",
      "source": "# create numbers\nnumbers = list(range(1,21))\nprint(numbers)",
      "metadata": {
        "trusted": true
      },
      "outputs": [
        {
          "name": "stdout",
          "output_type": "stream",
          "text": "[1, 2, 3, 4, 5, 6, 7, 8, 9, 10, 11, 12, 13, 14, 15, 16, 17, 18, 19, 20]\n"
        }
      ],
      "execution_count": 37
    },
    {
      "id": "201643e6-dca0-49de-bff9-6a12e7ee388d",
      "cell_type": "code",
      "source": "# filter even numbers with loop\n",
      "metadata": {
        "trusted": true
      },
      "outputs": [],
      "execution_count": 38
    },
    {
      "id": "c48fdd70-b99e-4bf8-a444-978d959901a6",
      "cell_type": "code",
      "source": "# filter odd numbers with filter\n",
      "metadata": {
        "trusted": true
      },
      "outputs": [],
      "execution_count": 39
    },
    {
      "id": "8aaa67d4-4fde-4c33-a0ce-ba55cd5e1d7d",
      "cell_type": "markdown",
      "source": "## Transform\n\nGegeben ist eine Liste von Wörtern. Führen sie die folgenden Transformationen aus.\n- Entferne alle Wörter, die kürzer als 4 Buchstaben sind. Verwende die Funktion len zum ermitteln der Wortlänge.\n- Wandle alle übrigen Wörter in Großbuchstaben um. Verwende dazu die Funktion str.upper für die Umwandlung.\n- Sortiere die Liste alphabetisch.\n\n**Zusatz**\n\nVersuchen sie das gleiche mit einer List Comprehension.",
      "metadata": {}
    },
    {
      "id": "53640e64-d4dd-4a03-941f-ff2e9c7d5a68",
      "cell_type": "code",
      "source": "words = [\"Baum\", \"an\", \"Katze\", \"Hund\", \"Ei\", \"Computer\"]",
      "metadata": {
        "trusted": true
      },
      "outputs": [],
      "execution_count": 40
    },
    {
      "id": "943e9373-e7b4-4c0f-89e0-c944a49e5994",
      "cell_type": "code",
      "source": "# Transform Schritt-für-Schritt\n",
      "metadata": {
        "trusted": true
      },
      "outputs": [],
      "execution_count": 41
    },
    {
      "id": "2fb5270a-f675-49ff-86d9-b2976be46fbd",
      "cell_type": "code",
      "source": "# Transform mit List Comprehension\n",
      "metadata": {
        "trusted": true
      },
      "outputs": [],
      "execution_count": 42
    }
  ]
}