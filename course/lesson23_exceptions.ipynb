{
  "metadata": {
    "kernelspec": {
      "name": "python",
      "display_name": "Python (Pyodide)",
      "language": "python"
    },
    "language_info": {
      "codemirror_mode": {
        "name": "python",
        "version": 3
      },
      "file_extension": ".py",
      "mimetype": "text/x-python",
      "name": "python",
      "nbconvert_exporter": "python",
      "pygments_lexer": "ipython3",
      "version": "3.8"
    }
  },
  "nbformat_minor": 5,
  "nbformat": 4,
  "cells": [
    {
      "id": "782ee589ce74d218",
      "cell_type": "markdown",
      "source": "# Exception Handling\n\nIn diesem Kapitel lernst du, wie man Fehler (Exceptions) in Python behandelt.\n\nExceptions treten auf, wenn während der Programmausführung ein Fehler auftritt.\nIn einem solchen Fall\n- stopt Python die Programmausführung normalerweise\n- und gibt eine Fehlermeldung aus\n\nAnstatt dass das Programm sofort beendet wird, kann mit einem `try-except-finally` Block der Fehler im Code behandelt werden.\n\n- try: Ab diesem Zeitpunkt werden auftretende Fehler überwacht. Sobald ein Fehler auftritt, wird der Programmfluss zum except Block weitergeleit\n- except: \"Fangen\" des Fehlers und Ausführung der Fehlerbehandlung\n- finally: Optionaler Block, der immer ausgeführt wird, egal ob ein Fehler aufgetreten ist oder nicht.",
      "metadata": {}
    },
    {
      "id": "4a9943cc",
      "cell_type": "markdown",
      "source": "## try-except\n\nMit `try-except` fangen wir Fehler ab.\n\n**Alle Fehler Abfangen**\nIn der einfachsten Variante sieht das so aus:",
      "metadata": {}
    },
    {
      "id": "bb69b73a",
      "cell_type": "code",
      "source": "try:\n    input = \"12x\"\n    nr = int(input)         # Der cast auf int löst einen Fehler aus\nexcept:\n    print(\"Invalid input: \", input)",
      "metadata": {
        "trusted": true
      },
      "outputs": [
        {
          "name": "stdout",
          "output_type": "stream",
          "text": "Invalid input:  12x\n"
        }
      ],
      "execution_count": 1
    },
    {
      "id": "6a5c3e96-b287-4632-bc0b-aaa749cbedaa",
      "cell_type": "markdown",
      "source": "**Zugriff auf Exception**\nMöchte man die Details über den Fehler erfahren, kann man im Except Block eine Variable definieren, mit der man auf die Exception mit der Fehlermeldung zugreifen kann.",
      "metadata": {
        "collapsed": false,
        "jupyter": {
          "outputs_hidden": false
        }
      }
    },
    {
      "id": "3033efd6-316d-48d4-ba52-8a217a3b0085",
      "cell_type": "code",
      "source": "try:\n    input = \"12x\"\n    nr = int(input)\nexcept Exception as e:\n    print(\"Invalid input: \", str(e) )",
      "metadata": {
        "collapsed": false,
        "jupyter": {
          "outputs_hidden": false
        },
        "trusted": true
      },
      "outputs": [
        {
          "name": "stdout",
          "output_type": "stream",
          "text": "Invalid input:  invalid literal for int() with base 10: '12x'\n"
        }
      ],
      "execution_count": 2
    },
    {
      "id": "932ab649",
      "cell_type": "markdown",
      "source": "**Mehrere Except Blöcke**\nWir können auch unterschiedliche Fehlerarten mit mehreren Except Blöcken gezielt behandeln.",
      "metadata": {}
    },
    {
      "id": "8bbdc0a5",
      "cell_type": "code",
      "source": "import sys\n\ntry:\n    f = open('myfile.txt')\n    s = f.readline()\n    i = int(s.strip())\nexcept OSError as err:\n    print(\"OS error: {0}\".format(err))\nexcept ValueError:\n    print(\"Could not convert data to an integer.\")\nexcept (RuntimeError, TypeError, NameError):        # Mehrere Exception behandeln\n    print(\"Catch all other expected errors.\")\nexcept:\n    print(\"Unexpected error:\", sys.exc_info()[0])   # Zugriff auf Fehlerdetails\n    raise                                           # Fehler erneut auslösen\n",
      "metadata": {
        "trusted": true
      },
      "outputs": [
        {
          "name": "stdout",
          "output_type": "stream",
          "text": "OS error: [Errno 44] No such file or directory: 'myfile.txt'\n"
        }
      ],
      "execution_count": 3
    },
    {
      "id": "699bc664",
      "cell_type": "markdown",
      "source": "## try-except-finally\nDer `finally`-Block wird **immer** ausgeführt, egal ob ein Fehler auftritt oder nicht.",
      "metadata": {}
    },
    {
      "id": "b41bb0b2",
      "cell_type": "code",
      "source": "try:\n    file = open('data.txt', 'r')\nexcept FileNotFoundError:\n    print('Fehler: Datei nicht gefunden')\nfinally:\n    print('Dieser Block wird immer ausgeführt')",
      "metadata": {
        "trusted": true
      },
      "outputs": [
        {
          "name": "stdout",
          "output_type": "stream",
          "text": "Fehler: Datei nicht gefunden\nDieser Block wird immer ausgeführt\n"
        }
      ],
      "execution_count": 4
    },
    {
      "id": "7ef65baf",
      "cell_type": "markdown",
      "source": "## try-except-else-finally\n\nEine spezielle Variante ist die Kombination von `try-except-else-finally`. Diese gibt es in anderen Programmiersprachen wie Java oder C# nicht.\n- `else` wird nur ausgeführt, wenn **kein Fehler** auftritt.\n- `finally` läuft immer.",
      "metadata": {}
    },
    {
      "id": "02f5ad1a",
      "cell_type": "code",
      "source": "try:\n    num = int('42')\nexcept ValueError:\n    print('Fehler bei Umwandlung')\nelse:\n    print('Kein Fehler, Zahl ist:', num)\nfinally:\n    print('Programm beendet')",
      "metadata": {
        "trusted": true
      },
      "outputs": [
        {
          "name": "stdout",
          "output_type": "stream",
          "text": "Kein Fehler, Zahl ist: 42\nProgramm beendet\n"
        }
      ],
      "execution_count": 5
    },
    {
      "id": "8a887d9e",
      "cell_type": "markdown",
      "source": "## raise Exceptions\nMit `raise` können wir gezielt Fehler auslösen. Damit können wir auch im eigenen Code von Exceptions Gebrauch machen.",
      "metadata": {}
    },
    {
      "id": "784e607d",
      "cell_type": "code",
      "source": "def divide(a, b):\n    if b == 0:\n        raise ValueError('b darf nicht 0 sein')\n    return a / b\n\ntry:\n    result = divide(10, 0)\nexcept ValueError as e:\n    print('Fehler:', e)",
      "metadata": {
        "trusted": true
      },
      "outputs": [
        {
          "name": "stdout",
          "output_type": "stream",
          "text": "Fehler: b darf nicht 0 sein\n"
        }
      ],
      "execution_count": 6
    },
    {
      "id": "02353f11-57ad-40b0-be9b-ef28073f6e00",
      "cell_type": "markdown",
      "source": "## built-in Exceptions\n\nPython hat viele [built-in Exceptions](https://docs.python.org/3/library/exceptions.html) (eingebaute Exception-Klassen), die verschiedene Fehlerarten repräsentieren.\n",
      "metadata": {
        "collapsed": false,
        "jupyter": {
          "outputs_hidden": false
        }
      }
    },
    {
      "id": "00fddfd0-885a-462f-a959-4a290f94b7b2",
      "cell_type": "markdown",
      "source": "## user-defined Exceptions\n\nEs können auch **eigene Exception-Klassen** definiert werden, die von der Basisklasse `Exception` erben. Diese fügen sich nahtlos in das Exception-Handling von Python ein.\n\nDetails dazu findest du in der [offiziellen Dokumentation](https://docs.python.org/3/tutorial/errors.html#user-defined-exceptions).",
      "metadata": {
        "collapsed": false,
        "jupyter": {
          "outputs_hidden": false
        }
      }
    },
    {
      "id": "7278f721c752a758",
      "cell_type": "markdown",
      "source": "# Aufgaben",
      "metadata": {}
    },
    {
      "id": "798ad46d6bd35888",
      "cell_type": "markdown",
      "source": "### Validation\n\n- Erstellen Sie ein Script das beliebige Ganzzahlen einliest.\n- Das Einlesen der Werte erfolgt mit der input() Methode. Diese liefert einen String.\n- Der String soll nun in einen Integer konvertiert und in eine Liste abgelegt werden.\n- Falls anstelle einer Ganzahl ein String oder eine Gleitkommazahl eingegeben wird, \n  soll der Fehler bei der Konvertierung abgefangen und eine entsprechende Fehlermeldung ausgegeben werden.  \n- Sobald ein 'x' eingelesen wird, wird die Eingabe beendet werden und die eingegebenen Werte werden auf \n  der Konsole ausgegeben.\n- Beispiel Ausgabe: \n  ```\n  Geben Sie bitte einen Integer ein oder 'x' um die Eingabe zu beenden:\n  value = 1\n  value = 7\n  value = 9.5\n  Ungültiger Wert: 9.5 Geben Sie bitte einen Integer Wert ein!\n  value = 9\n  value = x\n  \n  Eingegebene Werte:\n  [1, 7, 9]\n  ```",
      "metadata": {}
    },
    {
      "id": "f0a2d1586e7c572d",
      "cell_type": "code",
      "source": "",
      "metadata": {
        "ExecuteTime": {
          "end_time": "2025-09-02T20:25:10.458290Z",
          "start_time": "2025-09-02T20:24:51.708549Z"
        },
        "trusted": true
      },
      "outputs": [],
      "execution_count": null
    }
  ]
}