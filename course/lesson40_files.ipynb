{
  "metadata": {
    "kernelspec": {
      "name": "python",
      "display_name": "Python (Pyodide)",
      "language": "python"
    },
    "language_info": {
      "codemirror_mode": {
        "name": "python",
        "version": 3
      },
      "file_extension": ".py",
      "mimetype": "text/x-python",
      "name": "python",
      "nbconvert_exporter": "python",
      "pygments_lexer": "ipython3",
      "version": "3.8"
    }
  },
  "nbformat_minor": 5,
  "nbformat": 4,
  "cells": [
    {
      "id": "faca7af10ae693b2",
      "cell_type": "markdown",
      "source": "# File Input/Output\n\nUm mit Textdatein zu Arbeiten gibt es Befehle zum Öffnen und Schliessen einer Datei sowie zum Lesen und Schreiben von Daten. Die folgenden Beispiele zeigen die wichtigsten Befehle.\n\nHinweise & Best Practices\n- Bei Textdateien immer `encoding='utf-8'` angeben.\n- Bei CSV unter Windows beim Schreiben `newline=''` nutzen.\n- Für große Dateien: iteratives Lesen (z. B. `for line in f:`) statt `read()`.\n- Sicherheit: Lade Pickle-Dateien nur aus vertrauenswürdigen Quellen.",
      "metadata": {}
    },
    {
      "id": "131cc75d5abac16",
      "cell_type": "markdown",
      "source": "## open, close\n\nMit `open(pfad, modus)` wird eine Datei geöffnet. Der Modus gibt an für welchen Zweck:\n- `\"r\"` für Read (Daten lesen)\n- `\"w\"` für Write (Daten schreiben)\n- `\"a\"` für append (Daten an bestehende Daten anhängen/schreiben). \n\nEin wichtiger Parameter ist auch das `encoding`, mit welchem angegeben welcher Zeichensatz verwendet wird. Der Parameter ist zwar optinal, aber es ist eine gute Praxis das Encoding explizit zu setzen.\n\n```python\nf = open('hello.txt', 'w', encoding='utf-8')\nf.write('Hello World\\n')\nf.close()\n```\n\nMit `close` wird der Datei-Handle wieder geschlossen. Es ist wichtig, `close` auch im Fehlerfall auszuführen, damit der Datei-Handle wieder freigegeben wird. Eine Möglichkeit ist die Verarbeitung in einem **try-except-finally** Block auszuführen:  \n\n```python\ntry:\n    f = open('hello.txt', 'w', encoding='utf-8')\n    f.write('Hello World\\n')\nexcept:\n    ... Fehlerbehandlung\nfinally:\n    f.close()\n```\n\nNoch eleganter ist die Verwendung des **Context Manager** von Python mit dem `with` Befehl. Eine innerhalb von einem **with** Block geöffnete Datei wird von Python automatisch geschlossen, unabhängig davon, ob eine Exception aufgetreten ist oder nicht.\n\n```python\nwith open('hello.txt', 'w', encoding='utf-8') as f:\n    f.write('Hello World\\n')\n```\n",
      "metadata": {}
    },
    {
      "id": "5f2899cb344780df",
      "cell_type": "markdown",
      "source": "## read, readLine, readLines\n\nMit den read Befehlen kann der Inhalt einer Datei gelesen werden.\n",
      "metadata": {}
    },
    {
      "id": "c0b9072d78df46bf",
      "cell_type": "code",
      "source": "file = \"lesson40_files_hello.txt\"",
      "metadata": {
        "ExecuteTime": {
          "end_time": "2025-09-03T16:49:05.917694Z",
          "start_time": "2025-09-03T16:49:05.911627Z"
        },
        "trusted": true
      },
      "outputs": [],
      "execution_count": 1
    },
    {
      "id": "1012e78ce9550b6e",
      "cell_type": "code",
      "source": "with open(file, 'r', encoding='utf-8') as f:\n    content = f.read()\n    print(content)",
      "metadata": {
        "ExecuteTime": {
          "end_time": "2025-09-03T16:49:21.384425Z",
          "start_time": "2025-09-03T16:49:21.368837Z"
        },
        "trusted": true
      },
      "outputs": [
        {
          "name": "stdout",
          "output_type": "stream",
          "text": "Hello\nWord\n"
        }
      ],
      "execution_count": 2
    },
    {
      "id": "c1d0541f6bdf62ed",
      "cell_type": "code",
      "source": "with open(file, 'r', encoding='utf-8') as f:\n    line1 = f.readline()\n    print('Zeile 1:', line1)",
      "metadata": {
        "ExecuteTime": {
          "end_time": "2025-09-03T16:50:36.704088Z",
          "start_time": "2025-09-03T16:50:36.699135Z"
        },
        "trusted": true
      },
      "outputs": [
        {
          "name": "stdout",
          "output_type": "stream",
          "text": "Zeile 1: Hello\n\n"
        }
      ],
      "execution_count": 3
    },
    {
      "id": "14153460a565d962",
      "cell_type": "code",
      "source": "with open(file, 'r', encoding='utf-8') as f:\n    lines = f.readlines()\n    print('Anzahl Zeilen:', len(lines))\n",
      "metadata": {
        "ExecuteTime": {
          "end_time": "2025-09-03T16:50:55.205467Z",
          "start_time": "2025-09-03T16:50:55.189561Z"
        },
        "trusted": true
      },
      "outputs": [
        {
          "name": "stdout",
          "output_type": "stream",
          "text": "Anzahl Zeilen: 2\n"
        }
      ],
      "execution_count": 4
    },
    {
      "id": "8e84ffde4c13dad3",
      "cell_type": "markdown",
      "source": "## write, writeLines\n\nSchreibe Strings mit write() und mehrere Zeilen mit writelines().",
      "metadata": {}
    },
    {
      "id": "abe1f80cfeb8341",
      "cell_type": "code",
      "source": "city_file = \"lesson40_files_cities.txt\"\n\ncities = ['Bern', 'Zürich', 'Basel']\n\nwith open(city_file, 'w', encoding='utf-8') as f:\n    f.write('Städte:\\n')\n\n\nwith open(city_file, 'a', encoding='utf-8') as f:\n    f.writelines([city + '\\n' for city in cities])\n\n\nwith open(city_file, 'r', encoding='utf-8') as f:\n    print(f.read())",
      "metadata": {
        "ExecuteTime": {
          "end_time": "2025-09-03T16:54:54.526512Z",
          "start_time": "2025-09-03T16:54:54.510457Z"
        },
        "trusted": true
      },
      "outputs": [
        {
          "name": "stdout",
          "output_type": "stream",
          "text": "Städte:\nBern\nZürich\nBasel\n\n"
        }
      ],
      "execution_count": 5
    },
    {
      "id": "b05b76dad10511b4",
      "cell_type": "markdown",
      "source": "## read/write csv\n\n**Python csv Modul**\n\nZum Lesen und Schreiben von CSV Dateien stellt **Python das Modul `csv`** zur Verfügung. Ein Beispiel dazu findet man unter [File Beispiele](https://github.com/iten-engineering/python/blob/main/example/04-file/file.py). \n\n**Pandas Framework**\n\nNoch einfacher ist die Verwendung des **Pandas Framework**. Mit diesem kann eine CSV Datei direkt in ein Pandas DataFrame eingelesen werden. Die DataFrame Klasse von Pandas ist ähnlich wie das DataFrame von R und bietet viele verscheidene Funktionen zum arbeiten mit 2-dimensionalen Daten. ",
      "metadata": {}
    },
    {
      "id": "c5f28990199f813f",
      "cell_type": "code",
      "source": "import pandas as pd # Verwenden Sie den \"Python Pyodide\" Kernel\n\nbooks_file = \"lesson40_files_books.csv\"\n\ndf = pd.read_csv(books_file, encoding='utf-8')\nprint(df)",
      "metadata": {
        "ExecuteTime": {
          "end_time": "2025-09-03T17:08:02.032240Z",
          "start_time": "2025-09-03T17:08:00.277627Z"
        },
        "trusted": true
      },
      "outputs": [
        {
          "name": "stdout",
          "output_type": "stream",
          "text": "                ISBN                        Title           Author  \\\n0  978-0-316-45742-2   The Coast-To-Coast Murders  James Patterson   \n1  978-0-525-95498-9  The Evening and the Morning      Ken Follett   \n2  978-1-250-14523-9      All the Devils Are Here     Louise Penny   \n\n          Publisher  \n0  Little Brown USA  \n1    Penguin LCC US  \n2     Macmillan USA  \n"
        }
      ],
      "execution_count": 6
    },
    {
      "id": "e41b68d7a9385d0f",
      "cell_type": "markdown",
      "source": "> Pandas unterstützt **viele weitere Dateiformate**, so zum Beispiel Excel, Json, Parquet, etc. Mehr von Pandas lernen wir im Kapitel **Data Science Libraries** kennen.\n",
      "metadata": {}
    },
    {
      "id": "99c527f1c54a0129",
      "cell_type": "markdown",
      "source": "## read/write objects \n\nNeben Text basierten Formaten kennt Python auch einen Binärmodus für Bytes. Dazu wird der Modus beim open Befehl mit einem `b` für binary ergänzt:\n- `\"rb\"` read binary\n- `\"wb\"` write binary\n- `\"ab\"` append binary\n\n\n**Pickle**\n\nMit dem `pickle` Modul von Python können Objekte binär serialisiert und gespeichert werden. Ein so abgespeichertes Objekt kann dann wieder gelesen und deserialisiert werden. \n\nBeachte: Das Format wird u.a. auch verwendet um **trainierte Machine Learning Modelle** zu speichern.\n",
      "metadata": {}
    },
    {
      "id": "ba2c6e4f2a2be059",
      "cell_type": "code",
      "source": "import pickle\n\nobject_file = \"lesson40_files_object.pkl\"\n\nd = {1:2, \"k\":[1,2,3], \"fun\":print}\nprint(d)\n\nwith open(object_file, \"wb\") as fout:       # open file for write-binary\n    pickle.dump(d, fout)                    # dump pickle file\n\nwith open(object_file, \"rb\") as fin:        # open file for read-binary\n    d2 = pickle.load(fin)                   # load pickle file\n\nprint(d2)",
      "metadata": {
        "ExecuteTime": {
          "end_time": "2025-09-03T20:41:12.118795Z",
          "start_time": "2025-09-03T20:41:12.102754Z"
        },
        "trusted": true
      },
      "outputs": [
        {
          "name": "stdout",
          "output_type": "stream",
          "text": "{1: 2, 'k': [1, 2, 3], 'fun': <built-in function print>}\n{1: 2, 'k': [1, 2, 3], 'fun': <built-in function print>}\n"
        }
      ],
      "execution_count": 7
    },
    {
      "id": "cdf5d25beaefbbee",
      "cell_type": "markdown",
      "source": "# Aufgaben",
      "metadata": {}
    },
    {
      "id": "5409c7ef88d6d3d9",
      "cell_type": "markdown",
      "source": "## Names\n\n1. Lesen Sie die Textdatei `lesson40_files_names.txt` ein.\n   Diese enthält Vornamen in der folgenden Form:\n   ```\n   Elias\n   Theo\n   ...\n   Ida\n   Anna\n   ```\n\n2. Sortieren Sie die Vornamen alphabetisch.\n\n3. Speichern Sie die sortierten Namen in der Datei `lab41-files-names-sorted.txt` ab.\n   ```\n   Anna\n   Anton\n   ...\n   Sarah\n   Theo\n   ```",
      "metadata": {}
    },
    {
      "id": "2eb039afe75dd695",
      "cell_type": "code",
      "source": "names_file = \"lesson40_files_names.txt\"\nsorted_names_file = \"lesson40_files_names_sorted.txt\"",
      "metadata": {
        "ExecuteTime": {
          "end_time": "2025-09-03T20:49:14.830719Z",
          "start_time": "2025-09-03T20:49:14.817096Z"
        },
        "trusted": true
      },
      "outputs": [],
      "execution_count": 8
    },
    {
      "id": "8d6933eb3987832c",
      "cell_type": "code",
      "source": "",
      "metadata": {
        "ExecuteTime": {
          "end_time": "2025-09-03T20:49:16.922633Z",
          "start_time": "2025-09-03T20:49:16.906921Z"
        },
        "trusted": true
      },
      "outputs": [],
      "execution_count": null
    },
    {
      "id": "140c8d4eafcfdde7",
      "cell_type": "markdown",
      "source": "\n## Footprint \n\nBei dieser Überung soll der globale Fussabdruck (Number of earth) der Schweiz eingelesen und visualisiert werden. Öffnen sie dazu das Notebook **lesson41_lab_footprint.ipynb** und folgen sie den Anweisungen.",
      "metadata": {}
    }
  ]
}