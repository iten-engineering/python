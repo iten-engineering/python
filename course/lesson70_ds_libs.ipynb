{
  "metadata": {
    "kernelspec": {
      "name": "python",
      "display_name": "Python (Pyodide)",
      "language": "python"
    },
    "language_info": {
      "codemirror_mode": {
        "name": "python",
        "version": 3
      },
      "file_extension": ".py",
      "mimetype": "text/x-python",
      "name": "python",
      "nbconvert_exporter": "python",
      "pygments_lexer": "ipython3",
      "version": "3.8"
    }
  },
  "nbformat_minor": 5,
  "nbformat": 4,
  "cells": [
    {
      "id": "a9a6e8a8b443e378",
      "cell_type": "markdown",
      "source": "# Data Science Libraries\n\nPython ist eine der beliebtesten Sprachen für **Data Science, Machine Learning und Künstliche Intelligenz**.\nDas liegt vor allem an der großen Auswahl an Bibliotheken, die effiziente Datenanalyse, Statistik und Visualisierung ermöglichen.\n\nEinige wichtige Libraries sind:\n\n- **NumPy**: Grundlage für wissenschaftliches Rechnen; Arrays, Matrizen, schnelle numerische Berechnungen\n- **SciPy**: Erweiterung von NumPy für Statistik, Optimierung, Signalverarbeitung usw.\n- **Pandas**: Datenanalyse-Toolkit mit DataFrames (ähnlich Tabellen in Excel)\n- **Scikit-Learn**: Machine Learning (Klassifikation, Regression, Clustering usw.)\n- **TensorFlow / PyTorch**: Deep Learning Frameworks\n- **Matplotlib**: Standard-Library für Visualisierungen\n- **Seaborn**: Erweiterung von Matplotlib mit einfacheren, schöneren Diagrammen\n\n> Im folgenden wollen wir uns **NumPy**, **Pandas** und **Matplotlib** im Detail anschauen. Folgen Sie dazu den Anweisungen in den entsprechenden Notebooks.",
      "metadata": {}
    }
  ]
}