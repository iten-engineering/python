{
  "metadata": {
    "kernelspec": {
      "name": "python",
      "display_name": "Python (Pyodide)",
      "language": "python"
    },
    "language_info": {
      "codemirror_mode": {
        "name": "python",
        "version": 3
      },
      "file_extension": ".py",
      "mimetype": "text/x-python",
      "name": "python",
      "nbconvert_exporter": "python",
      "pygments_lexer": "ipython3",
      "version": "3.8"
    }
  },
  "nbformat_minor": 5,
  "nbformat": 4,
  "cells": [
    {
      "id": "faca7af10ae693b2",
      "cell_type": "markdown",
      "source": "# Module und Packages\n\n",
      "metadata": {}
    },
    {
      "id": "1a0200f1-2f20-4053-865a-e44e15ace5f3",
      "cell_type": "markdown",
      "source": "## Module\n\n\nMit Python können Definitionen (Funktionen, Klassen) in eigene Dateien (Module) ausgelagert werden.\n\n- Die Definitionen eines Moduls können in andere Module oder das Hauptprogramm importiert und dort genutzt werden.\n- Der Datei Name entspricht dabei dem Modulnamen mit dem Suffix «.py».\n- Innerhalb vom Modul ist der Modulname via die interne Variable \"__name__\" verfügbar.\n\n**Modul fibo.py:**\n```python\ndef print_fib(n):\n    \"\"\" write Fibonacci series up to n \"\"\"\n    a, b = 0, 1\n    while a < n:\n        print(a, end=' ')\n        a, b = b, a+b\n    print()\n\n\ndef fib(n):\n    \"\"\" return Fibonacci series up to n \"\"\"\n    a, b = 0, 1\n    result = []\n    while a < n:\n        result.append(a)\n        a, b = b, a+b\n    return result\n```\n\n\n**Verwendung vom Modul fibo.py:**\n```python\nimport fibo\n\nprint (\"Fibo sample:\")\nfibo.print_fib(100)\nresult = fibo.fib(100)\n\nprint(result)\nprint((\"Show module details:\"))\nprint(dir(fibo))\n```",
      "metadata": {
        "collapsed": false,
        "jupyter": {
          "outputs_hidden": false
        }
      }
    },
    {
      "id": "7d5bca00-c2a4-4353-badf-9ebe5b13d7bd",
      "cell_type": "markdown",
      "source": "### import\n\n\n**import module**\n– imports everything and keeps it in the module's namespace\n– module.func()\n– module.className.func()\n\n**from module import \\***\n– imports everything under the current namespace\n– func()\n– className.func()\n– **not recommended**\n\n**from module import className**\n– selectively imports under the current namespace\n– className.func()\n– like standard modules: math, os, sys\n",
      "metadata": {
        "collapsed": false,
        "jupyter": {
          "outputs_hidden": false
        }
      }
    },
    {
      "id": "626c83ee-276d-4700-a430-572dac7b02bb",
      "cell_type": "markdown",
      "source": "### alias import\n\nBeim Import kann ein Modul auch mit einem Alias versehen werden. Damit sind für den Zugriff auf die Modul-Elemente kürzere Namen möglich.\n\nBeispiel:\n```python\nimport module_name as alias_name\n```\n\nGebräuchliche alias sind:\n- math as mt\n- numpy as np\n- pandas als pd\n- matplotlib.pyplot als plt\n",
      "metadata": {
        "collapsed": false,
        "jupyter": {
          "outputs_hidden": false
        }
      }
    },
    {
      "id": "f47dd0e3-31fb-4d71-9052-ca1a3b69bfd3",
      "cell_type": "markdown",
      "source": "### alias sample",
      "metadata": {
        "collapsed": false,
        "jupyter": {
          "outputs_hidden": false
        }
      }
    },
    {
      "id": "92020896-4933-4503-99d3-04f15ecc7f15",
      "cell_type": "code",
      "source": "import lesson50_module_fibo as fibo\n\nfibo.print_fib(100)\nresult = fibo.fib(100)\n\nprint (\"Fibo sample:\")\nprint(result)",
      "metadata": {
        "collapsed": false,
        "jupyter": {
          "outputs_hidden": false
        },
        "trusted": true
      },
      "outputs": [
        {
          "name": "stdout",
          "output_type": "stream",
          "text": "0 1 1 2 3 5 8 13 21 34 55 89 \nFibo sample:\n[0, 1, 1, 2, 3, 5, 8, 13, 21, 34, 55, 89]\n"
        }
      ],
      "execution_count": 1
    },
    {
      "id": "60858f2d-daa1-418f-86d2-6c2f2b53da7f",
      "cell_type": "markdown",
      "source": "### module details\n\nDie Funktion dir() listet die im Modul definierten Elemente auf.",
      "metadata": {
        "collapsed": false,
        "jupyter": {
          "outputs_hidden": false
        }
      }
    },
    {
      "id": "88bf6cd9-7c91-47db-b3e1-241c87d20abb",
      "cell_type": "code",
      "source": "print(\"Show module details:\")\ndir(fibo)",
      "metadata": {
        "collapsed": false,
        "jupyter": {
          "outputs_hidden": false
        },
        "trusted": true
      },
      "outputs": [
        {
          "name": "stdout",
          "output_type": "stream",
          "text": "Show module details:\n"
        },
        {
          "execution_count": 2,
          "output_type": "execute_result",
          "data": {
            "text/plain": "['__builtins__',\n '__cached__',\n '__doc__',\n '__file__',\n '__loader__',\n '__name__',\n '__package__',\n '__spec__',\n 'fib',\n 'print_fib']"
          },
          "metadata": {}
        }
      ],
      "execution_count": 2
    },
    {
      "id": "ce77c066-2997-4e14-93f2-7246ceb9dbc3",
      "cell_type": "markdown",
      "source": "### module name\n\nJedes Modul hat eine eingebaute Variable `__name__`, die den Namen des Moduls enthält. Wenn das Modul als Hauptprogramm ausgeführt wird, hat diese Variable den Wert `__main__`.\n\nMöchte man im Modul direkt einige Tests ausführen, so verwendet man häufig die folgende Konstruktion am Ende des Moduls:\n```python\n\nif __name__ == \"__main__\":\n    # Test code here\n    # ...\n```\n\nDamit wird der Code nur ausgeführt, wenn das Modul direkt gestartet wird, nicht aber wenn es importiert wird.",
      "metadata": {
        "collapsed": false,
        "jupyter": {
          "outputs_hidden": false
        }
      }
    },
    {
      "id": "8fe59d7b-2f20-4152-bc77-2cca6d68e50a",
      "cell_type": "markdown",
      "source": "## Packages\n\n**Notation**\n- Mit Hilfe von Packages werden Python Module organisiert.\n- Dabei kommt eine **Punkt Notation** zum Einsatz.\n- Mit dem Ausdruck A.B wird zum Beispiel das Modul B innerhalb vom Package A referenziert.\n- Jedes Modul hat seinen **eigenen Namensraum**, dadurch werden Namenskonflikte (von Variablen\nund Klassen) verhindert\n\n**Organisation**\n- Packages sind Verzeichnisse, die Module der Packages sind in entsprechenden Unterverzeichnissen organisiert.\n- Innerhalb vom Package Verzeichnis muss zwingend eine Datei `__init__.py` vorhanden sein, damit Python das Verzeichnis als Package identifiziert\n- Wenn ein Package importiert wird, durchsucht Python die Verzeichnisse der sys.path Variable, um das entsprechende Package Verzeichnis zu lokalisieren\n\n**Beispiel**\n\n```\nsound/                  Top-level package\n    __init__.py         Initialize the sound package\n\n    formats/            Subpackage for file format conversions\n        __init__.py\n        wavread.py      Module wavread\n        wavwrite.py     Module wavwrite\n        ...\n\n    effects/            Subpackage for sound effects\n        __init__.py\n        echo.py         Module echo\n        surround.py\n        reverse.py\n        ...\n\n    filters/            Subpackage for filters\n        __init__.py\n        equalizer.py\n        vocoder.py\n        karaoke.py\n        ...\n   ```",
      "metadata": {
        "collapsed": false,
        "jupyter": {
          "outputs_hidden": false
        }
      }
    },
    {
      "id": "9dcce45c-d20e-4287-a4b0-ed6cda53c333",
      "cell_type": "markdown",
      "source": "### import\n\nImport Modul und Referenzierung mit vollem Namen:\n```python\nimport sound.effects.echo\n\nsound.effects.echo.echofilter (input, output, delay=0.7, …)\n```\n\nImport Modul ohne Package Prefix und Referenzieren mit einfachem Modulnamen.\n```python\nfrom sound.effects import echo\n\necho.echofilter (input, output, delay=0.7, …)\n```\n\nDirekter Import einer Funktion oder Variable aus einem Modul:\n```python\nfrom sound.effects.echo import echofilter\n\nechofilter (input, output, delay=0.7, …)\n```\n",
      "metadata": {
        "collapsed": false,
        "jupyter": {
          "outputs_hidden": false
        }
      }
    },
    {
      "id": "0ac4c98f-a045-4a11-8655-5450a63f8fa9",
      "cell_type": "markdown",
      "source": "### **import \\***\n\n- Bei einem Import mit * werden die Module importiert, welche im Package entsprechend angegeben werden\n– Die Angabe erfolgt in der Datei `__init__.py` mit Hilfe der Variable `__all__`\n- Diese definiert eine Liste der Module, die das Package zur Verfügung stellt, wie zum Beispiel:\n  – `__all__ = [\"echo\", \"surround\", \"reverse\"]`\n  – Mit dem Import `sound.effects import *` würden somit die obigen Module auf einmal importiert.\n",
      "metadata": {
        "collapsed": false,
        "jupyter": {
          "outputs_hidden": false
        }
      }
    },
    {
      "id": "9fcd2533-b756-4641-bab4-3f9818b9a599",
      "cell_type": "markdown",
      "source": "### **import \\* ohne \\_\\_all\\_\\_**\n\n- Es ist in der Verantwortung der Package Entwickler bei neuen Package Release, die Liste up-to-date zu halten\n– Es ist auch möglich keine Angaben zu machen (falls man keine Verwendung für den Import mit * hat)\n- Falls `__all__` nicht definiert ist, werden mit dem Statement `sound.effects import *` die Module von sound.effects **nicht** importiert\n  – Es wird nur sichergestellt dass das Package sound.effects importiert wird\n  – Der Initialisierungs Code der Datei `__init__.py` ausgeführt wird sowie die dort definierten Namen importiert werden\n- **Generell werden Imports mit expliziter Angabe der Module empfohlen**\n",
      "metadata": {
        "collapsed": false,
        "jupyter": {
          "outputs_hidden": false
        }
      }
    },
    {
      "id": "bbedb332-d038-478e-bac0-7a12fe099f45",
      "cell_type": "markdown",
      "source": "# Aufgabe",
      "metadata": {
        "collapsed": false,
        "jupyter": {
          "outputs_hidden": false
        }
      }
    },
    {
      "id": "f2e8334a-668f-4824-9840-567c9d9bdfba",
      "cell_type": "markdown",
      "source": "## Calculator\n\n- Implementieren Sie im Modul `lesson50_module_calculator.py` die folgenden Methoden:\n  - add(x, y) für die Addition x + y\n  - sub(x, y) für die Subtraktion x - y\n  - mul(x, y) für die Mulitiplikation x * y\n  - div(x, y) für die Division x / y\n\n- Lesen sie eine Calculation ein und führen sie diese aus. Dazu werden die Operationen aus dem calculator Modul importiert.\n\n- Als Eingabe wird ein String eingelesen mit der Operation und den Operanden,\n  wie zum Beispiel `5 + 2` oder `7 / 3`.\n\n- Fangen Sie folgende Fehler ab und geben Sie eine entsprechende Meldung aus:\n  - Ungültier Operator\n  - Divison durch 0\n\n- Beispiele:\n  ```\n  Calculate: 7 * 3\n  21.0\n\n  Calculate: 5 = 6\n  Unknown operator\n\n  Calculate: 13 / 0\n  Division by zero\n  ```",
      "metadata": {
        "collapsed": false,
        "jupyter": {
          "outputs_hidden": false
        }
      }
    },
    {
      "id": "8dc27a12-2867-4ff7-9f8b-4c164bf33cf6",
      "cell_type": "markdown",
      "source": "",
      "metadata": {
        "collapsed": false,
        "jupyter": {
          "outputs_hidden": false
        }
      }
    },
    {
      "id": "82d5dace-6c44-43f4-8c16-de6fa42eb632",
      "cell_type": "code",
      "source": "",
      "metadata": {
        "collapsed": false,
        "jupyter": {
          "outputs_hidden": false
        },
        "trusted": true
      },
      "outputs": [],
      "execution_count": null
    }
  ]
}