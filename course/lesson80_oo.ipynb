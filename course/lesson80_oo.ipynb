{
  "metadata": {
    "kernelspec": {
      "name": "python",
      "display_name": "Python (Pyodide)",
      "language": "python"
    },
    "language_info": {
      "codemirror_mode": {
        "name": "python",
        "version": 3
      },
      "file_extension": ".py",
      "mimetype": "text/x-python",
      "name": "python",
      "nbconvert_exporter": "python",
      "pygments_lexer": "ipython3",
      "version": "3.8"
    }
  },
  "nbformat_minor": 5,
  "nbformat": 4,
  "cells": [
    {
      "id": "faca7af10ae693b2",
      "cell_type": "markdown",
      "source": "# Klassen & Objekte",
      "metadata": {}
    },
    {
      "id": "3cc7cf11f0358c39",
      "cell_type": "markdown",
      "source": "## Einführung\n\n- Klassen sind Baupläne für Objekte.\n- Objekte sind Instanzen einer Klasse.\n- Klassen kapseln Daten (Attribute) und Funktionen (Methoden).\n- In Python ist alles ein Objekt: `“hello”.upper()`\n",
      "metadata": {}
    },
    {
      "id": "483628bf75742c2f",
      "cell_type": "code",
      "source": "class Person:\n    \n    def __init__(self):\n        \"\"\"Konstruktor ohne Paramenter\"\"\"\n        self.name = None\n    \n    def greeting(self):\n        print(f\"Hallo, mein Name ist {self.name}\")\n\nmax = Person()\nmax.name = \"Max\"\n\nlara = Person()\nlara.name = \"Lara\"\n\nmax.greeting()\nlara.greeting()",
      "metadata": {
        "ExecuteTime": {
          "end_time": "2025-09-06T18:44:30.009510Z",
          "start_time": "2025-09-06T18:44:29.999956Z"
        },
        "trusted": true
      },
      "outputs": [
        {
          "name": "stdout",
          "output_type": "stream",
          "text": "Hallo, mein Name ist Max\nHallo, mein Name ist Lara\n"
        }
      ],
      "execution_count": 1
    },
    {
      "id": "e0e622be3ff188e7",
      "cell_type": "markdown",
      "source": "## Konstruktor\n\n- Wird automatisch aufgerufen, wenn ein Objekt erstellt wird.\n- Dient zum Initialisieren von Attributen.\n- Jede Klassenmethode benötigt die Instanz-Referenz self als ersten Parameter\n  - Der Parameter Name kann frei gewählt werden\n  - Als Konvention wird self als Name verwendet\n- Der Typ der Attribute wird implizit bestimmt (wie bei allen anderen Variablen auch)\n- Alle Konstruktoren haben den Namen `__init__(self, ...)`\n- Typen von Konstruktoren\n  - Default Konstruktor\n  - Konstruktor mit Parametern\n- Default Konstruktor\n  - Einfacher Konstruktor ohne Argumente\n  - Einzig die Instanz Referenz self muss definiert werden\n- Konstruktor mit Parametern\n  - Werden als «parameterized constructor» bezeichnet\n  - Der erster Parameter ist die Instanz Referenz self\n  - Die weiteren Parameter werden durch den Entwickler definiert\n  - Bei den Parametern sind sowohl positional als auch keyword Parameter möglich (analog wie bei den Funktionen)\n",
      "metadata": {}
    },
    {
      "id": "8b5a688461509f29",
      "cell_type": "code",
      "source": "class Person:\n\n    def __init__(self, name):\n        \"\"\"Konstruktor mit Parameter name.\"\"\"\n        self.name = name\n\n    def greeting(self):\n        print(f\"Hallo, mein Name ist {self.name}\")\n\nmax = Person(\"Max\")\nlara = Person(\"Lara\")\n\nmax.greeting()\nlara.greeting()",
      "metadata": {
        "ExecuteTime": {
          "end_time": "2025-09-06T19:05:17.057172Z",
          "start_time": "2025-09-06T19:05:17.044760Z"
        },
        "trusted": true
      },
      "outputs": [
        {
          "name": "stdout",
          "output_type": "stream",
          "text": "Hallo, mein Name ist Max\nHallo, mein Name ist Lara\n"
        }
      ],
      "execution_count": 2
    },
    {
      "id": "e37209fb805fa76c",
      "cell_type": "markdown",
      "source": "## Destruktor\n\n- Wird automatisch aufgerufen, wenn ein Objekt gelöscht wird oder nicht mehr referenziert wird.\n- Wird selten benötigt, z. B. zum Aufräumen von Ressourcen.\n- Der Destruktor `__del__(self)`wird automatisch durch Python aufgerufen (Garbage Collection)\n- Man kann ein Objekt auch explizit mit `del` entfernen",
      "metadata": {}
    },
    {
      "id": "fd368b6bfe698c86",
      "cell_type": "code",
      "source": "class Item:\n    \n    def __init__(self, number):\n        self.number = number\n        print(\"Create item:\", self.number)\n        \n    def __del__(self):\n        print(\"Delete item:\", self.number)\n    \n\nitem = Item(47)     \ndel item",
      "metadata": {
        "ExecuteTime": {
          "end_time": "2025-09-06T19:10:58.824851Z",
          "start_time": "2025-09-06T19:10:58.813482Z"
        },
        "trusted": true
      },
      "outputs": [
        {
          "name": "stdout",
          "output_type": "stream",
          "text": "Create item: 47\nDelete item: 47\n"
        }
      ],
      "execution_count": 3
    },
    {
      "id": "6236c79890ad811c",
      "cell_type": "markdown",
      "source": "## Vererbung\n\n- Eine Klasse kann Attribute und Methoden von einer anderen Klasse übernehmen.\n- Ermöglicht Wiederverwendbarkeit und hierarchische Struktur.\n- Ein gutes Beispiel für eine Klassenhierarchie ist die [Python Exception hierarchy](https://docs.python.org/3/library/exceptions.html#exception-hierarchy).",
      "metadata": {}
    },
    {
      "id": "f06332bc4b832e9f",
      "cell_type": "code",
      "source": "class Person:\n    def __init__(self, firstname, lastname):\n        self.firstname = firstname\n        self.lastname = lastname\n\n    def printname(self):\n        print(self.firstname, self.lastname)\n\nx = Person(\"John\", \"Doe\")\nx.printname()\n\n\nclass Teacher(Person):\n    pass            # Use the pass keyword when you do not want to add\n                    # any other properties or methods to the class.\n\nx = Teacher(\"Mike\", \"Olsen\")\nx.printname()\n\n\nclass Student(Person):\n    def __init__(self, firstname, lastname, studentId):\n        super().__init__(firstname, lastname)\n        self.studentId = studentId\n\n    def printname(self):\n        print(self.firstname, self.lastname, self.studentId)\n\nx = Student(\"James\", \"Bond\", \"007\")\nx.printname()",
      "metadata": {
        "ExecuteTime": {
          "end_time": "2025-09-06T19:13:15.909602Z",
          "start_time": "2025-09-06T19:13:15.903105Z"
        },
        "trusted": true
      },
      "outputs": [
        {
          "name": "stdout",
          "output_type": "stream",
          "text": "John Doe\nMike Olsen\nJames Bond 007\n"
        }
      ],
      "execution_count": 4
    },
    {
      "id": "2f9469b31a95d19b",
      "cell_type": "markdown",
      "source": "## Statische Attribute und Methoden\n\n- Statische Attribute: werden auf Klassenebene gespeichert, nicht pro Objekt.\n- Statische Methoden: gehören zur Klasse, benötigen kein `self`.\n- Der Aufruf erfolgt via Klassenname, d.h. man benötigt keine Instanz für den Zugriff.\n- Die Klassenattribute werden auf Klassen Level definiert.\n- Die Methoden werden mit `@staticmethod` gekennzeichnet",
      "metadata": {}
    },
    {
      "id": "7fb83398782e9744",
      "cell_type": "markdown",
      "source": "### Attribut\n\nDas Beispiel zeigt eine Konstante für die maximale Anzahl Spieler.\n- Bei der Initialisierung vom Team wird geprüft of das Maximum überschritten wird.\n- Der Zugriff auf das statische Attribut erfolgt über den Klassennamen.\n",
      "metadata": {}
    },
    {
      "id": "ec0b67391a4ea560",
      "cell_type": "code",
      "source": "class Player:\n    def __init__(self, name):\n        self.name = name\n\nclass Team:\n\n    MAX_PLAYERS = 5\n\n    def __init__(self, players):\n        if len(players) > Team.MAX_PLAYERS:\n            raise ValueError(\"Too many players\")\n        self.players = players\n\n    def members(self):\n        members = []\n        for p in self.players:\n            members.append(p.name)\n        return members\n\nplayers = [\n    Player(\"Emilia\"),\n    Player(\"Estelle\"),\n    Player(\"Noemie\"),\n    Player(\"Karina\"),\n    Player(\"Meghan\")\n]\n\nteam = Team(players)\nprint(team.members())",
      "metadata": {
        "ExecuteTime": {
          "end_time": "2025-09-06T19:30:20.425958Z",
          "start_time": "2025-09-06T19:30:20.402080Z"
        },
        "trusted": true
      },
      "outputs": [
        {
          "name": "stdout",
          "output_type": "stream",
          "text": "['Emilia', 'Estelle', 'Noemie', 'Karina', 'Meghan']\n"
        }
      ],
      "execution_count": 5
    },
    {
      "id": "bef9c3b7fcdcc97",
      "cell_type": "markdown",
      "source": "### Attribut und Methoden\n\nDas folgenden Beispiel zeigt eine Utilty Klasse:\n- Die ganze Klasse besteht nur aus statischen Attributen und Methoden. \n- Um damit zu Arbeiten **muss keine Instanz** erstellt werden. \n- Man kann direkt den **Klassennamen** verweden.",
      "metadata": {}
    },
    {
      "id": "53f1347647558955",
      "cell_type": "code",
      "source": "import math\n\nclass MathUtils:\n\n    PI = 3.141592653589793          # Analog math.pi\n\n    @staticmethod\n    def quadrat(x):\n        return x * x\n\n    @staticmethod\n    def wurzel(x):\n        return math.sqrt(x)\n\n    @staticmethod\n    def ist_gerade(x):\n        return x % 2 == 0\n\n# Nutzung OHNE Objektinstanz\nprint(\"Quadrat von 5:\", MathUtils.quadrat(5))\nprint(\"Wurzel von 16:\", MathUtils.wurzel(16))\nprint(\"Ist 7 gerade?:\", MathUtils.ist_gerade(7))\n",
      "metadata": {
        "ExecuteTime": {
          "end_time": "2025-09-06T19:18:57.558637Z",
          "start_time": "2025-09-06T19:18:57.543475Z"
        },
        "trusted": true
      },
      "outputs": [
        {
          "name": "stdout",
          "output_type": "stream",
          "text": "Quadrat von 5: 25\nWurzel von 16: 4.0\nIst 7 gerade?: False\n"
        }
      ],
      "execution_count": 6
    },
    {
      "id": "b46468eab1ea2e2b",
      "cell_type": "markdown",
      "source": "# Aufgaben\n\n## Kreis\n- Erstellen Sie die Klasse `Kreis` mit dem Attribut radius.\n- Erstellen Sie die Methode get_umfang() die den Umfang (2 * PI * radius) des Kreises zurückgibt\n- Erstellen Sie die Methode get_flaeche() die die Kreisfläche (PI * radius^2) zurückgibt\n- Erstellen Sie die Methode print() die den Radius, Umfang und die Fläche auf der Konsole ausgibt.\n- Testen Sie die Klasse mit mehreren verschiedenen Werten.\n- Beispiel Ausgabe:\n  ```\n  Kreis mit Radius 3\n  - Umfang = 18.849\n  - Fläche = 28.274\n  ```\n \n**Hinweis:**\n- Für PI gibt es im Python math modul eine vordefinierte Konstante:\n  ```\n  import math\n  print (math.pi)\n  ```\n",
      "metadata": {}
    },
    {
      "id": "be2ba3bdd9182a6c",
      "cell_type": "code",
      "source": "",
      "metadata": {
        "ExecuteTime": {
          "end_time": "2025-09-06T19:41:16.044637Z",
          "start_time": "2025-09-06T19:41:16.028622Z"
        },
        "trusted": true
      },
      "outputs": [],
      "execution_count": null
    },
    {
      "id": "3b02259586c97191",
      "cell_type": "markdown",
      "source": "## MathUtil\n- Erstellen Sie eine Klasse `MathUtil` mit folgenden statischen Methoden:\n  - min (a, b, c)\n    Berechnung und Rückgabe des Minimums der drei Zahlen.\n  - max (a, b, c)\n    Berechnung und Rückgabe des Maximum der drei Zahlen.\n- Testen Sie die beiden Hilfsmethoden mit verschiedenen Zahlenwerten und geben Sie die Resultate\n  auf der Konsole aus.\n- Beispiel Ausgabe:\n  ```\n  Das Maximum von 5,12,20 ist: 20\n  Das Minimum von 5,12,20 ist: 5\n  Das Maximum von 49,3,14 ist: 49\n  Das Minimum von 49,3,14 ist: 3\n  ```\n\n",
      "metadata": {}
    },
    {
      "id": "2005ec8d3c1c9bec",
      "cell_type": "code",
      "source": "",
      "metadata": {
        "ExecuteTime": {
          "end_time": "2025-09-06T19:41:41.752177Z",
          "start_time": "2025-09-06T19:41:41.738027Z"
        },
        "trusted": true
      },
      "outputs": [],
      "execution_count": null
    },
    {
      "id": "9ffeb33631a394c4",
      "cell_type": "markdown",
      "source": "## Konto\n\nErstelle eine Klasse BankKonto, die ein einfaches Bankkonto modelliert.\n\nAnforderungen:\n\n1. Die Klasse soll beim Erstellen folgende Eigenschaften haben:\n   - kontoinhaber (Name, String)\n   - kontonummer (String oder int)\n   - kontostand (float, Startwert = 0.0)\n\n2. Methoden:\n   - einzahlen(betrag) → erhöht den Kontostand um den Betrag\n   - abheben(betrag) → verringert den Kontostand, aber nicht unter 0 (Fehlermeldung ausgeben, wenn nicht genug Guthaben da ist)\n   - zeige_stand() → gibt den aktuellen Kontostand aus\n\n3. Statisches Attribut:\n   - anzahl_konten → zählt, wie viele Konten insgesamt eröffnet wurden\n\n4. Statische Methode:\n   - bank_info() → gibt allgemeine Infos aus, z. B. „Willkommen bei der Python Bank!“\n\nTipps:\n- Nutze den Konstruktor __init__, um die Attribute zu setzen.\n- Greife auf das statische Attribut mit BankKonto.anzahl_konten zu.\n- Denke an Fehlerbehandlung beim Abheben (if betrag <= kontostand)\n\nBeispielanwendung:\n```\n# Zwei Konten erstellen\nk1 = BankKonto(\"Alice\", \"1234\")\nk2 = BankKonto(\"Bob\", \"5678\")\n\nk1.einzahlen(1000)\nk1.abheben(200)\nk1.zeige_stand()\n\nk2.einzahlen(500)\nk2.abheben(600)   # sollte Fehlermeldung bringen\n\nprint(\"Anzahl Konten:\", BankKonto.anzahl_konten)\nBankKonto.bank_info()\n```",
      "metadata": {}
    },
    {
      "id": "705daa9dbe296655",
      "cell_type": "code",
      "source": "",
      "metadata": {
        "ExecuteTime": {
          "end_time": "2025-09-06T19:45:33.056051Z",
          "start_time": "2025-09-06T19:45:33.034969Z"
        },
        "trusted": true
      },
      "outputs": [],
      "execution_count": null
    }
  ]
}