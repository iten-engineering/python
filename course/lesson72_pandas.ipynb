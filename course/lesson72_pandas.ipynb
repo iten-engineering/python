{
  "metadata": {
    "kernelspec": {
      "name": "python",
      "display_name": "Python (Pyodide)",
      "language": "python"
    },
    "language_info": {
      "codemirror_mode": {
        "name": "python",
        "version": 3
      },
      "file_extension": ".py",
      "mimetype": "text/x-python",
      "name": "python",
      "nbconvert_exporter": "python",
      "pygments_lexer": "ipython3",
      "version": "3.8"
    }
  },
  "nbformat_minor": 5,
  "nbformat": 4,
  "cells": [
    {
      "id": "38cc2f20f85312af",
      "cell_type": "markdown",
      "source": "# Pandas\n\n[Pandas](https://pandas.pydata.org/) is a fast, powerful, flexible and easy to use open source data analysis and manipulation tool, built on top of the Python programming language.\n\nWarum Pandas?\n- Pandas untersützt eine Vielzahl von Dateiformaten zum lesen und schreiben von Daten\n- Pandas bietet zwei Hauptstrukturen:\n  - Series (1D-Daten, ähnlich wie eine Spalte)\n  - DataFrame (2D-Tabelle, ähnlich wie Excel)\n- Ermöglicht schnelles Filtern, Gruppieren, Umformen und Visualisieren von Daten.\n- Das Pandas DataFrame (analog dem DataFrame in R) eignet sich hervorragend für das Arbeint mit 2 dimensonalen  Daten wie sie oft in CSV, Excel oder Datenbank Tabellen vorliegen. \n",
      "metadata": {}
    },
    {
      "id": "f238e4430966f948",
      "cell_type": "markdown",
      "source": "## Series (1 dimensionale Daten)",
      "metadata": {}
    },
    {
      "id": "547acb030e6f1842",
      "cell_type": "code",
      "source": "import numpy as np\nimport pandas as pd\n\ns1 = pd.Series([10, 20, 30])\ns2 = pd.Series([10, 20, 30], index=[\"a\", \"b\", \"c\"])\n\nprint(\"Series s1:\")\nprint(s1)\n\nprint(\"Series s2 mit Index:\")\nprint(s2)\n\nprint(\"Zugriff s1 via Index:\", s1[1])\nprint(\"Zugriff s2 mit Index:\", s2[\"b\"])\n",
      "metadata": {
        "ExecuteTime": {
          "end_time": "2025-09-06T10:10:29.613729Z",
          "start_time": "2025-09-06T10:10:29.603247Z"
        },
        "trusted": true
      },
      "outputs": [
        {
          "name": "stdout",
          "output_type": "stream",
          "text": "Series s1:\n0    10\n1    20\n2    30\ndtype: int64\nSeries s2 mit Index:\na    10\nb    20\nc    30\ndtype: int64\nZugriff s1 via Index: 20\nZugriff s2 mit Index: 20\n"
        }
      ],
      "execution_count": 1
    },
    {
      "id": "f817612835c4992c",
      "cell_type": "markdown",
      "source": "## DataFrame (2 dimensionale Daten)",
      "metadata": {}
    },
    {
      "id": "46bbdf4e5a961b72",
      "cell_type": "code",
      "source": "data = {\n    \"Name\": [\"Anna\", \"Ben\", \"Clara\"],\n    \"Alter\": [23, 35, 29],\n    \"Stadt\": [\"Zürich\", \"Bern\", \"Basel\"]\n}\ndf = pd.DataFrame(data)\nprint(df)\n",
      "metadata": {
        "ExecuteTime": {
          "end_time": "2025-09-06T10:17:17.746579Z",
          "start_time": "2025-09-06T10:17:17.631979Z"
        },
        "trusted": true
      },
      "outputs": [
        {
          "name": "stdout",
          "output_type": "stream",
          "text": "    Name  Alter   Stadt\n0   Anna     23  Zürich\n1    Ben     35    Bern\n2  Clara     29   Basel\n"
        }
      ],
      "execution_count": 2
    },
    {
      "id": "5a1496a4978ed881",
      "cell_type": "markdown",
      "source": "",
      "metadata": {}
    },
    {
      "id": "a397c2ed5ae6ac9e",
      "cell_type": "markdown",
      "source": "### Spalte auswählen",
      "metadata": {}
    },
    {
      "id": "b1538f5ccf9cb3e2",
      "cell_type": "code",
      "source": "print(\"Namen:\")\nprint(df[\"Name\"])",
      "metadata": {
        "ExecuteTime": {
          "end_time": "2025-09-06T10:17:19.597759Z",
          "start_time": "2025-09-06T10:17:19.587997Z"
        },
        "trusted": true
      },
      "outputs": [
        {
          "name": "stdout",
          "output_type": "stream",
          "text": "Namen:\n0     Anna\n1      Ben\n2    Clara\nName: Name, dtype: object\n"
        }
      ],
      "execution_count": 3
    },
    {
      "id": "8017dad0d580f490",
      "cell_type": "markdown",
      "source": "### Zeile per Position (iloc)",
      "metadata": {}
    },
    {
      "id": "80fd8c7e2200f5bf",
      "cell_type": "code",
      "source": "print(\"Erste Zeile:\") \nprint(df.iloc[0])",
      "metadata": {
        "ExecuteTime": {
          "end_time": "2025-09-06T10:21:00.214157Z",
          "start_time": "2025-09-06T10:21:00.207385Z"
        },
        "trusted": true
      },
      "outputs": [
        {
          "name": "stdout",
          "output_type": "stream",
          "text": "Erste Zeile:\nName       Anna\nAlter        23\nStadt    Zürich\nName: 0, dtype: object\n"
        }
      ],
      "execution_count": 4
    },
    {
      "id": "46229869b9ca2600",
      "cell_type": "markdown",
      "source": "### Zeile per Index (loc)",
      "metadata": {}
    },
    {
      "id": "850cc55317d48cf",
      "cell_type": "code",
      "source": "print(\"Zeile mit Index\") \nprint(df.loc[2])\n",
      "metadata": {
        "ExecuteTime": {
          "end_time": "2025-09-06T10:20:51.631093Z",
          "start_time": "2025-09-06T10:20:51.617607Z"
        },
        "trusted": true
      },
      "outputs": [
        {
          "name": "stdout",
          "output_type": "stream",
          "text": "Zeile mit Index\nName     Clara\nAlter       29\nStadt    Basel\nName: 2, dtype: object\n"
        }
      ],
      "execution_count": 5
    },
    {
      "id": "beed5f0c2af11012",
      "cell_type": "markdown",
      "source": "## Filtern",
      "metadata": {}
    },
    {
      "id": "60bb7e6bce07cc27",
      "cell_type": "code",
      "source": "print(\"Alle Personen älter als 25:\")\nprint(df[df[\"Alter\"] > 25])\n",
      "metadata": {
        "ExecuteTime": {
          "end_time": "2025-09-06T09:29:34.964383Z",
          "start_time": "2025-09-06T09:29:34.955842Z"
        },
        "trusted": true
      },
      "outputs": [
        {
          "name": "stdout",
          "output_type": "stream",
          "text": "Alle Personen älter als 25:\n    Name  Alter  Stadt\n1    Ben     35   Bern\n2  Clara     29  Basel\n"
        }
      ],
      "execution_count": 6
    },
    {
      "id": "bcd2490ec6ca3aab",
      "cell_type": "markdown",
      "source": "## Spalte hinzufügen",
      "metadata": {}
    },
    {
      "id": "bbc9b882f742ccd6",
      "cell_type": "code",
      "source": "df[\"Alter_in_10_Jahren\"] = df[\"Alter\"] + 10\nprint(df)\n",
      "metadata": {
        "ExecuteTime": {
          "end_time": "2025-09-06T09:29:48.764214Z",
          "start_time": "2025-09-06T09:29:48.751070Z"
        },
        "trusted": true
      },
      "outputs": [
        {
          "name": "stdout",
          "output_type": "stream",
          "text": "    Name  Alter   Stadt  Alter_in_10_Jahren\n0   Anna     23  Zürich                  33\n1    Ben     35    Bern                  45\n2  Clara     29   Basel                  39\n"
        }
      ],
      "execution_count": 7
    },
    {
      "id": "c296e303981dbc32",
      "cell_type": "markdown",
      "source": "## Apply\n\nMit apply kann eine Funktion auf jedes Element einer Serie oder eines DataFrame angewendet werden:",
      "metadata": {}
    },
    {
      "id": "3819c6b1dd8589a4",
      "cell_type": "code",
      "source": "col_names = [\"A\", \"B\", \"C\"]\nrow_names = [\"First\", \"Second\", \"Third\"]\ndata = [[1, 2, 3],\n        [4, 5, 6],\n        [7, 8, 9]]\ndf = pd.DataFrame(data, row_names, col_names)\nprint(df)\n\nsqrt_df = df.apply(np.sqrt)\nprint(sqrt_df)\n\nsquare_df = df.apply(lambda x: x ** 2)\nprint(square_df)\n",
      "metadata": {
        "ExecuteTime": {
          "end_time": "2025-09-06T10:24:55.297966Z",
          "start_time": "2025-09-06T10:24:55.286279Z"
        },
        "trusted": true
      },
      "outputs": [
        {
          "name": "stdout",
          "output_type": "stream",
          "text": "        A  B  C\nFirst   1  2  3\nSecond  4  5  6\nThird   7  8  9\n               A         B         C\nFirst   1.000000  1.414214  1.732051\nSecond  2.000000  2.236068  2.449490\nThird   2.645751  2.828427  3.000000\n         A   B   C\nFirst    1   4   9\nSecond  16  25  36\nThird   49  64  81\n"
        }
      ],
      "execution_count": 8
    },
    {
      "id": "293794197710fe84",
      "cell_type": "markdown",
      "source": "## GroupBy\n\n- Mit der groupby Methode werden Daten nach einer Spalte gruppiert\n- Man kann dann auf dem zurückgegebenen Objekt Funktionen pro Gruppe anwenden",
      "metadata": {}
    },
    {
      "id": "a9cdb0b47a9fb53c",
      "cell_type": "code",
      "source": "col_names = [\"A\", \"B\"]\ndata = [[1, 2],\n        [1, 4],\n        [2, 4],\n        [1, 2]]\n\ndf = pd.DataFrame(data, columns=col_names)\n\ngrouped = df.groupby(\"A\")   # 1: 2 4 2 : mean = 8/3 = 2.67\n                            # 2: 4     : mean = 4/1 = 4\n\nprint(grouped.mean())\n",
      "metadata": {
        "ExecuteTime": {
          "end_time": "2025-09-06T11:57:17.564502Z",
          "start_time": "2025-09-06T11:57:17.554477Z"
        },
        "trusted": true
      },
      "outputs": [
        {
          "name": "stdout",
          "output_type": "stream",
          "text": "          B\nA          \n1  2.666667\n2  4.000000\n"
        }
      ],
      "execution_count": 9
    },
    {
      "id": "312a4418f794e8f8",
      "cell_type": "markdown",
      "source": "# Aufgaben",
      "metadata": {}
    },
    {
      "id": "dfe027254bdb8268",
      "cell_type": "markdown",
      "source": "## Datenanalyse\n\nDatenanalyse mit Pandas.\n\n1. Erstelle ein Dictionary mit den Daten von 6 Personen:\n   - \"Name\" (z. B. Anna, Ben, Clara, David, Eva, Felix)\n   - \"Alter\" (Ganzzahlen zwischen 20 und 60)\n   - \"Stadt\" (z. B. Zürich, Bern, Basel, Luzern, Genf, Winterthur)\n   - \"Einkommen\" (Ganzzahlen zwischen 3000 und 9000)\n\n2. Wandle das Dictionary in einen **DataFrame** um.\n\n3. Führe folgende Analysen durch:\n   1. Zeige alle Personen über 30 Jahre.\n   2. Berechne das Durchschnittseinkommen aller Personen.\n   3. Finde die Person mit dem höchsten Einkommen.\n   4. Gruppiere die Daten nach \"Stadt\" und berechne das mittlere Einkommen pro Stadt.",
      "metadata": {}
    },
    {
      "id": "eb0ae5da9ac03cad",
      "cell_type": "code",
      "source": "import pandas as pd\n\ndata = {\n    \"Name\": [\"Anna\", \"Ben\", \"Clara\", \"David\", \"Eva\", \"Felix\"],\n    \"Alter\": [23, 35, 29, 42, 31, 55],\n    \"Stadt\": [\"Zürich\", \"Bern\", \"Basel\", \"Zürich\", \"Genf\", \"Bern\"],\n    \"Einkommen\": [4500, 5200, 6100, 8000, 7200, 3900]\n}\n\ndf = pd.DataFrame(data)\nprint(df)",
      "metadata": {
        "ExecuteTime": {
          "end_time": "2025-09-06T11:57:36.197668Z",
          "start_time": "2025-09-06T11:57:36.183902Z"
        },
        "trusted": true
      },
      "outputs": [
        {
          "name": "stdout",
          "output_type": "stream",
          "text": "    Name  Alter   Stadt  Einkommen\n0   Anna     23  Zürich       4500\n1    Ben     35    Bern       5200\n2  Clara     29   Basel       6100\n3  David     42  Zürich       8000\n4    Eva     31    Genf       7200\n5  Felix     55    Bern       3900\n"
        }
      ],
      "execution_count": 10
    },
    {
      "id": "2692281adcb20553",
      "cell_type": "code",
      "source": "",
      "metadata": {
        "ExecuteTime": {
          "end_time": "2025-09-06T11:45:38.831148Z",
          "start_time": "2025-09-06T11:45:38.816865Z"
        },
        "trusted": true
      },
      "outputs": [],
      "execution_count": null
    },
    {
      "id": "36febd7ff9ffcf4d",
      "cell_type": "code",
      "source": "",
      "metadata": {
        "ExecuteTime": {
          "end_time": "2025-09-06T11:46:26.464591Z",
          "start_time": "2025-09-06T11:46:26.456339Z"
        },
        "trusted": true
      },
      "outputs": [],
      "execution_count": null
    },
    {
      "id": "1a6e1359d5bdb49b",
      "cell_type": "code",
      "source": "",
      "metadata": {
        "ExecuteTime": {
          "end_time": "2025-09-06T11:46:48.564420Z",
          "start_time": "2025-09-06T11:46:48.549121Z"
        },
        "trusted": true
      },
      "outputs": [],
      "execution_count": null
    },
    {
      "id": "8fbc53dea6b1f55b",
      "cell_type": "code",
      "source": "",
      "metadata": {
        "ExecuteTime": {
          "end_time": "2025-09-06T11:54:40.369649Z",
          "start_time": "2025-09-06T11:54:40.359529Z"
        },
        "trusted": true
      },
      "outputs": [],
      "execution_count": null
    }
  ]
}