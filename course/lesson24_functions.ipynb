{
  "metadata": {
    "kernelspec": {
      "name": "xpython",
      "display_name": "Python 3.13 (XPython)",
      "language": "python"
    },
    "language_info": {
      "file_extension": ".py",
      "mimetype": "text/x-python",
      "name": "python",
      "version": "3.13.1"
    }
  },
  "nbformat_minor": 5,
  "nbformat": 4,
  "cells": [
    {
      "id": "35a89029",
      "cell_type": "markdown",
      "source": "# Funktionen & Lambda Expression",
      "metadata": {}
    },
    {
      "id": "c32a2846",
      "cell_type": "markdown",
      "source": "## Funktionen\n\nFunktionen ohne return führen einen Block von Code aus, geben aber keinen Wert zurück.",
      "metadata": {}
    },
    {
      "id": "2bfe2ab4",
      "cell_type": "code",
      "source": "from numpy.f2py.symbolic import as_ge\n\n\ndef hello():\n    print(\"Hello\")\n\ndef greeting(name):\n    print(\"Hello\", name)\n\ndef weekend_greeting(name, greeting):\n    print(\"Hello %s, i wish you %s\"%(name, greeting))\n\nhello()\ngreeting(\"Tom\")\nweekend_greeting(\"Zoé\", \"a nice weekend\")\n",
      "metadata": {
        "trusted": true
      },
      "outputs": [
        {
          "name": "stdout",
          "output_type": "stream",
          "text": "Hello\nHello Tom\nHello Zoé, i wish you a nice weekend\n"
        }
      ],
      "execution_count": 1
    },
    {
      "id": "2b022315b91ea7a5",
      "cell_type": "markdown",
      "source": "## Funktionen mit Rückgabewert\n\nFunktionen mit return geben einen Wert zurück, den man weiterverwenden kann.",
      "metadata": {
        "collapsed": false,
        "jupyter": {
          "outputs_hidden": false
        }
      }
    },
    {
      "id": "383544412a19df1d",
      "cell_type": "code",
      "source": "def add(a, b):\n    return a + b\n\nres = add(3,9)\nprint (\"add(3,9) =\", res)\n",
      "metadata": {
        "collapsed": false,
        "jupyter": {
          "outputs_hidden": false
        },
        "trusted": true
      },
      "outputs": [
        {
          "name": "stdout",
          "output_type": "stream",
          "text": "add(3,9) = 12\n"
        }
      ],
      "execution_count": 2
    },
    {
      "id": "8953b68002e9a8b4",
      "cell_type": "code",
      "source": "def mean(values):\n    return sum(values) / len(values)\n\nres = mean([4,8,12])\nprint (\"mean([4,8,12]) =\", res)",
      "metadata": {
        "collapsed": false,
        "jupyter": {
          "outputs_hidden": false
        },
        "trusted": true
      },
      "outputs": [
        {
          "name": "stdout",
          "output_type": "stream",
          "text": "mean([4,8,12]) = 8.0\n"
        }
      ],
      "execution_count": 3
    },
    {
      "id": "e1c4dfe3fcb5eea",
      "cell_type": "markdown",
      "source": "## Funktionen mit mehreren Rückgabewerten\n\nEine Funktion kann auch mehere Rückgabewerte zurückgeben. Dabei wird im Retun eine komma-separierte Liste der gewünschten Werte angegeben:",
      "metadata": {}
    },
    {
      "id": "51497cab21a97d62",
      "cell_type": "code",
      "source": "def getPersonAndAge():\n    name = \"Anna\"\n    age = 23\n    return name, age\n\nname, age = getPersonAndAge()\nprint(name)\nprint(age)",
      "metadata": {
        "ExecuteTime": {
          "end_time": "2025-09-08T06:01:51.384386Z",
          "start_time": "2025-09-08T06:01:51.378886Z"
        },
        "trusted": true
      },
      "outputs": [
        {
          "name": "stdout",
          "output_type": "stream",
          "text": "Anna\n23\n"
        }
      ],
      "execution_count": 4
    },
    {
      "id": "1f7a2a5a4092ef56",
      "cell_type": "markdown",
      "source": "## Positional und Keyword Argumente\n\nBei den Argumenten wird zwischen Positional und Keyword Argumenten unterschieden:\n- **Positional arguments**: sind obligatorisch und werden durch ihre Position gemapped\n- **Keyword arguments**: sind fakultativ und werden durch ihre Position oder key gemapped\n- **Mixed arguments**: zuerst werden alle Argumente die die Funktion ohne key bekommen hat durch ihre Position gemapped, dann werden die Restlichen durch ihre key gemapped\n\nWeitere Möglichkeiten\n- Argumente «entpacken» mit *args und **kwargs\n- Variable Anzahl Argumente mit *args und **kwargs\nDetails siehe Beispiele [unpack elements](https://github.com/iten-engineering/python/blob/main/example/02-basics/functions.py).\n",
      "metadata": {
        "collapsed": false,
        "jupyter": {
          "outputs_hidden": false
        }
      }
    },
    {
      "id": "1312ff462c7df2c",
      "cell_type": "code",
      "source": "# positional arguments\ndef f1(arg1, arg2, arg3):\n    print(\"f1: arg1={}, arg2={}, arg3={}\".format(arg1,arg2,arg3))\n\n\n# keyword arguments\ndef f2(arg1=None, arg2=10, arg3=\"Default\"):\n    print(\"f2: arg1={}, arg2={}, arg3={}\".format(arg1,arg2,arg3))\n\n# mixed arguments\ndef f3(arg1, arg2, arg3=\"Default\", arg4=99):\n    print(\"f3: arg1={}, arg2={}, arg3={}, arg4={}\".format(arg1,arg2,arg3,arg4))\n\nf1(1,2,3)\n\nf2()\nf2(arg2=22)\n\nf3(1,2)\nf3(1,2, arg4=88)",
      "metadata": {
        "collapsed": false,
        "jupyter": {
          "outputs_hidden": false
        },
        "trusted": true
      },
      "outputs": [
        {
          "name": "stdout",
          "output_type": "stream",
          "text": "f1: arg1=1, arg2=2, arg3=3\nf2: arg1=None, arg2=10, arg3=Default\nf2: arg1=None, arg2=22, arg3=Default\nf3: arg1=1, arg2=2, arg3=Default, arg4=99\nf3: arg1=1, arg2=2, arg3=Default, arg4=88\n"
        }
      ],
      "execution_count": 5
    },
    {
      "id": "113b16b3dabec502",
      "cell_type": "markdown",
      "source": "## Variable Anzahl Argumente und Entpacken von Argumenten\n\nIn Zusammenhang mit Argumenten gibt es zwei weitere Möglichkeiten:\n- Argumente «entpacken» mit *args und **kwargs\n- Variable Anzahl Argumente mit *args und **kwargs\n\nBeispiel hierzu siehe [example functions](https://github.com/iten-engineering/python/blob/main/example/02-basics/functions.py).\n",
      "metadata": {
        "collapsed": false,
        "jupyter": {
          "outputs_hidden": false
        }
      }
    },
    {
      "id": "ce48e5f0",
      "cell_type": "markdown",
      "source": "## Lambda Expression\n\nEin Lambda Funktion ist eine **kleine anonyme Funktion**\n- mit einer beliebigen Anzahl Argumente\n- und einem Ausdruck (Expression)\n\nSyntax: **lambda arguments : expression**\n",
      "metadata": {}
    },
    {
      "id": "7a08c98d",
      "cell_type": "code",
      "source": "add = lambda a, b : a + b\n\nprint(add(1,6))",
      "metadata": {
        "trusted": true
      },
      "outputs": [
        {
          "name": "stdout",
          "output_type": "stream",
          "text": "7\n"
        }
      ],
      "execution_count": 6
    },
    {
      "id": "32ce2629f2024bb6",
      "cell_type": "markdown",
      "source": "Lambda Funktionen werden oft im Zusammenhang mit der Verarbeitung von Listen Elementen verwendet. Dazu gibt es spezielle Funktionen wie `map()` und `filter()`. Details hierzu werden im Kapitel über Listen behandelt.\n",
      "metadata": {
        "collapsed": false,
        "jupyter": {
          "outputs_hidden": false
        }
      }
    },
    {
      "id": "de63c88f",
      "cell_type": "markdown",
      "source": "# Aufgaben",
      "metadata": {}
    },
    {
      "id": "c7257674",
      "cell_type": "markdown",
      "source": "## Zugansage\n\nFür die Ansage von Zugabfahrten wurde das folgende Programm erstellt. Vereinfachen Sie diese mit einer Funktion `ansage(ort)`, so dass nur noch der Ort als Parameter übergeben werden muss.\n",
      "metadata": {}
    },
    {
      "id": "36d80f155bc9e12f",
      "cell_type": "code",
      "source": "print(\"Der nächste Zug fährt nach Bern.\")\nprint(\"Der nächste Zug fährt nach Luzern.\")\nprint(\"Der nächste Zug fährt nach Genf.\")",
      "metadata": {
        "collapsed": false,
        "jupyter": {
          "outputs_hidden": false
        },
        "trusted": true
      },
      "outputs": [
        {
          "name": "stdout",
          "output_type": "stream",
          "text": "Der nächste Zug fährt nach Bern.\nDer nächste Zug fährt nach Luzern.\nDer nächste Zug fährt nach Genf.\n"
        }
      ],
      "execution_count": 7
    },
    {
      "id": "1f01130bc46139cd",
      "cell_type": "code",
      "source": "",
      "metadata": {
        "collapsed": false,
        "jupyter": {
          "outputs_hidden": false
        },
        "trusted": true
      },
      "outputs": [],
      "execution_count": null
    },
    {
      "id": "ab3120e7",
      "cell_type": "markdown",
      "source": "## Quadrat\n- Erstellen Sie einen Lambda Ausdruck, der als Parameter eine Zahl erhält und die\n  Quadratzahl zurückgibt.\n- Testen Sie den Lambda Ausdruck mit einigen Zahlen.",
      "metadata": {}
    },
    {
      "id": "53bb1fe03941fbe0",
      "cell_type": "code",
      "source": "",
      "metadata": {
        "collapsed": false,
        "jupyter": {
          "outputs_hidden": false
        },
        "trusted": true
      },
      "outputs": [],
      "execution_count": null
    },
    {
      "id": "db727876",
      "cell_type": "markdown",
      "source": "## Linare Funktion\n\n- Implementieren Sie die Formel für die Berechnung von y in Abhängigkeit von x als Lambda Ausdruck gemäss der folgenden Grafik: [Linear](lesson24_functions_linear.png)\n- Prüfen Sie die Formel und berechen Sie die Werte von y für die x Werte -2, -1, 0, 1, 2 und 3.\n- Beispiel Ausgabe:\n  ```\n  y für x -2 = 0.0\n  y für x -1 = 0.5\n  y für x 0 = 1.0\n  y für x 1 = 1.5\n  y für x 2 = 2.0\n  y für x 3 = 2.5\n  ```\n",
      "metadata": {}
    },
    {
      "id": "50941c81e43905ac",
      "cell_type": "code",
      "source": "",
      "metadata": {
        "collapsed": false,
        "jupyter": {
          "outputs_hidden": false
        },
        "trusted": true
      },
      "outputs": [],
      "execution_count": null
    }
  ]
}