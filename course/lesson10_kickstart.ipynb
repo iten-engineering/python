{
  "metadata": {
    "kernelspec": {
      "name": "xpython",
      "display_name": "Python 3.13 (XPython)",
      "language": "python"
    },
    "language_info": {
      "file_extension": ".py",
      "mimetype": "text/x-python",
      "name": "python",
      "version": "3.13.1"
    }
  },
  "nbformat_minor": 5,
  "nbformat": 4,
  "cells": [
    {
      "id": "3e02ef82",
      "cell_type": "markdown",
      "source": "# Kick Start\n\nWillkommen zur ersten Lektion! Python ist eine beliebte, leicht verständliche Programmiersprache, die oft in der Datenanalyse, Webentwicklung und im Machine Learning eingesetzt wird. In dieser Lektion starten wir mit den allerersten Schritten.",
      "metadata": {}
    },
    {
      "id": "60ed8e7c9d29f59f",
      "cell_type": "markdown",
      "source": "## Was ist Python?\n\n- Python is an interpreted, interactive, object-oriented programming language. \n- It incorporates modules, exceptions, dynamic typing, very high level dynamic data types, and classes. \n- It supports multiple programming paradigms beyond object-oriented programming, such as procedural and functional programming. \n- Python combines remarkable power with very clear syntax. \n- It has interfaces to many system calls and libraries, as well as to various window systems, and is extensible in C or C++. \n- It is also usable as an extension language for applications that need a programmable interface. \n- Finally, Python is portable: it runs on many Unix variants including Linux and macOS, and on Windows.\n\n_Quelle: https://docs.python.org/3/faq/general.html_",
      "metadata": {}
    },
    {
      "id": "a53299e3f524a8c8",
      "cell_type": "markdown",
      "source": "## Kompiliert vs. Interpretiert\n\n**Kompiliert**\n- Source Code wird vor Ausführung kompiliert\n- Erzeugt ausführbare Datei für spezifische Architektur und Betriebssystem \n- Ausführung des Programm ist schnell\n\n**Interpretiert**\n- Source Code wird während der Laufzeit interpretiert und ausgeführt\n- Ausführung ist langsamer\n- Interaktives Programmieren ist möglich",
      "metadata": {}
    },
    {
      "id": "21b7bdb2c3e4d5de",
      "cell_type": "markdown",
      "source": "## Warum Python?\n\n- Interpretierte Sprachen sind ideal für interactive Arbeiten, Forschung, etc. \n- Einfache Syntax\n- Mächtige Bibliotheken \n- Sehr populär im Bereich Data Science (Artificial Intelligence, Machine Learning)\n- Interaktive Arbeitsweise mit Jupiter Notebooks\n- Mächtige Grafik Bibilotheken\n- Frei verfügbar (Open Source)\n- Erweiterbar und Einbindbar (C, C++, RUST)\n\n> Popularität von Python, siehe [**TIOBE INDEX**](https://www.tiobe.com/tiobe-index) ",
      "metadata": {}
    },
    {
      "id": "85f525b9",
      "cell_type": "markdown",
      "source": "## Hello World\nDas berühmte erste Programm in jeder Sprache:",
      "metadata": {}
    },
    {
      "id": "2e2a4e7d",
      "cell_type": "code",
      "source": "print(\"Hello World\")",
      "metadata": {
        "ExecuteTime": {
          "end_time": "2025-08-30T16:31:08.923602Z",
          "start_time": "2025-08-30T16:31:08.913460Z"
        },
        "trusted": true
      },
      "outputs": [
        {
          "name": "stdout",
          "output_type": "stream",
          "text": "Hello World\n"
        }
      ],
      "execution_count": 1
    },
    {
      "id": "70847d34",
      "cell_type": "markdown",
      "source": "## Hello Jupyter\n\nEin **Jupyter Notebook** besteht aus sogenannten *Zellen*.\n- Ist eine Mischung aus Text (Markdown) und ausführbarem Code\n- **Markdown-Zellen**: enthalten erklärenden Text, Formeln oder Bilder.\n- **Codezellen**: enthalten Python-Code, den man ausführen kann.\n- Die Resultate werden dann unterhalb der jeweiligen Code Zelle eingeblendet.\n\n> Jupiter Notebook sind ideal für interaktive Arbeiten die gleichzeitig dokumentiert \n  werden sollen oder Grafiken darstellen.\n\nMan führt eine Zelle mit `Shift + Enter` aus.",
      "metadata": {}
    },
    {
      "id": "41f94f4f",
      "cell_type": "code",
      "source": "a = 10\nb = 5\nprint('Summe:', a + b)\nprint('Differenz:', a - b)",
      "metadata": {
        "ExecuteTime": {
          "end_time": "2025-08-30T16:41:09.165766Z",
          "start_time": "2025-08-30T16:41:09.155802Z"
        },
        "trusted": true
      },
      "outputs": [
        {
          "name": "stdout",
          "output_type": "stream",
          "text": "Summe: 15\nDifferenz: 5\n"
        }
      ],
      "execution_count": 2
    },
    {
      "id": "8b2fc89e2f33638e",
      "cell_type": "markdown",
      "source": "# Erste Schritte",
      "metadata": {}
    },
    {
      "id": "304cb54c8c46ed01",
      "cell_type": "markdown",
      "source": "## Kommentare",
      "metadata": {}
    },
    {
      "id": "af9ca4f7a040a284",
      "cell_type": "code",
      "source": "# Dies ist ein Kommentar\nx = 7          # Kommentar hinter einer Zeile\nprint(x)       # Kommentar hinter einer Zeile",
      "metadata": {
        "ExecuteTime": {
          "end_time": "2025-08-30T19:23:36.938109Z",
          "start_time": "2025-08-30T19:23:36.931398Z"
        },
        "trusted": true
      },
      "outputs": [
        {
          "name": "stdout",
          "output_type": "stream",
          "text": "7\n"
        }
      ],
      "execution_count": 3
    },
    {
      "id": "9517cf948808ff89",
      "cell_type": "markdown",
      "source": "## Berechnungen\nFühren Sie die folgenden Berechnungen aus.\n- 3 x 3\n- 5 hoch 2 (hoch wird mit ** angegeben)\n- 5 x 3 + 2 x 3",
      "metadata": {}
    },
    {
      "id": "6eeb231c50dc2298",
      "cell_type": "code",
      "source": "",
      "metadata": {
        "trusted": true
      },
      "outputs": [],
      "execution_count": null
    },
    {
      "id": "f282b9bc58431172",
      "cell_type": "markdown",
      "source": "**Berechnung mit Variablen**\n- Definieren Sie eine Variable x mit den Wert 5.5 und eine Variable y mit dem Wert 7.\n- Berenchen Sie die Summe und speichern Sie das Resultat in die Variable total.\n- Geben Sie das Resultat aus.\n",
      "metadata": {}
    },
    {
      "id": "945ea04f983d8b90",
      "cell_type": "code",
      "source": "",
      "metadata": {
        "trusted": true
      },
      "outputs": [],
      "execution_count": null
    },
    {
      "id": "96a52499115da0eb",
      "cell_type": "markdown",
      "source": "**Weitere Berechnung mit Variablen aus der obigen Zelle**\n- Die Variablen aus der obigen Zelle (sofern diese ausgeführt wurde) können weiter verwendet werden.\n- Multiplizieren Sie die Werte von x und y und geben Sie das Resultat aus.",
      "metadata": {}
    },
    {
      "id": "fc03a238199c8cb",
      "cell_type": "code",
      "source": "",
      "metadata": {
        "trusted": true
      },
      "outputs": [],
      "execution_count": null
    },
    {
      "id": "5e20b622c89bdb7c",
      "cell_type": "markdown",
      "source": "## Typen",
      "metadata": {}
    },
    {
      "id": "6860cd07b3c9fd75",
      "cell_type": "markdown",
      "source": "**Type**\n\n- Definieren Sie die folgenden Variablen und geben Sie jeweis den Typ aus.\n  - i = 1\n  - f = 1.5\n  - b = True\n  - s = \"Heute\"\n- Für die Ausgabe des Typ verwenden Sie die Mehtode type(x)",
      "metadata": {}
    },
    {
      "id": "f65640e8c6990f67",
      "cell_type": "code",
      "source": "",
      "metadata": {
        "trusted": true
      },
      "outputs": [],
      "execution_count": null
    },
    {
      "id": "67bf6f80c6bfb459",
      "cell_type": "markdown",
      "source": "**Casting**\n\n- Mann kann einer Variablen auch explizit einen Typen zuweisen. \n- Erstellen Sie zwei Variablen wie folgt und geben Sie anschliessend die jeweiligen Typen aus:\n  - i = 5\n  - f = float(5)",
      "metadata": {}
    },
    {
      "id": "7c52d331efbbf5ef",
      "cell_type": "code",
      "source": "",
      "metadata": {
        "trusted": true
      },
      "outputs": [],
      "execution_count": null
    },
    {
      "id": "8a9c0585a5921ed9",
      "cell_type": "markdown",
      "source": "**Casting Beispiele**\n- Beim Casting werden Typen umgewandelt. \n- Probieren Sie folgenden Cast aus und geben Sie jeweils das Resultat auf der Console aus.\n- Cast to float\n  - x = 5\n  - y = float(x)\n- Cast to int\n  - x = 5.5\n  - y = int(x)\n- Was passiert bei Cast von float nach int?  ",
      "metadata": {}
    },
    {
      "id": "9d21bdc63de9a354",
      "cell_type": "code",
      "source": "",
      "metadata": {
        "trusted": true
      },
      "outputs": [],
      "execution_count": null
    },
    {
      "id": "a37850854343e60c",
      "cell_type": "markdown",
      "source": "## Hilfe\n- Verwenden Sie die Methode help() um herauszufinden, was die Funktion abs macht.\n- Typen Sie dazu help(abs) in der Konsole ein. \n- Mit der Methode dir(abs) werden zudem alle Attribute und Methoden der Klasse abs angzeigt.\n- Estellen Sie eine weitere Zelle und führen Sie den Befehl aus.",
      "metadata": {}
    },
    {
      "id": "474e72d3a5aaef80",
      "cell_type": "code",
      "source": "",
      "metadata": {
        "trusted": true
      },
      "outputs": [],
      "execution_count": null
    },
    {
      "id": "be1a886a179597b7",
      "cell_type": "markdown",
      "source": "# Aufgaben",
      "metadata": {}
    },
    {
      "id": "4b74c1f8",
      "cell_type": "markdown",
      "source": "## Hello\nSchreibe ein Programm, das `'Hello <dein Name>'` ausgibt.",
      "metadata": {}
    },
    {
      "id": "352552bf-d705-48d5-aff5-919ffa62e1b9",
      "cell_type": "code",
      "source": "",
      "metadata": {
        "trusted": true
      },
      "outputs": [],
      "execution_count": null
    },
    {
      "id": "d92bab84",
      "cell_type": "markdown",
      "source": "## Rechnen\n- Lege zwei Variablen `x` und `y` an.\n- Berechne ihre Summe, Differenz und ihr Produkt.\n- Gib die Ergebnisse mit `print()` aus.",
      "metadata": {}
    },
    {
      "id": "369683cb-f711-428f-9e31-928bedb3b344",
      "cell_type": "code",
      "source": "",
      "metadata": {
        "trusted": true
      },
      "outputs": [],
      "execution_count": null
    }
  ]
}