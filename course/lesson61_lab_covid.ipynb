{
  "metadata": {
    "kernelspec": {
      "name": "python",
      "display_name": "Python (Pyodide)",
      "language": "python"
    },
    "language_info": {
      "codemirror_mode": {
        "name": "python",
        "version": 3
      },
      "file_extension": ".py",
      "mimetype": "text/x-python",
      "name": "python",
      "nbconvert_exporter": "python",
      "pygments_lexer": "ipython3",
      "version": "3.8"
    }
  },
  "nbformat_minor": 5,
  "nbformat": 4,
  "cells": [
    {
      "id": "89ee3bcd-e371-481b-af75-ada46b1b3f92",
      "cell_type": "markdown",
      "source": "# Python Standardbibliotheken\n",
      "metadata": {}
    },
    {
      "id": "efe2d26d-cb29-4304-802e-3239320593ff",
      "cell_type": "markdown",
      "source": "## Covid (JSON)\n\nLaden von JSON Daten, Filter der Covid Zahlen für die gesammte Schweiz und Visualiserung als Line Chart.\n\nSchauen Sie sich die Datei covid.json im VS Code an. Uns interessieren die drei folgenden Felder:\n- geoRegion\n- datum\n- entries",
      "metadata": {}
    },
    {
      "id": "60dbcd5b-0ff3-4905-809d-a917dc10badd",
      "cell_type": "markdown",
      "source": "### 1. Setup\nImportieren Sie folgende Bibliotheken\n```\nimport json\nimport matplotlib.pyplot as plt\nimport numpy as np\n```",
      "metadata": {}
    },
    {
      "id": "58a6315a-7f50-45e8-a8a1-dc1b292e3260",
      "cell_type": "code",
      "source": "import json\nimport matplotlib.pyplot as plt\nimport numpy as np",
      "metadata": {
        "trusted": true
      },
      "outputs": [
        {
          "name": "stderr",
          "output_type": "stream",
          "text": "Matplotlib is building the font cache; this may take a moment.\n"
        }
      ],
      "execution_count": 1
    },
    {
      "id": "f0ceb182-8d3f-4bf9-9d2a-2a8fc032ffc7",
      "cell_type": "markdown",
      "source": "### 2. Daten einlesen\n- Lesen sie die JSON Datei mit den Befehle json.load(...) innerhalb eines with Blocks in die Variable records ein.",
      "metadata": {}
    },
    {
      "id": "f7657b4f-46c3-441e-bb4f-c58e70b9f4f3",
      "cell_type": "code",
      "source": "filename = \"lesson61_lab_covid.json\"\n",
      "metadata": {
        "trusted": true
      },
      "outputs": [],
      "execution_count": 2
    },
    {
      "id": "b7eb9d32-4124-491b-9edc-084a62388c00",
      "cell_type": "markdown",
      "source": "### 3. Daten selektieren\n- Erstellen Sie zwei leere listen für die X- und Y-Achsenwerte.\n- Iterieren Sie über alle Records und filtern Sie die Werte aus der geoRegion \"CH\".\n- Das Feld datum wird zur Liste für die X-Achse hinzugefügt.\n- Das Feld entries kommt in die Liste für die Y-Achse.",
      "metadata": {}
    },
    {
      "id": "9b54f4a2-d13e-42db-882b-b0f7a0abaee3",
      "cell_type": "code",
      "source": "x = []\ny = []",
      "metadata": {
        "trusted": true
      },
      "outputs": [],
      "execution_count": 3
    },
    {
      "id": "f2f9595a-f205-46a0-918a-c75b457c1ea3",
      "cell_type": "code",
      "source": "print(x[:5])",
      "metadata": {
        "trusted": true
      },
      "outputs": [
        {
          "name": "stdout",
          "output_type": "stream",
          "text": "[]\n"
        }
      ],
      "execution_count": 4
    },
    {
      "id": "99f8a86c-8a93-4e05-84d2-a4edcbb31799",
      "cell_type": "code",
      "source": "print(y[:5])",
      "metadata": {
        "trusted": true
      },
      "outputs": [
        {
          "name": "stdout",
          "output_type": "stream",
          "text": "[]\n"
        }
      ],
      "execution_count": 5
    },
    {
      "id": "20e4aa0f-da16-4b12-9622-2f1b1adf36e1",
      "cell_type": "markdown",
      "source": "### 4. Daten visualisieren\n- Erstellen Sie einen plot mit der Matplotlib. \n- Die X-Achse können sie mit folgendem Befehl optimieren:\n  plt.xticks(np.arange(0, len(x)+1, 80))",
      "metadata": {}
    },
    {
      "id": "e0eb7e03-6768-4595-b020-aaa88f72bbb9",
      "cell_type": "code",
      "source": "",
      "metadata": {
        "trusted": true
      },
      "outputs": [],
      "execution_count": null
    },
    {
      "id": "fef8daaa-e124-4401-9df4-74d8fb860565",
      "cell_type": "markdown",
      "source": "# Zusatzaufgabe\n\nWir wollen zusätzlich eine geglätete Kurve mit dem Durchschnitt der letzten 7 Tage darstellen. Dazu führen wir folgende Schritte aus:\n\n1. Erstellung von zwei neue leere Listen `x_avg` und `y_avg` sowie die Variablen\n   - `window` für die Anzahl Tage für die Berechnung des Durchschnitt\n   - `count` als temporärer counter für die Berechnung der aktuellen Summe\n   - `sum` zur aufaddieren der einzelnen Werte für die spätere Durchschnittsberechnung\n\n2. Iterieren sie über alle Elemente von y und bilden jeweils die Summe der nächsten Anzahl Tage.\n   - Sobald im Loop die Anzahl Tage erreicht wird, wird der Durchschnittswert in die neue Liste `y_avg` gespeichert\n   - Sowie das letzte Datum der Durchschnittswerte in die neue Liste `x_avg`\n   - Benutzen Sie die beiden temporären Variablen `count` und `sum` für die Berechnung der einzelnen Durchschnitte und setzen sie diese jeweils zurück, sobald ein neuer Durchschnittswert bestimmt ist.\n\n3. Am Ende vom Loop hat man eine neue Zahlenreihe mit den Durchschnittswerten und dem jeweils einem dazugehärigem Datum. Diese können jetzt zusätzlich zur original Kurve visualisiert werden.\n\n5. Erstellen Sie eine neue Grafik mit dem bisherigen Plot und der zusätzlich neuen Werte. Dazu können sie einfach nochmals die Funktion `plt.plot(x_avg,y_avg)` mit der neuen Zahlenreihe aufrufen.\n\n6. Ergänzen sie die Grafik mit einer Legende für die beiden Plots.",
      "metadata": {}
    },
    {
      "id": "1fe4e24f-f755-40fd-9747-614df1255489",
      "cell_type": "code",
      "source": "",
      "metadata": {
        "trusted": true
      },
      "outputs": [],
      "execution_count": null
    },
    {
      "id": "83cc3af2-ccc3-4ee1-82ae-a6e84555a9a9",
      "cell_type": "code",
      "source": "",
      "metadata": {
        "trusted": true
      },
      "outputs": [],
      "execution_count": null
    }
  ]
}